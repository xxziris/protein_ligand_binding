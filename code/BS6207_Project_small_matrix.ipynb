{
  "nbformat": 4,
  "nbformat_minor": 0,
  "metadata": {
    "colab": {
      "name": "BS6207_Project_small matrix.ipynb",
      "provenance": [],
      "collapsed_sections": [],
      "mount_file_id": "1WsgkfEAW7zr9mi6cJmOnJdS5gQx5jAsb",
      "authorship_tag": "ABX9TyOKa/6kgTtmYYOS3OmO47Xi",
      "include_colab_link": true
    },
    "kernelspec": {
      "name": "python3",
      "display_name": "Python 3"
    },
    "language_info": {
      "name": "python"
    }
  },
  "cells": [
    {
      "cell_type": "markdown",
      "metadata": {
        "id": "view-in-github",
        "colab_type": "text"
      },
      "source": [
        "<a href=\"https://colab.research.google.com/github/xxziris/protein_ligand_binding/blob/main/code/BS6207_Project_small_matrix.ipynb\" target=\"_parent\"><img src=\"https://colab.research.google.com/assets/colab-badge.svg\" alt=\"Open In Colab\"/></a>"
      ]
    },
    {
      "cell_type": "code",
      "metadata": {
        "id": "JNiWj0DNi57G",
        "colab": {
          "base_uri": "https://localhost:8080/"
        },
        "outputId": "b295f829-8141-470f-80f4-ba457597431c"
      },
      "source": [
        "pip install sparse"
      ],
      "execution_count": null,
      "outputs": [
        {
          "output_type": "stream",
          "text": [
            "Collecting sparse\n",
            "\u001b[?25l  Downloading https://files.pythonhosted.org/packages/46/20/c409a0d0ea7623a936080e0038eb77a02e62629a07944706c26f24ebcbb8/sparse-0.12.0-py2.py3-none-any.whl (76kB)\n",
            "\r\u001b[K     |████▎                           | 10kB 19.9MB/s eta 0:00:01\r\u001b[K     |████████▋                       | 20kB 19.3MB/s eta 0:00:01\r\u001b[K     |████████████▉                   | 30kB 9.7MB/s eta 0:00:01\r\u001b[K     |█████████████████▏              | 40kB 9.3MB/s eta 0:00:01\r\u001b[K     |█████████████████████▌          | 51kB 7.0MB/s eta 0:00:01\r\u001b[K     |█████████████████████████▊      | 61kB 6.9MB/s eta 0:00:01\r\u001b[K     |██████████████████████████████  | 71kB 7.8MB/s eta 0:00:01\r\u001b[K     |████████████████████████████████| 81kB 5.2MB/s \n",
            "\u001b[?25hRequirement already satisfied: numba>=0.49 in /usr/local/lib/python3.7/dist-packages (from sparse) (0.51.2)\n",
            "Requirement already satisfied: scipy>=0.19 in /usr/local/lib/python3.7/dist-packages (from sparse) (1.4.1)\n",
            "Requirement already satisfied: numpy>=1.17 in /usr/local/lib/python3.7/dist-packages (from sparse) (1.19.5)\n",
            "Requirement already satisfied: llvmlite<0.35,>=0.34.0.dev0 in /usr/local/lib/python3.7/dist-packages (from numba>=0.49->sparse) (0.34.0)\n",
            "Requirement already satisfied: setuptools in /usr/local/lib/python3.7/dist-packages (from numba>=0.49->sparse) (56.1.0)\n",
            "Installing collected packages: sparse\n",
            "Successfully installed sparse-0.12.0\n"
          ],
          "name": "stdout"
        }
      ]
    },
    {
      "cell_type": "code",
      "metadata": {
        "id": "9slI3QStu-cP"
      },
      "source": [
        "import numpy as np\n",
        "import pandas as pd\n",
        "import random\n",
        "import torch\n",
        "import torch.nn as nn\n",
        "from sparse import COO\n",
        "import sparse"
      ],
      "execution_count": null,
      "outputs": []
    },
    {
      "cell_type": "markdown",
      "metadata": {
        "id": "gHk6XmqQw4jT"
      },
      "source": [
        "## 1. Read Data\n",
        "\n",
        "- import data from pdb file\n",
        "- generate negative cases\n",
        "- train_validation split\n",
        "- voxelize the training/validation data\n",
        "- generate train/test dataloader"
      ]
    },
    {
      "cell_type": "code",
      "metadata": {
        "id": "U1F3SRD5wsjp"
      },
      "source": [
        "# define function to import data from pdb files\n",
        "def read_pdb(filename):\n",
        "\t\n",
        "  with open(filename, 'r') as file:\n",
        "    strline_L = file.readlines()\n",
        "\t\t# print(strline_L)\n",
        "\n",
        "  X_list = list()\n",
        "  Y_list = list()\n",
        "  Z_list = list()\n",
        "  atomtype_list = list()\n",
        "  for strline in strline_L:\n",
        "\t\t# removes all whitespace at the start and end, including spaces, tabs, newlines and carriage returns\n",
        "    stripped_line = strline.strip()\n",
        "\n",
        "    line_length = len(stripped_line)\n",
        "\t\t# print(\"Line length:{}\".format(line_length))\n",
        "    if line_length < 78:\n",
        "      print(\"ERROR: line length is different. Expected>=78, current={}\".format(line_length))\n",
        "\t\t\n",
        "    X_list.append(float(stripped_line[30:38].strip()))\n",
        "    Y_list.append(float(stripped_line[38:46].strip()))\n",
        "    Z_list.append(float(stripped_line[46:54].strip()))\n",
        "\n",
        "    atomtype = stripped_line[76:78].strip()\n",
        "    if atomtype == 'C':\n",
        "      atomtype_list.append(1) # 'h' means hydrophobic\n",
        "    else:\n",
        "      atomtype_list.append(0) # 'p' means polar\n",
        "\n",
        "  pdb = np.array([X_list, Y_list, Z_list, atomtype_list])\n",
        "\t\n",
        "  return pdb\n"
      ],
      "execution_count": null,
      "outputs": []
    },
    {
      "cell_type": "code",
      "metadata": {
        "id": "0NtE72RTz7N_"
      },
      "source": [
        "# read all training filenames\n",
        "import os\n",
        "\n",
        "pro_filename = []\n",
        "lg_filename = []\n",
        "directory = os.fsencode('/content/drive/MyDrive/Colab Notebooks/BS6207/Project/training_data.zip (Unzipped Files)/training_data/')\n",
        "    \n",
        "for file in os.listdir(directory):\n",
        "     filename = os.fsdecode(file)\n",
        "     if '_pro_' in filename: \n",
        "       pro_filename.append(os.path.join('/content/drive/MyDrive/Colab Notebooks/BS6207/Project/training_data.zip (Unzipped Files)/training_data/', filename))\n",
        "       continue\n",
        "     else:\n",
        "       lg_filename.append(os.path.join('/content/drive/MyDrive/Colab Notebooks/BS6207/Project/training_data.zip (Unzipped Files)/training_data/', filename))\n",
        "       continue"
      ],
      "execution_count": null,
      "outputs": []
    },
    {
      "cell_type": "code",
      "metadata": {
        "colab": {
          "base_uri": "https://localhost:8080/"
        },
        "id": "lDCOrujmCFa4",
        "outputId": "00960870-7334-49f2-dbf8-0169ebc769ad"
      },
      "source": [
        "len(pro_filename)"
      ],
      "execution_count": null,
      "outputs": [
        {
          "output_type": "execute_result",
          "data": {
            "text/plain": [
              "3000"
            ]
          },
          "metadata": {
            "tags": []
          },
          "execution_count": 7
        }
      ]
    },
    {
      "cell_type": "code",
      "metadata": {
        "colab": {
          "base_uri": "https://localhost:8080/"
        },
        "id": "R2hf_JlftXDY",
        "outputId": "ebd8c1fa-6d32-40db-9835-726f94705092"
      },
      "source": [
        "len(lg_filename)"
      ],
      "execution_count": null,
      "outputs": [
        {
          "output_type": "execute_result",
          "data": {
            "text/plain": [
              "3000"
            ]
          },
          "metadata": {
            "tags": []
          },
          "execution_count": 8
        }
      ]
    },
    {
      "cell_type": "code",
      "metadata": {
        "id": "b7LpYACB3SMr"
      },
      "source": [
        "# create the label\n",
        "def get_label(pro, lig):\n",
        "  labels = []\n",
        "  num = min(len(pro), len(lig))\n",
        "  for i in range(num):\n",
        "    if pro[i][-15:-11] == lig[i][-15:-11]:\n",
        "      labels.append(1) # bind\n",
        "    else:\n",
        "      labels.append(0) #dont bind\n",
        "  return labels"
      ],
      "execution_count": null,
      "outputs": []
    },
    {
      "cell_type": "code",
      "metadata": {
        "id": "Oqi2b6rBA0nB"
      },
      "source": [
        "# define a function to generate training/validation set with pos/neg ratio\n",
        "# function returns two lists of tuples for training/validation set\n",
        "# each tuple contains the protein filename, ligand filename and the corresponding label\n",
        "def train_val_split(pro_filename = pro_filename, lg_filename = lg_filename, neg_pos_ratio = 1, val_perc = 0.2):\n",
        "  # sort the protein and ligand filename list\n",
        "  lg_filename = sorted(lg_filename)\n",
        "  pro_filename = sorted(pro_filename)\n",
        "\n",
        "  # randomly sort the filename to generate negative cases\n",
        "  random.seed(127)\n",
        "  tot_lig_filename = lg_filename.copy()\n",
        "  tot_pro_filename = pro_filename.copy()\n",
        "  for i in range(neg_pos_ratio):\n",
        "    #print(len(lg_filename))\n",
        "    lg_filename_rand = lg_filename.copy()\n",
        "    random.shuffle(lg_filename_rand)\n",
        "    tot_lig_filename += lg_filename_rand\n",
        "    pro_filename_rand = pro_filename.copy()\n",
        "    random.shuffle(pro_filename_rand)\n",
        "    tot_pro_filename += pro_filename_rand\n",
        "  \n",
        "  # get labels of the list\n",
        "  label = get_label(tot_pro_filename, tot_lig_filename)\n",
        "  print('Total positive cases: ', label.count(0), 'Total negative cases: ', label.count(1))\n",
        "\n",
        "  # train_validation split\n",
        "  val_size = round(len(label) * val_perc)\n",
        "  #print(val_size)\n",
        "  index = random.sample(range(0,len(label)), val_size) \n",
        "  val_lig = [tot_lig_filename[i] for i in index]\n",
        "  val_pro = [tot_pro_filename[i] for i in index]\n",
        "  val_label = [label[i] for i in index]\n",
        "  val_label = np.array(val_label)\n",
        "  print('Positive cases in validation: ', list(val_label).count(0), \n",
        "        'Negative cases in validation: ', list(val_label).count(1))\n",
        "\n",
        "  # the rest will be training set\n",
        "  train_index = list(set(range(len(label))) - set(index))\n",
        "  train_lig = [tot_lig_filename[i] for i in train_index]\n",
        "  train_pro = [tot_pro_filename[i] for i in train_index]\n",
        "  train_label = [label[i] for i in train_index]\n",
        "  train_label = np.array(train_label)\n",
        "  print('Positive cases in training: ', list(train_label).count(0), \n",
        "        'Negatvie cases in training: ', list(train_label).count(1))\n",
        "  \n",
        "  # shuffle the validation set sequence\n",
        "  all_val = []\n",
        "  for i in range(len(val_label)):\n",
        "    all_val.append((val_pro[i], val_lig[i], val_label[i]))\n",
        "  all_val = random.sample(all_val, k = len(all_val))\n",
        "\n",
        "  # shuffle the training  set sequence\n",
        "  all_train = []\n",
        "  for i in range(len(train_label)):\n",
        "    all_train.append((train_pro[i], train_lig[i], train_label[i]))\n",
        "  all_train[:5]\n",
        "  all_train = random.sample(all_train, k = len(all_train))\n",
        "\n",
        "  return all_train, all_val"
      ],
      "execution_count": null,
      "outputs": []
    },
    {
      "cell_type": "code",
      "metadata": {
        "id": "SIn6V4wcrUKD"
      },
      "source": [
        "# define function for voxelization\n",
        "def voxelize(pro_filename, lig_filename, max_side = 30, grid = 4):\n",
        "  # import the pdb file as array\n",
        "  pro = read_pdb(pro_filename).astype(np.float32)\n",
        "  lig = read_pdb(lig_filename).astype(np.float32)\n",
        "\n",
        "  # calculate box_size\n",
        "  box_size = np.ceil(2 * max_side / grid + 1)\n",
        "\n",
        "  # get the centroid of the ligand/protein\n",
        "  lig_cent = np.mean(lig[:3, :], axis = 1, keepdims = True)  \n",
        "  pro_cent = np.mean(pro[:3, :], axis = 1, keepdims = True)\n",
        "\n",
        "  # shift the protein by the centroid of ligand at 0\n",
        "  for i in range(3):\n",
        "    lig[i] = lig[i] - lig_cent[i]\n",
        "    pro[i] = pro[i] - lig_cent[i]\n",
        "  \n",
        "  # combine the coordinate and atom type of protein and ligand\n",
        "  all_coord = np.c_[pro[:3], lig[:3]]\n",
        "  lig[3] = np.where(lig[3] == 0, 100, 200)\n",
        "  all_atom = np.r_[pro[3], lig[3]]\n",
        "\n",
        "  # round coordinate to the nearest grid point\n",
        "  all_coord = (all_coord + max_side) / grid\n",
        "  \n",
        "  # remove atoms outside the box\n",
        "  check = ((all_coord>0) & (all_coord < box_size)).all(axis = 0)\n",
        "  all_coord = all_coord[:,check]\n",
        "  all_atom = all_atom[check]\n",
        "\n",
        "  # round the coordinates to integer\n",
        "  all_coord = (all_coord).astype(int)\n",
        "\n",
        "  # create the sparse matrix\n",
        "  s = sparse.COO(all_coord, all_atom, shape = (int(box_size), int(box_size), int(box_size)))  \n",
        "  return s"
      ],
      "execution_count": null,
      "outputs": []
    },
    {
      "cell_type": "code",
      "metadata": {
        "id": "0dUMCwbzKAoU"
      },
      "source": [
        "# define function to build dataloader for the neural network\n",
        "# function returns the dataloader for both train and validation\n",
        "def dataloader_builder(all_train, all_val, batch_size = 128, max_side = 30, grid = 4):\n",
        "  # load the training sparse 3d matrix\n",
        "  print(max_side, grid)\n",
        "  train_cube = []\n",
        "  for i in range(len(all_train)):\n",
        "    temp = voxelize(all_train[i][0], all_train[i][1], max_side, grid)\n",
        "    train_cube.append(COO.todense(temp))\n",
        "  train_cube = np.array(train_cube)\n",
        "  train_cube = train_cube.reshape(train_cube.shape[0], 1, train_cube.shape[1], train_cube.shape[2], train_cube.shape[3])\n",
        "  print(train_cube.shape)\n",
        "  print(np.ceil(2 * max_side / grid + 1))\n",
        "\n",
        "  # build the train dataloader\n",
        "  train_data = []\n",
        "  for i in range(len(all_train)):\n",
        "    train_data.append([train_cube[i], all_train[i][2]])\n",
        "  trainloader = torch.utils.data.DataLoader(train_data, shuffle = True, batch_size = batch_size) \n",
        "\n",
        "  # load the validation sparse 3d matrix\n",
        "  val_cube = []\n",
        "  for i in range(len(all_val)):\n",
        "    temp = voxelize(all_val[i][0], all_val[i][1], max_side, grid)\n",
        "    val_cube.append(COO.todense(temp))\n",
        "  val_cube = np.array(val_cube)\n",
        "  val_cube = val_cube.reshape(val_cube.shape[0], 1, val_cube.shape[1], val_cube.shape[2], val_cube.shape[3])\n",
        "  print(val_cube.shape)\n",
        "\n",
        "  # build the validation dataloader\n",
        "  val_data = []\n",
        "  for i in range(len(all_val)):\n",
        "    val_data.append([val_cube[i], all_val[i][2]])\n",
        "  valloader = torch.utils.data.DataLoader(val_data, shuffle = True, batch_size = batch_size)\n",
        "\n",
        "  return trainloader, valloader"
      ],
      "execution_count": null,
      "outputs": []
    },
    {
      "cell_type": "code",
      "metadata": {
        "id": "jQNe6vLWMnEH"
      },
      "source": [
        "# define function to plot confusion matrix\n",
        "import itertools\n",
        "import matplotlib.pyplot as plt\n",
        "def plot_confusion_matrix(cm, classes, normalize=False, title='Confusion matrix', cmap=plt.cm.Blues):\n",
        "  if normalize:\n",
        "    cm = cm.astype('float') / cm.sum(axis=1)[:, np.newaxis]\n",
        "    print(\"Normalized confusion matrix\")\n",
        "  else:\n",
        "    print('Confusion matrix, without normalization')\n",
        "\n",
        "  print(cm)\n",
        "  plt.imshow(cm, interpolation='nearest', cmap=cmap)\n",
        "  plt.title(title)\n",
        "  plt.colorbar()\n",
        "  tick_marks = np.arange(len(classes))\n",
        "  plt.xticks(tick_marks, classes, rotation=45)\n",
        "  plt.yticks(tick_marks, classes)\n",
        "\n",
        "  fmt = '.2f' if normalize else 'd'\n",
        "  thresh = cm.max() / 2.\n",
        "  for i, j in itertools.product(range(cm.shape[0]), range(cm.shape[1])):\n",
        "    plt.text(j, i, format(cm[i, j], fmt), horizontalalignment=\"center\", color=\"white\" if cm[i, j] > thresh else \"black\")\n",
        "\n",
        "  plt.tight_layout()\n",
        "  plt.ylabel('True label')\n",
        "  plt.xlabel('Predicted label')"
      ],
      "execution_count": null,
      "outputs": []
    },
    {
      "cell_type": "code",
      "metadata": {
        "id": "5whBQ_tEtsTV"
      },
      "source": [
        "# define function to reset model weight\n",
        "def weight_reset(m):\n",
        "    reset_parameters = getattr(m, \"reset_parameters\", None)\n",
        "    if callable(reset_parameters):\n",
        "        m.reset_parameters()"
      ],
      "execution_count": null,
      "outputs": []
    },
    {
      "cell_type": "code",
      "metadata": {
        "id": "DdCbY3bas1ju"
      },
      "source": [
        "# define function to calculate accuracy\n",
        "def accuracy(outputs, labels):\n",
        "    #preds = torch.round(outputs)\n",
        "    y_pred_softmax = torch.log_softmax(outputs, dim = 1)\n",
        "    _, preds = torch.max(y_pred_softmax, dim=1)\n",
        "    return torch.tensor(torch.sum(preds == labels).item() / len(preds))"
      ],
      "execution_count": null,
      "outputs": []
    },
    {
      "cell_type": "markdown",
      "metadata": {
        "id": "tyf5sRA6QlpS"
      },
      "source": [
        "## Build the neural network"
      ]
    },
    {
      "cell_type": "markdown",
      "metadata": {
        "id": "NOLASLt_e-rd"
      },
      "source": [
        "### Trial 1 - 1:1 pos/neg"
      ]
    },
    {
      "cell_type": "code",
      "metadata": {
        "colab": {
          "base_uri": "https://localhost:8080/"
        },
        "id": "KBvL-SRKSaNi",
        "outputId": "4b7babe9-868f-4f18-d75e-6fcdb6e204e8"
      },
      "source": [
        "# trail 1 - 1:1 pos/neg ratio, 15% validation\n",
        "all_train1, all_val1 = train_val_split(val_perc = 0.15)\n",
        "trainloader1, valloader1 = dataloader_builder(all_train1, all_val1, max_side = 30, grid = 4)"
      ],
      "execution_count": null,
      "outputs": [
        {
          "output_type": "stream",
          "text": [
            "Total positive cases:  3000 Total negative cases:  3000\n",
            "Positive cases in validation:  443 Negative cases in validation:  457\n",
            "Positive cases in training:  2557 Negatvie cases in training:  2543\n",
            "30 4\n",
            "(5100, 1, 16, 16, 16)\n",
            "16.0\n",
            "(900, 1, 16, 16, 16)\n"
          ],
          "name": "stdout"
        }
      ]
    },
    {
      "cell_type": "code",
      "metadata": {
        "id": "XXNuH1VRQH5_"
      },
      "source": [
        "# trial 1 - CNN\n",
        "class Net(nn.Module):\n",
        "  def __init__(self):\n",
        "    super(Net, self).__init__()\n",
        "\n",
        "    self.cnn_layers = nn.Sequential(\n",
        "        nn.Conv3d(1, 8, kernel_size=3, stride=1, padding=0),\n",
        "        nn.BatchNorm3d(8),\n",
        "        nn.ReLU(inplace=True),\n",
        "        nn.MaxPool3d(kernel_size=2, stride=1),\n",
        "        # Defining another 2D convolution layer\n",
        "        nn.Conv3d(8, 16, kernel_size=3, stride=1, padding=0),\n",
        "        nn.BatchNorm3d(16),\n",
        "        nn.ReLU(inplace=True),\n",
        "        nn.MaxPool3d(kernel_size=2, stride=2),\n",
        "        # Defining another 2D convolution layer\n",
        "        nn.Conv3d(16, 32, kernel_size=3, stride=1, padding=0),\n",
        "        nn.BatchNorm3d(32),\n",
        "        nn.ReLU(inplace=True),\n",
        "        nn.MaxPool3d(kernel_size=2, stride=1),\n",
        "    )\n",
        "\n",
        "    self.linear_layers = nn.Sequential(\n",
        "            nn.Dropout(p = 0.4),\n",
        "            nn.Linear(32 * 2 * 2 * 2 , 32),\n",
        "            nn.ReLU(),\n",
        "            nn.Linear(32,2)\n",
        "        )\n",
        "\n",
        "  def forward(self, x):\n",
        "    x = self.cnn_layers(x)\n",
        "    x = torch.flatten(x, start_dim = 1)\n",
        "    x = self.linear_layers(x)\n",
        "    return x"
      ],
      "execution_count": null,
      "outputs": []
    },
    {
      "cell_type": "code",
      "metadata": {
        "colab": {
          "base_uri": "https://localhost:8080/"
        },
        "id": "qJn01Nu30pNB",
        "outputId": "0509a720-5ed6-43ea-e62a-a70602adf158"
      },
      "source": [
        "model = Net()\n",
        "model(torch.randn(1,1,16, 16,16)).shape"
      ],
      "execution_count": null,
      "outputs": [
        {
          "output_type": "execute_result",
          "data": {
            "text/plain": [
              "torch.Size([1, 32, 2, 2, 2])"
            ]
          },
          "metadata": {
            "tags": []
          },
          "execution_count": 41
        }
      ]
    },
    {
      "cell_type": "code",
      "metadata": {
        "colab": {
          "base_uri": "https://localhost:8080/"
        },
        "id": "XOC8G9VGHC5Q",
        "outputId": "d18f9b39-a574-45ec-bcc4-1e810b883b79"
      },
      "source": [
        "from torch.optim import Adam\n",
        "# defining the model\n",
        "model = Net()\n",
        "# defining the optimizer\n",
        "optimizer = Adam(model.parameters(), lr=0.0005, weight_decay = 0.005)\n",
        "# defining the loss function\n",
        "criterion = nn.CrossEntropyLoss()\n",
        "\n",
        "print(model)"
      ],
      "execution_count": null,
      "outputs": [
        {
          "output_type": "stream",
          "text": [
            "Net(\n",
            "  (cnn_layers): Sequential(\n",
            "    (0): Conv3d(1, 8, kernel_size=(3, 3, 3), stride=(1, 1, 1))\n",
            "    (1): BatchNorm3d(8, eps=1e-05, momentum=0.1, affine=True, track_running_stats=True)\n",
            "    (2): ReLU(inplace=True)\n",
            "    (3): MaxPool3d(kernel_size=2, stride=1, padding=0, dilation=1, ceil_mode=False)\n",
            "    (4): Conv3d(8, 16, kernel_size=(3, 3, 3), stride=(1, 1, 1))\n",
            "    (5): BatchNorm3d(16, eps=1e-05, momentum=0.1, affine=True, track_running_stats=True)\n",
            "    (6): ReLU(inplace=True)\n",
            "    (7): MaxPool3d(kernel_size=2, stride=2, padding=0, dilation=1, ceil_mode=False)\n",
            "    (8): Conv3d(16, 32, kernel_size=(3, 3, 3), stride=(1, 1, 1))\n",
            "    (9): BatchNorm3d(32, eps=1e-05, momentum=0.1, affine=True, track_running_stats=True)\n",
            "    (10): ReLU(inplace=True)\n",
            "    (11): MaxPool3d(kernel_size=2, stride=1, padding=0, dilation=1, ceil_mode=False)\n",
            "  )\n",
            "  (linear_layers): Sequential(\n",
            "    (0): Dropout(p=0.4, inplace=False)\n",
            "    (1): Linear(in_features=256, out_features=32, bias=True)\n",
            "    (2): ReLU()\n",
            "    (3): Linear(in_features=32, out_features=2, bias=True)\n",
            "  )\n",
            ")\n"
          ],
          "name": "stdout"
        }
      ]
    },
    {
      "cell_type": "code",
      "metadata": {
        "colab": {
          "base_uri": "https://localhost:8080/"
        },
        "id": "Pl-4svtJ82iB",
        "outputId": "80e3a4f4-f78c-4a7f-9e17-2d0a132358d7"
      },
      "source": [
        "# number of parameters in the model\n",
        "model_parameters = filter(lambda p: p.requires_grad, model.parameters())\n",
        "params = sum([np.prod(p.size()) for p in model_parameters])\n",
        "params"
      ],
      "execution_count": null,
      "outputs": [
        {
          "output_type": "execute_result",
          "data": {
            "text/plain": [
              "25954"
            ]
          },
          "metadata": {
            "tags": []
          },
          "execution_count": 336
        }
      ]
    },
    {
      "cell_type": "code",
      "metadata": {
        "id": "4DjwfhFytDwI"
      },
      "source": [
        "# define each epoch when training\n",
        "def train(epoch, trainloader, valloader):\n",
        "  train.train_loss = 0\n",
        "  train.train_acces = 0\n",
        "  model.train()\n",
        "  total = 0\n",
        "  correct = 0\n",
        "  for images, labels in trainloader:\n",
        "    #print(images.shape, labels.shape)\n",
        "    optimizer.zero_grad() # clear the gradient\n",
        "    output_train = model(images)   # calculate model output \n",
        "    #loss_train = criterion(output_train.squeeze(), labels) # calculate loss\n",
        "    loss_train = criterion(output_train, labels)\n",
        "        \n",
        "    loss_train.backward()   # back propagation\n",
        "    optimizer.step() # update model weights\n",
        "        \n",
        "    train.train_loss += loss_train.item() * images.size(0)\n",
        "    acc = accuracy(output_train, labels)\n",
        "    train.train_acces += acc\n",
        "    \n",
        "\n",
        "  print(\"Epoch {} - Training loss: {}, Training Accuracy: {}\".format(epoch+1, train.train_loss / len(trainloader), train.train_acces / len(trainloader)))\n",
        "  model.eval() \n",
        "  with torch.no_grad():\n",
        "    train.val_acces = 0\n",
        "    train.val_loss = 0\n",
        "    for images, labels in valloader:\n",
        "      output_val = model(images)\n",
        "      #loss_val = criterion(output_val.squeeze(), labels)\n",
        "      loss_val = criterion(output_val, labels)\n",
        "\n",
        "      train.val_loss += loss_val.item() * images.size(0)\n",
        "      #val_acc = accuracy_quick(output_train, labels)\n",
        "      #val_acces += val_acc.item()     \n",
        "      acc = accuracy(output_val, labels)   \n",
        "      train.val_acces += acc\n",
        "  \n",
        "  print(\"Validation loss: {}, Validation Accuracy: {}\".format(train.val_loss / len(valloader), train.val_acces / len(valloader)))\n"
      ],
      "execution_count": null,
      "outputs": []
    },
    {
      "cell_type": "code",
      "metadata": {
        "colab": {
          "base_uri": "https://localhost:8080/"
        },
        "id": "5q276DBQ9J62",
        "outputId": "d89425d3-8dca-4f31-980e-8a747e41cd22"
      },
      "source": [
        "model.apply(weight_reset)"
      ],
      "execution_count": null,
      "outputs": [
        {
          "output_type": "execute_result",
          "data": {
            "text/plain": [
              "Net(\n",
              "  (cnn_layers): Sequential(\n",
              "    (0): Conv3d(1, 8, kernel_size=(3, 3, 3), stride=(1, 1, 1))\n",
              "    (1): BatchNorm3d(8, eps=1e-05, momentum=0.1, affine=True, track_running_stats=True)\n",
              "    (2): ReLU(inplace=True)\n",
              "    (3): MaxPool3d(kernel_size=2, stride=1, padding=0, dilation=1, ceil_mode=False)\n",
              "    (4): Conv3d(8, 16, kernel_size=(3, 3, 3), stride=(1, 1, 1))\n",
              "    (5): BatchNorm3d(16, eps=1e-05, momentum=0.1, affine=True, track_running_stats=True)\n",
              "    (6): ReLU(inplace=True)\n",
              "    (7): MaxPool3d(kernel_size=2, stride=2, padding=0, dilation=1, ceil_mode=False)\n",
              "    (8): Conv3d(16, 32, kernel_size=(3, 3, 3), stride=(1, 1, 1))\n",
              "    (9): BatchNorm3d(32, eps=1e-05, momentum=0.1, affine=True, track_running_stats=True)\n",
              "    (10): ReLU(inplace=True)\n",
              "    (11): MaxPool3d(kernel_size=2, stride=1, padding=0, dilation=1, ceil_mode=False)\n",
              "  )\n",
              "  (linear_layers): Sequential(\n",
              "    (0): Dropout(p=0.4, inplace=False)\n",
              "    (1): Linear(in_features=256, out_features=32, bias=True)\n",
              "    (2): ReLU()\n",
              "    (3): Linear(in_features=32, out_features=2, bias=True)\n",
              "  )\n",
              ")"
            ]
          },
          "metadata": {
            "tags": []
          },
          "execution_count": 24
        }
      ]
    },
    {
      "cell_type": "code",
      "metadata": {
        "colab": {
          "base_uri": "https://localhost:8080/"
        },
        "id": "bPwnxF_Q5FaV",
        "outputId": "fee2ec08-991a-4ab7-f566-44de05a0e5d1"
      },
      "source": [
        "# defining the number of epochs\n",
        "n_epochs = 50\n",
        "# empty list to store training losses\n",
        "train_losses1 = []\n",
        "train_acc1 = []\n",
        "# empty list to store validation losses\n",
        "val_losses1 = []\n",
        "val_acc1 =[]\n",
        "epoch_count1 = []\n",
        "# training the model\n",
        "es = 0\n",
        "best_loss = 100\n",
        "for epoch in range(n_epochs):\n",
        "    train(epoch, trainloader = trainloader1, valloader = valloader1)\n",
        "    epoch_count1.append(epoch)\n",
        "    train_losses1.append(train.train_loss/len(trainloader1))\n",
        "    val_losses1.append(train.val_loss/len(valloader1))\n",
        "    train_acc1.append(train.train_acces/len(trainloader1))\n",
        "    val_acc1.append(train.val_acces/len(valloader1))\n",
        "    # early stopping\n",
        "    if train.val_loss/len(valloader1) < best_loss:\n",
        "      best_loss = train.val_loss/len(valloader1)\n",
        "      es = 0\n",
        "      torch.save(model.state_dict(), \"model_\" + str(epoch) + 'weight_trial1.pt')\n",
        "      best_epoch = epoch\n",
        "    else:\n",
        "      es += 1\n",
        "      print(\"Counter {} of 13\".format(es))\n",
        "\n",
        "    if es > 12:\n",
        "      print(\"Early stopping!\")\n",
        "      model.load_state_dict(torch.load('/content/model_' + str(best_epoch) +'weight_trial1.pt'))\n",
        "      break"
      ],
      "execution_count": null,
      "outputs": [
        {
          "output_type": "stream",
          "text": [
            "Epoch 1 - Training loss: 90.4712985277176, Training Accuracy: 0.5194299817085266\n",
            "Validation loss: 77.67080959677696, Validation Accuracy: 0.482421875\n",
            "Epoch 2 - Training loss: 87.04952321648598, Training Accuracy: 0.5595775842666626\n",
            "Validation loss: 76.96369276940823, Validation Accuracy: 0.556640625\n",
            "Epoch 3 - Training loss: 69.73140313923359, Training Accuracy: 0.7493200302124023\n",
            "Validation loss: 49.499509900808334, Validation Accuracy: 0.7353515625\n",
            "Epoch 4 - Training loss: 39.16898560672998, Training Accuracy: 0.8847077488899231\n",
            "Validation loss: 51.06349968165159, Validation Accuracy: 0.759765625\n",
            "Counter 1 of 13\n",
            "Epoch 5 - Training loss: 33.417709490656854, Training Accuracy: 0.9067564010620117\n",
            "Validation loss: 26.85010551661253, Validation Accuracy: 0.9208984375\n",
            "Epoch 6 - Training loss: 32.28979904949665, Training Accuracy: 0.9072554707527161\n",
            "Validation loss: 45.3205971121788, Validation Accuracy: 0.81640625\n",
            "Counter 1 of 13\n",
            "Epoch 7 - Training loss: 30.015202325582504, Training Accuracy: 0.9137369990348816\n",
            "Validation loss: 29.46479097008705, Validation Accuracy: 0.904296875\n",
            "Counter 2 of 13\n",
            "Epoch 8 - Training loss: 29.130257700383662, Training Accuracy: 0.9122106432914734\n",
            "Validation loss: 30.261116713285446, Validation Accuracy: 0.8837890625\n",
            "Counter 3 of 13\n",
            "Epoch 9 - Training loss: 27.744252768158912, Training Accuracy: 0.9196831583976746\n",
            "Validation loss: 24.213688418269157, Validation Accuracy: 0.8994140625\n",
            "Epoch 10 - Training loss: 27.783187274634837, Training Accuracy: 0.9208043813705444\n",
            "Validation loss: 24.30596058256924, Validation Accuracy: 0.9296875\n",
            "Counter 1 of 13\n",
            "Epoch 11 - Training loss: 28.87949212193489, Training Accuracy: 0.9177662134170532\n",
            "Validation loss: 33.750483751297, Validation Accuracy: 0.8427734375\n",
            "Counter 2 of 13\n",
            "Epoch 12 - Training loss: 28.34717308729887, Training Accuracy: 0.9180700182914734\n",
            "Validation loss: 25.45356583595276, Validation Accuracy: 0.8935546875\n",
            "Counter 3 of 13\n",
            "Epoch 13 - Training loss: 26.77775435298681, Training Accuracy: 0.9232204556465149\n",
            "Validation loss: 23.843573600053787, Validation Accuracy: 0.900390625\n",
            "Epoch 14 - Training loss: 26.631677432358266, Training Accuracy: 0.9252604246139526\n",
            "Validation loss: 31.598487496376038, Validation Accuracy: 0.8818359375\n",
            "Counter 1 of 13\n",
            "Epoch 15 - Training loss: 26.489902764558792, Training Accuracy: 0.9252966046333313\n",
            "Validation loss: 25.410396993160248, Validation Accuracy: 0.9287109375\n",
            "Counter 2 of 13\n",
            "Epoch 16 - Training loss: 25.908539855480193, Training Accuracy: 0.9273365139961243\n",
            "Validation loss: 22.196563437581062, Validation Accuracy: 0.904296875\n",
            "Epoch 17 - Training loss: 25.29817041605711, Training Accuracy: 0.9292751550674438\n",
            "Validation loss: 22.21650203689933, Validation Accuracy: 0.9365234375\n",
            "Counter 1 of 13\n",
            "Epoch 18 - Training loss: 25.749792803823947, Training Accuracy: 0.928689181804657\n",
            "Validation loss: 24.53022937476635, Validation Accuracy: 0.92578125\n",
            "Counter 2 of 13\n",
            "Epoch 19 - Training loss: 25.400563764572144, Training Accuracy: 0.9296802282333374\n",
            "Validation loss: 32.07962363958359, Validation Accuracy: 0.8603515625\n",
            "Counter 3 of 13\n",
            "Epoch 20 - Training loss: 26.476339477300645, Training Accuracy: 0.9272135496139526\n",
            "Validation loss: 56.1053376942873, Validation Accuracy: 0.8291015625\n",
            "Counter 4 of 13\n",
            "Epoch 21 - Training loss: 25.219579845666885, Training Accuracy: 0.9282624125480652\n",
            "Validation loss: 37.973831593990326, Validation Accuracy: 0.8154296875\n",
            "Counter 5 of 13\n",
            "Epoch 22 - Training loss: 24.905203104019165, Training Accuracy: 0.9313151240348816\n",
            "Validation loss: 66.58868210017681, Validation Accuracy: 0.80859375\n",
            "Counter 6 of 13\n",
            "Epoch 23 - Training loss: 24.605588598549367, Training Accuracy: 0.9324870109558105\n",
            "Validation loss: 21.89527626335621, Validation Accuracy: 0.9072265625\n",
            "Epoch 24 - Training loss: 24.436849531531333, Training Accuracy: 0.9312427639961243\n",
            "Validation loss: 35.37501308321953, Validation Accuracy: 0.853515625\n",
            "Counter 1 of 13\n",
            "Epoch 25 - Training loss: 24.277284482121466, Training Accuracy: 0.9344401359558105\n",
            "Validation loss: 34.28911213576794, Validation Accuracy: 0.8515625\n",
            "Counter 2 of 13\n",
            "Epoch 26 - Training loss: 23.57353699952364, Training Accuracy: 0.9371238946914673\n",
            "Validation loss: 105.0208770185709, Validation Accuracy: 0.7451171875\n",
            "Counter 3 of 13\n",
            "Epoch 27 - Training loss: 24.81764504313469, Training Accuracy: 0.9327907562255859\n",
            "Validation loss: 30.226983189582825, Validation Accuracy: 0.8818359375\n",
            "Counter 4 of 13\n",
            "Epoch 28 - Training loss: 23.785283479094506, Training Accuracy: 0.9360532760620117\n",
            "Validation loss: 22.55910151079297, Validation Accuracy: 0.94140625\n",
            "Counter 5 of 13\n",
            "Epoch 29 - Training loss: 24.347089543938637, Training Accuracy: 0.9334273338317871\n",
            "Validation loss: 23.521250093355775, Validation Accuracy: 0.9306640625\n",
            "Counter 6 of 13\n",
            "Epoch 30 - Training loss: 23.68383015692234, Training Accuracy: 0.9356481432914734\n",
            "Validation loss: 24.26851005293429, Validation Accuracy: 0.9306640625\n",
            "Counter 7 of 13\n",
            "Epoch 31 - Training loss: 23.472852970659734, Training Accuracy: 0.9370876550674438\n",
            "Validation loss: 49.202685594558716, Validation Accuracy: 0.8095703125\n",
            "Counter 8 of 13\n",
            "Epoch 32 - Training loss: 23.665914948284627, Training Accuracy: 0.9350983500480652\n",
            "Validation loss: 30.286458358168602, Validation Accuracy: 0.912109375\n",
            "Counter 9 of 13\n",
            "Epoch 33 - Training loss: 23.785817411541938, Training Accuracy: 0.9350622296333313\n",
            "Validation loss: 22.23725926876068, Validation Accuracy: 0.9365234375\n",
            "Counter 10 of 13\n",
            "Epoch 34 - Training loss: 23.257418447732924, Training Accuracy: 0.9353804588317871\n",
            "Validation loss: 22.91245473921299, Validation Accuracy: 0.935546875\n",
            "Counter 11 of 13\n",
            "Epoch 35 - Training loss: 23.387487848103046, Training Accuracy: 0.9336226582527161\n",
            "Validation loss: 21.82178086042404, Validation Accuracy: 0.90625\n",
            "Epoch 36 - Training loss: 24.019579405337574, Training Accuracy: 0.9326316714286804\n",
            "Validation loss: 21.55613438040018, Validation Accuracy: 0.9384765625\n",
            "Epoch 37 - Training loss: 22.104990439116953, Training Accuracy: 0.9396411776542664\n",
            "Validation loss: 23.19284648448229, Validation Accuracy: 0.9365234375\n",
            "Counter 1 of 13\n",
            "Epoch 38 - Training loss: 22.020057977735995, Training Accuracy: 0.9423249363899231\n",
            "Validation loss: 28.903995245695114, Validation Accuracy: 0.87890625\n",
            "Counter 2 of 13\n",
            "Epoch 39 - Training loss: 22.480322037637233, Training Accuracy: 0.9381004571914673\n",
            "Validation loss: 22.315546363592148, Validation Accuracy: 0.912109375\n",
            "Counter 3 of 13\n",
            "Epoch 40 - Training loss: 21.412652395665646, Training Accuracy: 0.9422019720077515\n",
            "Validation loss: 28.73160684912, Validation Accuracy: 0.9111328125\n",
            "Counter 4 of 13\n",
            "Epoch 41 - Training loss: 21.661286553740503, Training Accuracy: 0.9400897026062012\n",
            "Validation loss: 22.242312148213387, Validation Accuracy: 0.9404296875\n",
            "Counter 5 of 13\n",
            "Epoch 42 - Training loss: 22.33024507164955, Training Accuracy: 0.9367839097976685\n",
            "Validation loss: 27.00922302901745, Validation Accuracy: 0.884765625\n",
            "Counter 6 of 13\n",
            "Epoch 43 - Training loss: 23.673372024297713, Training Accuracy: 0.9360749125480652\n",
            "Validation loss: 21.898394405841827, Validation Accuracy: 0.908203125\n",
            "Counter 7 of 13\n",
            "Epoch 44 - Training loss: 22.91690370887518, Training Accuracy: 0.9381872415542603\n",
            "Validation loss: 30.18344736099243, Validation Accuracy: 0.875\n",
            "Counter 8 of 13\n",
            "Epoch 45 - Training loss: 21.547446423768996, Training Accuracy: 0.9411530494689941\n",
            "Validation loss: 27.17395257204771, Validation Accuracy: 0.9130859375\n",
            "Counter 9 of 13\n",
            "Epoch 46 - Training loss: 22.838580246269704, Training Accuracy: 0.9357204437255859\n",
            "Validation loss: 23.31200221180916, Validation Accuracy: 0.9033203125\n",
            "Counter 10 of 13\n",
            "Epoch 47 - Training loss: 21.042298528552056, Training Accuracy: 0.9456813931465149\n",
            "Validation loss: 20.716232979670167, Validation Accuracy: 0.9443359375\n",
            "Epoch 48 - Training loss: 21.104509882628918, Training Accuracy: 0.9427517056465149\n",
            "Validation loss: 23.24600698798895, Validation Accuracy: 0.9287109375\n",
            "Counter 1 of 13\n",
            "Epoch 49 - Training loss: 21.957278933376074, Training Accuracy: 0.9402850270271301\n",
            "Validation loss: 59.48841442167759, Validation Accuracy: 0.7978515625\n",
            "Counter 2 of 13\n",
            "Epoch 50 - Training loss: 22.46695636510849, Training Accuracy: 0.9375144839286804\n",
            "Validation loss: 41.668644204735756, Validation Accuracy: 0.84765625\n",
            "Counter 3 of 13\n"
          ],
          "name": "stdout"
        }
      ]
    },
    {
      "cell_type": "code",
      "metadata": {
        "colab": {
          "base_uri": "https://localhost:8080/",
          "height": 296
        },
        "id": "13URazuc8LA9",
        "outputId": "b4609d71-aa87-49a6-b385-5754bed93d0d"
      },
      "source": [
        "import matplotlib.pyplot as plt\n",
        "plt.plot(epoch_count1, train_losses1, label = 'train_loss')\n",
        "plt.plot(epoch_count1, val_losses1, label = 'val_loss')\n",
        "plt.xlabel('epoch')\n",
        "plt.legend()\n",
        "plt.ylabel('loss')"
      ],
      "execution_count": null,
      "outputs": [
        {
          "output_type": "execute_result",
          "data": {
            "text/plain": [
              "Text(0, 0.5, 'loss')"
            ]
          },
          "metadata": {
            "tags": []
          },
          "execution_count": 26
        },
        {
          "output_type": "display_data",
          "data": {
            "image/png": "[encoded data removed]",
            "text/plain": [
              "<Figure size 432x288 with 1 Axes>"
            ]
          },
          "metadata": {
            "tags": [],
            "needs_background": "light"
          }
        }
      ]
    },
    {
      "cell_type": "code",
      "metadata": {
        "colab": {
          "base_uri": "https://localhost:8080/",
          "height": 296
        },
        "id": "1yh9Jbmu8K09",
        "outputId": "9d44c664-0aa5-415c-d364-d96b34ef0bd4"
      },
      "source": [
        "plt.plot(epoch_count1, train_acc1, label = 'train_accuracy')\n",
        "plt.plot(epoch_count1, val_acc1, label = 'val_accuracy')\n",
        "plt.xlabel('epoch')\n",
        "plt.legend()\n",
        "plt.ylabel('accuracy')"
      ],
      "execution_count": null,
      "outputs": [
        {
          "output_type": "execute_result",
          "data": {
            "text/plain": [
              "Text(0, 0.5, 'accuracy')"
            ]
          },
          "metadata": {
            "tags": []
          },
          "execution_count": 27
        },
        {
          "output_type": "display_data",
          "data": {
            "image/png": "[encoded data removed]",
            "text/plain": [
              "<Figure size 432x288 with 1 Axes>"
            ]
          },
          "metadata": {
            "tags": [],
            "needs_background": "light"
          }
        }
      ]
    },
    {
      "cell_type": "code",
      "metadata": {
        "colab": {
          "base_uri": "https://localhost:8080/",
          "height": 362
        },
        "id": "0fXpFdu0vyVl",
        "outputId": "addfab7c-f42c-4a90-9871-fde6c893a196"
      },
      "source": [
        "# confusion matrix for validation\n",
        "model.eval() \n",
        "with torch.no_grad():\n",
        "  y_pred = []\n",
        "  y_true = []\n",
        "  for images, labels in valloader1:\n",
        "    y_true.extend(labels)\n",
        "    output_val = model(images)\n",
        "    y_pred_softmax = torch.log_softmax(output_val, dim = 1)\n",
        "    _, preds = torch.max(y_pred_softmax, dim=1)\n",
        "    preds = preds.detach().numpy()\n",
        "    y_pred.extend(preds)\n",
        "from sklearn.metrics import confusion_matrix\n",
        "# get actual label\n",
        "cnf_matrix = confusion_matrix(y_true, y_pred)\n",
        "plot_confusion_matrix(cnf_matrix, classes = [0,1], normalize = True, title = 'Confusion matrix (Validation)')"
      ],
      "execution_count": null,
      "outputs": [
        {
          "output_type": "stream",
          "text": [
            "Normalized confusion matrix\n",
            "[[0.94808126 0.05191874]\n",
            " [0.22319475 0.77680525]]\n"
          ],
          "name": "stdout"
        },
        {
          "output_type": "display_data",
          "data": {
            "image/png": "[encoded data removed]",
            "text/plain": [
              "<Figure size 432x288 with 2 Axes>"
            ]
          },
          "metadata": {
            "tags": [],
            "needs_background": "light"
          }
        }
      ]
    },
    {
      "cell_type": "code",
      "metadata": {
        "colab": {
          "base_uri": "https://localhost:8080/",
          "height": 362
        },
        "id": "REaP0HZzwVr0",
        "outputId": "054e08b3-f97e-4a3d-f6b8-269d00bfedfb"
      },
      "source": [
        "# confusion matrix for validation\n",
        "model.eval() \n",
        "with torch.no_grad():\n",
        "  y_pred = []\n",
        "  y_true = []\n",
        "  for images, labels in trainloader1:\n",
        "    y_true.extend(labels)\n",
        "    output_val = model(images)\n",
        "    y_pred_softmax = torch.log_softmax(output_val, dim = 1)\n",
        "    _, preds = torch.max(y_pred_softmax, dim=1)\n",
        "    preds = preds.detach().numpy()\n",
        "    y_pred.extend(preds)\n",
        "from sklearn.metrics import confusion_matrix\n",
        "# get actual label\n",
        "cnf_matrix = confusion_matrix(y_true, y_pred)\n",
        "plot_confusion_matrix(cnf_matrix, classes = [0,1], normalize = True, title = 'Confusion matrix (training)')"
      ],
      "execution_count": null,
      "outputs": [
        {
          "output_type": "stream",
          "text": [
            "Normalized confusion matrix\n",
            "[[0.9507235  0.0492765 ]\n",
            " [0.16594573 0.83405427]]\n"
          ],
          "name": "stdout"
        },
        {
          "output_type": "display_data",
          "data": {
            "image/png": "[encoded data removed]",
            "text/plain": [
              "<Figure size 432x288 with 2 Axes>"
            ]
          },
          "metadata": {
            "tags": [],
            "needs_background": "light"
          }
        }
      ]
    },
    {
      "cell_type": "code",
      "metadata": {
        "colab": {
          "base_uri": "https://localhost:8080/"
        },
        "id": "UfsODYhJd3pF",
        "outputId": "d9336af2-86ff-4c5d-ed96-40448c212997"
      },
      "source": [
        "# load the validation sparse 3d matrix\n",
        "valtest_cube = []\n",
        "for i in range(len(all_val1)):\n",
        "  temp = voxelize(all_val1[i][0], all_val1[i][1], max_side = 30, grid = 4)\n",
        "  valtest_cube.append(COO.todense(temp))\n",
        "valtest_cube = np.array(valtest_cube)\n",
        "valtest_cube = valtest_cube.reshape(valtest_cube.shape[0], 1, valtest_cube.shape[1], valtest_cube.shape[2], valtest_cube.shape[3])\n",
        "print(valtest_cube.shape)\n",
        "\n",
        "# build the validation dataloader\n",
        "valtest_data = []\n",
        "count = 0\n",
        "for i in range(len(all_val1)):\n",
        "  if all_val1[i][2] == 0:\n",
        "    #print(0)\n",
        "    pass\n",
        "  elif (all_val1[i][2] == 1) & (count < 50):\n",
        "    count += 1\n",
        "    pass\n",
        "  else:\n",
        "    continue\n",
        "  valtest_data.append([valtest_cube[i], all_val1[i][2]])\n",
        "valtest_loader = torch.utils.data.DataLoader(valtest_data, shuffle = True)\n",
        "print(len(valtest_loader))"
      ],
      "execution_count": null,
      "outputs": [
        {
          "output_type": "stream",
          "text": [
            "(900, 1, 16, 16, 16)\n",
            "493\n"
          ],
          "name": "stdout"
        }
      ]
    },
    {
      "cell_type": "code",
      "metadata": {
        "colab": {
          "base_uri": "https://localhost:8080/",
          "height": 362
        },
        "id": "84p0oCthd3pU",
        "outputId": "d20bd8d9-fefb-43ee-c8f9-933e775d0164"
      },
      "source": [
        "model.eval() \n",
        "with torch.no_grad():\n",
        "  y_pred = []\n",
        "  y_true = []\n",
        "  for images, labels in valtest_loader:\n",
        "    y_true.extend(labels)\n",
        "    output_val = model(images)\n",
        "    y_pred_softmax = torch.log_softmax(output_val, dim = 1)\n",
        "    _, preds = torch.max(y_pred_softmax, dim=1)\n",
        "    preds = preds.detach().numpy()\n",
        "    y_pred.extend(preds)\n",
        "from sklearn.metrics import confusion_matrix\n",
        "# get actual label\n",
        "cnf_matrix = confusion_matrix(y_true, y_pred)\n",
        "plot_confusion_matrix(cnf_matrix, classes = [0,1], normalize = True, title = 'Confusion matrix2 (Validation)')"
      ],
      "execution_count": null,
      "outputs": [
        {
          "output_type": "stream",
          "text": [
            "Normalized confusion matrix\n",
            "[[0.94808126 0.05191874]\n",
            " [0.28       0.72      ]]\n"
          ],
          "name": "stdout"
        },
        {
          "output_type": "display_data",
          "data": {
            "image/png": "[encoded data removed]",
            "text/plain": [
              "<Figure size 432x288 with 2 Axes>"
            ]
          },
          "metadata": {
            "tags": [],
            "needs_background": "light"
          }
        }
      ]
    },
    {
      "cell_type": "markdown",
      "metadata": {
        "id": "bfBXBz-3eWcX"
      },
      "source": [
        "### Trial 2 - 1:2 pos/neg"
      ]
    },
    {
      "cell_type": "code",
      "metadata": {
        "colab": {
          "base_uri": "https://localhost:8080/"
        },
        "id": "RaipQCP0xIzo",
        "outputId": "a40d6e6c-edca-433c-809e-7278052f9c5b"
      },
      "source": [
        "# trail 2 - 1:2 pos/neg ratio, 15% validation\n",
        "all_train2, all_val2 = train_val_split(val_perc = 0.15, neg_pos_ratio = 2)\n",
        "trainloader2, valloader2 = dataloader_builder(all_train2, all_val2, max_side = 30, grid = 4)"
      ],
      "execution_count": null,
      "outputs": [
        {
          "output_type": "stream",
          "text": [
            "Total positive cases:  5997 Total negative cases:  3003\n",
            "Positive cases in validation:  896 Negative cases in validation:  454\n",
            "Positive cases in training:  5101 Negatvie cases in training:  2549\n",
            "30 4\n",
            "(7650, 1, 16, 16, 16)\n",
            "16.0\n",
            "(1350, 1, 16, 16, 16)\n"
          ],
          "name": "stdout"
        }
      ]
    },
    {
      "cell_type": "code",
      "metadata": {
        "id": "0TpE-Lep0JTW",
        "colab": {
          "base_uri": "https://localhost:8080/"
        },
        "outputId": "30850b47-629e-4496-ca66-d42733d7061e"
      },
      "source": [
        "model.apply(weight_reset)"
      ],
      "execution_count": null,
      "outputs": [
        {
          "output_type": "execute_result",
          "data": {
            "text/plain": [
              "Net(\n",
              "  (cnn_layers): Sequential(\n",
              "    (0): Conv3d(1, 8, kernel_size=(3, 3, 3), stride=(1, 1, 1))\n",
              "    (1): BatchNorm3d(8, eps=1e-05, momentum=0.1, affine=True, track_running_stats=True)\n",
              "    (2): ReLU(inplace=True)\n",
              "    (3): MaxPool3d(kernel_size=2, stride=1, padding=0, dilation=1, ceil_mode=False)\n",
              "    (4): Conv3d(8, 16, kernel_size=(3, 3, 3), stride=(1, 1, 1))\n",
              "    (5): BatchNorm3d(16, eps=1e-05, momentum=0.1, affine=True, track_running_stats=True)\n",
              "    (6): ReLU(inplace=True)\n",
              "    (7): MaxPool3d(kernel_size=2, stride=2, padding=0, dilation=1, ceil_mode=False)\n",
              "    (8): Conv3d(16, 32, kernel_size=(3, 3, 3), stride=(1, 1, 1))\n",
              "    (9): BatchNorm3d(32, eps=1e-05, momentum=0.1, affine=True, track_running_stats=True)\n",
              "    (10): ReLU(inplace=True)\n",
              "    (11): MaxPool3d(kernel_size=2, stride=1, padding=0, dilation=1, ceil_mode=False)\n",
              "  )\n",
              "  (linear_layers): Sequential(\n",
              "    (0): Dropout(p=0.4, inplace=False)\n",
              "    (1): Linear(in_features=256, out_features=32, bias=True)\n",
              "    (2): ReLU()\n",
              "    (3): Linear(in_features=32, out_features=2, bias=True)\n",
              "  )\n",
              ")"
            ]
          },
          "metadata": {
            "tags": []
          },
          "execution_count": 37
        }
      ]
    },
    {
      "cell_type": "code",
      "metadata": {
        "colab": {
          "base_uri": "https://localhost:8080/"
        },
        "id": "2jOAZDEqbohm",
        "outputId": "322fe454-de25-4e2d-f46f-7ce15e1afea9"
      },
      "source": [
        "# defining the number of epochs\n",
        "n_epochs = 50\n",
        "# empty list to store training losses\n",
        "train_losses2 = []\n",
        "train_acc2 = []\n",
        "# empty list to store validation losses\n",
        "val_losses2 = []\n",
        "val_acc2 =[]\n",
        "epoch_count2 = []\n",
        "# training the model\n",
        "es = 0\n",
        "best_loss = 100\n",
        "for epoch in range(n_epochs):\n",
        "    train(epoch, trainloader = trainloader2, valloader = valloader2)\n",
        "    epoch_count2.append(epoch)\n",
        "    train_losses2.append(train.train_loss/len(trainloader2))\n",
        "    val_losses2.append(train.val_loss/len(valloader2))\n",
        "    train_acc2.append(train.train_acces/len(trainloader2))\n",
        "    val_acc2.append(train.val_acces/len(valloader2))\n",
        "    # early stopping\n",
        "    if train.val_loss/len(valloader2) < best_loss:\n",
        "      best_loss = train.val_loss/len(valloader2)\n",
        "      es = 0\n",
        "      torch.save(model.state_dict(), \"model_\" + str(epoch) + 'weight_trial2.pt')\n",
        "      best_epoch = epoch\n",
        "    else:\n",
        "      es += 1\n",
        "      print(\"Counter {} of 13\".format(es))\n",
        "\n",
        "    if es > 12:\n",
        "      print(\"Early stopping!\")\n",
        "      model.load_state_dict(torch.load('/content/model_' + str(best_epoch) +'weight_trial2.pt'))\n",
        "      break"
      ],
      "execution_count": null,
      "outputs": [
        {
          "output_type": "stream",
          "text": [
            "Epoch 1 - Training loss: 81.49412234425544, Training Accuracy: 0.666982889175415\n",
            "Validation loss: 78.13244888999246, Validation Accuracy: 0.6634334325790405\n",
            "Epoch 2 - Training loss: 81.09274827241897, Training Accuracy: 0.6667436957359314\n",
            "Validation loss: 77.78614270687103, Validation Accuracy: 0.6610795259475708\n",
            "Epoch 3 - Training loss: 79.81582619945208, Training Accuracy: 0.6669031977653503\n",
            "Validation loss: 76.88591520352797, Validation Accuracy: 0.6616680026054382\n",
            "Epoch 4 - Training loss: 63.652574211359024, Training Accuracy: 0.7475393414497375\n",
            "Validation loss: 51.144863459196955, Validation Accuracy: 0.7660308480262756\n",
            "Epoch 5 - Training loss: 38.50090554455916, Training Accuracy: 0.8749521970748901\n",
            "Validation loss: 61.21161746436899, Validation Accuracy: 0.7816558480262756\n",
            "Counter 1 of 13\n",
            "Epoch 6 - Training loss: 32.866197974979876, Training Accuracy: 0.8932902812957764\n",
            "Validation loss: 27.066252464597877, Validation Accuracy: 0.9038960933685303\n",
            "Epoch 7 - Training loss: 31.607707095642883, Training Accuracy: 0.8985597491264343\n",
            "Validation loss: 26.16765454682437, Validation Accuracy: 0.9125608801841736\n",
            "Epoch 8 - Training loss: 30.18255401303371, Training Accuracy: 0.9022852778434753\n",
            "Validation loss: 30.62513401020657, Validation Accuracy: 0.9031858444213867\n",
            "Counter 1 of 13\n",
            "Epoch 9 - Training loss: 29.58921308418115, Training Accuracy: 0.9078735709190369\n",
            "Validation loss: 23.03632443601435, Validation Accuracy: 0.9307630062103271\n",
            "Epoch 10 - Training loss: 28.794164524972437, Training Accuracy: 0.9076344966888428\n",
            "Validation loss: 23.55134815519506, Validation Accuracy: 0.9265016317367554\n",
            "Counter 1 of 13\n",
            "Epoch 11 - Training loss: 27.948432412743568, Training Accuracy: 0.910730242729187\n",
            "Validation loss: 36.36865390430797, Validation Accuracy: 0.8745536208152771\n",
            "Counter 2 of 13\n",
            "Epoch 12 - Training loss: 28.168663669625918, Training Accuracy: 0.9111394286155701\n",
            "Validation loss: 24.517000859433953, Validation Accuracy: 0.9257913827896118\n",
            "Counter 3 of 13\n",
            "Epoch 13 - Training loss: 27.22655976911386, Training Accuracy: 0.9179714322090149\n",
            "Validation loss: 23.141259190711107, Validation Accuracy: 0.9246144890785217\n",
            "Counter 4 of 13\n",
            "Epoch 14 - Training loss: 27.320706961055595, Training Accuracy: 0.9166586995124817\n",
            "Validation loss: 60.59531413425099, Validation Accuracy: 0.8064123392105103\n",
            "Counter 5 of 13\n",
            "Epoch 15 - Training loss: 27.1102826744318, Training Accuracy: 0.9159279465675354\n",
            "Validation loss: 42.77641405842521, Validation Accuracy: 0.8521915674209595\n",
            "Counter 6 of 13\n",
            "Epoch 16 - Training loss: 26.154736909766992, Training Accuracy: 0.9199537634849548\n",
            "Validation loss: 24.957036191766914, Validation Accuracy: 0.9129058718681335\n",
            "Counter 7 of 13\n",
            "Epoch 17 - Training loss: 25.905711201330025, Training Accuracy: 0.919302761554718\n",
            "Validation loss: 33.91975309632041, Validation Accuracy: 0.8859172463417053\n",
            "Counter 8 of 13\n",
            "Epoch 18 - Training loss: 25.260376611351965, Training Accuracy: 0.9231797456741333\n",
            "Validation loss: 22.97333545305512, Validation Accuracy: 0.9249594211578369\n",
            "Epoch 19 - Training loss: 25.79633535494407, Training Accuracy: 0.9188216924667358\n",
            "Validation loss: 25.21718610145829, Validation Accuracy: 0.9130275845527649\n",
            "Counter 1 of 13\n",
            "Epoch 20 - Training loss: 25.14778759876887, Training Accuracy: 0.9232886433601379\n",
            "Validation loss: 27.892125281420622, Validation Accuracy: 0.9037946462631226\n",
            "Counter 2 of 13\n",
            "Epoch 21 - Training loss: 25.212896574040254, Training Accuracy: 0.9221168160438538\n",
            "Validation loss: 24.07922770760276, Validation Accuracy: 0.9222402572631836\n",
            "Counter 3 of 13\n",
            "Epoch 22 - Training loss: 25.112728048861026, Training Accuracy: 0.9238094687461853\n",
            "Validation loss: 24.824014921079982, Validation Accuracy: 0.9169237017631531\n",
            "Counter 4 of 13\n",
            "Epoch 23 - Training loss: 25.100975876053173, Training Accuracy: 0.9235889315605164\n",
            "Validation loss: 33.105059656229884, Validation Accuracy: 0.88875812292099\n",
            "Counter 5 of 13\n",
            "Epoch 24 - Training loss: 24.811409071087837, Training Accuracy: 0.9237803220748901\n",
            "Validation loss: 24.58990602330728, Validation Accuracy: 0.9230722188949585\n",
            "Counter 6 of 13\n",
            "Epoch 25 - Training loss: 24.290108385682107, Training Accuracy: 0.9253029227256775\n",
            "Validation loss: 25.14105947180228, Validation Accuracy: 0.9242694973945618\n",
            "Counter 7 of 13\n",
            "Epoch 26 - Training loss: 24.734090075393517, Training Accuracy: 0.924380898475647\n",
            "Validation loss: 21.679285046729174, Validation Accuracy: 0.9317167401313782\n",
            "Epoch 27 - Training loss: 24.271801171700158, Training Accuracy: 0.9243410229682922\n",
            "Validation loss: 26.09650203856555, Validation Accuracy: 0.9137378334999084\n",
            "Counter 1 of 13\n",
            "Epoch 28 - Training loss: 23.919880172610284, Training Accuracy: 0.9251115918159485\n",
            "Validation loss: 35.97485290874135, Validation Accuracy: 0.8822442889213562\n",
            "Counter 2 of 13\n",
            "Epoch 29 - Training loss: 23.861026530961194, Training Accuracy: 0.9284571409225464\n",
            "Validation loss: 21.190249128775164, Validation Accuracy: 0.9351460933685303\n",
            "Epoch 30 - Training loss: 23.391632485886415, Training Accuracy: 0.9277769327163696\n",
            "Validation loss: 22.535868268121373, Validation Accuracy: 0.9274553656578064\n",
            "Counter 1 of 13\n",
            "Epoch 31 - Training loss: 23.5672646338741, Training Accuracy: 0.9275350570678711\n",
            "Validation loss: 22.465902878479525, Validation Accuracy: 0.9292411208152771\n",
            "Counter 2 of 13\n",
            "Epoch 32 - Training loss: 23.55934937596321, Training Accuracy: 0.9308407306671143\n",
            "Validation loss: 25.375813392075624, Validation Accuracy: 0.9155032634735107\n",
            "Counter 3 of 13\n",
            "Epoch 33 - Training loss: 23.379207488397757, Training Accuracy: 0.9296290278434753\n",
            "Validation loss: 26.982933817939326, Validation Accuracy: 0.9186891317367554\n",
            "Counter 4 of 13\n",
            "Epoch 34 - Training loss: 23.315795539319517, Training Accuracy: 0.9314917922019958\n",
            "Validation loss: 28.561110799962822, Validation Accuracy: 0.9131492972373962\n",
            "Counter 5 of 13\n",
            "Epoch 35 - Training loss: 23.71971516360839, Training Accuracy: 0.9271842837333679\n",
            "Validation loss: 22.963506812399086, Validation Accuracy: 0.9234374761581421\n",
            "Counter 6 of 13\n",
            "Epoch 36 - Training loss: 22.94451474547386, Training Accuracy: 0.9324829578399658\n",
            "Validation loss: 21.777499678460035, Validation Accuracy: 0.9318384528160095\n",
            "Counter 7 of 13\n",
            "Epoch 37 - Training loss: 22.542536781479914, Training Accuracy: 0.9315715432167053\n",
            "Validation loss: 30.8948842801831, Validation Accuracy: 0.9036729335784912\n",
            "Counter 8 of 13\n",
            "Epoch 38 - Training loss: 22.883521503706774, Training Accuracy: 0.9320126175880432\n",
            "Validation loss: 22.34625027396462, Validation Accuracy: 0.9241476655006409\n",
            "Counter 9 of 13\n",
            "Epoch 39 - Training loss: 23.39813711444537, Training Accuracy: 0.9301498532295227\n",
            "Validation loss: 21.106715592471037, Validation Accuracy: 0.9364448189735413\n",
            "Epoch 40 - Training loss: 21.83905013675491, Training Accuracy: 0.9344254732131958\n",
            "Validation loss: 21.77065159515901, Validation Accuracy: 0.9310064911842346\n",
            "Counter 1 of 13\n",
            "Epoch 41 - Training loss: 23.091374642153582, Training Accuracy: 0.9288477301597595\n",
            "Validation loss: 22.932470393451776, Validation Accuracy: 0.9272118210792542\n",
            "Counter 2 of 13\n",
            "Epoch 42 - Training loss: 22.064589623113473, Training Accuracy: 0.9356983304023743\n",
            "Validation loss: 20.694964230060577, Validation Accuracy: 0.9364448189735413\n",
            "Epoch 43 - Training loss: 22.20921629667282, Training Accuracy: 0.9341756701469421\n",
            "Validation loss: 41.493753183971755, Validation Accuracy: 0.8795251846313477\n",
            "Counter 1 of 13\n",
            "Epoch 44 - Training loss: 22.560543070236843, Training Accuracy: 0.9335750937461853\n",
            "Validation loss: 22.33291694521904, Validation Accuracy: 0.9287540316581726\n",
            "Counter 2 of 13\n",
            "Epoch 45 - Training loss: 22.165763256450493, Training Accuracy: 0.9337053298950195\n",
            "Validation loss: 42.290099276737735, Validation Accuracy: 0.8804585933685303\n",
            "Counter 3 of 13\n",
            "Epoch 46 - Training loss: 21.891426872710387, Training Accuracy: 0.9359986186027527\n",
            "Validation loss: 22.110605109821666, Validation Accuracy: 0.9264001846313477\n",
            "Counter 4 of 13\n",
            "Epoch 47 - Training loss: 22.641612424949805, Training Accuracy: 0.9324935674667358\n",
            "Validation loss: 26.12113319201903, Validation Accuracy: 0.9155032634735107\n",
            "Counter 5 of 13\n",
            "Epoch 48 - Training loss: 22.280976098279158, Training Accuracy: 0.9341862797737122\n",
            "Validation loss: 26.749289111657575, Validation Accuracy: 0.9196428656578064\n",
            "Counter 6 of 13\n",
            "Epoch 49 - Training loss: 21.668624653915565, Training Accuracy: 0.934776246547699\n",
            "Validation loss: 21.074293258515272, Validation Accuracy: 0.9337255954742432\n",
            "Counter 7 of 13\n",
            "Epoch 50 - Training loss: 20.969303353627524, Training Accuracy: 0.9397560954093933\n",
            "Validation loss: 26.924854118715633, Validation Accuracy: 0.9147930145263672\n",
            "Counter 8 of 13\n"
          ],
          "name": "stdout"
        }
      ]
    },
    {
      "cell_type": "code",
      "metadata": {
        "colab": {
          "base_uri": "https://localhost:8080/",
          "height": 296
        },
        "id": "ACo5eyL5ji8C",
        "outputId": "b586ecfa-be66-466b-fa42-d539732ee373"
      },
      "source": [
        "plt.plot(epoch_count2, train_losses2, label = 'train_loss')\n",
        "plt.plot(epoch_count2, val_losses2, label = 'val_loss')\n",
        "plt.xlabel('epoch')\n",
        "plt.legend()\n",
        "plt.ylabel('loss')"
      ],
      "execution_count": null,
      "outputs": [
        {
          "output_type": "execute_result",
          "data": {
            "text/plain": [
              "Text(0, 0.5, 'loss')"
            ]
          },
          "metadata": {
            "tags": []
          },
          "execution_count": 40
        },
        {
          "output_type": "display_data",
          "data": {
            "image/png": "[encoded data removed]",
            "text/plain": [
              "<Figure size 432x288 with 1 Axes>"
            ]
          },
          "metadata": {
            "tags": [],
            "needs_background": "light"
          }
        }
      ]
    },
    {
      "cell_type": "code",
      "metadata": {
        "colab": {
          "base_uri": "https://localhost:8080/",
          "height": 298
        },
        "id": "AbOiUqG7ji8I",
        "outputId": "c4b88386-11ff-45e7-f479-47f569361124"
      },
      "source": [
        "plt.plot(epoch_count2, train_acc2, label = 'train_accuracy')\n",
        "plt.plot(epoch_count2, val_acc2, label = 'val_accuracy')\n",
        "plt.xlabel('epoch')\n",
        "plt.legend()\n",
        "plt.ylabel('accuracy')"
      ],
      "execution_count": null,
      "outputs": [
        {
          "output_type": "execute_result",
          "data": {
            "text/plain": [
              "Text(0, 0.5, 'accuracy')"
            ]
          },
          "metadata": {
            "tags": []
          },
          "execution_count": 41
        },
        {
          "output_type": "display_data",
          "data": {
            "image/png": "[encoded data removed]",
            "text/plain": [
              "<Figure size 432x288 with 1 Axes>"
            ]
          },
          "metadata": {
            "tags": [],
            "needs_background": "light"
          }
        }
      ]
    },
    {
      "cell_type": "code",
      "metadata": {
        "colab": {
          "base_uri": "https://localhost:8080/",
          "height": 362
        },
        "id": "MgoYyf4jji8I",
        "outputId": "957a69d4-9ca8-4e99-daba-1e20c5fed3e9"
      },
      "source": [
        "# confusion matrix for validation\n",
        "model.eval() \n",
        "with torch.no_grad():\n",
        "  y_pred = []\n",
        "  y_true = []\n",
        "  for images, labels in valloader2:\n",
        "    y_true.extend(labels)\n",
        "    output_val = model(images)\n",
        "    y_pred_softmax = torch.log_softmax(output_val, dim = 1)\n",
        "    _, preds = torch.max(y_pred_softmax, dim=1)\n",
        "    preds = preds.detach().numpy()\n",
        "    y_pred.extend(preds)\n",
        "from sklearn.metrics import confusion_matrix\n",
        "# get actual label\n",
        "cnf_matrix = confusion_matrix(y_true, y_pred)\n",
        "plot_confusion_matrix(cnf_matrix, classes = [0,1], normalize = True, title = 'Confusion matrix2 (Validation)')"
      ],
      "execution_count": null,
      "outputs": [
        {
          "output_type": "stream",
          "text": [
            "Normalized confusion matrix\n",
            "[[0.87611607 0.12388393]\n",
            " [0.00881057 0.99118943]]\n"
          ],
          "name": "stdout"
        },
        {
          "output_type": "display_data",
          "data": {
            "image/png": "[encoded data removed]",
            "text/plain": [
              "<Figure size 432x288 with 2 Axes>"
            ]
          },
          "metadata": {
            "tags": [],
            "needs_background": "light"
          }
        }
      ]
    },
    {
      "cell_type": "code",
      "metadata": {
        "colab": {
          "base_uri": "https://localhost:8080/",
          "height": 362
        },
        "id": "0Kg49DCoji8J",
        "outputId": "6a6396bd-156b-4bec-8f44-e2c5214ab1e7"
      },
      "source": [
        "# confusion matrix for validation\n",
        "model.eval() \n",
        "with torch.no_grad():\n",
        "  y_pred = []\n",
        "  y_true = []\n",
        "  for images, labels in trainloader2:\n",
        "    y_true.extend(labels)\n",
        "    output_val = model(images)\n",
        "    y_pred_softmax = torch.log_softmax(output_val, dim = 1)\n",
        "    _, preds = torch.max(y_pred_softmax, dim=1)\n",
        "    preds = preds.detach().numpy()\n",
        "    y_pred.extend(preds)\n",
        "from sklearn.metrics import confusion_matrix\n",
        "# get actual label\n",
        "cnf_matrix = confusion_matrix( y_true, y_pred)\n",
        "plot_confusion_matrix(cnf_matrix, classes = [0,1], normalize = True, title = 'Confusion matrix2 (training)')"
      ],
      "execution_count": null,
      "outputs": [
        {
          "output_type": "stream",
          "text": [
            "Normalized confusion matrix\n",
            "[[0.87767104 0.12232896]\n",
            " [0.00274617 0.99725383]]\n"
          ],
          "name": "stdout"
        },
        {
          "output_type": "display_data",
          "data": {
            "image/png": "[encoded data removed]",
            "text/plain": [
              "<Figure size 432x288 with 2 Axes>"
            ]
          },
          "metadata": {
            "tags": [],
            "needs_background": "light"
          }
        }
      ]
    },
    {
      "cell_type": "code",
      "metadata": {
        "colab": {
          "base_uri": "https://localhost:8080/"
        },
        "id": "ILmxfvcBebVD",
        "outputId": "620f32b2-ddd1-4bd6-ec6d-a38e7a87e556"
      },
      "source": [
        "# load the validation sparse 3d matrix\n",
        "valtest_cube = []\n",
        "for i in range(len(all_val2)):\n",
        "  temp = voxelize(all_val2[i][0], all_val2[i][1], max_side = 30, grid = 4)\n",
        "  valtest_cube.append(COO.todense(temp))\n",
        "valtest_cube = np.array(valtest_cube)\n",
        "valtest_cube = valtest_cube.reshape(valtest_cube.shape[0], 1, valtest_cube.shape[1], valtest_cube.shape[2], valtest_cube.shape[3])\n",
        "print(valtest_cube.shape)\n",
        "\n",
        "# build the validation dataloader\n",
        "valtest_data = []\n",
        "count = 0\n",
        "for i in range(len(all_val2)):\n",
        "  if all_val2[i][2] == 0:\n",
        "    #print(0)\n",
        "    pass\n",
        "  elif (all_val2[i][2] == 1) & (count < 90):\n",
        "    count += 1\n",
        "    pass\n",
        "  else:\n",
        "    continue\n",
        "  valtest_data.append([valtest_cube[i], all_val2[i][2]])\n",
        "valtest_loader = torch.utils.data.DataLoader(valtest_data, shuffle = True)"
      ],
      "execution_count": null,
      "outputs": [
        {
          "output_type": "stream",
          "text": [
            "(1350, 1, 16, 16, 16)\n"
          ],
          "name": "stdout"
        }
      ]
    },
    {
      "cell_type": "code",
      "metadata": {
        "colab": {
          "base_uri": "https://localhost:8080/",
          "height": 362
        },
        "id": "jAL4h59NebVE",
        "outputId": "2e8e76d8-1b9c-48b0-9a15-e8083f7d36d9"
      },
      "source": [
        "model.eval() \n",
        "with torch.no_grad():\n",
        "  y_pred = []\n",
        "  y_true = []\n",
        "  for images, labels in valtest_loader:\n",
        "    y_true.extend(labels)\n",
        "    output_val = model(images)\n",
        "    y_pred_softmax = torch.log_softmax(output_val, dim = 1)\n",
        "    _, preds = torch.max(y_pred_softmax, dim=1)\n",
        "    preds = preds.detach().numpy()\n",
        "    y_pred.extend(preds)\n",
        "from sklearn.metrics import confusion_matrix\n",
        "# get actual label\n",
        "cnf_matrix = confusion_matrix(y_pred, y_true)\n",
        "plot_confusion_matrix(cnf_matrix, classes = [0,1], normalize = True, title = 'Confusion matrix2 (Validation)')"
      ],
      "execution_count": null,
      "outputs": [
        {
          "output_type": "stream",
          "text": [
            "Normalized confusion matrix\n",
            "[[0.9974587  0.0025413 ]\n",
            " [0.55778894 0.44221106]]\n"
          ],
          "name": "stdout"
        },
        {
          "output_type": "display_data",
          "data": {
            "image/png": "[encoded data removed]",
            "text/plain": [
              "<Figure size 432x288 with 2 Axes>"
            ]
          },
          "metadata": {
            "tags": [],
            "needs_background": "light"
          }
        }
      ]
    },
    {
      "cell_type": "markdown",
      "metadata": {
        "id": "Q1Ul1f_6emP0"
      },
      "source": [
        "### Trial 3 - 1:3 pos/neg"
      ]
    },
    {
      "cell_type": "code",
      "metadata": {
        "colab": {
          "base_uri": "https://localhost:8080/"
        },
        "id": "8_T7gwAnboWx",
        "outputId": "1941f2ac-c73a-4427-9068-8c89538c41e1"
      },
      "source": [
        "# trail 3 - 1:3 pos/neg ratio, 15% validation\n",
        "all_train3, all_val3 = train_val_split(val_perc = 0.15, neg_pos_ratio = 3)\n",
        "trainloader3, valloader3 = dataloader_builder(all_train3, all_val3, max_side = 30, grid = 4)"
      ],
      "execution_count": null,
      "outputs": [
        {
          "output_type": "stream",
          "text": [
            "Total positive cases:  8995 Total negative cases:  3005\n",
            "Positive cases in validation:  1339 Negative cases in validation:  461\n",
            "Positive cases in training:  7656 Negatvie cases in training:  2544\n",
            "30 4\n",
            "(10200, 1, 16, 16, 16)\n",
            "16.0\n",
            "(1800, 1, 16, 16, 16)\n"
          ],
          "name": "stdout"
        }
      ]
    },
    {
      "cell_type": "code",
      "metadata": {
        "colab": {
          "base_uri": "https://localhost:8080/"
        },
        "id": "FfmpOXGhx0ii",
        "outputId": "0cd02d63-c5cd-4162-dcc3-b6c8cdd7be1f"
      },
      "source": [
        "model.apply(weight_reset)"
      ],
      "execution_count": null,
      "outputs": [
        {
          "output_type": "execute_result",
          "data": {
            "text/plain": [
              "Net(\n",
              "  (cnn_layers): Sequential(\n",
              "    (0): Conv3d(1, 8, kernel_size=(3, 3, 3), stride=(1, 1, 1))\n",
              "    (1): BatchNorm3d(8, eps=1e-05, momentum=0.1, affine=True, track_running_stats=True)\n",
              "    (2): ReLU(inplace=True)\n",
              "    (3): MaxPool3d(kernel_size=2, stride=1, padding=0, dilation=1, ceil_mode=False)\n",
              "    (4): Conv3d(8, 16, kernel_size=(3, 3, 3), stride=(1, 1, 1))\n",
              "    (5): BatchNorm3d(16, eps=1e-05, momentum=0.1, affine=True, track_running_stats=True)\n",
              "    (6): ReLU(inplace=True)\n",
              "    (7): MaxPool3d(kernel_size=2, stride=2, padding=0, dilation=1, ceil_mode=False)\n",
              "    (8): Conv3d(16, 32, kernel_size=(3, 3, 3), stride=(1, 1, 1))\n",
              "    (9): BatchNorm3d(32, eps=1e-05, momentum=0.1, affine=True, track_running_stats=True)\n",
              "    (10): ReLU(inplace=True)\n",
              "    (11): MaxPool3d(kernel_size=2, stride=1, padding=0, dilation=1, ceil_mode=False)\n",
              "  )\n",
              "  (linear_layers): Sequential(\n",
              "    (0): Dropout(p=0.4, inplace=False)\n",
              "    (1): Linear(in_features=256, out_features=32, bias=True)\n",
              "    (2): ReLU()\n",
              "    (3): Linear(in_features=32, out_features=2, bias=True)\n",
              "  )\n",
              ")"
            ]
          },
          "metadata": {
            "tags": []
          },
          "execution_count": 47
        }
      ]
    },
    {
      "cell_type": "code",
      "metadata": {
        "colab": {
          "base_uri": "https://localhost:8080/"
        },
        "id": "m5k1T2fkx0iw",
        "outputId": "74e1fc67-02e0-4064-9ceb-68d1b7e9e703"
      },
      "source": [
        "# defining the number of epochs\n",
        "n_epochs = 50\n",
        "# empty list to store training losses\n",
        "train_losses3 = []\n",
        "train_acc3 = []\n",
        "# empty list to store validation losses\n",
        "val_losses3 = []\n",
        "val_acc3 =[]\n",
        "epoch_count3 = []\n",
        "# training the model\n",
        "es = 0\n",
        "best_loss = 100\n",
        "for epoch in range(n_epochs):\n",
        "    train(epoch, trainloader = trainloader3, valloader = valloader3)\n",
        "    epoch_count3.append(epoch)\n",
        "    train_losses3.append(train.train_loss/len(trainloader3))\n",
        "    val_losses3.append(train.val_loss/len(valloader3))\n",
        "    train_acc3.append(train.train_acces/len(trainloader3))\n",
        "    val_acc3.append(train.val_acces/len(valloader3))\n",
        "    # early stopping\n",
        "    if train.val_loss/len(valloader3) < best_loss:\n",
        "      best_loss = train.val_loss/len(valloader3)\n",
        "      es = 0\n",
        "      torch.save(model.state_dict(), \"model_\" + str(epoch) + 'weight_trial3.pt')\n",
        "      best_epoch = epoch\n",
        "    else:\n",
        "      es += 1\n",
        "      print(\"Counter {} of 13\".format(es))\n",
        "\n",
        "    if es > 12:\n",
        "      print(\"Early stopping!\")\n",
        "      model.load_state_dict(torch.load('/content/model_' + str(best_epoch) +'weight_trial3.pt'))\n",
        "      break"
      ],
      "execution_count": null,
      "outputs": [
        {
          "output_type": "stream",
          "text": [
            "Epoch 1 - Training loss: 73.611264026165, Training Accuracy: 0.7419655323028564\n",
            "Validation loss: 67.93930937449137, Validation Accuracy: 0.7598958611488342\n",
            "Epoch 2 - Training loss: 71.57453214526177, Training Accuracy: 0.7503639459609985\n",
            "Validation loss: 68.67177766164144, Validation Accuracy: 0.7286458611488342\n",
            "Counter 1 of 13\n",
            "Epoch 3 - Training loss: 70.26938395500183, Training Accuracy: 0.7504083514213562\n",
            "Validation loss: 65.24041986465454, Validation Accuracy: 0.7208333611488342\n",
            "Epoch 4 - Training loss: 59.952135652303696, Training Accuracy: 0.762269139289856\n",
            "Validation loss: 54.259616216023765, Validation Accuracy: 0.7645833492279053\n",
            "Epoch 5 - Training loss: 35.557037404179574, Training Accuracy: 0.877734363079071\n",
            "Validation loss: 30.418603499730427, Validation Accuracy: 0.8885416388511658\n",
            "Epoch 6 - Training loss: 31.553979074954988, Training Accuracy: 0.8915572166442871\n",
            "Validation loss: 29.357127618789672, Validation Accuracy: 0.8786458373069763\n",
            "Epoch 7 - Training loss: 29.091149458289145, Training Accuracy: 0.9017578363418579\n",
            "Validation loss: 23.70249559879303, Validation Accuracy: 0.9166666865348816\n",
            "Epoch 8 - Training loss: 27.082476131618023, Training Accuracy: 0.9088689684867859\n",
            "Validation loss: 32.38829149802526, Validation Accuracy: 0.8947916626930237\n",
            "Counter 1 of 13\n",
            "Epoch 9 - Training loss: 27.28666699975729, Training Accuracy: 0.9052468538284302\n",
            "Validation loss: 24.36054105559985, Validation Accuracy: 0.9161458611488342\n",
            "Counter 2 of 13\n",
            "Epoch 10 - Training loss: 26.194322241842748, Training Accuracy: 0.9093572497367859\n",
            "Validation loss: 29.152677313486734, Validation Accuracy: 0.8942708373069763\n",
            "Counter 3 of 13\n",
            "Epoch 11 - Training loss: 25.832853680849077, Training Accuracy: 0.9159091114997864\n",
            "Validation loss: 25.263064734141032, Validation Accuracy: 0.8989583253860474\n",
            "Counter 4 of 13\n",
            "Epoch 12 - Training loss: 24.697449749708177, Training Accuracy: 0.9186257123947144\n",
            "Validation loss: 22.756341238816578, Validation Accuracy: 0.9276041388511658\n",
            "Epoch 13 - Training loss: 25.087567496299744, Training Accuracy: 0.9175781011581421\n",
            "Validation loss: 29.562382674217226, Validation Accuracy: 0.8880208134651184\n",
            "Counter 1 of 13\n",
            "Epoch 14 - Training loss: 24.642163760960102, Training Accuracy: 0.9178622364997864\n",
            "Validation loss: 28.371024549007416, Validation Accuracy: 0.8989583253860474\n",
            "Counter 2 of 13\n",
            "Epoch 15 - Training loss: 24.32514364272356, Training Accuracy: 0.9205700159072876\n",
            "Validation loss: 25.78055086135864, Validation Accuracy: 0.9046875238418579\n",
            "Counter 3 of 13\n",
            "Epoch 16 - Training loss: 24.87456145733595, Training Accuracy: 0.9169122576713562\n",
            "Validation loss: 33.08970286051432, Validation Accuracy: 0.8880208134651184\n",
            "Counter 4 of 13\n",
            "Epoch 17 - Training loss: 24.320056971907615, Training Accuracy: 0.917622447013855\n",
            "Validation loss: 22.18296498854955, Validation Accuracy: 0.9244791865348816\n",
            "Epoch 18 - Training loss: 25.66997146308422, Training Accuracy: 0.9138405919075012\n",
            "Validation loss: 31.807369176546732, Validation Accuracy: 0.8802083134651184\n",
            "Counter 1 of 13\n",
            "Epoch 19 - Training loss: 24.508260706067084, Training Accuracy: 0.91845703125\n",
            "Validation loss: 27.794895998636882, Validation Accuracy: 0.887499988079071\n",
            "Counter 2 of 13\n",
            "Epoch 20 - Training loss: 23.478591302037238, Training Accuracy: 0.9245294332504272\n",
            "Validation loss: 23.174924675623576, Validation Accuracy: 0.9083333611488342\n",
            "Counter 3 of 13\n",
            "Epoch 21 - Training loss: 23.66421205997467, Training Accuracy: 0.9212268590927124\n",
            "Validation loss: 22.364703687032065, Validation Accuracy: 0.9072916507720947\n",
            "Counter 4 of 13\n",
            "Epoch 22 - Training loss: 23.953758108615876, Training Accuracy: 0.9198952913284302\n",
            "Validation loss: 28.741110293070474, Validation Accuracy: 0.893750011920929\n",
            "Counter 5 of 13\n",
            "Epoch 23 - Training loss: 22.858521518856286, Training Accuracy: 0.9258522987365723\n",
            "Validation loss: 28.433150800069175, Validation Accuracy: 0.879687488079071\n",
            "Counter 6 of 13\n",
            "Epoch 24 - Training loss: 23.17086655050516, Training Accuracy: 0.9252308011054993\n",
            "Validation loss: 24.931677265961966, Validation Accuracy: 0.9197916388511658\n",
            "Counter 7 of 13\n",
            "Epoch 25 - Training loss: 23.015471241623164, Training Accuracy: 0.9250621795654297\n",
            "Validation loss: 29.110690339406332, Validation Accuracy: 0.887499988079071\n",
            "Counter 8 of 13\n",
            "Epoch 26 - Training loss: 22.527293588221074, Training Accuracy: 0.9277698397636414\n",
            "Validation loss: 26.40410992304484, Validation Accuracy: 0.9104166626930237\n",
            "Counter 9 of 13\n",
            "Epoch 27 - Training loss: 22.706704093515874, Training Accuracy: 0.9240145683288574\n",
            "Validation loss: 30.079069026311238, Validation Accuracy: 0.8843749761581421\n",
            "Counter 10 of 13\n",
            "Epoch 28 - Training loss: 22.20409303456545, Training Accuracy: 0.9272372126579285\n",
            "Validation loss: 24.79191976984342, Validation Accuracy: 0.9192708134651184\n",
            "Counter 11 of 13\n",
            "Epoch 29 - Training loss: 22.306033255159853, Training Accuracy: 0.9277609586715698\n",
            "Validation loss: 22.480000718434653, Validation Accuracy: 0.9281250238418579\n",
            "Counter 12 of 13\n",
            "Epoch 30 - Training loss: 21.88677956610918, Training Accuracy: 0.9311257600784302\n",
            "Validation loss: 30.299003728230794, Validation Accuracy: 0.8963541388511658\n",
            "Counter 13 of 13\n",
            "Early stopping!\n"
          ],
          "name": "stdout"
        }
      ]
    },
    {
      "cell_type": "code",
      "metadata": {
        "colab": {
          "base_uri": "https://localhost:8080/",
          "height": 296
        },
        "id": "WdvqApchx0ix",
        "outputId": "d3f51e70-0763-40d2-d3ec-2cbad24a20f3"
      },
      "source": [
        "plt.plot(epoch_count3, train_losses3, label = 'train_loss')\n",
        "plt.plot(epoch_count3, val_losses3, label = 'val_loss')\n",
        "plt.xlabel('epoch')\n",
        "plt.legend()\n",
        "plt.ylabel('loss')"
      ],
      "execution_count": null,
      "outputs": [
        {
          "output_type": "execute_result",
          "data": {
            "text/plain": [
              "Text(0, 0.5, 'loss')"
            ]
          },
          "metadata": {
            "tags": []
          },
          "execution_count": 49
        },
        {
          "output_type": "display_data",
          "data": {
            "image/png": "[encoded data removed]",
            "text/plain": [
              "<Figure size 432x288 with 1 Axes>"
            ]
          },
          "metadata": {
            "tags": [],
            "needs_background": "light"
          }
        }
      ]
    },
    {
      "cell_type": "code",
      "metadata": {
        "colab": {
          "base_uri": "https://localhost:8080/",
          "height": 296
        },
        "id": "MxoRKkaJx0ix",
        "outputId": "224ab946-2ae0-4fa8-9c2a-a179a6731538"
      },
      "source": [
        "plt.plot(epoch_count3, train_acc3, label = 'train_accuracy')\n",
        "plt.plot(epoch_count3, val_acc3, label = 'val_accuracy')\n",
        "plt.xlabel('epoch')\n",
        "plt.legend()\n",
        "plt.ylabel('accuracy')"
      ],
      "execution_count": null,
      "outputs": [
        {
          "output_type": "execute_result",
          "data": {
            "text/plain": [
              "Text(0, 0.5, 'accuracy')"
            ]
          },
          "metadata": {
            "tags": []
          },
          "execution_count": 50
        },
        {
          "output_type": "display_data",
          "data": {
            "image/png": "[encoded data removed]",
            "text/plain": [
              "<Figure size 432x288 with 1 Axes>"
            ]
          },
          "metadata": {
            "tags": [],
            "needs_background": "light"
          }
        }
      ]
    },
    {
      "cell_type": "code",
      "metadata": {
        "colab": {
          "base_uri": "https://localhost:8080/",
          "height": 362
        },
        "id": "DHe52FhHx0iy",
        "outputId": "d84195c1-338e-49cf-b4ea-84522f9f70ea"
      },
      "source": [
        "# confusion matrix for validation\n",
        "model.eval() \n",
        "with torch.no_grad():\n",
        "  y_pred = []\n",
        "  y_true = []\n",
        "  for images, labels in valloader3:\n",
        "    y_true.extend(labels)\n",
        "    output_val = model(images)\n",
        "    y_pred_softmax = torch.log_softmax(output_val, dim = 1)\n",
        "    _, preds = torch.max(y_pred_softmax, dim=1)\n",
        "    preds = preds.detach().numpy()\n",
        "    y_pred.extend(preds)\n",
        "from sklearn.metrics import confusion_matrix\n",
        "# get actual label\n",
        "cnf_matrix = confusion_matrix(y_true, y_pred)\n",
        "plot_confusion_matrix(cnf_matrix, classes = [0,1], normalize = True, title = 'Confusion matrix2 (Validation)')"
      ],
      "execution_count": null,
      "outputs": [
        {
          "output_type": "stream",
          "text": [
            "Normalized confusion matrix\n",
            "[[0.93651979 0.06348021]\n",
            " [0.13015184 0.86984816]]\n"
          ],
          "name": "stdout"
        },
        {
          "output_type": "display_data",
          "data": {
            "image/png": "[encoded data removed]",
            "text/plain": [
              "<Figure size 432x288 with 2 Axes>"
            ]
          },
          "metadata": {
            "tags": [],
            "needs_background": "light"
          }
        }
      ]
    },
    {
      "cell_type": "code",
      "metadata": {
        "colab": {
          "base_uri": "https://localhost:8080/",
          "height": 362
        },
        "id": "6AoqAvJ0x0iy",
        "outputId": "1406cbab-dd83-469d-cffd-f7e12815cfe1"
      },
      "source": [
        "# confusion matrix for validation\n",
        "model.eval() \n",
        "with torch.no_grad():\n",
        "  y_pred = []\n",
        "  y_true = []\n",
        "  for images, labels in trainloader3:\n",
        "    y_true.extend(labels)\n",
        "    output_val = model(images)\n",
        "    y_pred_softmax = torch.log_softmax(output_val, dim = 1)\n",
        "    _, preds = torch.max(y_pred_softmax, dim=1)\n",
        "    preds = preds.detach().numpy()\n",
        "    y_pred.extend(preds)\n",
        "from sklearn.metrics import confusion_matrix\n",
        "# get actual label\n",
        "cnf_matrix = confusion_matrix(y_true, y_pred)\n",
        "plot_confusion_matrix(cnf_matrix, classes = [0,1], normalize = True, title = 'Confusion matrix2 (training)')"
      ],
      "execution_count": null,
      "outputs": [
        {
          "output_type": "stream",
          "text": [
            "Normalized confusion matrix\n",
            "[[0.93416928 0.06583072]\n",
            " [0.08451258 0.91548742]]\n"
          ],
          "name": "stdout"
        },
        {
          "output_type": "display_data",
          "data": {
            "image/png": "[encoded data removed]",
            "text/plain": [
              "<Figure size 432x288 with 2 Axes>"
            ]
          },
          "metadata": {
            "tags": [],
            "needs_background": "light"
          }
        }
      ]
    },
    {
      "cell_type": "code",
      "metadata": {
        "colab": {
          "base_uri": "https://localhost:8080/"
        },
        "id": "ZvQfm_gxev16",
        "outputId": "5751ef1f-522f-4632-9247-09a402e8a00a"
      },
      "source": [
        "# load the validation sparse 3d matrix\n",
        "valtest_cube = []\n",
        "for i in range(len(all_val3)):\n",
        "  temp = voxelize(all_val3[i][0], all_val3[i][1], max_side = 30, grid = 4)\n",
        "  valtest_cube.append(COO.todense(temp))\n",
        "valtest_cube = np.array(valtest_cube)\n",
        "valtest_cube = valtest_cube.reshape(valtest_cube.shape[0], 1, valtest_cube.shape[1], valtest_cube.shape[2], valtest_cube.shape[3])\n",
        "print(valtest_cube.shape)\n",
        "\n",
        "# build the validation dataloader\n",
        "valtest_data = []\n",
        "count = 0\n",
        "for i in range(len(all_val3)):\n",
        "  if all_val3[i][2] == 0:\n",
        "    #print(0)\n",
        "    pass\n",
        "  elif (all_val3[i][2] == 1) & (count < 135):\n",
        "    count += 1\n",
        "    pass\n",
        "  else:\n",
        "    continue\n",
        "  valtest_data.append([valtest_cube[i], all_val3[i][2]])\n",
        "valtest_loader = torch.utils.data.DataLoader(valtest_data, shuffle = True)"
      ],
      "execution_count": null,
      "outputs": [
        {
          "output_type": "stream",
          "text": [
            "(1800, 1, 16, 16, 16)\n"
          ],
          "name": "stdout"
        }
      ]
    },
    {
      "cell_type": "code",
      "metadata": {
        "colab": {
          "base_uri": "https://localhost:8080/",
          "height": 362
        },
        "id": "KifZQkJcev17",
        "outputId": "ca8490e6-4cfc-4308-da87-741b1ee6d2c4"
      },
      "source": [
        "model.eval() \n",
        "with torch.no_grad():\n",
        "  y_pred = []\n",
        "  y_true = []\n",
        "  for images, labels in valtest_loader:\n",
        "    y_true.extend(labels)\n",
        "    output_val = model(images)\n",
        "    y_pred_softmax = torch.log_softmax(output_val, dim = 1)\n",
        "    _, preds = torch.max(y_pred_softmax, dim=1)\n",
        "    preds = preds.detach().numpy()\n",
        "    y_pred.extend(preds)\n",
        "from sklearn.metrics import confusion_matrix\n",
        "# get actual label\n",
        "cnf_matrix = confusion_matrix(y_true, y_pred)\n",
        "plot_confusion_matrix(cnf_matrix, classes = [0,1], normalize = True, title = 'Confusion matrix2 (Validation)')"
      ],
      "execution_count": null,
      "outputs": [
        {
          "output_type": "stream",
          "text": [
            "Normalized confusion matrix\n",
            "[[0.93651979 0.06348021]\n",
            " [0.14074074 0.85925926]]\n"
          ],
          "name": "stdout"
        },
        {
          "output_type": "display_data",
          "data": {
            "image/png": "[encoded data removed]",
            "text/plain": [
              "<Figure size 432x288 with 2 Axes>"
            ]
          },
          "metadata": {
            "tags": [],
            "needs_background": "light"
          }
        }
      ]
    },
    {
      "cell_type": "code",
      "metadata": {
        "id": "FNvy27zUyh7U"
      },
      "source": [
        ""
      ],
      "execution_count": null,
      "outputs": []
    }
  ]
}