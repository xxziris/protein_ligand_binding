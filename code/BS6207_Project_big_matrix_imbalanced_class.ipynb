{
  "nbformat": 4,
  "nbformat_minor": 0,
  "metadata": {
    "colab": {
      "name": "BS6207_Project_big matrix_imbalanced class.ipynb",
      "provenance": [],
      "collapsed_sections": [],
      "toc_visible": true,
      "mount_file_id": "1yibYZWxydv4QG0DAD6UTSkojkw4nMt4r",
      "authorship_tag": "ABX9TyOoJ9CB+4L+Sml/gExSox1W",
      "include_colab_link": true
    },
    "kernelspec": {
      "name": "python3",
      "display_name": "Python 3"
    },
    "language_info": {
      "name": "python"
    }
  },
  "cells": [
    {
      "cell_type": "markdown",
      "metadata": {
        "id": "view-in-github",
        "colab_type": "text"
      },
      "source": [
        "<a href=\"https://colab.research.google.com/github/xxziris/protein_ligand_binding/blob/main/code/BS6207_Project_big_matrix_imbalanced_class.ipynb\" target=\"_parent\"><img src=\"https://colab.research.google.com/assets/colab-badge.svg\" alt=\"Open In Colab\"/></a>"
      ]
    },
    {
      "cell_type": "code",
      "metadata": {
        "id": "JNiWj0DNi57G",
        "colab": {
          "base_uri": "https://localhost:8080/"
        },
        "outputId": "c9b690df-7c6a-4112-80c1-e93ffd6e5f92"
      },
      "source": [
        "pip install sparse"
      ],
      "execution_count": null,
      "outputs": [
        {
          "output_type": "stream",
          "text": [
            "Collecting sparse\n",
            "\u001b[?25l  Downloading https://files.pythonhosted.org/packages/46/20/c409a0d0ea7623a936080e0038eb77a02e62629a07944706c26f24ebcbb8/sparse-0.12.0-py2.py3-none-any.whl (76kB)\n",
            "\r\u001b[K     |████▎                           | 10kB 12.1MB/s eta 0:00:01\r\u001b[K     |████████▋                       | 20kB 7.3MB/s eta 0:00:01\r\u001b[K     |████████████▉                   | 30kB 4.5MB/s eta 0:00:01\r\u001b[K     |█████████████████▏              | 40kB 4.1MB/s eta 0:00:01\r\u001b[K     |█████████████████████▌          | 51kB 2.1MB/s eta 0:00:01\r\u001b[K     |█████████████████████████▊      | 61kB 2.4MB/s eta 0:00:01\r\u001b[K     |██████████████████████████████  | 71kB 2.6MB/s eta 0:00:01\r\u001b[K     |████████████████████████████████| 81kB 2.2MB/s \n",
            "\u001b[?25hRequirement already satisfied: scipy>=0.19 in /usr/local/lib/python3.7/dist-packages (from sparse) (1.4.1)\n",
            "Requirement already satisfied: numba>=0.49 in /usr/local/lib/python3.7/dist-packages (from sparse) (0.51.2)\n",
            "Requirement already satisfied: numpy>=1.17 in /usr/local/lib/python3.7/dist-packages (from sparse) (1.19.5)\n",
            "Requirement already satisfied: llvmlite<0.35,>=0.34.0.dev0 in /usr/local/lib/python3.7/dist-packages (from numba>=0.49->sparse) (0.34.0)\n",
            "Requirement already satisfied: setuptools in /usr/local/lib/python3.7/dist-packages (from numba>=0.49->sparse) (56.1.0)\n",
            "Installing collected packages: sparse\n",
            "Successfully installed sparse-0.12.0\n"
          ],
          "name": "stdout"
        }
      ]
    },
    {
      "cell_type": "code",
      "metadata": {
        "id": "9slI3QStu-cP"
      },
      "source": [
        "import numpy as np\n",
        "import pandas as pd\n",
        "import random\n",
        "import torch\n",
        "import torch.nn as nn\n",
        "from sparse import COO\n",
        "import sparse\n",
        "import matplotlib.pyplot as plt"
      ],
      "execution_count": null,
      "outputs": []
    },
    {
      "cell_type": "markdown",
      "metadata": {
        "id": "gHk6XmqQw4jT"
      },
      "source": [
        "## 1. Read Data\n",
        "\n",
        "- import data from pdb file\n",
        "- generate negative cases\n",
        "- train_validation split\n",
        "- voxelize the training/validation data\n",
        "- generate train/test dataloader"
      ]
    },
    {
      "cell_type": "code",
      "metadata": {
        "id": "U1F3SRD5wsjp"
      },
      "source": [
        "# define function to import data from pdb files\n",
        "def read_pdb(filename):\n",
        "\t\n",
        "  with open(filename, 'r') as file:\n",
        "    strline_L = file.readlines()\n",
        "\t\t# print(strline_L)\n",
        "\n",
        "  X_list = list()\n",
        "  Y_list = list()\n",
        "  Z_list = list()\n",
        "  atomtype_list = list()\n",
        "  for strline in strline_L:\n",
        "\t\t# removes all whitespace at the start and end, including spaces, tabs, newlines and carriage returns\n",
        "    stripped_line = strline.strip()\n",
        "\n",
        "    line_length = len(stripped_line)\n",
        "\t\t# print(\"Line length:{}\".format(line_length))\n",
        "    if line_length < 78:\n",
        "      print(\"ERROR: line length is different. Expected>=78, current={}\".format(line_length))\n",
        "\t\t\n",
        "    X_list.append(float(stripped_line[30:38].strip()))\n",
        "    Y_list.append(float(stripped_line[38:46].strip()))\n",
        "    Z_list.append(float(stripped_line[46:54].strip()))\n",
        "\n",
        "    atomtype = stripped_line[76:78].strip()\n",
        "    if atomtype == 'C':\n",
        "      atomtype_list.append(1) # 'h' means hydrophobic\n",
        "    else:\n",
        "      atomtype_list.append(0) # 'p' means polar\n",
        "\n",
        "  pdb = np.array([X_list, Y_list, Z_list, atomtype_list])\n",
        "\t\n",
        "  return pdb\n"
      ],
      "execution_count": null,
      "outputs": []
    },
    {
      "cell_type": "code",
      "metadata": {
        "id": "0NtE72RTz7N_"
      },
      "source": [
        "# read all training filenames\n",
        "import os\n",
        "\n",
        "pro_filename = []\n",
        "lg_filename = []\n",
        "directory = os.fsencode('/content/drive/MyDrive/Colab Notebooks/BS6207/Project/training_data.zip (Unzipped Files)/training_data/')\n",
        "    \n",
        "for file in os.listdir(directory):\n",
        "     filename = os.fsdecode(file)\n",
        "     if '_pro_' in filename: \n",
        "       pro_filename.append(os.path.join('/content/drive/MyDrive/Colab Notebooks/BS6207/Project/training_data.zip (Unzipped Files)/training_data/', filename))\n",
        "       continue\n",
        "     else:\n",
        "       lg_filename.append(os.path.join('/content/drive/MyDrive/Colab Notebooks/BS6207/Project/training_data.zip (Unzipped Files)/training_data/', filename))\n",
        "       continue"
      ],
      "execution_count": null,
      "outputs": []
    },
    {
      "cell_type": "code",
      "metadata": {
        "colab": {
          "base_uri": "https://localhost:8080/"
        },
        "id": "lDCOrujmCFa4",
        "outputId": "29681719-143b-43d9-f79b-b5c9556140ec"
      },
      "source": [
        "len(pro_filename)"
      ],
      "execution_count": null,
      "outputs": [
        {
          "output_type": "execute_result",
          "data": {
            "text/plain": [
              "3000"
            ]
          },
          "metadata": {
            "tags": []
          },
          "execution_count": 5
        }
      ]
    },
    {
      "cell_type": "code",
      "metadata": {
        "colab": {
          "base_uri": "https://localhost:8080/"
        },
        "id": "R2hf_JlftXDY",
        "outputId": "dfc7aace-31d1-4c26-ae32-06c171d633d5"
      },
      "source": [
        "len(lg_filename)"
      ],
      "execution_count": null,
      "outputs": [
        {
          "output_type": "execute_result",
          "data": {
            "text/plain": [
              "3000"
            ]
          },
          "metadata": {
            "tags": []
          },
          "execution_count": 6
        }
      ]
    },
    {
      "cell_type": "code",
      "metadata": {
        "id": "b7LpYACB3SMr"
      },
      "source": [
        "# create the label\n",
        "def get_label(pro, lig):\n",
        "  labels = []\n",
        "  num = min(len(pro), len(lig))\n",
        "  for i in range(num):\n",
        "    if pro[i][-15:-11] == lig[i][-15:-11]:\n",
        "      labels.append(1) # bind\n",
        "    else:\n",
        "      labels.append(0) # dont bind\n",
        "  return labels"
      ],
      "execution_count": null,
      "outputs": []
    },
    {
      "cell_type": "code",
      "metadata": {
        "id": "Oqi2b6rBA0nB"
      },
      "source": [
        "# define a function to generate training/validation set with pos/neg ratio\n",
        "# function returns two lists of tuples for training/validation set\n",
        "# each tuple contains the protein filename, ligand filename and the corresponding label\n",
        "def train_val_split(pro_filename = pro_filename, lg_filename = lg_filename, neg_pos_ratio = 1, val_perc = 0.2, seed = 127):\n",
        "  # sort the protein and ligand filename list\n",
        "  lg_filename = sorted(lg_filename)\n",
        "  pro_filename = sorted(pro_filename)\n",
        "\n",
        "  # randomly sort the filename to generate negative cases\n",
        "  random.seed(seed)\n",
        "  tot_lig_filename = lg_filename.copy()\n",
        "  tot_pro_filename = pro_filename.copy()\n",
        "  for i in range(neg_pos_ratio):\n",
        "    #print(len(lg_filename))\n",
        "    lg_filename_rand = lg_filename.copy()\n",
        "    random.shuffle(lg_filename_rand)\n",
        "    tot_lig_filename += lg_filename_rand\n",
        "    pro_filename_rand = pro_filename.copy()\n",
        "    random.shuffle(pro_filename_rand)\n",
        "    tot_pro_filename += pro_filename_rand\n",
        "  \n",
        "  # get labels of the list\n",
        "  label = get_label(tot_pro_filename, tot_lig_filename)\n",
        "  print('Total positive cases: ', label.count(0), 'Total negative cases: ', label.count(1))\n",
        "\n",
        "  # train_validation split\n",
        "  val_size = round(len(label) * val_perc)\n",
        "  #print(val_size)\n",
        "  index = random.sample(range(0,len(label)), val_size) \n",
        "  val_lig = [tot_lig_filename[i] for i in index]\n",
        "  val_pro = [tot_pro_filename[i] for i in index]\n",
        "  val_label = [label[i] for i in index]\n",
        "  val_label = np.array(val_label)\n",
        "  print('Positive cases in validation: ', list(val_label).count(0), \n",
        "        'Negative cases in validation: ', list(val_label).count(1))\n",
        "\n",
        "  # the rest will be training set\n",
        "  train_index = list(set(range(len(label))) - set(index))\n",
        "  train_lig = [tot_lig_filename[i] for i in train_index]\n",
        "  train_pro = [tot_pro_filename[i] for i in train_index]\n",
        "  train_label = [label[i] for i in train_index]\n",
        "  train_label = np.array(train_label)\n",
        "  print('Positive cases in training: ', list(train_label).count(0), \n",
        "        'Negatvie cases in training: ', list(train_label).count(1))\n",
        "  \n",
        "  # shuffle the validation set sequence\n",
        "  all_val = []\n",
        "  for i in range(len(val_label)):\n",
        "    all_val.append((val_pro[i], val_lig[i], val_label[i]))\n",
        "  all_val = random.sample(all_val, k = len(all_val))\n",
        "\n",
        "  # shuffle the training  set sequence\n",
        "  all_train = []\n",
        "  for i in range(len(train_label)):\n",
        "    all_train.append((train_pro[i], train_lig[i], train_label[i]))\n",
        "  all_train[:5]\n",
        "  all_train = random.sample(all_train, k = len(all_train))\n",
        "\n",
        "  return all_train, all_val"
      ],
      "execution_count": null,
      "outputs": []
    },
    {
      "cell_type": "code",
      "metadata": {
        "id": "SIn6V4wcrUKD"
      },
      "source": [
        "# define function for voxelization\n",
        "def voxelize(pro_filename, lig_filename, max_side = 30, grid = 4):\n",
        "  # import the pdb file as array\n",
        "  pro = read_pdb(pro_filename).astype(np.float32)\n",
        "  lig = read_pdb(lig_filename).astype(np.float32)\n",
        "\n",
        "  # calculate box_size\n",
        "  box_size = np.ceil(2 * max_side / grid + 1)\n",
        "\n",
        "  # get the centroid of the ligand/protein\n",
        "  lig_cent = np.mean(lig[:3, :], axis = 1, keepdims = True)  \n",
        "  pro_cent = np.mean(pro[:3, :], axis = 1, keepdims = True)\n",
        "\n",
        "  # shift the protein by the centroid of ligand at 0\n",
        "  for i in range(3):\n",
        "    lig[i] = lig[i] - lig_cent[i]\n",
        "    pro[i] = pro[i] - lig_cent[i]\n",
        "  \n",
        "  # combine the coordinate and atom type of protein and ligand\n",
        "  all_coord = np.c_[pro[:3], lig[:3]]\n",
        "  lig[3] = np.where(lig[3] == 0, 100, 200)\n",
        "  all_atom = np.r_[pro[3], lig[3]]\n",
        "\n",
        "  # round coordinate to the nearest grid point\n",
        "  all_coord = (all_coord + max_side) / grid\n",
        "  \n",
        "  # remove atoms outside the box\n",
        "  check = ((all_coord>0) & (all_coord < box_size)).all(axis = 0)\n",
        "  all_coord = all_coord[:,check]\n",
        "  all_atom = all_atom[check]\n",
        "\n",
        "  # round the coordinates to integer\n",
        "  all_coord = (all_coord).astype(int)\n",
        "\n",
        "  # create the sparse matrix\n",
        "  s = sparse.COO(all_coord, all_atom, shape = (int(box_size), int(box_size), int(box_size)))  \n",
        "  return s"
      ],
      "execution_count": null,
      "outputs": []
    },
    {
      "cell_type": "code",
      "metadata": {
        "id": "0dUMCwbzKAoU"
      },
      "source": [
        "# define function to build dataloader for the neural network\n",
        "# function returns the dataloader for both train and validation\n",
        "def dataloader_builder(all_train, all_val, batch_size = 128, max_side = 30, grid = 4):\n",
        "  # load the training sparse 3d matrix\n",
        "  print(max_side, grid)\n",
        "  train_cube = []\n",
        "  for i in range(len(all_train)):\n",
        "    temp = voxelize(all_train[i][0], all_train[i][1], max_side, grid)\n",
        "    train_cube.append(COO.todense(temp))\n",
        "  train_cube = np.array(train_cube)\n",
        "  train_cube = train_cube.reshape(train_cube.shape[0], 1, train_cube.shape[1], train_cube.shape[2], train_cube.shape[3])\n",
        "  print(train_cube.shape)\n",
        "  print(np.ceil(2 * max_side / grid + 1))\n",
        "\n",
        "  # build the train dataloader\n",
        "  train_data = []\n",
        "  for i in range(len(all_train)):\n",
        "    train_data.append([train_cube[i], all_train[i][2]])\n",
        "  trainloader = torch.utils.data.DataLoader(train_data, shuffle = True, batch_size = batch_size) \n",
        "\n",
        "  # load the validation sparse 3d matrix\n",
        "  val_cube = []\n",
        "  for i in range(len(all_val)):\n",
        "    temp = voxelize(all_val[i][0], all_val[i][1], max_side, grid)\n",
        "    val_cube.append(COO.todense(temp))\n",
        "  val_cube = np.array(val_cube)\n",
        "  val_cube = val_cube.reshape(val_cube.shape[0], 1, val_cube.shape[1], val_cube.shape[2], val_cube.shape[3])\n",
        "  print(val_cube.shape)\n",
        "\n",
        "  # build the validation dataloader\n",
        "  val_data = []\n",
        "  for i in range(len(all_val)):\n",
        "    val_data.append([val_cube[i], all_val[i][2]])\n",
        "  valloader = torch.utils.data.DataLoader(val_data, shuffle = True, batch_size = batch_size)\n",
        "\n",
        "  return trainloader, valloader"
      ],
      "execution_count": null,
      "outputs": []
    },
    {
      "cell_type": "code",
      "metadata": {
        "colab": {
          "base_uri": "https://localhost:8080/"
        },
        "id": "gtfY_K-qo6sR",
        "outputId": "c7c31ea9-202c-446d-ae0a-cceba53bd6b8"
      },
      "source": [
        "np.ceil(2 * 24 /2 + 1)"
      ],
      "execution_count": null,
      "outputs": [
        {
          "output_type": "execute_result",
          "data": {
            "text/plain": [
              "25.0"
            ]
          },
          "metadata": {
            "tags": []
          },
          "execution_count": 12
        }
      ]
    },
    {
      "cell_type": "code",
      "metadata": {
        "id": "jQNe6vLWMnEH"
      },
      "source": [
        "# define function to plot confusion matrix\n",
        "import itertools\n",
        "def plot_confusion_matrix(cm, classes, normalize=False, title='Confusion matrix', cmap=plt.cm.Blues):\n",
        "  if normalize:\n",
        "    cm = cm.astype('float') / cm.sum(axis=1)[:, np.newaxis]\n",
        "    print(\"Normalized confusion matrix\")\n",
        "  else:\n",
        "    print('Confusion matrix, without normalization')\n",
        "\n",
        "  print(cm)\n",
        "  plt.imshow(cm, interpolation='nearest', cmap=cmap)\n",
        "  plt.title(title)\n",
        "  plt.colorbar()\n",
        "  tick_marks = np.arange(len(classes))\n",
        "  plt.xticks(tick_marks, classes, rotation=45)\n",
        "  plt.yticks(tick_marks, classes)\n",
        "\n",
        "  fmt = '.2f' if normalize else 'd'\n",
        "  thresh = cm.max() / 2.\n",
        "  for i, j in itertools.product(range(cm.shape[0]), range(cm.shape[1])):\n",
        "    plt.text(j, i, format(cm[i, j], fmt), horizontalalignment=\"center\", color=\"white\" if cm[i, j] > thresh else \"black\")\n",
        "\n",
        "  plt.tight_layout()\n",
        "  plt.ylabel('True label')\n",
        "  plt.xlabel('Predicted label')"
      ],
      "execution_count": null,
      "outputs": []
    },
    {
      "cell_type": "code",
      "metadata": {
        "id": "5whBQ_tEtsTV"
      },
      "source": [
        "# define function to reset model weight\n",
        "def weight_reset(m):\n",
        "    reset_parameters = getattr(m, \"reset_parameters\", None)\n",
        "    if callable(reset_parameters):\n",
        "        m.reset_parameters()"
      ],
      "execution_count": null,
      "outputs": []
    },
    {
      "cell_type": "code",
      "metadata": {
        "id": "DdCbY3bas1ju"
      },
      "source": [
        "# define function to calculate accuracy\n",
        "def accuracy(outputs, labels):\n",
        "    #preds = torch.round(outputs)\n",
        "    y_pred_softmax = torch.softmax(outputs, dim = 1)\n",
        "    _, preds = torch.max(y_pred_softmax, dim=1)\n",
        "    #preds = torch.argmax(outputs, dim = 1)\n",
        "    return torch.tensor(torch.sum(preds == labels).item() / len(preds))"
      ],
      "execution_count": null,
      "outputs": []
    },
    {
      "cell_type": "code",
      "metadata": {
        "id": "FMN8FqgfX7dc"
      },
      "source": [
        "# define a function to DYNAMICALLY generate training/validation set with pos/neg ratio\n",
        "# function returns two lists of tuples for training/validation set\n",
        "# each tuple contains the protein filename, ligand filename and the corresponding label\n",
        "def dynamic_train_val_split(pro_filename = pro_filename, lg_filename = lg_filename, neg_pos_ratio = 1, val_perc = 0.2, seed = 127):\n",
        "  # sort the protein and ligand filename list\n",
        "  lg_filename = sorted(lg_filename)\n",
        "  pro_filename = sorted(pro_filename)\n",
        "\n",
        "  val_size = round(len(pro_filename) * val_perc)\n",
        "\n",
        "  # select the first val_size pairs as positive validation\n",
        "  val_lg_pos = lg_filename[:val_size]\n",
        "  val_pro_pos = pro_filename[:val_size]\n",
        "\n",
        "  # generate val_size negative validation\n",
        "  random.seed(seed)\n",
        "  val_lg_neg = val_lg_pos.copy()\n",
        "  random.shuffle(val_lg_neg)\n",
        "  val_pro_neg = val_pro_pos.copy()\n",
        "  random.shuffle(val_pro_neg)\n",
        "\n",
        "  val_lg = val_lg_pos + val_lg_neg\n",
        "  val_pro = val_pro_pos + val_pro_neg\n",
        "\n",
        "  # use the rest for training\n",
        "  train_lg_pos = lg_filename[val_size:]\n",
        "  train_pro_pos = pro_filename[val_size:]\n",
        "\n",
        "  # randomly sort the filename to generate negative cases\n",
        "  random.seed(seed)\n",
        "  tot_lig_filename = train_lg_pos.copy()\n",
        "  tot_pro_filename = train_pro_pos.copy()\n",
        "  for i in range(neg_pos_ratio):\n",
        "    #print(len(lg_filename))\n",
        "    lg_filename_rand = train_lg_pos.copy()\n",
        "    random.shuffle(lg_filename_rand)\n",
        "    tot_lig_filename += lg_filename_rand\n",
        "    pro_filename_rand = train_pro_pos.copy()\n",
        "    random.shuffle(pro_filename_rand)\n",
        "    tot_pro_filename += pro_filename_rand\n",
        "  \n",
        "  # get labels of the list for training\n",
        "  label_train = get_label(tot_pro_filename, tot_lig_filename)\n",
        "  print('Positive cases in training: ', label_train.count(0), 'Negative cases in training: ', label_train.count(1))\n",
        "  label_val = get_label(val_pro, val_lg)\n",
        "  print('Positive cases in val: ', label_val.count(0), 'Negative cases in training: ', label_val.count(1))\n",
        "  \n",
        "  # shuffle the validation set sequence\n",
        "  all_val = []\n",
        "  for i in range(len(label_val)):\n",
        "    all_val.append((val_pro[i], val_lg[i], label_val[i]))\n",
        "  all_val = random.sample(all_val, k = len(all_val))\n",
        "\n",
        "  # shuffle the training  set sequence\n",
        "  all_train = []\n",
        "  for i in range(len(label_train)):\n",
        "    all_train.append((tot_pro_filename[i], tot_lig_filename[i], label_train[i]))\n",
        "  all_train[:5]\n",
        "  all_train = random.sample(all_train, k = len(all_train))\n",
        "\n",
        "  return all_train, all_val"
      ],
      "execution_count": null,
      "outputs": []
    },
    {
      "cell_type": "markdown",
      "metadata": {
        "id": "tyf5sRA6QlpS"
      },
      "source": [
        "## Build the neural network"
      ]
    },
    {
      "cell_type": "code",
      "metadata": {
        "id": "XXNuH1VRQH5_"
      },
      "source": [
        " # trial 1 - CNN\n",
        "class Net(nn.Module):\n",
        "  def __init__(self):\n",
        "    super(Net, self).__init__()\n",
        "\n",
        "    self.cnn_layers = nn.Sequential(\n",
        "        nn.Conv3d(1, 8, kernel_size=3, stride=1, padding=0),\n",
        "        nn.BatchNorm3d(8),\n",
        "        nn.ReLU(inplace=True),\n",
        "        nn.MaxPool3d(kernel_size=2, stride=1),\n",
        "        # Defining another 2D convolution layer\n",
        "        nn.Conv3d(8, 16, kernel_size=3, stride=1, padding=0),\n",
        "        nn.BatchNorm3d(16),\n",
        "        nn.ReLU(inplace=True),\n",
        "        nn.MaxPool3d(kernel_size=2, stride=2),\n",
        "        # Defining another 2D convolution layer\n",
        "        nn.Conv3d(16, 32, kernel_size=3, stride=1, padding=0),\n",
        "        nn.BatchNorm3d(32),\n",
        "        nn.ReLU(inplace=True),\n",
        "        nn.MaxPool3d(kernel_size=2, stride=2),\n",
        "    )\n",
        "\n",
        "    self.linear_layers = nn.Sequential(\n",
        "            nn.Dropout(p = 0.1),\n",
        "            nn.Linear(32 * 4 * 4 * 4 , 32),\n",
        "            nn.ReLU(),\n",
        "            nn.Linear(32,2)\n",
        "        )\n",
        "\n",
        "  def forward(self, x):\n",
        "    x = self.cnn_layers(x)\n",
        "    x = torch.flatten(x, start_dim = 1)\n",
        "    x = self.linear_layers(x)\n",
        "    return x"
      ],
      "execution_count": null,
      "outputs": []
    },
    {
      "cell_type": "code",
      "metadata": {
        "colab": {
          "base_uri": "https://localhost:8080/"
        },
        "id": "XOC8G9VGHC5Q",
        "outputId": "683d8f8c-eb6b-4b19-8d5d-fbedcdc5ab54"
      },
      "source": [
        "from torch.optim import Adam\n",
        "# defining the model\n",
        "model = Net()\n",
        "# defining the optimizer\n",
        "optimizer = Adam(model.parameters(), lr=0.0005) # weight_decay = 0.005\n",
        "# defining the loss function\n",
        "weight = torch.tensor([1.0, 100.])\n",
        "criterion = nn.CrossEntropyLoss()\n",
        "\n",
        "print(model)"
      ],
      "execution_count": null,
      "outputs": [
        {
          "output_type": "stream",
          "text": [
            "Net(\n",
            "  (cnn_layers): Sequential(\n",
            "    (0): Conv3d(1, 8, kernel_size=(3, 3, 3), stride=(1, 1, 1))\n",
            "    (1): BatchNorm3d(8, eps=1e-05, momentum=0.1, affine=True, track_running_stats=True)\n",
            "    (2): ReLU(inplace=True)\n",
            "    (3): MaxPool3d(kernel_size=2, stride=1, padding=0, dilation=1, ceil_mode=False)\n",
            "    (4): Conv3d(8, 16, kernel_size=(3, 3, 3), stride=(1, 1, 1))\n",
            "    (5): BatchNorm3d(16, eps=1e-05, momentum=0.1, affine=True, track_running_stats=True)\n",
            "    (6): ReLU(inplace=True)\n",
            "    (7): MaxPool3d(kernel_size=2, stride=2, padding=0, dilation=1, ceil_mode=False)\n",
            "    (8): Conv3d(16, 32, kernel_size=(3, 3, 3), stride=(1, 1, 1))\n",
            "    (9): BatchNorm3d(32, eps=1e-05, momentum=0.1, affine=True, track_running_stats=True)\n",
            "    (10): ReLU(inplace=True)\n",
            "    (11): MaxPool3d(kernel_size=2, stride=2, padding=0, dilation=1, ceil_mode=False)\n",
            "  )\n",
            "  (linear_layers): Sequential(\n",
            "    (0): Dropout(p=0.1, inplace=False)\n",
            "    (1): Linear(in_features=2048, out_features=32, bias=True)\n",
            "    (2): ReLU()\n",
            "    (3): Linear(in_features=32, out_features=2, bias=True)\n",
            "  )\n",
            ")\n"
          ],
          "name": "stdout"
        }
      ]
    },
    {
      "cell_type": "code",
      "metadata": {
        "colab": {
          "base_uri": "https://localhost:8080/"
        },
        "id": "Pl-4svtJ82iB",
        "outputId": "fe06aade-6670-4090-b0ae-82794c9c1b0b"
      },
      "source": [
        "# number of parameters in the model\n",
        "model_parameters = filter(lambda p: p.requires_grad, model.parameters())\n",
        "params = sum([np.prod(p.size()) for p in model_parameters])\n",
        "params"
      ],
      "execution_count": null,
      "outputs": [
        {
          "output_type": "execute_result",
          "data": {
            "text/plain": [
              "83298"
            ]
          },
          "metadata": {
            "tags": []
          },
          "execution_count": 17
        }
      ]
    },
    {
      "cell_type": "code",
      "metadata": {
        "id": "4DjwfhFytDwI"
      },
      "source": [
        "# define each epoch when training\n",
        "def train(epoch, trainloader, valloader):\n",
        "  train.train_loss = 0\n",
        "  train.train_acces = 0\n",
        "  model.train()\n",
        "  total = 0\n",
        "  correct = 0\n",
        "  for images, labels in trainloader:\n",
        "    #print(images.shape, labels.shape)\n",
        "    optimizer.zero_grad() # clear the gradient\n",
        "    output_train = model(images)   # calculate model output \n",
        "    #loss_train = criterion(output_train.squeeze(), labels) # calculate loss\n",
        "    loss_train = criterion(output_train, labels)\n",
        "        \n",
        "    loss_train.backward()   # back propagation\n",
        "    optimizer.step() # update model weights\n",
        "        \n",
        "    train.train_loss += loss_train.item() * images.size(0)\n",
        "    acc = accuracy(output_train, labels)\n",
        "    train.train_acces += acc\n",
        "    \n",
        "\n",
        "  print(\"Epoch {} - Training loss: {}, Training Accuracy: {}\".format(epoch+1, train.train_loss / len(trainloader), train.train_acces / len(trainloader)))\n",
        "  model.eval() \n",
        "  with torch.no_grad():\n",
        "    train.val_acces = 0\n",
        "    train.val_loss = 0\n",
        "    for images, labels in valloader:\n",
        "      output_val = model(images)\n",
        "      #loss_val = criterion(output_val.squeeze(), labels)\n",
        "      loss_val = criterion(output_val, labels)\n",
        "\n",
        "      train.val_loss += loss_val.item() * images.size(0)\n",
        "      #val_acc = accuracy_quick(output_train, labels)\n",
        "      #val_acces += val_acc.item()     \n",
        "      acc = accuracy(output_val, labels)   \n",
        "      train.val_acces += acc\n",
        "  \n",
        "  print(\"Validation loss: {}, Validation Accuracy: {}\".format(train.val_loss / len(valloader), train.val_acces / len(valloader)))\n"
      ],
      "execution_count": null,
      "outputs": []
    },
    {
      "cell_type": "code",
      "metadata": {
        "colab": {
          "base_uri": "https://localhost:8080/"
        },
        "id": "5q276DBQ9J62",
        "outputId": "3fbfae7b-e892-4d83-dccd-036542dcb236"
      },
      "source": [
        "model.apply(weight_reset)"
      ],
      "execution_count": null,
      "outputs": [
        {
          "output_type": "execute_result",
          "data": {
            "text/plain": [
              "Net(\n",
              "  (cnn_layers): Sequential(\n",
              "    (0): Conv3d(1, 8, kernel_size=(3, 3, 3), stride=(1, 1, 1))\n",
              "    (1): BatchNorm3d(8, eps=1e-05, momentum=0.1, affine=True, track_running_stats=True)\n",
              "    (2): ReLU(inplace=True)\n",
              "    (3): MaxPool3d(kernel_size=2, stride=1, padding=0, dilation=1, ceil_mode=False)\n",
              "    (4): Conv3d(8, 16, kernel_size=(3, 3, 3), stride=(1, 1, 1))\n",
              "    (5): BatchNorm3d(16, eps=1e-05, momentum=0.1, affine=True, track_running_stats=True)\n",
              "    (6): ReLU(inplace=True)\n",
              "    (7): MaxPool3d(kernel_size=2, stride=2, padding=0, dilation=1, ceil_mode=False)\n",
              "    (8): Conv3d(16, 32, kernel_size=(3, 3, 3), stride=(1, 1, 1))\n",
              "    (9): BatchNorm3d(32, eps=1e-05, momentum=0.1, affine=True, track_running_stats=True)\n",
              "    (10): ReLU(inplace=True)\n",
              "    (11): MaxPool3d(kernel_size=2, stride=2, padding=0, dilation=1, ceil_mode=False)\n",
              "  )\n",
              "  (linear_layers): Sequential(\n",
              "    (0): Dropout(p=0.4, inplace=False)\n",
              "    (1): Linear(in_features=2048, out_features=32, bias=True)\n",
              "    (2): ReLU()\n",
              "    (3): Linear(in_features=32, out_features=2, bias=True)\n",
              "  )\n",
              ")"
            ]
          },
          "metadata": {
            "tags": []
          },
          "execution_count": 37
        }
      ]
    },
    {
      "cell_type": "markdown",
      "metadata": {
        "id": "MK2fuv0Z57PI"
      },
      "source": [
        "## Define Cost-sensitive loss function\n",
        "\n",
        "Cost Sensitive loss function\n",
        "\n",
        "https://arxiv.org/pdf/2010.00291.pdf\n",
        "\n",
        "https://github.com/agaldran/cost_sensitive_loss_classification/blob/master/CS_loss.ipynb"
      ]
    },
    {
      "cell_type": "code",
      "metadata": {
        "id": "S1KihQ1K0H4G"
      },
      "source": [
        "import torch.nn.functional as F\n",
        "import scipy.stats as stats2\n",
        "import sys\n",
        "try:\n",
        "    from kornia.losses import FocalLoss as focal_loss\n",
        "except:\n",
        "    pass\n",
        "\n",
        "def get_gauss_label(label, n_classes, amplifier, noise=0):\n",
        "    n = n_classes*amplifier\n",
        "    half_int = amplifier/2\n",
        "    label_noise = np.random.uniform(low=-noise, high=noise)\n",
        "    if label == 0:\n",
        "        label_noise = np.abs(label_noise)\n",
        "    if label == 4:\n",
        "        label_noise = -np.abs(label_noise)\n",
        "    label += label_noise\n",
        "    label_new = half_int + label*amplifier\n",
        "    gauss_label = stats2.norm.pdf(np.arange(n), label_new, half_int/2)\n",
        "    gauss_label/=np.sum(gauss_label)\n",
        "    return gauss_label\n",
        "\n",
        "def get_gaussian_label_distribution(n_classes, std=0.5):\n",
        "    cls = []\n",
        "    for n in range(n_classes):\n",
        "        cls.append(stats2.norm.pdf(range(n_classes), 0, std))\n",
        "    dists = np.stack(cls, axis=0)\n",
        "    return dists\n",
        "\n",
        "def cross_entropy_loss_one_hot(logits, target, reduction='mean'):\n",
        "    logp = F.log_softmax(logits, dim=1)\n",
        "    loss = torch.sum(-logp * target, dim=1)\n",
        "    if reduction == 'none':\n",
        "        return loss\n",
        "    elif reduction == 'mean':\n",
        "        return loss.mean()\n",
        "    elif reduction == 'sum':\n",
        "        return loss.sum()\n",
        "    else:\n",
        "        raise ValueError(\n",
        "            '`reduction` must be one of \\'none\\', \\'mean\\', or \\'sum\\'.')\n",
        "\n",
        "def one_hot_encoding(label, n_classes):\n",
        "    return torch.zeros(label.size(0), n_classes).to(label.device).scatter_(\n",
        "        1, label.view(-1, 1), 1)\n",
        "\n",
        "def label_smoothing_criterion(alpha=0.1, distribution='uniform', std=0.5, reduction='mean'):\n",
        "    def _label_smoothing_criterion(logits, labels):\n",
        "        n_classes = logits.size(1)\n",
        "        device = logits.device\n",
        "        # manipulate labels\n",
        "        one_hot = one_hot_encoding(labels, n_classes).float().to(device)\n",
        "        if distribution == 'uniform':\n",
        "            uniform = torch.ones_like(one_hot).to(device)/n_classes\n",
        "            soft_labels = (1 - alpha)*one_hot + alpha*uniform\n",
        "        elif distribution == 'gaussian':\n",
        "            dist = get_gaussian_label_distribution(n_classes, std=std)\n",
        "            soft_labels = torch.from_numpy(dist[labels.cpu().numpy()]).to(device)\n",
        "        else:\n",
        "            raise NotImplementedError\n",
        "\n",
        "        loss = cross_entropy_loss_one_hot(logits, soft_labels.float(), reduction)\n",
        "\n",
        "        return loss\n",
        "\n",
        "    return _label_smoothing_criterion\n",
        "\n",
        "def cost_sensitive_loss(input, target, M):\n",
        "    if input.size(0) != target.size(0):\n",
        "        raise ValueError('Expected input batch_size ({}) to match target batch_size ({}).'\n",
        "                         .format(input.size(0), target.size(0)))\n",
        "    device = input.device\n",
        "    M = M.to(device)\n",
        "    return (M[target, :]*input.float()).sum(axis=-1)\n",
        "    # return torch.diag(torch.matmul(input, M[:, target]))\n",
        "\n",
        "class CostSensitiveLoss(nn.Module):\n",
        "    def __init__(self,  n_classes, exp=1, normalization='softmax', reduction='mean'):\n",
        "        super(CostSensitiveLoss, self).__init__()\n",
        "        if normalization == 'softmax':\n",
        "            self.normalization = nn.Softmax(dim=1)\n",
        "        elif normalization == 'sigmoid':\n",
        "            self.normalization = nn.Sigmoid()\n",
        "        else:\n",
        "            self.normalization = None\n",
        "        self.reduction = reduction\n",
        "        x = np.abs(np.arange(n_classes, dtype=np.float32))\n",
        "        M = np.abs((x[:, np.newaxis] - x[np.newaxis, :])) ** exp\n",
        "        M /= M.max()\n",
        "        self.M = torch.from_numpy(M)\n",
        "\n",
        "    def forward(self, logits, target):\n",
        "        preds = self.normalization(logits)\n",
        "        loss = cost_sensitive_loss(preds, target, self.M)\n",
        "        if self.reduction == 'none':\n",
        "            return loss\n",
        "        elif self.reduction == 'mean':\n",
        "            return loss.mean()\n",
        "        elif self.reduction == 'sum':\n",
        "            return loss.sum()\n",
        "        else:\n",
        "            raise ValueError('`reduction` must be one of \\'none\\', \\'mean\\', or \\'sum\\'.')\n",
        "\n",
        "class CostSensitiveRegularizedLoss(nn.Module):\n",
        "    def __init__(self,  n_classes=5, exp=2, normalization='softmax', reduction='mean', base_loss='ce', lambd=10):\n",
        "        super(CostSensitiveRegularizedLoss, self).__init__()\n",
        "        if normalization == 'softmax':\n",
        "            self.normalization = nn.Softmax(dim=1)\n",
        "        elif normalization == 'sigmoid':\n",
        "            self.normalization = nn.Sigmoid()\n",
        "        else:\n",
        "            self.normalization = None\n",
        "        self.reduction = reduction\n",
        "        x = np.abs(np.arange(n_classes, dtype=np.float32))\n",
        "        M = np.abs((x[:, np.newaxis] - x[np.newaxis, :])) ** exp\n",
        "        #\n",
        "        # M_oph = np.array([\n",
        "        #                 [1469, 4, 5,  0,  0],\n",
        "        #                 [58, 62,  5,  0,  0],\n",
        "        #                 [22, 3, 118,  1,  0],\n",
        "        #                 [0, 0,   13, 36,  1],\n",
        "        #                 [0, 0,    0,  1, 15]\n",
        "        #                 ], dtype=np.float)\n",
        "        # M_oph = M_oph.T\n",
        "        # # Normalize M_oph to obtain M_difficulty:\n",
        "        # M_difficulty = 1-np.divide(M_oph, np.sum(M_oph, axis=1)[:, None])\n",
        "        # # OPTION 1: average M and M_difficulty:\n",
        "        # M = 0.5 * M + 0.5 * M_difficulty\n",
        "        # ################\n",
        "        # # OPTION 2: replace uninformative entries in M_difficulty by entries of M:\n",
        "        # # M_difficulty[M_oph == 0] = M[M_oph == 0]\n",
        "        # # M = M_difficulty\n",
        "\n",
        "        M /= M.max()\n",
        "        self.M = torch.from_numpy(M)\n",
        "        self.lambd = lambd\n",
        "        self.base_loss = base_loss\n",
        "\n",
        "        if self.base_loss == 'ce':\n",
        "            self.base_loss = torch.nn.CrossEntropyLoss(reduction=reduction)\n",
        "        elif self.base_loss == 'ls':\n",
        "            self.base_loss = label_smoothing_criterion(distribution='uniform', reduction=reduction)\n",
        "        elif self.base_loss == 'gls':\n",
        "            self.base_loss = label_smoothing_criterion(distribution='gaussian', reduction=reduction)\n",
        "        elif self.base_loss == 'focal_loss':\n",
        "            kwargs = {\"alpha\": 0.5, \"gamma\": 2.0, \"reduction\": reduction}\n",
        "            self.base_loss = focal_loss(**kwargs)\n",
        "        else:\n",
        "            sys.exit('not a supported base_loss')\n",
        "\n",
        "    def forward(self, logits, target):\n",
        "        base_l = self.base_loss(logits, target)\n",
        "        if self.lambd == 0:\n",
        "            return self.base_loss(logits, target)\n",
        "        else:\n",
        "            preds = self.normalization(logits)\n",
        "            loss = cost_sensitive_loss(preds, target, self.M)\n",
        "            if self.reduction == 'none':\n",
        "                return base_l + self.lambd*loss\n",
        "            elif self.reduction == 'mean':\n",
        "                return base_l + self.lambd*loss.mean()\n",
        "            elif self.reduction == 'sum':\n",
        "                return base_l + self.lambd*loss.sum()\n",
        "            else:\n",
        "                raise ValueError('`reduction` must be one of \\'none\\', \\'mean\\', or \\'sum\\'.')\n",
        "\n",
        "def get_cost_sensitive_criterion(n_classes=5, exp=2):\n",
        "    train_criterion = CostSensitiveLoss(n_classes, exp=exp, normalization='softmax')\n",
        "    val_criterion = CostSensitiveLoss(n_classes, exp=exp, normalization='softmax')\n",
        "    return train_criterion, val_criterion\n",
        "\n",
        "def get_cost_sensitive_regularized_criterion(base_loss='ce', n_classes=5, lambd=1, exp=2):\n",
        "    train_criterion = CostSensitiveRegularizedLoss(n_classes, exp=exp, normalization='softmax', base_loss=base_loss, lambd=lambd)\n",
        "    val_criterion = CostSensitiveRegularizedLoss(n_classes, exp=exp, normalization='softmax', base_loss=base_loss, lambd=lambd)\n",
        "\n",
        "    return train_criterion, val_criterion\n"
      ],
      "execution_count": null,
      "outputs": []
    },
    {
      "cell_type": "markdown",
      "metadata": {
        "id": "hQtbrSFBsS7_"
      },
      "source": [
        "### Trial 1 - Cost-sensitive lost function (10:400:200:0) + dynamic training data refreshed every 5 epochs\n"
      ]
    },
    {
      "cell_type": "code",
      "metadata": {
        "colab": {
          "base_uri": "https://localhost:8080/"
        },
        "id": "V2mB06jOIK07",
        "outputId": "16632b0e-443d-45b4-82bf-9cc98c3cffaa"
      },
      "source": [
        "#from torch.optim import Adam\n",
        "# defining the model\n",
        "model = Net()\n",
        "# defining the optimizer\n",
        "optimizer = Adam(model.parameters(), lr=0.0005) # weight_decay = 0.005\n",
        "\n",
        "# defining the loss function\n",
        "n_classes = 2\n",
        "base_loss = 'ce'\n",
        "lambd = 10 # regularization parameter\n",
        "criterion = CostSensitiveRegularizedLoss(n_classes = n_classes, base_loss = base_loss, lambd = lambd)\n",
        "M = np.array([[10, 400], [200, 0]], dtype = float)\n",
        "M /= M.max()\n",
        "criterion.M = torch.from_numpy(M)\n",
        "\n",
        "M"
      ],
      "execution_count": null,
      "outputs": [
        {
          "output_type": "execute_result",
          "data": {
            "text/plain": [
              "array([[0.025, 1.   ],\n",
              "       [0.5  , 0.   ]])"
            ]
          },
          "metadata": {
            "tags": []
          },
          "execution_count": 87
        }
      ]
    },
    {
      "cell_type": "code",
      "metadata": {
        "colab": {
          "base_uri": "https://localhost:8080/"
        },
        "id": "tS_4FnF2Urhc",
        "outputId": "66d50ff3-28d1-49cf-aa18-b8afbb9e95bd"
      },
      "source": [
        "model.apply(weight_reset)"
      ],
      "execution_count": null,
      "outputs": [
        {
          "output_type": "execute_result",
          "data": {
            "text/plain": [
              "Net(\n",
              "  (cnn_layers): Sequential(\n",
              "    (0): Conv3d(1, 8, kernel_size=(3, 3, 3), stride=(1, 1, 1))\n",
              "    (1): BatchNorm3d(8, eps=1e-05, momentum=0.1, affine=True, track_running_stats=True)\n",
              "    (2): ReLU(inplace=True)\n",
              "    (3): MaxPool3d(kernel_size=2, stride=1, padding=0, dilation=1, ceil_mode=False)\n",
              "    (4): Conv3d(8, 16, kernel_size=(3, 3, 3), stride=(1, 1, 1))\n",
              "    (5): BatchNorm3d(16, eps=1e-05, momentum=0.1, affine=True, track_running_stats=True)\n",
              "    (6): ReLU(inplace=True)\n",
              "    (7): MaxPool3d(kernel_size=2, stride=2, padding=0, dilation=1, ceil_mode=False)\n",
              "    (8): Conv3d(16, 32, kernel_size=(3, 3, 3), stride=(1, 1, 1))\n",
              "    (9): BatchNorm3d(32, eps=1e-05, momentum=0.1, affine=True, track_running_stats=True)\n",
              "    (10): ReLU(inplace=True)\n",
              "    (11): MaxPool3d(kernel_size=2, stride=2, padding=0, dilation=1, ceil_mode=False)\n",
              "  )\n",
              "  (linear_layers): Sequential(\n",
              "    (0): Dropout(p=0.1, inplace=False)\n",
              "    (1): Linear(in_features=2048, out_features=32, bias=True)\n",
              "    (2): ReLU()\n",
              "    (3): Linear(in_features=32, out_features=2, bias=True)\n",
              "  )\n",
              ")"
            ]
          },
          "metadata": {
            "tags": []
          },
          "execution_count": 98
        }
      ]
    },
    {
      "cell_type": "code",
      "metadata": {
        "colab": {
          "base_uri": "https://localhost:8080/"
        },
        "id": "6aExTMk5Urho",
        "outputId": "03a1b1a1-abca-434a-b8cd-d8e61cac78b2"
      },
      "source": [
        "# defining the number of epochs\n",
        "n_epochs = 50\n",
        "# empty list to store training losses\n",
        "train_losses4 = []\n",
        "train_acc4 = []\n",
        "# empty list to store validation losses\n",
        "val_losses4 = []\n",
        "val_acc4 =[]\n",
        "epoch_count4 = []\n",
        "# training the model\n",
        "es = 0\n",
        "best_loss = 1000\n",
        "for epoch in range(n_epochs):\n",
        "    if epoch % 5 != 0:\n",
        "      pass\n",
        "    else:\n",
        "      all_train, all_val = dynamic_train_val_split(val_perc = 0.15, seed = epoch)\n",
        "      trainloader, valloader = dataloader_builder(all_train, all_val, max_side = 24, grid = 2)\n",
        "\n",
        "    train(epoch, trainloader = trainloader, valloader = valloader)\n",
        "    epoch_count4.append(epoch)\n",
        "    train_losses4.append(train.train_loss/len(trainloader))\n",
        "    val_losses4.append(train.val_loss/len(valloader))\n",
        "    train_acc4.append(train.train_acces/len(trainloader))\n",
        "    val_acc4.append(train.val_acces/len(valloader))\n",
        "    # early stopping\n",
        "    if train.val_loss/len(valloader) < best_loss:\n",
        "      best_loss = train.val_loss/len(valloader)\n",
        "      es = 0\n",
        "      torch.save(model.state_dict(), \"model_\" + str(epoch) + 'weight_trial4.pt')\n",
        "      best_epoch = epoch\n",
        "    else:\n",
        "      es += 1\n",
        "      print(\"Counter {} of 15\".format(es))\n",
        "\n",
        "    if es > 14:\n",
        "      print(\"Early stopping! Best epoch: \", str(best_epoch))\n",
        "      model.load_state_dict(torch.load('/content/model_' + str(best_epoch) +'weight_trial4.pt'))\n",
        "      break"
      ],
      "execution_count": null,
      "outputs": [
        {
          "output_type": "stream",
          "text": [
            "Positive cases in training:  2548 Negative cases in training:  2552\n",
            "Positive cases in val:  450 Negative cases in training:  450\n",
            "24 2\n",
            "(5100, 1, 25, 25, 25)\n",
            "25.0\n",
            "(900, 1, 25, 25, 25)\n",
            "Epoch 1 - Training loss: 521.5084719199688, Training Accuracy: 0.5004629492759705\n",
            "Validation loss: 446.78596654254943, Validation Accuracy: 0.439453125\n",
            "Epoch 2 - Training loss: 423.8787588523577, Training Accuracy: 0.5899884104728699\n",
            "Validation loss: 196.8905273090495, Validation Accuracy: 0.8994140625\n",
            "Epoch 3 - Training loss: 157.1382585258529, Training Accuracy: 0.9049116969108582\n",
            "Validation loss: 109.8295260975068, Validation Accuracy: 0.896484375\n",
            "Epoch 4 - Training loss: 130.59828230266058, Training Accuracy: 0.926982045173645\n",
            "Validation loss: 86.33050739211751, Validation Accuracy: 0.9580078125\n",
            "Epoch 5 - Training loss: 124.79233334012754, Training Accuracy: 0.9311921000480652\n",
            "Validation loss: 94.63131210190272, Validation Accuracy: 0.955078125\n",
            "Counter 1 of 15\n",
            "Positive cases in training:  2548 Negative cases in training:  2552\n",
            "Positive cases in val:  448 Negative cases in training:  452\n",
            "24 2\n",
            "(5100, 1, 25, 25, 25)\n",
            "25.0\n",
            "(900, 1, 25, 25, 25)\n",
            "Epoch 6 - Training loss: 121.8434857885846, Training Accuracy: 0.934548556804657\n",
            "Validation loss: 109.35990641043429, Validation Accuracy: 0.9501953125\n",
            "Counter 2 of 15\n",
            "Epoch 7 - Training loss: 123.52203363217222, Training Accuracy: 0.9319010972976685\n",
            "Validation loss: 104.61451112693169, Validation Accuracy: 0.91796875\n",
            "Counter 3 of 15\n",
            "Epoch 8 - Training loss: 120.73887194940707, Training Accuracy: 0.9333044290542603\n",
            "Validation loss: 101.19323804882754, Validation Accuracy: 0.9501953125\n",
            "Counter 4 of 15\n",
            "Epoch 9 - Training loss: 119.73910361286491, Training Accuracy: 0.9322916865348816\n",
            "Validation loss: 112.20570097815312, Validation Accuracy: 0.9462890625\n",
            "Counter 5 of 15\n",
            "Epoch 10 - Training loss: 116.24589889847928, Training Accuracy: 0.9403935670852661\n",
            "Validation loss: 100.45160458499879, Validation Accuracy: 0.919921875\n",
            "Counter 6 of 15\n",
            "Positive cases in training:  2549 Negative cases in training:  2551\n",
            "Positive cases in val:  449 Negative cases in training:  451\n",
            "24 2\n",
            "(5100, 1, 25, 25, 25)\n",
            "25.0\n",
            "(900, 1, 25, 25, 25)\n",
            "Epoch 11 - Training loss: 121.05650027003409, Training Accuracy: 0.9345630407333374\n",
            "Validation loss: 80.07777547471915, Validation Accuracy: 0.95703125\n",
            "Epoch 12 - Training loss: 117.35864501739908, Training Accuracy: 0.9374059438705444\n",
            "Validation loss: 86.43736349356621, Validation Accuracy: 0.9482421875\n",
            "Counter 1 of 15\n",
            "Epoch 13 - Training loss: 117.18967832759793, Training Accuracy: 0.9388960599899292\n",
            "Validation loss: 78.0935315204863, Validation Accuracy: 0.9599609375\n",
            "Epoch 14 - Training loss: 114.2906439474493, Training Accuracy: 0.9407985806465149\n",
            "Validation loss: 78.14578807116209, Validation Accuracy: 0.958984375\n",
            "Counter 1 of 15\n",
            "Epoch 15 - Training loss: 113.72514370471686, Training Accuracy: 0.937282919883728\n",
            "Validation loss: 80.15819619241037, Validation Accuracy: 0.95703125\n",
            "Counter 2 of 15\n",
            "Positive cases in training:  2546 Negative cases in training:  2554\n",
            "Positive cases in val:  450 Negative cases in training:  450\n",
            "24 2\n",
            "(5100, 1, 25, 25, 25)\n",
            "25.0\n",
            "(900, 1, 25, 25, 25)\n",
            "Epoch 16 - Training loss: 124.32729105406409, Training Accuracy: 0.9331091046333313\n",
            "Validation loss: 101.9339677018921, Validation Accuracy: 0.9501953125\n",
            "Counter 3 of 15\n",
            "Epoch 17 - Training loss: 116.83414159966924, Training Accuracy: 0.9383825063705444\n",
            "Validation loss: 94.08777858422746, Validation Accuracy: 0.9541015625\n",
            "Counter 4 of 15\n",
            "Epoch 18 - Training loss: 115.87411284412462, Training Accuracy: 0.939236044883728\n",
            "Validation loss: 94.10366792145614, Validation Accuracy: 0.921875\n",
            "Counter 5 of 15\n",
            "Epoch 19 - Training loss: 117.03231337139871, Training Accuracy: 0.9382957220077515\n",
            "Validation loss: 96.4304411202423, Validation Accuracy: 0.9482421875\n",
            "Counter 6 of 15\n",
            "Epoch 20 - Training loss: 114.33681915173115, Training Accuracy: 0.9395182728767395\n",
            "Validation loss: 93.35133368826865, Validation Accuracy: 0.953125\n",
            "Counter 7 of 15\n",
            "Positive cases in training:  2549 Negative cases in training:  2551\n",
            "Positive cases in val:  449 Negative cases in training:  451\n",
            "24 2\n",
            "(5100, 1, 25, 25, 25)\n",
            "25.0\n",
            "(900, 1, 25, 25, 25)\n",
            "Epoch 21 - Training loss: 124.01880426837855, Training Accuracy: 0.9332898855209351\n",
            "Validation loss: 97.24390389316672, Validation Accuracy: 0.9501953125\n",
            "Counter 8 of 15\n",
            "Epoch 22 - Training loss: 122.84589571951567, Training Accuracy: 0.9334996938705444\n",
            "Validation loss: 102.71821640427994, Validation Accuracy: 0.94921875\n",
            "Counter 9 of 15\n",
            "Epoch 23 - Training loss: 119.31674653938796, Training Accuracy: 0.9384404420852661\n",
            "Validation loss: 100.74698466260998, Validation Accuracy: 0.943359375\n",
            "Counter 10 of 15\n",
            "Epoch 24 - Training loss: 117.90295250826348, Training Accuracy: 0.9367332458496094\n",
            "Validation loss: 102.26541908680619, Validation Accuracy: 0.9404296875\n",
            "Counter 11 of 15\n",
            "Epoch 25 - Training loss: 114.1113146936048, Training Accuracy: 0.9406756162643433\n",
            "Validation loss: 95.95039607343351, Validation Accuracy: 0.951171875\n",
            "Counter 12 of 15\n",
            "Positive cases in training:  2550 Negative cases in training:  2550\n",
            "Positive cases in val:  450 Negative cases in training:  450\n",
            "24 2\n",
            "(5100, 1, 25, 25, 25)\n",
            "25.0\n",
            "(900, 1, 25, 25, 25)\n",
            "Epoch 26 - Training loss: 121.25869570361306, Training Accuracy: 0.9335358738899231\n",
            "Validation loss: 111.2817969526459, Validation Accuracy: 0.939453125\n",
            "Counter 13 of 15\n",
            "Epoch 27 - Training loss: 114.2866732636106, Training Accuracy: 0.9389539957046509\n",
            "Validation loss: 107.70338451970663, Validation Accuracy: 0.9111328125\n",
            "Counter 14 of 15\n",
            "Epoch 28 - Training loss: 111.0392957132412, Training Accuracy: 0.9424840807914734\n",
            "Validation loss: 125.6122055859355, Validation Accuracy: 0.9208984375\n",
            "Counter 15 of 15\n",
            "Early stopping! Best epoch:  12\n"
          ],
          "name": "stdout"
        }
      ]
    },
    {
      "cell_type": "code",
      "metadata": {
        "colab": {
          "base_uri": "https://localhost:8080/",
          "height": 296
        },
        "id": "5Hj1xoO5Urhp",
        "outputId": "63c7c512-845c-4a7c-9f7e-1f4e6d85de70"
      },
      "source": [
        "plt.plot(epoch_count4, train_losses4, label = 'train_loss')\n",
        "plt.plot(epoch_count4, val_losses4, label = 'val_loss')\n",
        "plt.xlabel('epoch')\n",
        "plt.legend()\n",
        "plt.ylabel('loss')"
      ],
      "execution_count": null,
      "outputs": [
        {
          "output_type": "execute_result",
          "data": {
            "text/plain": [
              "Text(0, 0.5, 'loss')"
            ]
          },
          "metadata": {
            "tags": []
          },
          "execution_count": 100
        },
        {
          "output_type": "display_data",
          "data": {
            "image/png": "[encoded data removed]",
            "text/plain": [
              "<Figure size 432x288 with 1 Axes>"
            ]
          },
          "metadata": {
            "tags": [],
            "needs_background": "light"
          }
        }
      ]
    },
    {
      "cell_type": "code",
      "metadata": {
        "colab": {
          "base_uri": "https://localhost:8080/",
          "height": 296
        },
        "id": "sKVuanlbUrhp",
        "outputId": "68a6dc33-2228-46f8-9c0c-74e66b358fbb"
      },
      "source": [
        "plt.plot(epoch_count4, train_acc4, label = 'train_accuracy')\n",
        "plt.plot(epoch_count4, val_acc4, label = 'val_accuracy')\n",
        "plt.xlabel('epoch')\n",
        "plt.legend()\n",
        "plt.ylabel('accuracy')"
      ],
      "execution_count": null,
      "outputs": [
        {
          "output_type": "execute_result",
          "data": {
            "text/plain": [
              "Text(0, 0.5, 'accuracy')"
            ]
          },
          "metadata": {
            "tags": []
          },
          "execution_count": 101
        },
        {
          "output_type": "display_data",
          "data": {
            "image/png": "[encoded data removed]",
            "text/plain": [
              "<Figure size 432x288 with 1 Axes>"
            ]
          },
          "metadata": {
            "tags": [],
            "needs_background": "light"
          }
        }
      ]
    },
    {
      "cell_type": "code",
      "metadata": {
        "colab": {
          "base_uri": "https://localhost:8080/"
        },
        "id": "K1kH3QsqaJYs",
        "outputId": "480c8d8d-70b8-4a33-bd27-eb809dbd67fa"
      },
      "source": [
        "# model.load_state_dict(torch.load('//content/drive/MyDrive/Colab Notebooks/BS6207/Project/training_data.zip (Unzipped Files)/model_22weight_trial4_bigmatrix.pt'))"
      ],
      "execution_count": null,
      "outputs": [
        {
          "output_type": "execute_result",
          "data": {
            "text/plain": [
              "<All keys matched successfully>"
            ]
          },
          "metadata": {
            "tags": []
          },
          "execution_count": 136
        }
      ]
    },
    {
      "cell_type": "code",
      "metadata": {
        "colab": {
          "base_uri": "https://localhost:8080/",
          "height": 362
        },
        "id": "psE98s_FUrhq",
        "outputId": "13d2cf62-cc5b-436e-ce44-6711cd367be2"
      },
      "source": [
        "# confusion matrix for validation\n",
        "model.eval() \n",
        "with torch.no_grad():\n",
        "  y_pred = []\n",
        "  y_true = []\n",
        "  for images, labels in valloader:\n",
        "    y_true.extend(labels)\n",
        "    output_val = model(images)\n",
        "    y_pred_softmax = torch.log_softmax(output_val, dim = 1)\n",
        "    _, preds = torch.max(y_pred_softmax, dim=1)\n",
        "    preds = preds.detach().numpy()\n",
        "    y_pred.extend(preds)\n",
        "from sklearn.metrics import confusion_matrix\n",
        "# get actual label\n",
        "cnf_matrix = confusion_matrix(y_true, y_pred)\n",
        "plot_confusion_matrix(cnf_matrix, classes = [0,1], normalize = True, title = 'Confusion matrix2 (Validation)')"
      ],
      "execution_count": null,
      "outputs": [
        {
          "output_type": "stream",
          "text": [
            "Normalized confusion matrix\n",
            "[[0.89555556 0.10444444]\n",
            " [0.02888889 0.97111111]]\n"
          ],
          "name": "stdout"
        },
        {
          "output_type": "display_data",
          "data": {
            "image/png": "[encoded data removed]",
            "text/plain": [
              "<Figure size 432x288 with 2 Axes>"
            ]
          },
          "metadata": {
            "tags": [],
            "needs_background": "light"
          }
        }
      ]
    },
    {
      "cell_type": "code",
      "metadata": {
        "colab": {
          "base_uri": "https://localhost:8080/",
          "height": 362
        },
        "id": "QIYjLQ4-Urhq",
        "outputId": "2bf49560-38fd-42c2-dadc-a46de4ab0b15"
      },
      "source": [
        "# confusion matrix for validation\n",
        "model.eval() \n",
        "with torch.no_grad():\n",
        "  y_pred = []\n",
        "  y_true = []\n",
        "  for images, labels in trainloader:\n",
        "    y_true.extend(labels)\n",
        "    output_val = model(images)\n",
        "    y_pred_softmax = torch.log_softmax(output_val, dim = 1)\n",
        "    _, preds = torch.max(y_pred_softmax, dim=1)\n",
        "    preds = preds.detach().numpy()\n",
        "    y_pred.extend(preds)\n",
        "from sklearn.metrics import confusion_matrix\n",
        "# get actual label\n",
        "cnf_matrix = confusion_matrix(y_true, y_pred)\n",
        "plot_confusion_matrix(cnf_matrix, classes = [0,1], normalize = True, title = 'Confusion matrix2 (training)')"
      ],
      "execution_count": null,
      "outputs": [
        {
          "output_type": "stream",
          "text": [
            "Normalized confusion matrix\n",
            "[[0.91137255 0.08862745]\n",
            " [0.02980392 0.97019608]]\n"
          ],
          "name": "stdout"
        },
        {
          "output_type": "display_data",
          "data": {
            "image/png": "[encoded data removed]",
            "text/plain": [
              "<Figure size 432x288 with 2 Axes>"
            ]
          },
          "metadata": {
            "tags": [],
            "needs_background": "light"
          }
        }
      ]
    },
    {
      "cell_type": "code",
      "metadata": {
        "colab": {
          "base_uri": "https://localhost:8080/"
        },
        "id": "oUqSRKSYXhyQ",
        "outputId": "d512e00f-061a-4695-a8b8-043f1e69065e"
      },
      "source": [
        "# load the validation sparse 3d matrix\n",
        "valtest_cube = []\n",
        "for i in range(len(all_val)):\n",
        "  temp = voxelize(all_val[i][0], all_val[i][1], max_side = 24, grid = 2)\n",
        "  valtest_cube.append(COO.todense(temp))\n",
        "valtest_cube = np.array(valtest_cube)\n",
        "valtest_cube = valtest_cube.reshape(valtest_cube.shape[0], 1, valtest_cube.shape[1], valtest_cube.shape[2], valtest_cube.shape[3])\n",
        "print(valtest_cube.shape)\n",
        "\n",
        "# build the validation dataloader\n",
        "valtest_data = []\n",
        "count = 0\n",
        "for i in range(len(all_val)):\n",
        "  if all_val[i][2] == 0:\n",
        "    #print(0)\n",
        "    pass\n",
        "  elif (all_val[i][2] == 1) & (count < 45):\n",
        "    count += 1\n",
        "    pass\n",
        "  else:\n",
        "    continue\n",
        "  valtest_data.append([valtest_cube[i], all_val[i][2]])\n",
        "valtest_loader = torch.utils.data.DataLoader(valtest_data, shuffle = True)"
      ],
      "execution_count": null,
      "outputs": [
        {
          "output_type": "stream",
          "text": [
            "(900, 1, 25, 25, 25)\n"
          ],
          "name": "stdout"
        }
      ]
    },
    {
      "cell_type": "code",
      "metadata": {
        "colab": {
          "base_uri": "https://localhost:8080/",
          "height": 362
        },
        "id": "GwvhjKC-S6J9",
        "outputId": "4c1273f4-5909-4361-f0c9-3281c6f278b5"
      },
      "source": [
        "model.load_state_dict(torch.load('/content/model_12weight_trial4.pt'))\n",
        "model.eval() \n",
        "with torch.no_grad():\n",
        "  y_pred = []\n",
        "  y_true = []\n",
        "  for images, labels in valtest_loader:\n",
        "    y_true.extend(labels)\n",
        "    output_val = model(images)\n",
        "    y_pred_softmax = torch.log_softmax(output_val, dim = 1)\n",
        "    _, preds = torch.max(y_pred_softmax, dim=1)\n",
        "    preds = preds.detach().numpy()\n",
        "    y_pred.extend(preds)\n",
        "from sklearn.metrics import confusion_matrix\n",
        "# get actual label\n",
        "cnf_matrix = confusion_matrix(y_true, y_pred)\n",
        "plot_confusion_matrix(cnf_matrix, classes = [0,1], normalize = True, title = 'Confusion matrix2 (Validation)')"
      ],
      "execution_count": null,
      "outputs": [
        {
          "output_type": "stream",
          "text": [
            "Normalized confusion matrix\n",
            "[[0.89555556 0.10444444]\n",
            " [0.         1.        ]]\n"
          ],
          "name": "stdout"
        },
        {
          "output_type": "display_data",
          "data": {
            "image/png": "[encoded data removed]",
            "text/plain": [
              "<Figure size 432x288 with 2 Axes>"
            ]
          },
          "metadata": {
            "tags": [],
            "needs_background": "light"
          }
        }
      ]
    },
    {
      "cell_type": "code",
      "metadata": {
        "id": "LoGMajP-S57m"
      },
      "source": [
        "# check the model performance in validation set by predicting the top 10 binding ligand\n",
        "model.load_state_dict(torch.load('/content/model_12weight_trial4.pt'))\n",
        "# sort the protein and ligand filename list\n",
        "lg_filename = sorted(lg_filename)\n",
        "pro_filename = sorted(pro_filename)\n",
        "\n",
        "# select the first val_size pairs as positive validation\n",
        "val_lg_pos = lg_filename[:100]\n",
        "val_pro_pos = pro_filename[0:30]\n",
        "\n",
        "model.eval()\n",
        "val_pro = []\n",
        "val_lig = []\n",
        "val_bind_score = []\n",
        "val_notbind_score = []\n",
        "for i in range(30):\n",
        "  for j in range(100):\n",
        "    val_pro.append(i+1)\n",
        "    val_lig.append(j+1)\n",
        "    temp = voxelize(pro_filename=val_pro_pos[i], lig_filename=val_lg_pos[j], max_side=24, grid=2)\n",
        "    temp = torch.from_numpy(COO.todense(temp))\n",
        "    temp = torch.reshape(temp, (1,1,25,25,25))\n",
        "    output = model(temp)\n",
        "    output = torch.softmax(output, dim = 1)\n",
        "    output = output.detach().numpy()\n",
        "    #print(output)\n",
        "    val_bind_score.append(output[0][1])\n",
        "    val_notbind_score.append(output[0][0])\n",
        "\n",
        "val_df = pd.DataFrame({'pro': val_pro, 'lig': val_lig, 'bind_prob': val_bind_score, 'notbind_prob': val_notbind_score})\n",
        "val_df = val_df[val_df.bind_prob > val_df.notbind_prob]\n",
        "val_df_top = pd.DataFrame(val_df.groupby(['pro'])['bind_prob'].nlargest(10)).reset_index()\n"
      ],
      "execution_count": null,
      "outputs": []
    },
    {
      "cell_type": "code",
      "metadata": {
        "colab": {
          "base_uri": "https://localhost:8080/",
          "height": 204
        },
        "id": "i61jJcjM9gHB",
        "outputId": "80e3709f-5b3a-44d6-bf90-f88cfbebd977"
      },
      "source": [
        "temp = list(val_df.lig.loc[val_df_top.level_1])\n",
        "val_df_top['lig_id'] = temp\n",
        "val_df_top.head()"
      ],
      "execution_count": null,
      "outputs": [
        {
          "output_type": "execute_result",
          "data": {
            "text/html": [
              "<div>\n",
              "<style scoped>\n",
              "    .dataframe tbody tr th:only-of-type {\n",
              "        vertical-align: middle;\n",
              "    }\n",
              "\n",
              "    .dataframe tbody tr th {\n",
              "        vertical-align: top;\n",
              "    }\n",
              "\n",
              "    .dataframe thead th {\n",
              "        text-align: right;\n",
              "    }\n",
              "</style>\n",
              "<table border=\"1\" class=\"dataframe\">\n",
              "  <thead>\n",
              "    <tr style=\"text-align: right;\">\n",
              "      <th></th>\n",
              "      <th>pro</th>\n",
              "      <th>level_1</th>\n",
              "      <th>bind_prob</th>\n",
              "      <th>lig_id</th>\n",
              "    </tr>\n",
              "  </thead>\n",
              "  <tbody>\n",
              "    <tr>\n",
              "      <th>0</th>\n",
              "      <td>1</td>\n",
              "      <td>48</td>\n",
              "      <td>0.997197</td>\n",
              "      <td>49</td>\n",
              "    </tr>\n",
              "    <tr>\n",
              "      <th>1</th>\n",
              "      <td>1</td>\n",
              "      <td>96</td>\n",
              "      <td>0.995971</td>\n",
              "      <td>97</td>\n",
              "    </tr>\n",
              "    <tr>\n",
              "      <th>2</th>\n",
              "      <td>1</td>\n",
              "      <td>84</td>\n",
              "      <td>0.989319</td>\n",
              "      <td>85</td>\n",
              "    </tr>\n",
              "    <tr>\n",
              "      <th>3</th>\n",
              "      <td>1</td>\n",
              "      <td>0</td>\n",
              "      <td>0.987288</td>\n",
              "      <td>1</td>\n",
              "    </tr>\n",
              "    <tr>\n",
              "      <th>4</th>\n",
              "      <td>1</td>\n",
              "      <td>39</td>\n",
              "      <td>0.983373</td>\n",
              "      <td>40</td>\n",
              "    </tr>\n",
              "  </tbody>\n",
              "</table>\n",
              "</div>"
            ],
            "text/plain": [
              "   pro  level_1  bind_prob  lig_id\n",
              "0    1       48   0.997197      49\n",
              "1    1       96   0.995971      97\n",
              "2    1       84   0.989319      85\n",
              "3    1        0   0.987288       1\n",
              "4    1       39   0.983373      40"
            ]
          },
          "metadata": {
            "tags": []
          },
          "execution_count": 207
        }
      ]
    },
    {
      "cell_type": "code",
      "metadata": {
        "colab": {
          "base_uri": "https://localhost:8080/"
        },
        "id": "m1Sr176399hb",
        "outputId": "881fa6fd-eece-4663-a06f-b2f104918f0d"
      },
      "source": [
        "for i in range(30):\n",
        "  print(i+1)\n",
        "  print(val_df_top.lig_id[val_df_top.pro == i+1]) # able to predict most of the  binding pairs within the top 10 ligand (26/30)"
      ],
      "execution_count": null,
      "outputs": [
        {
          "output_type": "stream",
          "text": [
            "1\n",
            "0    49\n",
            "1    97\n",
            "2    85\n",
            "3     1\n",
            "4    40\n",
            "5    80\n",
            "6    66\n",
            "7    82\n",
            "8    76\n",
            "9    69\n",
            "Name: lig_id, dtype: int64\n",
            "2\n",
            "10    34\n",
            "11    19\n",
            "12     2\n",
            "13     6\n",
            "Name: lig_id, dtype: int64\n",
            "3\n",
            "14    82\n",
            "15     5\n",
            "16    18\n",
            "17    58\n",
            "18    32\n",
            "19    89\n",
            "20    45\n",
            "21    97\n",
            "22    59\n",
            "23     3\n",
            "Name: lig_id, dtype: int64\n",
            "4\n",
            "24     4\n",
            "25    29\n",
            "26    90\n",
            "Name: lig_id, dtype: int64\n",
            "5\n",
            "27    89\n",
            "28    79\n",
            "29    53\n",
            "30    58\n",
            "31     5\n",
            "32    59\n",
            "33    15\n",
            "34     3\n",
            "35    50\n",
            "36    97\n",
            "Name: lig_id, dtype: int64\n",
            "6\n",
            "37    52\n",
            "38     6\n",
            "39    93\n",
            "40    60\n",
            "41    58\n",
            "42    20\n",
            "43     3\n",
            "44    23\n",
            "45    71\n",
            "46    73\n",
            "Name: lig_id, dtype: int64\n",
            "7\n",
            "47     7\n",
            "48    43\n",
            "49    44\n",
            "Name: lig_id, dtype: int64\n",
            "8\n",
            "50    78\n",
            "51     8\n",
            "52    86\n",
            "Name: lig_id, dtype: int64\n",
            "9\n",
            "53    40\n",
            "54    66\n",
            "55     9\n",
            "56    97\n",
            "Name: lig_id, dtype: int64\n",
            "10\n",
            "57    75\n",
            "58    47\n",
            "59    10\n",
            "60    94\n",
            "Name: lig_id, dtype: int64\n",
            "11\n",
            "61    11\n",
            "62    87\n",
            "Name: lig_id, dtype: int64\n",
            "12\n",
            "63    12\n",
            "64    98\n",
            "65    54\n",
            "66    64\n",
            "67    67\n",
            "Name: lig_id, dtype: int64\n",
            "13\n",
            "68    44\n",
            "69    31\n",
            "70    95\n",
            "71    43\n",
            "72    13\n",
            "73    92\n",
            "74     7\n",
            "75    93\n",
            "76    59\n",
            "77    79\n",
            "Name: lig_id, dtype: int64\n",
            "14\n",
            "78    56\n",
            "Name: lig_id, dtype: int64\n",
            "15\n",
            "79    82\n",
            "80    40\n",
            "81    97\n",
            "82    66\n",
            "83    49\n",
            "84    32\n",
            "85    72\n",
            "86    85\n",
            "87    70\n",
            "88    59\n",
            "Name: lig_id, dtype: int64\n",
            "16\n",
            "89    91\n",
            "90    16\n",
            "Name: lig_id, dtype: int64\n",
            "17\n",
            "91    17\n",
            "92    12\n",
            "93    64\n",
            "94    67\n",
            "Name: lig_id, dtype: int64\n",
            "18\n",
            "95      5\n",
            "96     32\n",
            "97     82\n",
            "98     59\n",
            "99     18\n",
            "100    15\n",
            "101    25\n",
            "102    31\n",
            "103    79\n",
            "104    53\n",
            "Name: lig_id, dtype: int64\n",
            "19\n",
            "105    34\n",
            "106    19\n",
            "107     2\n",
            "108     6\n",
            "Name: lig_id, dtype: int64\n",
            "20\n",
            "109    82\n",
            "110     5\n",
            "111    18\n",
            "112    58\n",
            "113    89\n",
            "114    32\n",
            "115    45\n",
            "116    97\n",
            "117    59\n",
            "118     3\n",
            "Name: lig_id, dtype: int64\n",
            "21\n",
            "119    77\n",
            "120    21\n",
            "121    76\n",
            "Name: lig_id, dtype: int64\n",
            "22\n",
            "122    22\n",
            "Name: lig_id, dtype: int64\n",
            "23\n",
            "123    52\n",
            "124    71\n",
            "125    23\n",
            "126    68\n",
            "127    93\n",
            "Name: lig_id, dtype: int64\n",
            "24\n",
            "128    69\n",
            "129    49\n",
            "130    24\n",
            "131     1\n",
            "Name: lig_id, dtype: int64\n",
            "25\n",
            "132    89\n",
            "133    82\n",
            "134    79\n",
            "135    58\n",
            "136     3\n",
            "137    59\n",
            "138    32\n",
            "139    15\n",
            "140    31\n",
            "141    53\n",
            "Name: lig_id, dtype: int64\n",
            "26\n",
            "142    26\n",
            "143    73\n",
            "144    80\n",
            "145    60\n",
            "146    67\n",
            "147     9\n",
            "148    97\n",
            "149    89\n",
            "Name: lig_id, dtype: int64\n",
            "27\n",
            "150    96\n",
            "151    48\n",
            "152    83\n",
            "153    21\n",
            "154    77\n",
            "155    76\n",
            "156     9\n",
            "157    54\n",
            "158    27\n",
            "159    80\n",
            "Name: lig_id, dtype: int64\n",
            "28\n",
            "160    57\n",
            "161    31\n",
            "162    79\n",
            "163    58\n",
            "164     3\n",
            "165    89\n",
            "166    28\n",
            "167    20\n",
            "168    50\n",
            "169    53\n",
            "Name: lig_id, dtype: int64\n",
            "29\n",
            "170     4\n",
            "171    29\n",
            "172    90\n",
            "Name: lig_id, dtype: int64\n",
            "30\n",
            "173    30\n",
            "174    63\n",
            "175    22\n",
            "176    87\n",
            "Name: lig_id, dtype: int64\n"
          ],
          "name": "stdout"
        }
      ]
    },
    {
      "cell_type": "markdown",
      "metadata": {
        "id": "UBQvEFjfwRFC"
      },
      "source": [
        "### Trail 2 - Cost-sensitive loss function (10:800:400:0) + dynamic training data refreshed every 5 epochs"
      ]
    },
    {
      "cell_type": "code",
      "metadata": {
        "colab": {
          "base_uri": "https://localhost:8080/"
        },
        "id": "FLOKmHrOa8Cm",
        "outputId": "20cc5447-f8cb-4185-e166-cdcfd3224d3e"
      },
      "source": [
        "#from torch.optim import Adam\n",
        "# defining the model\n",
        "model = Net()\n",
        "# defining the optimizer\n",
        "optimizer = Adam(model.parameters(), lr=0.0005) # weight_decay = 0.005\n",
        "\n",
        "# defining the loss function\n",
        "n_classes = 2\n",
        "base_loss = 'ce'\n",
        "lambd = 10 # regularization parameter\n",
        "criterion = CostSensitiveRegularizedLoss(n_classes = n_classes, base_loss = base_loss, lambd = lambd)\n",
        "#M = np.array([[10, 400], [200, 0]], dtype = float)\n",
        "M = np.array([[10,800], [400, 0]], dtype = float)\n",
        "M /= M.max()\n",
        "criterion.M = torch.from_numpy(M)\n",
        "\n",
        "M"
      ],
      "execution_count": null,
      "outputs": [
        {
          "output_type": "execute_result",
          "data": {
            "text/plain": [
              "array([[0.0125, 1.    ],\n",
              "       [0.5   , 0.    ]])"
            ]
          },
          "metadata": {
            "tags": []
          },
          "execution_count": 106
        }
      ]
    },
    {
      "cell_type": "code",
      "metadata": {
        "colab": {
          "base_uri": "https://localhost:8080/"
        },
        "id": "79Fbk5M2a8DJ",
        "outputId": "4463b14a-f40c-49a7-dd04-1345628b2f98"
      },
      "source": [
        "model.apply(weight_reset)"
      ],
      "execution_count": null,
      "outputs": [
        {
          "output_type": "execute_result",
          "data": {
            "text/plain": [
              "Net(\n",
              "  (cnn_layers): Sequential(\n",
              "    (0): Conv3d(1, 8, kernel_size=(3, 3, 3), stride=(1, 1, 1))\n",
              "    (1): BatchNorm3d(8, eps=1e-05, momentum=0.1, affine=True, track_running_stats=True)\n",
              "    (2): ReLU(inplace=True)\n",
              "    (3): MaxPool3d(kernel_size=2, stride=1, padding=0, dilation=1, ceil_mode=False)\n",
              "    (4): Conv3d(8, 16, kernel_size=(3, 3, 3), stride=(1, 1, 1))\n",
              "    (5): BatchNorm3d(16, eps=1e-05, momentum=0.1, affine=True, track_running_stats=True)\n",
              "    (6): ReLU(inplace=True)\n",
              "    (7): MaxPool3d(kernel_size=2, stride=2, padding=0, dilation=1, ceil_mode=False)\n",
              "    (8): Conv3d(16, 32, kernel_size=(3, 3, 3), stride=(1, 1, 1))\n",
              "    (9): BatchNorm3d(32, eps=1e-05, momentum=0.1, affine=True, track_running_stats=True)\n",
              "    (10): ReLU(inplace=True)\n",
              "    (11): MaxPool3d(kernel_size=2, stride=2, padding=0, dilation=1, ceil_mode=False)\n",
              "  )\n",
              "  (linear_layers): Sequential(\n",
              "    (0): Dropout(p=0.1, inplace=False)\n",
              "    (1): Linear(in_features=2048, out_features=32, bias=True)\n",
              "    (2): ReLU()\n",
              "    (3): Linear(in_features=32, out_features=2, bias=True)\n",
              "  )\n",
              ")"
            ]
          },
          "metadata": {
            "tags": []
          },
          "execution_count": 107
        }
      ]
    },
    {
      "cell_type": "code",
      "metadata": {
        "colab": {
          "base_uri": "https://localhost:8080/"
        },
        "id": "lzxGwaxya8DK",
        "outputId": "8e6a3d24-4855-49ca-fe81-78db7377f49d"
      },
      "source": [
        "# defining the number of epochs\n",
        "n_epochs = 80\n",
        "# empty list to store training losses\n",
        "train_losses5 = []\n",
        "train_acc5 = []\n",
        "# empty list to store validation losses\n",
        "val_losses5 = []\n",
        "val_acc5 =[]\n",
        "epoch_count5 = []\n",
        "# training the model\n",
        "es = 0\n",
        "best_loss = 1000\n",
        "for epoch in range(n_epochs):\n",
        "    if epoch % 5 != 0:\n",
        "      pass\n",
        "    else:\n",
        "      all_train, all_val = dynamic_train_val_split(val_perc = 0.15, seed = epoch)\n",
        "      trainloader, valloader = dataloader_builder(all_train, all_val, max_side = 24, grid = 2)\n",
        "\n",
        "    train(epoch, trainloader = trainloader, valloader = valloader)\n",
        "    epoch_count5.append(epoch)\n",
        "    train_losses5.append(train.train_loss/len(trainloader))\n",
        "    val_losses5.append(train.val_loss/len(valloader))\n",
        "    train_acc5.append(train.train_acces/len(trainloader))\n",
        "    val_acc5.append(train.val_acces/len(valloader))\n",
        "    # early stopping\n",
        "    if train.val_loss/len(valloader) < best_loss:\n",
        "      best_loss = train.val_loss/len(valloader)\n",
        "      es = 0\n",
        "      torch.save(model.state_dict(), \"model_\" + str(epoch) + 'weight_trial5.pt')\n",
        "      best_epoch = epoch\n",
        "    else:\n",
        "      es += 1\n",
        "      print(\"Counter {} of 15\".format(es))\n",
        "\n",
        "    if es > 14:\n",
        "      print(\"Early stopping! Best epoch: \", str(best_epoch))\n",
        "      model.load_state_dict(torch.load('/content/model_' + str(best_epoch) +'weight_trial5.pt'))\n",
        "      break"
      ],
      "execution_count": null,
      "outputs": [
        {
          "output_type": "stream",
          "text": [
            "Positive cases in training:  2548 Negative cases in training:  2552\n",
            "Positive cases in val:  450 Negative cases in training:  450\n",
            "24 2\n",
            "(5100, 1, 25, 25, 25)\n",
            "25.0\n",
            "(900, 1, 25, 25, 25)\n",
            "Epoch 1 - Training loss: 507.2353044210933, Training Accuracy: 0.5020543932914734\n",
            "Validation loss: 428.2422364167869, Validation Accuracy: 0.5302734375\n",
            "Epoch 2 - Training loss: 309.673734375328, Training Accuracy: 0.7167389988899231\n",
            "Validation loss: 318.3041671396334, Validation Accuracy: 0.607421875\n",
            "Epoch 3 - Training loss: 123.98900942398446, Training Accuracy: 0.9253689050674438\n",
            "Validation loss: 76.60289321749062, Validation Accuracy: 0.9619140625\n",
            "Epoch 4 - Training loss: 120.23942807402682, Training Accuracy: 0.9301432371139526\n",
            "Validation loss: 75.48079034303369, Validation Accuracy: 0.9296875\n",
            "Epoch 5 - Training loss: 117.57592774164698, Training Accuracy: 0.9313513040542603\n",
            "Validation loss: 74.90017928289814, Validation Accuracy: 0.9599609375\n",
            "Positive cases in training:  2548 Negative cases in training:  2552\n",
            "Positive cases in val:  448 Negative cases in training:  452\n",
            "24 2\n",
            "(5100, 1, 25, 25, 25)\n",
            "25.0\n",
            "(900, 1, 25, 25, 25)\n",
            "Epoch 6 - Training loss: 112.43845123975618, Training Accuracy: 0.9374059438705444\n",
            "Validation loss: 91.61719494843871, Validation Accuracy: 0.921875\n",
            "Counter 1 of 15\n",
            "Epoch 7 - Training loss: 110.19887461075659, Training Accuracy: 0.939344584941864\n",
            "Validation loss: 94.35685856342462, Validation Accuracy: 0.947265625\n",
            "Counter 2 of 15\n",
            "Epoch 8 - Training loss: 109.21406512744781, Training Accuracy: 0.9372106790542603\n",
            "Validation loss: 100.3836607588787, Validation Accuracy: 0.91796875\n",
            "Counter 3 of 15\n",
            "Epoch 9 - Training loss: 110.85545082165751, Training Accuracy: 0.9373191595077515\n",
            "Validation loss: 164.513584542602, Validation Accuracy: 0.810546875\n",
            "Counter 4 of 15\n",
            "Epoch 10 - Training loss: 109.4101672813766, Training Accuracy: 0.9366970062255859\n",
            "Validation loss: 92.70575994250834, Validation Accuracy: 0.953125\n",
            "Counter 5 of 15\n",
            "Positive cases in training:  2549 Negative cases in training:  2551\n",
            "Positive cases in val:  449 Negative cases in training:  451\n",
            "24 2\n",
            "(5100, 1, 25, 25, 25)\n",
            "25.0\n",
            "(900, 1, 25, 25, 25)\n",
            "Epoch 11 - Training loss: 111.60547454982472, Training Accuracy: 0.9365741014480591\n",
            "Validation loss: 69.87980625897447, Validation Accuracy: 0.9619140625\n",
            "Epoch 12 - Training loss: 108.45199062850482, Training Accuracy: 0.9390552639961243\n",
            "Validation loss: 71.84690447871256, Validation Accuracy: 0.931640625\n",
            "Counter 1 of 15\n",
            "Epoch 13 - Training loss: 106.64613027585919, Training Accuracy: 0.9405309557914734\n",
            "Validation loss: 69.73083967556904, Validation Accuracy: 0.96484375\n",
            "Epoch 14 - Training loss: 106.01855204889151, Training Accuracy: 0.9386501312255859\n",
            "Validation loss: 69.8702348904611, Validation Accuracy: 0.9609375\n",
            "Counter 1 of 15\n",
            "Epoch 15 - Training loss: 104.74389193835643, Training Accuracy: 0.9412254095077515\n",
            "Validation loss: 69.52302096931096, Validation Accuracy: 0.966796875\n",
            "Positive cases in training:  2546 Negative cases in training:  2554\n",
            "Positive cases in val:  450 Negative cases in training:  450\n",
            "24 2\n",
            "(5100, 1, 25, 25, 25)\n",
            "25.0\n",
            "(900, 1, 25, 25, 25)\n",
            "Epoch 16 - Training loss: 109.790833175546, Training Accuracy: 0.9361616969108582\n",
            "Validation loss: 92.90750015727579, Validation Accuracy: 0.951171875\n",
            "Counter 1 of 15\n",
            "Epoch 17 - Training loss: 108.77934516661392, Training Accuracy: 0.9378327131271362\n",
            "Validation loss: 83.82783787765685, Validation Accuracy: 0.955078125\n",
            "Counter 2 of 15\n",
            "Epoch 18 - Training loss: 106.88447911284868, Training Accuracy: 0.9415798187255859\n",
            "Validation loss: 85.95418392149622, Validation Accuracy: 0.9541015625\n",
            "Counter 3 of 15\n",
            "Epoch 19 - Training loss: 106.43726393590313, Training Accuracy: 0.9393084645271301\n",
            "Validation loss: 84.8166506510846, Validation Accuracy: 0.9541015625\n",
            "Counter 4 of 15\n",
            "Epoch 20 - Training loss: 104.30326366867973, Training Accuracy: 0.9417389631271362\n",
            "Validation loss: 83.80451596116221, Validation Accuracy: 0.9560546875\n",
            "Counter 5 of 15\n",
            "Positive cases in training:  2549 Negative cases in training:  2551\n",
            "Positive cases in val:  449 Negative cases in training:  451\n",
            "24 2\n",
            "(5100, 1, 25, 25, 25)\n",
            "25.0\n",
            "(900, 1, 25, 25, 25)\n",
            "Epoch 21 - Training loss: 111.23940374520564, Training Accuracy: 0.9364800453186035\n",
            "Validation loss: 112.44384377950267, Validation Accuracy: 0.8916015625\n",
            "Counter 6 of 15\n",
            "Epoch 22 - Training loss: 111.54318539696024, Training Accuracy: 0.9350767135620117\n",
            "Validation loss: 87.07555032042634, Validation Accuracy: 0.953125\n",
            "Counter 7 of 15\n",
            "Epoch 23 - Training loss: 108.37698847322777, Training Accuracy: 0.9390407800674438\n",
            "Validation loss: 88.65211068647157, Validation Accuracy: 0.951171875\n",
            "Counter 8 of 15\n",
            "Epoch 24 - Training loss: 107.67263863068312, Training Accuracy: 0.940212607383728\n",
            "Validation loss: 87.1733686535679, Validation Accuracy: 0.9501953125\n",
            "Counter 9 of 15\n",
            "Epoch 25 - Training loss: 106.37545126018809, Training Accuracy: 0.9393952488899231\n",
            "Validation loss: 102.34635179492761, Validation Accuracy: 0.9169921875\n",
            "Counter 10 of 15\n",
            "Positive cases in training:  2550 Negative cases in training:  2550\n",
            "Positive cases in val:  450 Negative cases in training:  450\n",
            "24 2\n",
            "(5100, 1, 25, 25, 25)\n",
            "25.0\n",
            "(900, 1, 25, 25, 25)\n",
            "Epoch 26 - Training loss: 105.19279848924718, Training Accuracy: 0.9409216046333313\n",
            "Validation loss: 99.18190226650457, Validation Accuracy: 0.9443359375\n",
            "Counter 11 of 15\n",
            "Epoch 27 - Training loss: 100.82599729354322, Training Accuracy: 0.9429108500480652\n",
            "Validation loss: 100.67912490307909, Validation Accuracy: 0.94140625\n",
            "Counter 12 of 15\n",
            "Epoch 28 - Training loss: 105.79248728566719, Training Accuracy: 0.9419342875480652\n",
            "Validation loss: 109.69801540511631, Validation Accuracy: 0.9296875\n",
            "Counter 13 of 15\n",
            "Epoch 29 - Training loss: 102.08127528713696, Training Accuracy: 0.9422019720077515\n",
            "Validation loss: 118.92277442663227, Validation Accuracy: 0.9140625\n",
            "Counter 14 of 15\n",
            "Epoch 30 - Training loss: 102.0901931509734, Training Accuracy: 0.9415798187255859\n",
            "Validation loss: 101.2201992709212, Validation Accuracy: 0.9443359375\n",
            "Counter 15 of 15\n",
            "Early stopping! Best epoch:  14\n"
          ],
          "name": "stdout"
        }
      ]
    },
    {
      "cell_type": "code",
      "metadata": {
        "colab": {
          "base_uri": "https://localhost:8080/",
          "height": 296
        },
        "id": "DW7uccbmwRFi",
        "outputId": "de4161a8-3b36-49d6-ff38-2609428a222d"
      },
      "source": [
        "plt.plot(epoch_count5, train_losses5, label = 'train_loss')\n",
        "plt.plot(epoch_count5, val_losses5, label = 'val_loss')\n",
        "plt.xlabel('epoch')\n",
        "plt.legend()\n",
        "plt.ylabel('loss')"
      ],
      "execution_count": null,
      "outputs": [
        {
          "output_type": "execute_result",
          "data": {
            "text/plain": [
              "Text(0, 0.5, 'loss')"
            ]
          },
          "metadata": {
            "tags": []
          },
          "execution_count": 109
        },
        {
          "output_type": "display_data",
          "data": {
            "image/png": "[encoded data removed]",
            "text/plain": [
              "<Figure size 432x288 with 1 Axes>"
            ]
          },
          "metadata": {
            "tags": [],
            "needs_background": "light"
          }
        }
      ]
    },
    {
      "cell_type": "code",
      "metadata": {
        "colab": {
          "base_uri": "https://localhost:8080/",
          "height": 296
        },
        "id": "A2PQVt1kwRFj",
        "outputId": "6ede1bb8-4938-48fd-88a4-e77657b3766a"
      },
      "source": [
        "plt.plot(epoch_count5, train_acc5, label = 'train_accuracy')\n",
        "plt.plot(epoch_count5, val_acc5, label = 'val_accuracy')\n",
        "plt.xlabel('epoch')\n",
        "plt.legend()\n",
        "plt.ylabel('accuracy')"
      ],
      "execution_count": null,
      "outputs": [
        {
          "output_type": "execute_result",
          "data": {
            "text/plain": [
              "Text(0, 0.5, 'accuracy')"
            ]
          },
          "metadata": {
            "tags": []
          },
          "execution_count": 110
        },
        {
          "output_type": "display_data",
          "data": {
            "image/png": "[encoded data removed]",
            "text/plain": [
              "<Figure size 432x288 with 1 Axes>"
            ]
          },
          "metadata": {
            "tags": [],
            "needs_background": "light"
          }
        }
      ]
    },
    {
      "cell_type": "code",
      "metadata": {
        "colab": {
          "base_uri": "https://localhost:8080/"
        },
        "id": "6-yVpAjZUM4O",
        "outputId": "2099aeb8-3cdb-4e2e-a6cb-47623aff17b2"
      },
      "source": [
        "# model.load_state_dict(torch.load('/content/drive/MyDrive/Colab Notebooks/BS6207/Project/training_data.zip (Unzipped Files)/model_49weight_trial5_800.pt'))"
      ],
      "execution_count": null,
      "outputs": [
        {
          "output_type": "execute_result",
          "data": {
            "text/plain": [
              "<All keys matched successfully>"
            ]
          },
          "metadata": {
            "tags": []
          },
          "execution_count": 147
        }
      ]
    },
    {
      "cell_type": "code",
      "metadata": {
        "colab": {
          "base_uri": "https://localhost:8080/",
          "height": 362
        },
        "id": "3_STMRO2wRFj",
        "outputId": "90295716-fc08-4a3e-8e78-2f3e41237402"
      },
      "source": [
        "# confusion matrix for validation\n",
        "model.eval() \n",
        "with torch.no_grad():\n",
        "  y_pred = []\n",
        "  y_true = []\n",
        "  for images, labels in valloader:\n",
        "    y_true.extend(labels)\n",
        "    output_val = model(images)\n",
        "    y_pred_softmax = torch.log_softmax(output_val, dim = 1)\n",
        "    _, preds = torch.max(y_pred_softmax, dim=1)\n",
        "    preds = preds.detach().numpy()\n",
        "    y_pred.extend(preds)\n",
        "from sklearn.metrics import confusion_matrix\n",
        "# get actual label\n",
        "cnf_matrix = confusion_matrix(y_true, y_pred)\n",
        "plot_confusion_matrix(cnf_matrix, classes = [0,1], normalize = True, title = 'Confusion matrix2 (Validation)')"
      ],
      "execution_count": null,
      "outputs": [
        {
          "output_type": "stream",
          "text": [
            "Normalized confusion matrix\n",
            "[[0.87777778 0.12222222]\n",
            " [0.00666667 0.99333333]]\n"
          ],
          "name": "stdout"
        },
        {
          "output_type": "display_data",
          "data": {
            "image/png": "[encoded data removed]",
            "text/plain": [
              "<Figure size 432x288 with 2 Axes>"
            ]
          },
          "metadata": {
            "tags": [],
            "needs_background": "light"
          }
        }
      ]
    },
    {
      "cell_type": "code",
      "metadata": {
        "colab": {
          "base_uri": "https://localhost:8080/",
          "height": 362
        },
        "id": "e-cLOmW1wRFj",
        "outputId": "c30dd508-5a9d-4832-f7b6-6663b5f83aab"
      },
      "source": [
        "# confusion matrix for validation\n",
        "model.eval() \n",
        "with torch.no_grad():\n",
        "  y_pred = []\n",
        "  y_true = []\n",
        "  for images, labels in trainloader:\n",
        "    y_true.extend(labels)\n",
        "    output_val = model(images)\n",
        "    y_pred_softmax = torch.log_softmax(output_val, dim = 1)\n",
        "    _, preds = torch.max(y_pred_softmax, dim=1)\n",
        "    preds = preds.detach().numpy()\n",
        "    y_pred.extend(preds)\n",
        "from sklearn.metrics import confusion_matrix\n",
        "# get actual label\n",
        "cnf_matrix = confusion_matrix(y_true, y_pred)\n",
        "plot_confusion_matrix(cnf_matrix, classes = [0,1], normalize = True, title = 'Confusion matrix2 (training)')"
      ],
      "execution_count": null,
      "outputs": [
        {
          "output_type": "stream",
          "text": [
            "Normalized confusion matrix\n",
            "[[0.89411765 0.10588235]\n",
            " [0.01686275 0.98313725]]\n"
          ],
          "name": "stdout"
        },
        {
          "output_type": "display_data",
          "data": {
            "image/png": "[encoded data removed]",
            "text/plain": [
              "<Figure size 432x288 with 2 Axes>"
            ]
          },
          "metadata": {
            "tags": [],
            "needs_background": "light"
          }
        }
      ]
    },
    {
      "cell_type": "code",
      "metadata": {
        "colab": {
          "base_uri": "https://localhost:8080/",
          "height": 362
        },
        "id": "BSBP8EJFwRFk",
        "outputId": "c9b873c8-f8c5-4ffa-d1f9-be3a9433ce96"
      },
      "source": [
        "model.load_state_dict(torch.load('/content/model_14weight_trial5.pt'))\n",
        "model.eval() \n",
        "with torch.no_grad():\n",
        "  y_pred = []\n",
        "  y_true = []\n",
        "  for images, labels in valtest_loader:\n",
        "    y_true.extend(labels)\n",
        "    output_val = model(images)\n",
        "    y_pred_softmax = torch.log_softmax(output_val, dim = 1)\n",
        "    _, preds = torch.max(y_pred_softmax, dim=1)\n",
        "    preds = preds.detach().numpy()\n",
        "    y_pred.extend(preds)\n",
        "from sklearn.metrics import confusion_matrix\n",
        "# get actual label\n",
        "cnf_matrix = confusion_matrix(y_true, y_pred)\n",
        "plot_confusion_matrix(cnf_matrix, classes = [0,1], normalize = True, title = 'Confusion matrix2 (Validation)')"
      ],
      "execution_count": null,
      "outputs": [
        {
          "output_type": "stream",
          "text": [
            "Normalized confusion matrix\n",
            "[[0.87777778 0.12222222]\n",
            " [0.         1.        ]]\n"
          ],
          "name": "stdout"
        },
        {
          "output_type": "display_data",
          "data": {
            "image/png": "[encoded data removed]",
            "text/plain": [
              "<Figure size 432x288 with 2 Axes>"
            ]
          },
          "metadata": {
            "tags": [],
            "needs_background": "light"
          }
        }
      ]
    },
    {
      "cell_type": "markdown",
      "metadata": {
        "id": "0Vj8aCfySYjM"
      },
      "source": [
        "### Trail 3 - Cost-sensitive loss function (5:100:50:0) + dynamic training data refresh every 5 epochs"
      ]
    },
    {
      "cell_type": "code",
      "metadata": {
        "colab": {
          "base_uri": "https://localhost:8080/"
        },
        "id": "fq7BTbmoSYjW",
        "outputId": "8403e351-62ff-4e12-d1cf-13e00deff27c"
      },
      "source": [
        "#from torch.optim import Adam\n",
        "# defining the model\n",
        "model = Net()\n",
        "# defining the optimizer\n",
        "from torch.optim import Adam\n",
        "optimizer = Adam(model.parameters(), lr=0.0005) # weight_decay = 0.005\n",
        "\n",
        "# defining the loss function\n",
        "n_classes = 2\n",
        "base_loss = 'ce'\n",
        "lambd = 10 # regularization parameter\n",
        "criterion = CostSensitiveRegularizedLoss(n_classes = n_classes, base_loss = base_loss, lambd = lambd)\n",
        "#M = np.array([[10, 400], [200, 0]], dtype = float)\n",
        "M = np.array([[5,100], [50, 0]], dtype = float)\n",
        "M /= M.max()\n",
        "criterion.M = torch.from_numpy(M)\n",
        "\n",
        "M"
      ],
      "execution_count": null,
      "outputs": [
        {
          "output_type": "execute_result",
          "data": {
            "text/plain": [
              "array([[0.05, 1.  ],\n",
              "       [0.5 , 0.  ]])"
            ]
          },
          "metadata": {
            "tags": []
          },
          "execution_count": 119
        }
      ]
    },
    {
      "cell_type": "code",
      "metadata": {
        "colab": {
          "base_uri": "https://localhost:8080/"
        },
        "id": "ijYciv8eSYjX",
        "outputId": "8724c3f6-48e7-4d6d-b712-0cee82b8cca9"
      },
      "source": [
        "model.apply(weight_reset)"
      ],
      "execution_count": null,
      "outputs": [
        {
          "output_type": "execute_result",
          "data": {
            "text/plain": [
              "Net(\n",
              "  (cnn_layers): Sequential(\n",
              "    (0): Conv3d(1, 8, kernel_size=(3, 3, 3), stride=(1, 1, 1))\n",
              "    (1): BatchNorm3d(8, eps=1e-05, momentum=0.1, affine=True, track_running_stats=True)\n",
              "    (2): ReLU(inplace=True)\n",
              "    (3): MaxPool3d(kernel_size=2, stride=1, padding=0, dilation=1, ceil_mode=False)\n",
              "    (4): Conv3d(8, 16, kernel_size=(3, 3, 3), stride=(1, 1, 1))\n",
              "    (5): BatchNorm3d(16, eps=1e-05, momentum=0.1, affine=True, track_running_stats=True)\n",
              "    (6): ReLU(inplace=True)\n",
              "    (7): MaxPool3d(kernel_size=2, stride=2, padding=0, dilation=1, ceil_mode=False)\n",
              "    (8): Conv3d(16, 32, kernel_size=(3, 3, 3), stride=(1, 1, 1))\n",
              "    (9): BatchNorm3d(32, eps=1e-05, momentum=0.1, affine=True, track_running_stats=True)\n",
              "    (10): ReLU(inplace=True)\n",
              "    (11): MaxPool3d(kernel_size=2, stride=2, padding=0, dilation=1, ceil_mode=False)\n",
              "  )\n",
              "  (linear_layers): Sequential(\n",
              "    (0): Dropout(p=0.1, inplace=False)\n",
              "    (1): Linear(in_features=2048, out_features=32, bias=True)\n",
              "    (2): ReLU()\n",
              "    (3): Linear(in_features=32, out_features=2, bias=True)\n",
              "  )\n",
              ")"
            ]
          },
          "metadata": {
            "tags": []
          },
          "execution_count": 120
        }
      ]
    },
    {
      "cell_type": "code",
      "metadata": {
        "colab": {
          "base_uri": "https://localhost:8080/"
        },
        "id": "r8xwl1hoSYjX",
        "outputId": "94f88694-1202-45b9-dcd4-939898412b98"
      },
      "source": [
        "# defining the number of epochs\n",
        "n_epochs = 80\n",
        "# empty list to store training losses\n",
        "train_losses6 = []\n",
        "train_acc6 = []\n",
        "# empty list to store validation losses\n",
        "val_losses6 = []\n",
        "val_acc6 =[]\n",
        "epoch_count6 = []\n",
        "# training the model\n",
        "es = 0\n",
        "best_loss = 1000\n",
        "for epoch in range(n_epochs):\n",
        "    if epoch % 5 != 0:\n",
        "      pass\n",
        "    else:\n",
        "      all_train, all_val = dynamic_train_val_split(val_perc = 0.15, seed = epoch)\n",
        "      trainloader, valloader = dataloader_builder(all_train, all_val, max_side = 24, grid = 2)\n",
        "\n",
        "    train(epoch, trainloader = trainloader, valloader = valloader)\n",
        "    epoch_count6.append(epoch)\n",
        "    train_losses6.append(train.train_loss/len(trainloader))\n",
        "    val_losses6.append(train.val_loss/len(valloader))\n",
        "    train_acc6.append(train.train_acces/len(trainloader))\n",
        "    val_acc6.append(train.val_acces/len(valloader))\n",
        "    # early stopping\n",
        "    if train.val_loss/len(valloader) < best_loss:\n",
        "      best_loss = train.val_loss/len(valloader)\n",
        "      es = 0\n",
        "      torch.save(model.state_dict(), \"model_\" + str(epoch) + 'weight_trial6.pt')\n",
        "      best_epoch = epoch\n",
        "    else:\n",
        "      es += 1\n",
        "      print(\"Counter {} of 15\".format(es))\n",
        "\n",
        "    if es > 14:\n",
        "      print(\"Early stopping! Best epoch: \", str(best_epoch))\n",
        "      model.load_state_dict(torch.load('/content/model_' + str(best_epoch) +'weight_trial6.pt'))\n",
        "      break"
      ],
      "execution_count": null,
      "outputs": [
        {
          "output_type": "stream",
          "text": [
            "Positive cases in training:  2548 Negative cases in training:  2552\n",
            "Positive cases in val:  450 Negative cases in training:  450\n",
            "24 2\n",
            "(5100, 1, 25, 25, 25)\n",
            "25.0\n",
            "(900, 1, 25, 25, 25)\n",
            "Epoch 1 - Training loss: 534.5732578694821, Training Accuracy: 0.4972800612449646\n",
            "Validation loss: 463.79240281600505, Validation Accuracy: 0.5\n",
            "Epoch 2 - Training loss: 494.54676494449376, Training Accuracy: 0.5023292899131775\n",
            "Validation loss: 407.53719829395413, Validation Accuracy: 0.5\n",
            "Epoch 3 - Training loss: 224.31902636756567, Training Accuracy: 0.8808014988899231\n",
            "Validation loss: 172.19853158873775, Validation Accuracy: 0.859375\n",
            "Epoch 4 - Training loss: 146.8096570784999, Training Accuracy: 0.9276041984558105\n",
            "Validation loss: 97.96885445081148, Validation Accuracy: 0.9580078125\n",
            "Epoch 5 - Training loss: 140.52699218078078, Training Accuracy: 0.932754635810852\n",
            "Validation loss: 97.1396555973763, Validation Accuracy: 0.9296875\n",
            "Positive cases in training:  2548 Negative cases in training:  2552\n",
            "Positive cases in val:  448 Negative cases in training:  452\n",
            "24 2\n",
            "(5100, 1, 25, 25, 25)\n",
            "25.0\n",
            "(900, 1, 25, 25, 25)\n",
            "Epoch 6 - Training loss: 138.44927121763695, Training Accuracy: 0.9335358738899231\n",
            "Validation loss: 113.92062606541549, Validation Accuracy: 0.9521484375\n",
            "Counter 1 of 15\n",
            "Epoch 7 - Training loss: 133.8470926181356, Training Accuracy: 0.936306357383728\n",
            "Validation loss: 112.31711835773172, Validation Accuracy: 0.9521484375\n",
            "Counter 2 of 15\n",
            "Epoch 8 - Training loss: 130.96674965081593, Training Accuracy: 0.9377459287643433\n",
            "Validation loss: 110.8760916281542, Validation Accuracy: 0.953125\n",
            "Counter 3 of 15\n",
            "Epoch 9 - Training loss: 131.81655563085337, Training Accuracy: 0.9378688931465149\n",
            "Validation loss: 111.34762120746413, Validation Accuracy: 0.9189453125\n",
            "Counter 4 of 15\n",
            "Epoch 10 - Training loss: 129.06282819347672, Training Accuracy: 0.9407262802124023\n",
            "Validation loss: 110.31230253591195, Validation Accuracy: 0.953125\n",
            "Counter 5 of 15\n",
            "Positive cases in training:  2549 Negative cases in training:  2551\n",
            "Positive cases in val:  449 Negative cases in training:  451\n",
            "24 2\n",
            "(5100, 1, 25, 25, 25)\n",
            "25.0\n",
            "(900, 1, 25, 25, 25)\n",
            "Epoch 11 - Training loss: 131.14309492828937, Training Accuracy: 0.9377965927124023\n",
            "Validation loss: 91.4116491650941, Validation Accuracy: 0.962890625\n",
            "Epoch 12 - Training loss: 130.05176496423027, Training Accuracy: 0.9386863708496094\n",
            "Validation loss: 88.5853447438632, Validation Accuracy: 0.9326171875\n",
            "Epoch 13 - Training loss: 129.18983050954455, Training Accuracy: 0.9387224912643433\n",
            "Validation loss: 98.98897966542143, Validation Accuracy: 0.962890625\n",
            "Counter 1 of 15\n",
            "Epoch 14 - Training loss: 128.6640332258884, Training Accuracy: 0.9386863708496094\n",
            "Validation loss: 87.48338010578615, Validation Accuracy: 0.96484375\n",
            "Epoch 15 - Training loss: 126.77085579209964, Training Accuracy: 0.9407624006271362\n",
            "Validation loss: 92.02565094943783, Validation Accuracy: 0.9560546875\n",
            "Counter 1 of 15\n",
            "Positive cases in training:  2546 Negative cases in training:  2554\n",
            "Positive cases in val:  450 Negative cases in training:  450\n",
            "24 2\n",
            "(5100, 1, 25, 25, 25)\n",
            "25.0\n",
            "(900, 1, 25, 25, 25)\n",
            "Epoch 16 - Training loss: 134.33078303754104, Training Accuracy: 0.9370514750480652\n",
            "Validation loss: 103.7613419477024, Validation Accuracy: 0.9560546875\n",
            "Counter 2 of 15\n",
            "Epoch 17 - Training loss: 130.99708109674413, Training Accuracy: 0.937637448310852\n",
            "Validation loss: 103.09618496962102, Validation Accuracy: 0.9541015625\n",
            "Counter 3 of 15\n",
            "Epoch 18 - Training loss: 128.48681668818594, Training Accuracy: 0.9393590688705444\n",
            "Validation loss: 102.4327391355144, Validation Accuracy: 0.9560546875\n",
            "Counter 4 of 15\n",
            "Epoch 19 - Training loss: 129.23765453792424, Training Accuracy: 0.9379919171333313\n",
            "Validation loss: 103.2094265939697, Validation Accuracy: 0.9560546875\n",
            "Counter 5 of 15\n",
            "Epoch 20 - Training loss: 129.20148931860385, Training Accuracy: 0.939431369304657\n",
            "Validation loss: 130.26584588250233, Validation Accuracy: 0.892578125\n",
            "Counter 6 of 15\n",
            "Positive cases in training:  2549 Negative cases in training:  2551\n",
            "Positive cases in val:  449 Negative cases in training:  451\n",
            "24 2\n",
            "(5100, 1, 25, 25, 25)\n",
            "25.0\n",
            "(900, 1, 25, 25, 25)\n",
            "Epoch 21 - Training loss: 136.81005195671008, Training Accuracy: 0.9346715807914734\n",
            "Validation loss: 106.31570929094822, Validation Accuracy: 0.953125\n",
            "Counter 7 of 15\n",
            "Epoch 22 - Training loss: 133.41428190819042, Training Accuracy: 0.9362702369689941\n",
            "Validation loss: 113.84252227503592, Validation Accuracy: 0.951171875\n",
            "Counter 8 of 15\n",
            "Epoch 23 - Training loss: 129.0552216375109, Training Accuracy: 0.9402632713317871\n",
            "Validation loss: 105.86670716585579, Validation Accuracy: 0.953125\n",
            "Counter 9 of 15\n",
            "Epoch 24 - Training loss: 130.66682009777452, Training Accuracy: 0.9392505884170532\n",
            "Validation loss: 131.9911549551639, Validation Accuracy: 0.9404296875\n",
            "Counter 10 of 15\n",
            "Epoch 25 - Training loss: 131.66401802509543, Training Accuracy: 0.9367114901542664\n",
            "Validation loss: 106.06033864607525, Validation Accuracy: 0.9501953125\n",
            "Counter 11 of 15\n",
            "Positive cases in training:  2550 Negative cases in training:  2550\n",
            "Positive cases in val:  450 Negative cases in training:  450\n",
            "24 2\n",
            "(5100, 1, 25, 25, 25)\n",
            "25.0\n",
            "(900, 1, 25, 25, 25)\n",
            "Epoch 26 - Training loss: 124.60034652628977, Training Accuracy: 0.9411385655403137\n",
            "Validation loss: 118.65497312720359, Validation Accuracy: 0.947265625\n",
            "Counter 12 of 15\n",
            "Epoch 27 - Training loss: 122.62834688214284, Training Accuracy: 0.9412760734558105\n",
            "Validation loss: 119.19345917986251, Validation Accuracy: 0.9130859375\n",
            "Counter 13 of 15\n",
            "Epoch 28 - Training loss: 122.60673144807106, Training Accuracy: 0.9439598321914673\n",
            "Validation loss: 115.89253289300223, Validation Accuracy: 0.9462890625\n",
            "Counter 14 of 15\n",
            "Epoch 29 - Training loss: 119.49328971393356, Training Accuracy: 0.947048544883728\n",
            "Validation loss: 116.93008763869659, Validation Accuracy: 0.9140625\n",
            "Counter 15 of 15\n",
            "Early stopping! Best epoch:  13\n"
          ],
          "name": "stdout"
        }
      ]
    },
    {
      "cell_type": "code",
      "metadata": {
        "colab": {
          "base_uri": "https://localhost:8080/",
          "height": 296
        },
        "id": "c-_d3KhYSYjY",
        "outputId": "217f1345-0cb4-4170-e564-c8c8f577c33b"
      },
      "source": [
        "plt.plot(epoch_count6, train_losses6, label = 'train_loss')\n",
        "plt.plot(epoch_count6, val_losses6, label = 'val_loss')\n",
        "plt.xlabel('epoch')\n",
        "plt.legend()\n",
        "plt.ylabel('loss')"
      ],
      "execution_count": null,
      "outputs": [
        {
          "output_type": "execute_result",
          "data": {
            "text/plain": [
              "Text(0, 0.5, 'loss')"
            ]
          },
          "metadata": {
            "tags": []
          },
          "execution_count": 122
        },
        {
          "output_type": "display_data",
          "data": {
            "image/png": "[encoded data removed]",
            "text/plain": [
              "<Figure size 432x288 with 1 Axes>"
            ]
          },
          "metadata": {
            "tags": [],
            "needs_background": "light"
          }
        }
      ]
    },
    {
      "cell_type": "code",
      "metadata": {
        "colab": {
          "base_uri": "https://localhost:8080/",
          "height": 296
        },
        "id": "dKnxaoHuSYjY",
        "outputId": "60b34104-bdf4-4c55-c704-70f0a9b44a12"
      },
      "source": [
        "plt.plot(epoch_count6, train_acc6, label = 'train_accuracy')\n",
        "plt.plot(epoch_count6, val_acc6, label = 'val_accuracy')\n",
        "plt.xlabel('epoch')\n",
        "plt.legend()\n",
        "plt.ylabel('accuracy')"
      ],
      "execution_count": null,
      "outputs": [
        {
          "output_type": "execute_result",
          "data": {
            "text/plain": [
              "Text(0, 0.5, 'accuracy')"
            ]
          },
          "metadata": {
            "tags": []
          },
          "execution_count": 123
        },
        {
          "output_type": "display_data",
          "data": {
            "image/png": "[encoded data removed]",
            "text/plain": [
              "<Figure size 432x288 with 1 Axes>"
            ]
          },
          "metadata": {
            "tags": [],
            "needs_background": "light"
          }
        }
      ]
    },
    {
      "cell_type": "code",
      "metadata": {
        "colab": {
          "base_uri": "https://localhost:8080/"
        },
        "id": "09OCJzp_TwDG",
        "outputId": "9a79d82a-581a-45a3-cf96-1bb5186d3fad"
      },
      "source": [
        "# model.load_state_dict(torch.load('/content/drive/MyDrive/Colab Notebooks/BS6207/Project/training_data.zip (Unzipped Files)/model_14weight_trial6_lostfunction_100.pt'))"
      ],
      "execution_count": null,
      "outputs": [
        {
          "output_type": "execute_result",
          "data": {
            "text/plain": [
              "<All keys matched successfully>"
            ]
          },
          "metadata": {
            "tags": []
          },
          "execution_count": 145
        }
      ]
    },
    {
      "cell_type": "code",
      "metadata": {
        "colab": {
          "base_uri": "https://localhost:8080/",
          "height": 362
        },
        "id": "PZ3_osyeSYjZ",
        "outputId": "67b943f5-cf6f-435f-b274-a5385131b458"
      },
      "source": [
        "# confusion matrix for validation\n",
        "model.eval() \n",
        "with torch.no_grad():\n",
        "  y_pred = []\n",
        "  y_true = []\n",
        "  for images, labels in valloader:\n",
        "    y_true.extend(labels)\n",
        "    output_val = model(images)\n",
        "    y_pred_softmax = torch.log_softmax(output_val, dim = 1)\n",
        "    _, preds = torch.max(y_pred_softmax, dim=1)\n",
        "    preds = preds.detach().numpy()\n",
        "    y_pred.extend(preds)\n",
        "from sklearn.metrics import confusion_matrix\n",
        "# get actual label\n",
        "cnf_matrix = confusion_matrix( y_true, y_pred)\n",
        "plot_confusion_matrix(cnf_matrix, classes = [0,1], normalize = True, title = 'Confusion matrix2 (Validation)')"
      ],
      "execution_count": null,
      "outputs": [
        {
          "output_type": "stream",
          "text": [
            "Normalized confusion matrix\n",
            "[[0.89111111 0.10888889]\n",
            " [0.01777778 0.98222222]]\n"
          ],
          "name": "stdout"
        },
        {
          "output_type": "display_data",
          "data": {
            "image/png": "[encoded data removed]",
            "text/plain": [
              "<Figure size 432x288 with 2 Axes>"
            ]
          },
          "metadata": {
            "tags": [],
            "needs_background": "light"
          }
        }
      ]
    },
    {
      "cell_type": "code",
      "metadata": {
        "colab": {
          "base_uri": "https://localhost:8080/",
          "height": 362
        },
        "id": "FZz7MUJYSYjZ",
        "outputId": "1d972184-1fbc-4f22-9cda-24118e62d150"
      },
      "source": [
        "# confusion matrix for validation\n",
        "model.eval() \n",
        "with torch.no_grad():\n",
        "  y_pred = []\n",
        "  y_true = []\n",
        "  for images, labels in trainloader:\n",
        "    y_true.extend(labels)\n",
        "    output_val = model(images)\n",
        "    y_pred_softmax = torch.log_softmax(output_val, dim = 1)\n",
        "    _, preds = torch.max(y_pred_softmax, dim=1)\n",
        "    preds = preds.detach().numpy()\n",
        "    y_pred.extend(preds)\n",
        "from sklearn.metrics import confusion_matrix\n",
        "# get actual label\n",
        "cnf_matrix = confusion_matrix(y_true, y_pred)\n",
        "plot_confusion_matrix(cnf_matrix, classes = [0,1], normalize = True, title = 'Confusion matrix2 (training)')"
      ],
      "execution_count": null,
      "outputs": [
        {
          "output_type": "stream",
          "text": [
            "Normalized confusion matrix\n",
            "[[0.89960784 0.10039216]\n",
            " [0.0227451  0.9772549 ]]\n"
          ],
          "name": "stdout"
        },
        {
          "output_type": "display_data",
          "data": {
            "image/png": "[encoded data removed]",
            "text/plain": [
              "<Figure size 432x288 with 2 Axes>"
            ]
          },
          "metadata": {
            "tags": [],
            "needs_background": "light"
          }
        }
      ]
    },
    {
      "cell_type": "code",
      "metadata": {
        "colab": {
          "base_uri": "https://localhost:8080/"
        },
        "id": "SqWVZoVfSYjZ",
        "outputId": "a766759e-9890-413a-b3eb-7241b44593c6"
      },
      "source": [
        "# load the validation sparse 3d matrix\n",
        "valtest_cube = []\n",
        "for i in range(len(all_val)):\n",
        "  temp = voxelize(all_val[i][0], all_val[i][1], max_side = 24, grid = 2)\n",
        "  valtest_cube.append(COO.todense(temp))\n",
        "valtest_cube = np.array(valtest_cube)\n",
        "valtest_cube = valtest_cube.reshape(valtest_cube.shape[0], 1, valtest_cube.shape[1], valtest_cube.shape[2], valtest_cube.shape[3])\n",
        "print(valtest_cube.shape)\n",
        "\n",
        "# build the validation dataloader\n",
        "valtest_data = []\n",
        "count = 0\n",
        "for i in range(len(all_val)):\n",
        "  if (all_val[i][2] == 0):\n",
        "    #print(0)\n",
        "    pass\n",
        "  elif (all_val[i][2] == 1) & (count < 45):\n",
        "    count += 1\n",
        "    pass\n",
        "  else:\n",
        "    continue\n",
        "  valtest_data.append([valtest_cube[i], all_val[i][2]])\n",
        "valtest_loader = torch.utils.data.DataLoader(valtest_data, shuffle = True)"
      ],
      "execution_count": null,
      "outputs": [
        {
          "output_type": "stream",
          "text": [
            "(900, 1, 25, 25, 25)\n"
          ],
          "name": "stdout"
        }
      ]
    },
    {
      "cell_type": "code",
      "metadata": {
        "colab": {
          "base_uri": "https://localhost:8080/",
          "height": 362
        },
        "id": "VfTED63XSYja",
        "outputId": "83b81e78-accb-42fa-da4c-74f9cb848621"
      },
      "source": [
        "model.eval() \n",
        "with torch.no_grad():\n",
        "  y_pred = []\n",
        "  y_true = []\n",
        "  for images, labels in valtest_loader:\n",
        "    y_true.extend(labels)\n",
        "    output_val = model(images)\n",
        "    y_pred_softmax = torch.log_softmax(output_val, dim = 1)\n",
        "    _, preds = torch.max(y_pred_softmax, dim=1)\n",
        "    preds = preds.detach().numpy()\n",
        "    y_pred.extend(preds)\n",
        "from sklearn.metrics import confusion_matrix\n",
        "# get actual label\n",
        "cnf_matrix = confusion_matrix(y_true, y_pred)\n",
        "plot_confusion_matrix(cnf_matrix, classes = [0,1], normalize = True, title = 'Confusion matrix2 (Validation)')"
      ],
      "execution_count": null,
      "outputs": [
        {
          "output_type": "stream",
          "text": [
            "Normalized confusion matrix\n",
            "[[0.89111111 0.10888889]\n",
            " [0.02222222 0.97777778]]\n"
          ],
          "name": "stdout"
        },
        {
          "output_type": "display_data",
          "data": {
            "image/png": "[encoded data removed]",
            "text/plain": [
              "<Figure size 432x288 with 2 Axes>"
            ]
          },
          "metadata": {
            "tags": [],
            "needs_background": "light"
          }
        }
      ]
    },
    {
      "cell_type": "code",
      "metadata": {
        "colab": {
          "base_uri": "https://localhost:8080/"
        },
        "id": "lUbGk901SYja",
        "outputId": "cd0b3a5e-8341-4ffb-ff4a-c0491c11c164"
      },
      "source": [
        "torch.max(torch.tensor([[-0.01, -5.0]]), dim = 1)"
      ],
      "execution_count": null,
      "outputs": [
        {
          "output_type": "execute_result",
          "data": {
            "text/plain": [
              "torch.return_types.max(values=tensor([-0.0100]), indices=tensor([0]))"
            ]
          },
          "metadata": {
            "tags": []
          },
          "execution_count": 141
        }
      ]
    },
    {
      "cell_type": "markdown",
      "metadata": {
        "id": "PiNFRAoBS7QP"
      },
      "source": [
        "### Trail 4 - normal cross entropy + dynamic training data refresh every 5 epochs"
      ]
    },
    {
      "cell_type": "code",
      "metadata": {
        "id": "2kGyPeoBS7QS"
      },
      "source": [
        "#from torch.optim import Adam\n",
        "# defining the model\n",
        "model = Net()\n",
        "# defining the optimizer\n",
        "optimizer = Adam(model.parameters(), lr=0.0005) # weight_decay = 0.005\n",
        "\n",
        "criterion = nn.CrossEntropyLoss()"
      ],
      "execution_count": null,
      "outputs": []
    },
    {
      "cell_type": "code",
      "metadata": {
        "colab": {
          "base_uri": "https://localhost:8080/"
        },
        "id": "qrjX9QCHS7QT",
        "outputId": "a3114e99-6f6e-44f9-8e9d-c45ce7282a20"
      },
      "source": [
        "model.apply(weight_reset)"
      ],
      "execution_count": null,
      "outputs": [
        {
          "output_type": "execute_result",
          "data": {
            "text/plain": [
              "Net(\n",
              "  (cnn_layers): Sequential(\n",
              "    (0): Conv3d(1, 8, kernel_size=(3, 3, 3), stride=(1, 1, 1))\n",
              "    (1): BatchNorm3d(8, eps=1e-05, momentum=0.1, affine=True, track_running_stats=True)\n",
              "    (2): ReLU(inplace=True)\n",
              "    (3): MaxPool3d(kernel_size=2, stride=1, padding=0, dilation=1, ceil_mode=False)\n",
              "    (4): Conv3d(8, 16, kernel_size=(3, 3, 3), stride=(1, 1, 1))\n",
              "    (5): BatchNorm3d(16, eps=1e-05, momentum=0.1, affine=True, track_running_stats=True)\n",
              "    (6): ReLU(inplace=True)\n",
              "    (7): MaxPool3d(kernel_size=2, stride=2, padding=0, dilation=1, ceil_mode=False)\n",
              "    (8): Conv3d(16, 32, kernel_size=(3, 3, 3), stride=(1, 1, 1))\n",
              "    (9): BatchNorm3d(32, eps=1e-05, momentum=0.1, affine=True, track_running_stats=True)\n",
              "    (10): ReLU(inplace=True)\n",
              "    (11): MaxPool3d(kernel_size=2, stride=2, padding=0, dilation=1, ceil_mode=False)\n",
              "  )\n",
              "  (linear_layers): Sequential(\n",
              "    (0): Dropout(p=0.1, inplace=False)\n",
              "    (1): Linear(in_features=2048, out_features=32, bias=True)\n",
              "    (2): ReLU()\n",
              "    (3): Linear(in_features=32, out_features=2, bias=True)\n",
              "  )\n",
              ")"
            ]
          },
          "metadata": {
            "tags": []
          },
          "execution_count": 133
        }
      ]
    },
    {
      "cell_type": "code",
      "metadata": {
        "colab": {
          "base_uri": "https://localhost:8080/"
        },
        "id": "VjHqaOobS7QT",
        "outputId": "3e6180cf-8ed0-4ae2-e984-4c8ddfa4a58b"
      },
      "source": [
        "# defining the number of epochs\n",
        "n_epochs = 80\n",
        "# empty list to store training losses\n",
        "train_losses7 = []\n",
        "train_acc7 = []\n",
        "# empty list to store validation losses\n",
        "val_losses7 = []\n",
        "val_acc7 =[]\n",
        "epoch_count7 = []\n",
        "# training the model\n",
        "es = 0\n",
        "best_loss = 1000\n",
        "for epoch in range(n_epochs):\n",
        "    if epoch % 5 != 0:\n",
        "      pass\n",
        "    else:\n",
        "      all_train, all_val = dynamic_train_val_split(val_perc = 0.15, seed = epoch)\n",
        "      trainloader, valloader = dataloader_builder(all_train, all_val, max_side = 24, grid = 2)\n",
        "\n",
        "    train(epoch, trainloader = trainloader, valloader = valloader)\n",
        "    epoch_count7.append(epoch)\n",
        "    train_losses7.append(train.train_loss/len(trainloader))\n",
        "    val_losses7.append(train.val_loss/len(valloader))\n",
        "    train_acc7.append(train.train_acces/len(trainloader))\n",
        "    val_acc7.append(train.val_acces/len(valloader))\n",
        "    # early stopping\n",
        "    if train.val_loss/len(valloader) < best_loss:\n",
        "      best_loss = train.val_loss/len(valloader)\n",
        "      es = 0\n",
        "      torch.save(model.state_dict(), \"model_\" + str(epoch) + 'weight_trial7.pt')\n",
        "      best_epoch = epoch\n",
        "    else:\n",
        "      es += 1\n",
        "      print(\"Counter {} of 15\".format(es))\n",
        "\n",
        "    if es > 14:\n",
        "      print(\"Early stopping! Best epoch: \", str(best_epoch))\n",
        "      model.load_state_dict(torch.load('/content/model_' + str(best_epoch) +'weight_trial7.pt'))\n",
        "      break"
      ],
      "execution_count": null,
      "outputs": [
        {
          "output_type": "stream",
          "text": [
            "Positive cases in training:  2548 Negative cases in training:  2552\n",
            "Positive cases in val:  450 Negative cases in training:  450\n",
            "24 2\n",
            "(5100, 1, 25, 25, 25)\n",
            "25.0\n",
            "(900, 1, 25, 25, 25)\n",
            "Epoch 1 - Training loss: 89.47823714017868, Training Accuracy: 0.49444445967674255\n",
            "Validation loss: 77.94872546195984, Validation Accuracy: 0.501953125\n",
            "Epoch 2 - Training loss: 88.35083199143409, Training Accuracy: 0.5028067231178284\n",
            "Validation loss: 77.54226097464561, Validation Accuracy: 0.5654296875\n",
            "Epoch 3 - Training loss: 81.37028595507145, Training Accuracy: 0.6961010098457336\n",
            "Validation loss: 71.74930047988892, Validation Accuracy: 0.5390625\n",
            "Epoch 4 - Training loss: 34.23733104020357, Training Accuracy: 0.9192419052124023\n",
            "Validation loss: 19.78929517418146, Validation Accuracy: 0.958984375\n",
            "Epoch 5 - Training loss: 26.77114642113447, Training Accuracy: 0.9263454675674438\n",
            "Validation loss: 17.737153097987175, Validation Accuracy: 0.9599609375\n",
            "Positive cases in training:  2548 Negative cases in training:  2552\n",
            "Positive cases in val:  448 Negative cases in training:  452\n",
            "24 2\n",
            "(5100, 1, 25, 25, 25)\n",
            "25.0\n",
            "(900, 1, 25, 25, 25)\n",
            "Epoch 6 - Training loss: 24.62209247648716, Training Accuracy: 0.9353443384170532\n",
            "Validation loss: 31.044706091284752, Validation Accuracy: 0.88671875\n",
            "Counter 1 of 15\n",
            "Epoch 7 - Training loss: 24.646306554973126, Training Accuracy: 0.9364293813705444\n",
            "Validation loss: 21.127662025392056, Validation Accuracy: 0.947265625\n",
            "Counter 2 of 15\n",
            "Epoch 8 - Training loss: 23.935817103087903, Training Accuracy: 0.9341942071914673\n",
            "Validation loss: 19.912179546430707, Validation Accuracy: 0.953125\n",
            "Counter 3 of 15\n",
            "Epoch 9 - Training loss: 24.360282979905605, Training Accuracy: 0.9331091046333313\n",
            "Validation loss: 20.210855782032013, Validation Accuracy: 0.923828125\n",
            "Counter 4 of 15\n",
            "Epoch 10 - Training loss: 23.762956282496454, Training Accuracy: 0.9371238946914673\n",
            "Validation loss: 19.768109252676368, Validation Accuracy: 0.9541015625\n",
            "Counter 5 of 15\n",
            "Positive cases in training:  2549 Negative cases in training:  2551\n",
            "Positive cases in val:  449 Negative cases in training:  451\n",
            "24 2\n",
            "(5100, 1, 25, 25, 25)\n",
            "25.0\n",
            "(900, 1, 25, 25, 25)\n",
            "Epoch 11 - Training loss: 23.708167557418346, Training Accuracy: 0.9336226582527161\n",
            "Validation loss: 15.565742523642257, Validation Accuracy: 0.962890625\n",
            "Epoch 12 - Training loss: 22.74502600952983, Training Accuracy: 0.9363787770271301\n",
            "Validation loss: 15.335855856537819, Validation Accuracy: 0.9326171875\n",
            "Epoch 13 - Training loss: 22.815212142467498, Training Accuracy: 0.9385417103767395\n",
            "Validation loss: 15.34939123224467, Validation Accuracy: 0.9658203125\n",
            "Counter 1 of 15\n",
            "Epoch 14 - Training loss: 22.692370158433913, Training Accuracy: 0.937282919883728\n",
            "Validation loss: 16.63150035776198, Validation Accuracy: 0.9580078125\n",
            "Counter 2 of 15\n",
            "Epoch 15 - Training loss: 22.461467249691488, Training Accuracy: 0.9386863708496094\n",
            "Validation loss: 15.280440833419561, Validation Accuracy: 0.96484375\n",
            "Positive cases in training:  2546 Negative cases in training:  2554\n",
            "Positive cases in val:  450 Negative cases in training:  450\n",
            "24 2\n",
            "(5100, 1, 25, 25, 25)\n",
            "25.0\n",
            "(900, 1, 25, 25, 25)\n",
            "Epoch 16 - Training loss: 22.913386542350054, Training Accuracy: 0.9369285702705383\n",
            "Validation loss: 18.374083641916513, Validation Accuracy: 0.9482421875\n",
            "Counter 1 of 15\n",
            "Epoch 17 - Training loss: 23.02511618360877, Training Accuracy: 0.9371961355209351\n",
            "Validation loss: 19.10335771739483, Validation Accuracy: 0.947265625\n",
            "Counter 2 of 15\n",
            "Epoch 18 - Training loss: 22.975815853476526, Training Accuracy: 0.9370153546333313\n",
            "Validation loss: 19.87391197681427, Validation Accuracy: 0.916015625\n",
            "Counter 3 of 15\n",
            "Epoch 19 - Training loss: 22.3621900126338, Training Accuracy: 0.9390407800674438\n",
            "Validation loss: 17.684256501495838, Validation Accuracy: 0.953125\n",
            "Counter 4 of 15\n",
            "Epoch 20 - Training loss: 22.329849499464036, Training Accuracy: 0.9386501312255859\n",
            "Validation loss: 17.69519850052893, Validation Accuracy: 0.95703125\n",
            "Counter 5 of 15\n",
            "Positive cases in training:  2549 Negative cases in training:  2551\n",
            "Positive cases in val:  449 Negative cases in training:  451\n",
            "24 2\n",
            "(5100, 1, 25, 25, 25)\n",
            "25.0\n",
            "(900, 1, 25, 25, 25)\n",
            "Epoch 21 - Training loss: 23.685146202147006, Training Accuracy: 0.9319372177124023\n",
            "Validation loss: 18.185304079204798, Validation Accuracy: 0.9501953125\n",
            "Counter 6 of 15\n",
            "Epoch 22 - Training loss: 23.00777038484812, Training Accuracy: 0.9359520077705383\n",
            "Validation loss: 18.05516931042075, Validation Accuracy: 0.955078125\n",
            "Counter 7 of 15\n",
            "Epoch 23 - Training loss: 22.952310438454152, Training Accuracy: 0.9388816952705383\n",
            "Validation loss: 17.796081548556685, Validation Accuracy: 0.951171875\n",
            "Counter 8 of 15\n",
            "Epoch 24 - Training loss: 22.90238682627678, Training Accuracy: 0.9371238946914673\n",
            "Validation loss: 17.86606547422707, Validation Accuracy: 0.94921875\n",
            "Counter 9 of 15\n",
            "Epoch 25 - Training loss: 22.653710079193115, Training Accuracy: 0.9368706941604614\n",
            "Validation loss: 19.236099496483803, Validation Accuracy: 0.9482421875\n",
            "Counter 10 of 15\n",
            "Positive cases in training:  2550 Negative cases in training:  2550\n",
            "Positive cases in val:  450 Negative cases in training:  450\n",
            "24 2\n",
            "(5100, 1, 25, 25, 25)\n",
            "25.0\n",
            "(900, 1, 25, 25, 25)\n",
            "Epoch 26 - Training loss: 21.9360969632864, Training Accuracy: 0.9404441714286804\n",
            "Validation loss: 21.01767958700657, Validation Accuracy: 0.9453125\n",
            "Counter 11 of 15\n",
            "Epoch 27 - Training loss: 22.213083691895008, Training Accuracy: 0.9410301446914673\n",
            "Validation loss: 25.257831937633455, Validation Accuracy: 0.935546875\n",
            "Counter 12 of 15\n",
            "Epoch 28 - Training loss: 21.589955095946788, Training Accuracy: 0.9401764869689941\n",
            "Validation loss: 20.272525407373905, Validation Accuracy: 0.9482421875\n",
            "Counter 13 of 15\n",
            "Epoch 29 - Training loss: 20.831115424633026, Training Accuracy: 0.9442057609558105\n",
            "Validation loss: 20.58396076131612, Validation Accuracy: 0.9453125\n",
            "Counter 14 of 15\n",
            "Epoch 30 - Training loss: 21.070058484375476, Training Accuracy: 0.9408709406852722\n",
            "Validation loss: 20.986258756369352, Validation Accuracy: 0.9443359375\n",
            "Counter 15 of 15\n",
            "Early stopping! Best epoch:  14\n"
          ],
          "name": "stdout"
        }
      ]
    },
    {
      "cell_type": "code",
      "metadata": {
        "colab": {
          "base_uri": "https://localhost:8080/",
          "height": 296
        },
        "id": "3KSVJa_GS7QU",
        "outputId": "fee13361-ddfb-406b-e446-d5ff45f5e896"
      },
      "source": [
        "plt.plot(epoch_count7, train_losses7, label = 'train_loss')\n",
        "plt.plot(epoch_count7, val_losses7, label = 'val_loss')\n",
        "plt.xlabel('epoch')\n",
        "plt.legend()\n",
        "plt.ylabel('loss')"
      ],
      "execution_count": null,
      "outputs": [
        {
          "output_type": "execute_result",
          "data": {
            "text/plain": [
              "Text(0, 0.5, 'loss')"
            ]
          },
          "metadata": {
            "tags": []
          },
          "execution_count": 135
        },
        {
          "output_type": "display_data",
          "data": {
            "image/png": "[encoded data removed]",
            "text/plain": [
              "<Figure size 432x288 with 1 Axes>"
            ]
          },
          "metadata": {
            "tags": [],
            "needs_background": "light"
          }
        }
      ]
    },
    {
      "cell_type": "code",
      "metadata": {
        "colab": {
          "base_uri": "https://localhost:8080/",
          "height": 296
        },
        "id": "z2cVyXp7S7QU",
        "outputId": "812d1fc3-099f-472b-fc2f-f8ceb3bebfe0"
      },
      "source": [
        "plt.plot(epoch_count7, train_acc7, label = 'train_accuracy')\n",
        "plt.plot(epoch_count7, val_acc7, label = 'val_accuracy')\n",
        "plt.xlabel('epoch')\n",
        "plt.legend()\n",
        "plt.ylabel('accuracy')"
      ],
      "execution_count": null,
      "outputs": [
        {
          "output_type": "execute_result",
          "data": {
            "text/plain": [
              "Text(0, 0.5, 'accuracy')"
            ]
          },
          "metadata": {
            "tags": []
          },
          "execution_count": 136
        },
        {
          "output_type": "display_data",
          "data": {
            "image/png": "[encoded data removed]",
            "text/plain": [
              "<Figure size 432x288 with 1 Axes>"
            ]
          },
          "metadata": {
            "tags": [],
            "needs_background": "light"
          }
        }
      ]
    },
    {
      "cell_type": "code",
      "metadata": {
        "colab": {
          "base_uri": "https://localhost:8080/"
        },
        "id": "3_FROPoTTS2D",
        "outputId": "e8cf23af-d30e-46f5-a6f4-747863d720de"
      },
      "source": [
        "# model.load_state_dict(torch.load('/content/drive/MyDrive/Colab Notebooks/BS6207/Project/training_data.zip (Unzipped Files)/model_11weight_trial7_lostfunction.pt'))"
      ],
      "execution_count": null,
      "outputs": [
        {
          "output_type": "execute_result",
          "data": {
            "text/plain": [
              "<All keys matched successfully>"
            ]
          },
          "metadata": {
            "tags": []
          },
          "execution_count": 123
        }
      ]
    },
    {
      "cell_type": "code",
      "metadata": {
        "colab": {
          "base_uri": "https://localhost:8080/",
          "height": 362
        },
        "id": "j7j3Oh9tS7QV",
        "outputId": "ee9e8db5-fe5a-4ec7-aff0-795bac9bfde1"
      },
      "source": [
        "# confusion matrix for validation\n",
        "model.eval() \n",
        "with torch.no_grad():\n",
        "  y_pred = []\n",
        "  y_true = []\n",
        "  for images, labels in valloader:\n",
        "    y_true.extend(labels)\n",
        "    output_val = model(images)\n",
        "    y_pred_softmax = torch.log_softmax(output_val, dim = 1)\n",
        "    _, preds = torch.max(y_pred_softmax, dim=1)\n",
        "    preds = preds.detach().numpy()\n",
        "    y_pred.extend(preds)\n",
        "from sklearn.metrics import confusion_matrix\n",
        "# get actual label\n",
        "cnf_matrix = confusion_matrix(y_true, y_pred)\n",
        "plot_confusion_matrix(cnf_matrix, classes = [0,1], normalize = True, title = 'Confusion matrix2 (Validation)')"
      ],
      "execution_count": null,
      "outputs": [
        {
          "output_type": "stream",
          "text": [
            "Normalized confusion matrix\n",
            "[[0.87777778 0.12222222]\n",
            " [0.00444444 0.99555556]]\n"
          ],
          "name": "stdout"
        },
        {
          "output_type": "display_data",
          "data": {
            "image/png": "[encoded data removed]",
            "text/plain": [
              "<Figure size 432x288 with 2 Axes>"
            ]
          },
          "metadata": {
            "tags": [],
            "needs_background": "light"
          }
        }
      ]
    },
    {
      "cell_type": "code",
      "metadata": {
        "colab": {
          "base_uri": "https://localhost:8080/",
          "height": 362
        },
        "id": "MPmdLXJwS7QV",
        "outputId": "00f1197e-9450-4943-ef65-fe7e210199aa"
      },
      "source": [
        "# confusion matrix for validation\n",
        "model.eval() \n",
        "with torch.no_grad():\n",
        "  y_pred = []\n",
        "  y_true = []\n",
        "  for images, labels in trainloader:\n",
        "    y_true.extend(labels)\n",
        "    output_val = model(images)\n",
        "    y_pred_softmax = torch.log_softmax(output_val, dim = 1)\n",
        "    _, preds = torch.max(y_pred_softmax, dim=1)\n",
        "    preds = preds.detach().numpy()\n",
        "    y_pred.extend(preds)\n",
        "from sklearn.metrics import confusion_matrix\n",
        "# get actual label\n",
        "cnf_matrix = confusion_matrix(y_true, y_pred)\n",
        "plot_confusion_matrix(cnf_matrix, classes = [0,1], normalize = True, title = 'Confusion matrix2 (training)')"
      ],
      "execution_count": null,
      "outputs": [
        {
          "output_type": "stream",
          "text": [
            "Normalized confusion matrix\n",
            "[[0.88313725 0.11686275]\n",
            " [0.01333333 0.98666667]]\n"
          ],
          "name": "stdout"
        },
        {
          "output_type": "display_data",
          "data": {
            "image/png": "[encoded data removed]",
            "text/plain": [
              "<Figure size 432x288 with 2 Axes>"
            ]
          },
          "metadata": {
            "tags": [],
            "needs_background": "light"
          }
        }
      ]
    },
    {
      "cell_type": "code",
      "metadata": {
        "colab": {
          "base_uri": "https://localhost:8080/",
          "height": 362
        },
        "id": "-5Zn5tS_S7QW",
        "outputId": "de462c28-93c6-456b-b32a-c7ab8847d696"
      },
      "source": [
        "model.eval() \n",
        "with torch.no_grad():\n",
        "  y_pred = []\n",
        "  y_true = []\n",
        "  for images, labels in valtest_loader:\n",
        "    y_true.extend(labels)\n",
        "    output_val = model(images)\n",
        "    y_pred_softmax = torch.log_softmax(output_val, dim = 1)\n",
        "    _, preds = torch.max(y_pred_softmax, dim=1)\n",
        "    preds = preds.detach().numpy()\n",
        "    y_pred.extend(preds)\n",
        "from sklearn.metrics import confusion_matrix\n",
        "# get actual label\n",
        "cnf_matrix = confusion_matrix(y_true, y_pred)\n",
        "plot_confusion_matrix(cnf_matrix, classes = [0,1], normalize = True, title = 'Confusion matrix2 (Validation)')"
      ],
      "execution_count": null,
      "outputs": [
        {
          "output_type": "stream",
          "text": [
            "Normalized confusion matrix\n",
            "[[0.87777778 0.12222222]\n",
            " [0.         1.        ]]\n"
          ],
          "name": "stdout"
        },
        {
          "output_type": "display_data",
          "data": {
            "image/png": "[encoded data removed]",
            "text/plain": [
              "<Figure size 432x288 with 2 Axes>"
            ]
          },
          "metadata": {
            "tags": [],
            "needs_background": "light"
          }
        }
      ]
    },
    {
      "cell_type": "markdown",
      "metadata": {
        "id": "VNtXPFsLoGFP"
      },
      "source": [
        "### Trail 5 - weighted cross-entropy (823:1) + dynamic training data refreshed every 5 epochs"
      ]
    },
    {
      "cell_type": "code",
      "metadata": {
        "id": "q9sFEEJkoGFn"
      },
      "source": [
        "#from torch.optim import Adam\n",
        "# defining the model\n",
        "model = Net()\n",
        "# defining the optimizer\n",
        "optimizer = Adam(model.parameters(), lr=0.0005) # weight_decay = 0.005\n",
        "\n",
        "# defining the loss function\n",
        "\n",
        "weight = torch.tensor([823., 1.])\n",
        "criterion = nn.CrossEntropyLoss(weight=weight)"
      ],
      "execution_count": null,
      "outputs": []
    },
    {
      "cell_type": "code",
      "metadata": {
        "colab": {
          "base_uri": "https://localhost:8080/"
        },
        "id": "vDqz3Gx7oGFp",
        "outputId": "f00f0f57-402e-40b2-993d-5a1e938fa306"
      },
      "source": [
        "model.apply(weight_reset)"
      ],
      "execution_count": null,
      "outputs": [
        {
          "output_type": "execute_result",
          "data": {
            "text/plain": [
              "Net(\n",
              "  (cnn_layers): Sequential(\n",
              "    (0): Conv3d(1, 8, kernel_size=(3, 3, 3), stride=(1, 1, 1))\n",
              "    (1): BatchNorm3d(8, eps=1e-05, momentum=0.1, affine=True, track_running_stats=True)\n",
              "    (2): ReLU(inplace=True)\n",
              "    (3): MaxPool3d(kernel_size=2, stride=1, padding=0, dilation=1, ceil_mode=False)\n",
              "    (4): Conv3d(8, 16, kernel_size=(3, 3, 3), stride=(1, 1, 1))\n",
              "    (5): BatchNorm3d(16, eps=1e-05, momentum=0.1, affine=True, track_running_stats=True)\n",
              "    (6): ReLU(inplace=True)\n",
              "    (7): MaxPool3d(kernel_size=2, stride=2, padding=0, dilation=1, ceil_mode=False)\n",
              "    (8): Conv3d(16, 32, kernel_size=(3, 3, 3), stride=(1, 1, 1))\n",
              "    (9): BatchNorm3d(32, eps=1e-05, momentum=0.1, affine=True, track_running_stats=True)\n",
              "    (10): ReLU(inplace=True)\n",
              "    (11): MaxPool3d(kernel_size=2, stride=2, padding=0, dilation=1, ceil_mode=False)\n",
              "  )\n",
              "  (linear_layers): Sequential(\n",
              "    (0): Dropout(p=0.1, inplace=False)\n",
              "    (1): Linear(in_features=2048, out_features=32, bias=True)\n",
              "    (2): ReLU()\n",
              "    (3): Linear(in_features=32, out_features=2, bias=True)\n",
              "  )\n",
              ")"
            ]
          },
          "metadata": {
            "tags": []
          },
          "execution_count": 141
        }
      ]
    },
    {
      "cell_type": "code",
      "metadata": {
        "colab": {
          "base_uri": "https://localhost:8080/"
        },
        "id": "gO2EaScioGFq",
        "outputId": "325e57c6-2774-45cd-8dc8-3ec8af5a861b"
      },
      "source": [
        "# defining the number of epochs\n",
        "n_epochs = 80\n",
        "# empty list to store training losses\n",
        "train_losses9 = []\n",
        "train_acc9 = []\n",
        "# empty list to store validation losses\n",
        "val_losses9 = []\n",
        "val_acc9 =[]\n",
        "epoch_count9 = []\n",
        "# training the model\n",
        "es = 0\n",
        "best_loss = 1000\n",
        "for epoch in range(n_epochs):\n",
        "    if epoch % 5 != 0:\n",
        "      pass\n",
        "    else:\n",
        "      all_train, all_val = dynamic_train_val_split(val_perc = 0.15, seed = epoch)\n",
        "      trainloader, valloader = dataloader_builder(all_train, all_val, max_side = 24, grid = 2)\n",
        "\n",
        "    train(epoch, trainloader = trainloader, valloader = valloader)\n",
        "    epoch_count9.append(epoch)\n",
        "    train_losses9.append(train.train_loss/len(trainloader))\n",
        "    val_losses9.append(train.val_loss/len(valloader))\n",
        "    train_acc9.append(train.train_acces/len(trainloader))\n",
        "    val_acc9.append(train.val_acces/len(valloader))\n",
        "    # early stopping\n",
        "    if train.val_loss/len(valloader) < best_loss:\n",
        "      best_loss = train.val_loss/len(valloader)\n",
        "      es = 0\n",
        "      torch.save(model.state_dict(), \"model_\" + str(epoch) + 'weight_trial9.pt')\n",
        "      best_epoch = epoch\n",
        "    else:\n",
        "      es += 1\n",
        "      print(\"Counter {} of 15\".format(es))\n",
        "\n",
        "    if es > 14:\n",
        "      print(\"Early stopping! Best epoch: \", str(best_epoch))\n",
        "      model.load_state_dict(torch.load('/content/model_' + str(best_epoch) +'weight_trial9.pt'))\n",
        "      break"
      ],
      "execution_count": null,
      "outputs": [
        {
          "output_type": "stream",
          "text": [
            "Positive cases in training:  2548 Negative cases in training:  2552\n",
            "Positive cases in val:  450 Negative cases in training:  450\n",
            "24 2\n",
            "(5100, 1, 25, 25, 25)\n",
            "25.0\n",
            "(900, 1, 25, 25, 25)\n",
            "Epoch 1 - Training loss: 5.495101535040885, Training Accuracy: 0.5023075342178345\n",
            "Validation loss: 1.7548201971076196, Validation Accuracy: 0.560546875\n",
            "Epoch 2 - Training loss: 1.5971425311639904, Training Accuracy: 0.4993561804294586\n",
            "Validation loss: 1.2227823305875063, Validation Accuracy: 0.4697265625\n",
            "Epoch 3 - Training loss: 1.3845733338035644, Training Accuracy: 0.49964556097984314\n",
            "Validation loss: 1.145823580212891, Validation Accuracy: 0.5\n",
            "Epoch 4 - Training loss: 1.304803282674402, Training Accuracy: 0.4995731711387634\n",
            "Validation loss: 1.1026128213852644, Validation Accuracy: 0.4697265625\n",
            "Epoch 5 - Training loss: 1.2546565631404518, Training Accuracy: 0.4997178912162781\n",
            "Validation loss: 1.0981388785876334, Validation Accuracy: 0.5\n",
            "Positive cases in training:  2548 Negative cases in training:  2552\n",
            "Positive cases in val:  448 Negative cases in training:  452\n",
            "24 2\n",
            "(5100, 1, 25, 25, 25)\n",
            "25.0\n",
            "(900, 1, 25, 25, 25)\n",
            "Epoch 6 - Training loss: 1.2175600135698914, Training Accuracy: 0.4996817111968994\n",
            "Validation loss: 1.0584447965957224, Validation Accuracy: 0.498046875\n",
            "Epoch 7 - Training loss: 1.1986447894014418, Training Accuracy: 0.4994646906852722\n",
            "Validation loss: 1.0621896252268925, Validation Accuracy: 0.5283203125\n",
            "Counter 1 of 15\n",
            "Epoch 8 - Training loss: 1.1790787558071316, Training Accuracy: 0.4998987317085266\n",
            "Validation loss: 1.040224315598607, Validation Accuracy: 0.4677734375\n",
            "Epoch 9 - Training loss: 1.1603919684886932, Training Accuracy: 0.49953705072402954\n",
            "Validation loss: 1.0250625284388661, Validation Accuracy: 0.498046875\n",
            "Epoch 10 - Training loss: 1.1369270564988256, Training Accuracy: 0.4996817111968994\n",
            "Validation loss: 0.9999253902351484, Validation Accuracy: 0.5283203125\n",
            "Positive cases in training:  2549 Negative cases in training:  2551\n",
            "Positive cases in val:  449 Negative cases in training:  451\n",
            "24 2\n",
            "(5100, 1, 25, 25, 25)\n",
            "25.0\n",
            "(900, 1, 25, 25, 25)\n",
            "Epoch 11 - Training loss: 1.1068713936023413, Training Accuracy: 0.49980467557907104\n",
            "Validation loss: 0.939557904843241, Validation Accuracy: 0.4990234375\n",
            "Epoch 12 - Training loss: 1.0075564233586192, Training Accuracy: 0.4997684955596924\n",
            "Validation loss: 0.818572100950405, Validation Accuracy: 0.4990234375\n",
            "Epoch 13 - Training loss: 0.923900504829362, Training Accuracy: 0.4999493658542633\n",
            "Validation loss: 0.7650491874665022, Validation Accuracy: 0.46875\n",
            "Epoch 14 - Training loss: 0.9019319719634951, Training Accuracy: 0.49958768486976624\n",
            "Validation loss: 2.686254635453224, Validation Accuracy: 0.4384765625\n",
            "Counter 1 of 15\n",
            "Epoch 15 - Training loss: 0.8894504451658577, Training Accuracy: 0.5000216960906982\n",
            "Validation loss: 0.7495811791159213, Validation Accuracy: 0.4990234375\n",
            "Positive cases in training:  2546 Negative cases in training:  2554\n",
            "Positive cases in val:  450 Negative cases in training:  450\n",
            "24 2\n",
            "(5100, 1, 25, 25, 25)\n",
            "25.0\n",
            "(900, 1, 25, 25, 25)\n",
            "Epoch 16 - Training loss: 0.8756356147117913, Training Accuracy: 0.4990740716457367\n",
            "Validation loss: 0.7483807903481647, Validation Accuracy: 0.5302734375\n",
            "Epoch 17 - Training loss: 0.8599413723219186, Training Accuracy: 0.49936342239379883\n",
            "Validation loss: 0.7982355991844088, Validation Accuracy: 0.5\n",
            "Counter 1 of 15\n",
            "Epoch 18 - Training loss: 0.8581775930710137, Training Accuracy: 0.49954429268836975\n",
            "Validation loss: 0.7786980234086514, Validation Accuracy: 0.5\n",
            "Counter 2 of 15\n",
            "Epoch 19 - Training loss: 0.8498624600004405, Training Accuracy: 0.4996166229248047\n",
            "Validation loss: 0.7502313330769539, Validation Accuracy: 0.4697265625\n",
            "Counter 3 of 15\n",
            "Epoch 20 - Training loss: 0.8278178093489259, Training Accuracy: 0.49914640188217163\n",
            "Validation loss: 0.7564958706498146, Validation Accuracy: 0.4697265625\n",
            "Counter 4 of 15\n",
            "Positive cases in training:  2549 Negative cases in training:  2551\n",
            "Positive cases in val:  449 Negative cases in training:  451\n",
            "24 2\n",
            "(5100, 1, 25, 25, 25)\n",
            "25.0\n",
            "(900, 1, 25, 25, 25)\n",
            "Epoch 21 - Training loss: 0.8901411777362227, Training Accuracy: 0.49937066435813904\n",
            "Validation loss: 0.7856242854613811, Validation Accuracy: 0.4990234375\n",
            "Counter 5 of 15\n",
            "Epoch 22 - Training loss: 0.8642310204915702, Training Accuracy: 0.49969616532325745\n",
            "Validation loss: 0.7526210326468572, Validation Accuracy: 0.529296875\n",
            "Counter 6 of 15\n",
            "Epoch 23 - Training loss: 0.8541894992813468, Training Accuracy: 0.49958768486976624\n",
            "Validation loss: 0.750170107698068, Validation Accuracy: 0.4990234375\n",
            "Counter 7 of 15\n",
            "Epoch 24 - Training loss: 0.849502009153366, Training Accuracy: 0.4997684955596924\n",
            "Validation loss: 0.7533093634992838, Validation Accuracy: 0.46875\n",
            "Counter 8 of 15\n",
            "Epoch 25 - Training loss: 0.859410404227674, Training Accuracy: 0.4998408854007721\n",
            "Validation loss: 0.7640840159729123, Validation Accuracy: 0.5595703125\n",
            "Counter 9 of 15\n",
            "Positive cases in training:  2550 Negative cases in training:  2550\n",
            "Positive cases in val:  450 Negative cases in training:  450\n",
            "24 2\n",
            "(5100, 1, 25, 25, 25)\n",
            "25.0\n",
            "(900, 1, 25, 25, 25)\n",
            "Epoch 26 - Training loss: 0.843108685547486, Training Accuracy: 0.5\n",
            "Validation loss: 0.7910638151224703, Validation Accuracy: 0.5302734375\n",
            "Counter 10 of 15\n",
            "Epoch 27 - Training loss: 0.8367199688218534, Training Accuracy: 0.5003255605697632\n",
            "Validation loss: 0.7915293423320691, Validation Accuracy: 0.560546875\n",
            "Counter 11 of 15\n",
            "Epoch 28 - Training loss: 0.832677350519225, Training Accuracy: 0.5001808404922485\n",
            "Validation loss: 0.7854594034142792, Validation Accuracy: 0.5302734375\n",
            "Counter 12 of 15\n",
            "Epoch 29 - Training loss: 0.8213491469621659, Training Accuracy: 0.49963831901550293\n",
            "Validation loss: 0.7858023541048169, Validation Accuracy: 0.4697265625\n",
            "Counter 13 of 15\n",
            "Epoch 30 - Training loss: 0.8199300941079855, Training Accuracy: 0.4998191297054291\n",
            "Validation loss: 0.8306471212417819, Validation Accuracy: 0.5302734375\n",
            "Counter 14 of 15\n",
            "Positive cases in training:  2550 Negative cases in training:  2550\n",
            "Positive cases in val:  449 Negative cases in training:  451\n",
            "24 2\n",
            "(5100, 1, 25, 25, 25)\n",
            "25.0\n",
            "(900, 1, 25, 25, 25)\n",
            "Epoch 31 - Training loss: 0.8568192947190255, Training Accuracy: 0.5002532005310059\n",
            "Validation loss: 0.7797990214312449, Validation Accuracy: 0.529296875\n",
            "Counter 15 of 15\n",
            "Early stopping! Best epoch:  15\n"
          ],
          "name": "stdout"
        }
      ]
    },
    {
      "cell_type": "code",
      "metadata": {
        "colab": {
          "base_uri": "https://localhost:8080/",
          "height": 296
        },
        "id": "F_8BCPK4oGFr",
        "outputId": "b00fbf51-971e-4a27-b347-6911b2a2ff39"
      },
      "source": [
        "plt.plot(epoch_count9, train_losses9, label = 'train_loss')\n",
        "plt.plot(epoch_count9, val_losses9, label = 'val_loss')\n",
        "plt.xlabel('epoch')\n",
        "plt.legend()\n",
        "plt.ylabel('loss')"
      ],
      "execution_count": null,
      "outputs": [
        {
          "output_type": "execute_result",
          "data": {
            "text/plain": [
              "Text(0, 0.5, 'loss')"
            ]
          },
          "metadata": {
            "tags": []
          },
          "execution_count": 143
        },
        {
          "output_type": "display_data",
          "data": {
            "image/png": "[encoded data removed]",
            "text/plain": [
              "<Figure size 432x288 with 1 Axes>"
            ]
          },
          "metadata": {
            "tags": [],
            "needs_background": "light"
          }
        }
      ]
    },
    {
      "cell_type": "code",
      "metadata": {
        "colab": {
          "base_uri": "https://localhost:8080/",
          "height": 296
        },
        "id": "dNgqRbz-oGFr",
        "outputId": "a816dfd6-188d-4c1b-9321-ae4defeb5f70"
      },
      "source": [
        "plt.plot(epoch_count9, train_acc9, label = 'train_accuracy')\n",
        "plt.plot(epoch_count9, val_acc9, label = 'val_accuracy')\n",
        "plt.xlabel('epoch')\n",
        "plt.legend()\n",
        "plt.ylabel('accuracy')"
      ],
      "execution_count": null,
      "outputs": [
        {
          "output_type": "execute_result",
          "data": {
            "text/plain": [
              "Text(0, 0.5, 'accuracy')"
            ]
          },
          "metadata": {
            "tags": []
          },
          "execution_count": 144
        },
        {
          "output_type": "display_data",
          "data": {
            "image/png": "[encoded data removed]",
            "text/plain": [
              "<Figure size 432x288 with 1 Axes>"
            ]
          },
          "metadata": {
            "tags": [],
            "needs_background": "light"
          }
        }
      ]
    },
    {
      "cell_type": "code",
      "metadata": {
        "colab": {
          "base_uri": "https://localhost:8080/",
          "height": 362
        },
        "id": "TEwsIIlvoGFs",
        "outputId": "7e1c67e9-18da-498c-cff9-14b2dab08e34"
      },
      "source": [
        "# confusion matrix for validation\n",
        "model.eval() \n",
        "with torch.no_grad():\n",
        "  y_pred = []\n",
        "  y_true = []\n",
        "  for images, labels in valloader:\n",
        "    y_true.extend(labels)\n",
        "    output_val = model(images)\n",
        "    y_pred_softmax = torch.log_softmax(output_val, dim = 1)\n",
        "    _, preds = torch.max(y_pred_softmax, dim=1)\n",
        "    preds = preds.detach().numpy()\n",
        "    y_pred.extend(preds)\n",
        "from sklearn.metrics import confusion_matrix\n",
        "# get actual label\n",
        "cnf_matrix = confusion_matrix(y_true, y_pred)\n",
        "plot_confusion_matrix(cnf_matrix, classes = [0,1], normalize = True, title = 'Confusion matrix2 (Validation)')"
      ],
      "execution_count": null,
      "outputs": [
        {
          "output_type": "stream",
          "text": [
            "Normalized confusion matrix\n",
            "[[1. 0.]\n",
            " [1. 0.]]\n"
          ],
          "name": "stdout"
        },
        {
          "output_type": "display_data",
          "data": {
            "image/png": "[encoded data removed]",
            "text/plain": [
              "<Figure size 432x288 with 2 Axes>"
            ]
          },
          "metadata": {
            "tags": [],
            "needs_background": "light"
          }
        }
      ]
    },
    {
      "cell_type": "code",
      "metadata": {
        "colab": {
          "base_uri": "https://localhost:8080/",
          "height": 362
        },
        "id": "o_bKi3znoGFs",
        "outputId": "6b217c4e-391b-4187-e884-01da228919e0"
      },
      "source": [
        "# confusion matrix for validation\n",
        "model.eval() \n",
        "with torch.no_grad():\n",
        "  y_pred = []\n",
        "  y_true = []\n",
        "  for images, labels in trainloader:\n",
        "    y_true.extend(labels)\n",
        "    output_val = model(images)\n",
        "    y_pred_softmax = torch.log_softmax(output_val, dim = 1)\n",
        "    _, preds = torch.max(y_pred_softmax, dim=1)\n",
        "    preds = preds.detach().numpy()\n",
        "    y_pred.extend(preds)\n",
        "from sklearn.metrics import confusion_matrix\n",
        "# get actual label\n",
        "cnf_matrix = confusion_matrix(y_true, y_pred)\n",
        "plot_confusion_matrix(cnf_matrix, classes = [0,1], normalize = True, title = 'Confusion matrix2 (training)')"
      ],
      "execution_count": null,
      "outputs": [
        {
          "output_type": "stream",
          "text": [
            "Normalized confusion matrix\n",
            "[[1. 0.]\n",
            " [1. 0.]]\n"
          ],
          "name": "stdout"
        },
        {
          "output_type": "display_data",
          "data": {
            "image/png": "[encoded data removed]",
            "text/plain": [
              "<Figure size 432x288 with 2 Axes>"
            ]
          },
          "metadata": {
            "tags": [],
            "needs_background": "light"
          }
        }
      ]
    },
    {
      "cell_type": "code",
      "metadata": {
        "colab": {
          "base_uri": "https://localhost:8080/",
          "height": 362
        },
        "id": "1bCglBFqoGFv",
        "outputId": "2723afc0-4b27-470d-ed79-2d6c3c7f30e2"
      },
      "source": [
        "model.eval() \n",
        "with torch.no_grad():\n",
        "  y_pred = []\n",
        "  y_true = []\n",
        "  for images, labels in valtest_loader:\n",
        "    y_true.extend(labels)\n",
        "    output_val = model(images)\n",
        "    y_pred_softmax = torch.log_softmax(output_val, dim = 1)\n",
        "    _, preds = torch.max(y_pred_softmax, dim=1)\n",
        "    preds = preds.detach().numpy()\n",
        "    y_pred.extend(preds)\n",
        "from sklearn.metrics import confusion_matrix\n",
        "# get actual label\n",
        "cnf_matrix = confusion_matrix(y_true, y_pred)\n",
        "plot_confusion_matrix(cnf_matrix, classes = [0,1], normalize = True, title = 'Confusion matrix2 (Validation)')"
      ],
      "execution_count": null,
      "outputs": [
        {
          "output_type": "stream",
          "text": [
            "Normalized confusion matrix\n",
            "[[1. 0.]\n",
            " [1. 0.]]\n"
          ],
          "name": "stdout"
        },
        {
          "output_type": "display_data",
          "data": {
            "image/png": "[encoded data removed]",
            "text/plain": [
              "<Figure size 432x288 with 2 Axes>"
            ]
          },
          "metadata": {
            "tags": [],
            "needs_background": "light"
          }
        }
      ]
    },
    {
      "cell_type": "markdown",
      "metadata": {
        "id": "qe6YVBMIHikp"
      },
      "source": [
        "### Trail 6 - weighted cross-entropy (200:1) + dynamic training data refreshed every 5 epochs"
      ]
    },
    {
      "cell_type": "code",
      "metadata": {
        "id": "hWOTgBxlHilO"
      },
      "source": [
        "#from torch.optim import Adam\n",
        "# defining the model\n",
        "model = Net()\n",
        "# defining the optimizer\n",
        "optimizer = Adam(model.parameters(), lr=0.0005) # weight_decay = 0.005\n",
        "\n",
        "#weight = torch.tensor([200, 1.])\n",
        "weight = torch.tensor([ 1., 200])\n",
        "criterion = nn.CrossEntropyLoss(weight=weight)"
      ],
      "execution_count": null,
      "outputs": []
    },
    {
      "cell_type": "code",
      "metadata": {
        "colab": {
          "base_uri": "https://localhost:8080/"
        },
        "id": "FjF4gserHilQ",
        "outputId": "90319e14-41f7-4272-eb76-27b5971f167e"
      },
      "source": [
        "model.apply(weight_reset)"
      ],
      "execution_count": null,
      "outputs": [
        {
          "output_type": "execute_result",
          "data": {
            "text/plain": [
              "Net(\n",
              "  (cnn_layers): Sequential(\n",
              "    (0): Conv3d(1, 8, kernel_size=(3, 3, 3), stride=(1, 1, 1))\n",
              "    (1): BatchNorm3d(8, eps=1e-05, momentum=0.1, affine=True, track_running_stats=True)\n",
              "    (2): ReLU(inplace=True)\n",
              "    (3): MaxPool3d(kernel_size=2, stride=1, padding=0, dilation=1, ceil_mode=False)\n",
              "    (4): Conv3d(8, 16, kernel_size=(3, 3, 3), stride=(1, 1, 1))\n",
              "    (5): BatchNorm3d(16, eps=1e-05, momentum=0.1, affine=True, track_running_stats=True)\n",
              "    (6): ReLU(inplace=True)\n",
              "    (7): MaxPool3d(kernel_size=2, stride=2, padding=0, dilation=1, ceil_mode=False)\n",
              "    (8): Conv3d(16, 32, kernel_size=(3, 3, 3), stride=(1, 1, 1))\n",
              "    (9): BatchNorm3d(32, eps=1e-05, momentum=0.1, affine=True, track_running_stats=True)\n",
              "    (10): ReLU(inplace=True)\n",
              "    (11): MaxPool3d(kernel_size=2, stride=2, padding=0, dilation=1, ceil_mode=False)\n",
              "  )\n",
              "  (linear_layers): Sequential(\n",
              "    (0): Dropout(p=0.1, inplace=False)\n",
              "    (1): Linear(in_features=2048, out_features=32, bias=True)\n",
              "    (2): ReLU()\n",
              "    (3): Linear(in_features=32, out_features=2, bias=True)\n",
              "  )\n",
              ")"
            ]
          },
          "metadata": {
            "tags": []
          },
          "execution_count": 19
        }
      ]
    },
    {
      "cell_type": "code",
      "metadata": {
        "colab": {
          "base_uri": "https://localhost:8080/",
          "height": 426
        },
        "id": "qTbQT15SHilV",
        "outputId": "f4836e06-bc49-47f0-a73b-6728c86b6f0e"
      },
      "source": [
        "# defining the number of epochs\n",
        "n_epochs = 80\n",
        "# empty list to store training losses\n",
        "train_losses10 = []\n",
        "train_acc10 = []\n",
        "# empty list to store validation losses\n",
        "val_losses10 = []\n",
        "val_acc10 =[]\n",
        "epoch_count10 = []\n",
        "# training the model\n",
        "es = 0\n",
        "best_loss = 1000\n",
        "for epoch in range(n_epochs):\n",
        "    if epoch % 5 != 0:\n",
        "      pass\n",
        "    else:\n",
        "      all_train, all_val = dynamic_train_val_split(val_perc = 0.15, seed = epoch)\n",
        "      trainloader, valloader = dataloader_builder(all_train, all_val, max_side = 24, grid = 2)\n",
        "\n",
        "    train(epoch, trainloader = trainloader, valloader = valloader)\n",
        "    epoch_count10.append(epoch)\n",
        "    train_losses10.append(train.train_loss/len(trainloader))\n",
        "    val_losses10.append(train.val_loss/len(valloader))\n",
        "    train_acc10.append(train.train_acces/len(trainloader))\n",
        "    val_acc10.append(train.val_acces/len(valloader))\n",
        "    # early stopping\n",
        "    if train.val_loss/len(valloader) < best_loss:\n",
        "      best_loss = train.val_loss/len(valloader)\n",
        "      es = 0\n",
        "      torch.save(model.state_dict(), \"model_\" + str(epoch) + 'weight_trial10.pt')\n",
        "      best_epoch = epoch\n",
        "    else:\n",
        "      es += 1\n",
        "      print(\"Counter {} of 15\".format(es))\n",
        "\n",
        "    if es > 14:\n",
        "      print(\"Early stopping! Best epoch: \", str(best_epoch))\n",
        "      model.load_state_dict(torch.load('/content/model_' + str(best_epoch) +'weight_trial10.pt'))\n",
        "      break"
      ],
      "execution_count": null,
      "outputs": [
        {
          "output_type": "stream",
          "text": [
            "Positive cases in training:  2548 Negative cases in training:  2552\n",
            "Positive cases in val:  450 Negative cases in training:  450\n",
            "24 2\n"
          ],
          "name": "stdout"
        },
        {
          "output_type": "error",
          "ename": "KeyboardInterrupt",
          "evalue": "ignored",
          "traceback": [
            "\u001b[0;31m---------------------------------------------------------------------------\u001b[0m",
            "\u001b[0;31mKeyboardInterrupt\u001b[0m                         Traceback (most recent call last)",
            "\u001b[0;32m<ipython-input-20-6298e451f322>\u001b[0m in \u001b[0;36m<module>\u001b[0;34m()\u001b[0m\n\u001b[1;32m     16\u001b[0m     \u001b[0;32melse\u001b[0m\u001b[0;34m:\u001b[0m\u001b[0;34m\u001b[0m\u001b[0;34m\u001b[0m\u001b[0m\n\u001b[1;32m     17\u001b[0m       \u001b[0mall_train\u001b[0m\u001b[0;34m,\u001b[0m \u001b[0mall_val\u001b[0m \u001b[0;34m=\u001b[0m \u001b[0mdynamic_train_val_split\u001b[0m\u001b[0;34m(\u001b[0m\u001b[0mval_perc\u001b[0m \u001b[0;34m=\u001b[0m \u001b[0;36m0.15\u001b[0m\u001b[0;34m,\u001b[0m \u001b[0mseed\u001b[0m \u001b[0;34m=\u001b[0m \u001b[0mepoch\u001b[0m\u001b[0;34m)\u001b[0m\u001b[0;34m\u001b[0m\u001b[0;34m\u001b[0m\u001b[0m\n\u001b[0;32m---> 18\u001b[0;31m       \u001b[0mtrainloader\u001b[0m\u001b[0;34m,\u001b[0m \u001b[0mvalloader\u001b[0m \u001b[0;34m=\u001b[0m \u001b[0mdataloader_builder\u001b[0m\u001b[0;34m(\u001b[0m\u001b[0mall_train\u001b[0m\u001b[0;34m,\u001b[0m \u001b[0mall_val\u001b[0m\u001b[0;34m,\u001b[0m \u001b[0mmax_side\u001b[0m \u001b[0;34m=\u001b[0m \u001b[0;36m24\u001b[0m\u001b[0;34m,\u001b[0m \u001b[0mgrid\u001b[0m \u001b[0;34m=\u001b[0m \u001b[0;36m2\u001b[0m\u001b[0;34m)\u001b[0m\u001b[0;34m\u001b[0m\u001b[0;34m\u001b[0m\u001b[0m\n\u001b[0m\u001b[1;32m     19\u001b[0m \u001b[0;34m\u001b[0m\u001b[0m\n\u001b[1;32m     20\u001b[0m     \u001b[0mtrain\u001b[0m\u001b[0;34m(\u001b[0m\u001b[0mepoch\u001b[0m\u001b[0;34m,\u001b[0m \u001b[0mtrainloader\u001b[0m \u001b[0;34m=\u001b[0m \u001b[0mtrainloader\u001b[0m\u001b[0;34m,\u001b[0m \u001b[0mvalloader\u001b[0m \u001b[0;34m=\u001b[0m \u001b[0mvalloader\u001b[0m\u001b[0;34m)\u001b[0m\u001b[0;34m\u001b[0m\u001b[0;34m\u001b[0m\u001b[0m\n",
            "\u001b[0;32m<ipython-input-10-621f2c08a5d8>\u001b[0m in \u001b[0;36mdataloader_builder\u001b[0;34m(all_train, all_val, batch_size, max_side, grid)\u001b[0m\n\u001b[1;32m      6\u001b[0m   \u001b[0mtrain_cube\u001b[0m \u001b[0;34m=\u001b[0m \u001b[0;34m[\u001b[0m\u001b[0;34m]\u001b[0m\u001b[0;34m\u001b[0m\u001b[0;34m\u001b[0m\u001b[0m\n\u001b[1;32m      7\u001b[0m   \u001b[0;32mfor\u001b[0m \u001b[0mi\u001b[0m \u001b[0;32min\u001b[0m \u001b[0mrange\u001b[0m\u001b[0;34m(\u001b[0m\u001b[0mlen\u001b[0m\u001b[0;34m(\u001b[0m\u001b[0mall_train\u001b[0m\u001b[0;34m)\u001b[0m\u001b[0;34m)\u001b[0m\u001b[0;34m:\u001b[0m\u001b[0;34m\u001b[0m\u001b[0;34m\u001b[0m\u001b[0m\n\u001b[0;32m----> 8\u001b[0;31m     \u001b[0mtemp\u001b[0m \u001b[0;34m=\u001b[0m \u001b[0mvoxelize\u001b[0m\u001b[0;34m(\u001b[0m\u001b[0mall_train\u001b[0m\u001b[0;34m[\u001b[0m\u001b[0mi\u001b[0m\u001b[0;34m]\u001b[0m\u001b[0;34m[\u001b[0m\u001b[0;36m0\u001b[0m\u001b[0;34m]\u001b[0m\u001b[0;34m,\u001b[0m \u001b[0mall_train\u001b[0m\u001b[0;34m[\u001b[0m\u001b[0mi\u001b[0m\u001b[0;34m]\u001b[0m\u001b[0;34m[\u001b[0m\u001b[0;36m1\u001b[0m\u001b[0;34m]\u001b[0m\u001b[0;34m,\u001b[0m \u001b[0mmax_side\u001b[0m\u001b[0;34m,\u001b[0m \u001b[0mgrid\u001b[0m\u001b[0;34m)\u001b[0m\u001b[0;34m\u001b[0m\u001b[0;34m\u001b[0m\u001b[0m\n\u001b[0m\u001b[1;32m      9\u001b[0m     \u001b[0mtrain_cube\u001b[0m\u001b[0;34m.\u001b[0m\u001b[0mappend\u001b[0m\u001b[0;34m(\u001b[0m\u001b[0mCOO\u001b[0m\u001b[0;34m.\u001b[0m\u001b[0mtodense\u001b[0m\u001b[0;34m(\u001b[0m\u001b[0mtemp\u001b[0m\u001b[0;34m)\u001b[0m\u001b[0;34m)\u001b[0m\u001b[0;34m\u001b[0m\u001b[0;34m\u001b[0m\u001b[0m\n\u001b[1;32m     10\u001b[0m   \u001b[0mtrain_cube\u001b[0m \u001b[0;34m=\u001b[0m \u001b[0mnp\u001b[0m\u001b[0;34m.\u001b[0m\u001b[0marray\u001b[0m\u001b[0;34m(\u001b[0m\u001b[0mtrain_cube\u001b[0m\u001b[0;34m)\u001b[0m\u001b[0;34m\u001b[0m\u001b[0;34m\u001b[0m\u001b[0m\n",
            "\u001b[0;32m<ipython-input-9-7c0a7cd3c3b2>\u001b[0m in \u001b[0;36mvoxelize\u001b[0;34m(pro_filename, lig_filename, max_side, grid)\u001b[0m\n\u001b[1;32m      3\u001b[0m   \u001b[0;31m# import the pdb file as array\u001b[0m\u001b[0;34m\u001b[0m\u001b[0;34m\u001b[0m\u001b[0;34m\u001b[0m\u001b[0m\n\u001b[1;32m      4\u001b[0m   \u001b[0mpro\u001b[0m \u001b[0;34m=\u001b[0m \u001b[0mread_pdb\u001b[0m\u001b[0;34m(\u001b[0m\u001b[0mpro_filename\u001b[0m\u001b[0;34m)\u001b[0m\u001b[0;34m.\u001b[0m\u001b[0mastype\u001b[0m\u001b[0;34m(\u001b[0m\u001b[0mnp\u001b[0m\u001b[0;34m.\u001b[0m\u001b[0mfloat32\u001b[0m\u001b[0;34m)\u001b[0m\u001b[0;34m\u001b[0m\u001b[0;34m\u001b[0m\u001b[0m\n\u001b[0;32m----> 5\u001b[0;31m   \u001b[0mlig\u001b[0m \u001b[0;34m=\u001b[0m \u001b[0mread_pdb\u001b[0m\u001b[0;34m(\u001b[0m\u001b[0mlig_filename\u001b[0m\u001b[0;34m)\u001b[0m\u001b[0;34m.\u001b[0m\u001b[0mastype\u001b[0m\u001b[0;34m(\u001b[0m\u001b[0mnp\u001b[0m\u001b[0;34m.\u001b[0m\u001b[0mfloat32\u001b[0m\u001b[0;34m)\u001b[0m\u001b[0;34m\u001b[0m\u001b[0;34m\u001b[0m\u001b[0m\n\u001b[0m\u001b[1;32m      6\u001b[0m \u001b[0;34m\u001b[0m\u001b[0m\n\u001b[1;32m      7\u001b[0m   \u001b[0;31m# calculate box_size\u001b[0m\u001b[0;34m\u001b[0m\u001b[0;34m\u001b[0m\u001b[0;34m\u001b[0m\u001b[0m\n",
            "\u001b[0;32m<ipython-input-3-ab89439d406b>\u001b[0m in \u001b[0;36mread_pdb\u001b[0;34m(filename)\u001b[0m\n\u001b[1;32m      3\u001b[0m \u001b[0;34m\u001b[0m\u001b[0m\n\u001b[1;32m      4\u001b[0m   \u001b[0;32mwith\u001b[0m \u001b[0mopen\u001b[0m\u001b[0;34m(\u001b[0m\u001b[0mfilename\u001b[0m\u001b[0;34m,\u001b[0m \u001b[0;34m'r'\u001b[0m\u001b[0;34m)\u001b[0m \u001b[0;32mas\u001b[0m \u001b[0mfile\u001b[0m\u001b[0;34m:\u001b[0m\u001b[0;34m\u001b[0m\u001b[0;34m\u001b[0m\u001b[0m\n\u001b[0;32m----> 5\u001b[0;31m     \u001b[0mstrline_L\u001b[0m \u001b[0;34m=\u001b[0m \u001b[0mfile\u001b[0m\u001b[0;34m.\u001b[0m\u001b[0mreadlines\u001b[0m\u001b[0;34m(\u001b[0m\u001b[0;34m)\u001b[0m\u001b[0;34m\u001b[0m\u001b[0;34m\u001b[0m\u001b[0m\n\u001b[0m\u001b[1;32m      6\u001b[0m                 \u001b[0;31m# print(strline_L)\u001b[0m\u001b[0;34m\u001b[0m\u001b[0;34m\u001b[0m\u001b[0;34m\u001b[0m\u001b[0m\n\u001b[1;32m      7\u001b[0m \u001b[0;34m\u001b[0m\u001b[0m\n",
            "\u001b[0;32m/usr/lib/python3.7/codecs.py\u001b[0m in \u001b[0;36mdecode\u001b[0;34m(self, input, final)\u001b[0m\n\u001b[1;32m    317\u001b[0m         \u001b[0;32mraise\u001b[0m \u001b[0mNotImplementedError\u001b[0m\u001b[0;34m\u001b[0m\u001b[0;34m\u001b[0m\u001b[0m\n\u001b[1;32m    318\u001b[0m \u001b[0;34m\u001b[0m\u001b[0m\n\u001b[0;32m--> 319\u001b[0;31m     \u001b[0;32mdef\u001b[0m \u001b[0mdecode\u001b[0m\u001b[0;34m(\u001b[0m\u001b[0mself\u001b[0m\u001b[0;34m,\u001b[0m \u001b[0minput\u001b[0m\u001b[0;34m,\u001b[0m \u001b[0mfinal\u001b[0m\u001b[0;34m=\u001b[0m\u001b[0;32mFalse\u001b[0m\u001b[0;34m)\u001b[0m\u001b[0;34m:\u001b[0m\u001b[0;34m\u001b[0m\u001b[0;34m\u001b[0m\u001b[0m\n\u001b[0m\u001b[1;32m    320\u001b[0m         \u001b[0;31m# decode input (taking the buffer into account)\u001b[0m\u001b[0;34m\u001b[0m\u001b[0;34m\u001b[0m\u001b[0;34m\u001b[0m\u001b[0m\n\u001b[1;32m    321\u001b[0m         \u001b[0mdata\u001b[0m \u001b[0;34m=\u001b[0m \u001b[0mself\u001b[0m\u001b[0;34m.\u001b[0m\u001b[0mbuffer\u001b[0m \u001b[0;34m+\u001b[0m \u001b[0minput\u001b[0m\u001b[0;34m\u001b[0m\u001b[0;34m\u001b[0m\u001b[0m\n",
            "\u001b[0;31mKeyboardInterrupt\u001b[0m: "
          ]
        }
      ]
    },
    {
      "cell_type": "code",
      "metadata": {
        "colab": {
          "base_uri": "https://localhost:8080/",
          "height": 296
        },
        "id": "r8qBDXRHHilX",
        "outputId": "3c7bbb7c-6d22-4a18-f39c-67d09492dc65"
      },
      "source": [
        "plt.plot(epoch_count10, train_losses10, label = 'train_loss')\n",
        "plt.plot(epoch_count10, val_losses10, label = 'val_loss')\n",
        "plt.xlabel('epoch')\n",
        "plt.legend()\n",
        "plt.ylabel('loss')"
      ],
      "execution_count": null,
      "outputs": [
        {
          "output_type": "execute_result",
          "data": {
            "text/plain": [
              "Text(0, 0.5, 'loss')"
            ]
          },
          "metadata": {
            "tags": []
          },
          "execution_count": 153
        },
        {
          "output_type": "display_data",
          "data": {
            "image/png": "[encoded data removed]",
            "text/plain": [
              "<Figure size 432x288 with 1 Axes>"
            ]
          },
          "metadata": {
            "tags": [],
            "needs_background": "light"
          }
        }
      ]
    },
    {
      "cell_type": "code",
      "metadata": {
        "colab": {
          "base_uri": "https://localhost:8080/",
          "height": 296
        },
        "id": "1WVa-HJ4HilY",
        "outputId": "f3491ead-e957-41d5-96cf-d9ce2b5dd155"
      },
      "source": [
        "plt.plot(epoch_count10, train_acc10, label = 'train_accuracy')\n",
        "plt.plot(epoch_count10, val_acc10, label = 'val_accuracy')\n",
        "plt.xlabel('epoch')\n",
        "plt.legend()\n",
        "plt.ylabel('accuracy')"
      ],
      "execution_count": null,
      "outputs": [
        {
          "output_type": "execute_result",
          "data": {
            "text/plain": [
              "Text(0, 0.5, 'accuracy')"
            ]
          },
          "metadata": {
            "tags": []
          },
          "execution_count": 154
        },
        {
          "output_type": "display_data",
          "data": {
            "image/png": "[encoded data removed]",
            "text/plain": [
              "<Figure size 432x288 with 1 Axes>"
            ]
          },
          "metadata": {
            "tags": [],
            "needs_background": "light"
          }
        }
      ]
    },
    {
      "cell_type": "code",
      "metadata": {
        "colab": {
          "base_uri": "https://localhost:8080/",
          "height": 362
        },
        "id": "LsmZirlsHilZ",
        "outputId": "8323822b-ad74-4fc4-f113-44ffcd8b4ef0"
      },
      "source": [
        "# confusion matrix for validation\n",
        "model.eval() \n",
        "with torch.no_grad():\n",
        "  y_pred = []\n",
        "  y_true = []\n",
        "  for images, labels in valloader:\n",
        "    y_true.extend(labels)\n",
        "    output_val = model(images)\n",
        "    y_pred_softmax = torch.log_softmax(output_val, dim = 1)\n",
        "    _, preds = torch.max(y_pred_softmax, dim=1)\n",
        "    preds = preds.detach().numpy()\n",
        "    y_pred.extend(preds)\n",
        "from sklearn.metrics import confusion_matrix\n",
        "# get actual label\n",
        "cnf_matrix = confusion_matrix(y_true, y_pred)\n",
        "plot_confusion_matrix(cnf_matrix, classes = [0,1], normalize = True, title = 'Confusion matrix2 (Validation)')"
      ],
      "execution_count": null,
      "outputs": [
        {
          "output_type": "stream",
          "text": [
            "Normalized confusion matrix\n",
            "[[0.97555556 0.02444444]\n",
            " [0.98222222 0.01777778]]\n"
          ],
          "name": "stdout"
        },
        {
          "output_type": "display_data",
          "data": {
            "image/png": "[encoded data removed]",
            "text/plain": [
              "<Figure size 432x288 with 2 Axes>"
            ]
          },
          "metadata": {
            "tags": [],
            "needs_background": "light"
          }
        }
      ]
    },
    {
      "cell_type": "code",
      "metadata": {
        "colab": {
          "base_uri": "https://localhost:8080/",
          "height": 362
        },
        "id": "MlZ4N0UbHila",
        "outputId": "7c1267fc-6f46-4c0b-b729-f20ad5566ea3"
      },
      "source": [
        "# confusion matrix for validation\n",
        "model.eval() \n",
        "with torch.no_grad():\n",
        "  y_pred = []\n",
        "  y_true = []\n",
        "  for images, labels in trainloader:\n",
        "    y_true.extend(labels)\n",
        "    output_val = model(images)\n",
        "    y_pred_softmax = torch.log_softmax(output_val, dim = 1)\n",
        "    _, preds = torch.max(y_pred_softmax, dim=1)\n",
        "    preds = preds.detach().numpy()\n",
        "    y_pred.extend(preds)\n",
        "from sklearn.metrics import confusion_matrix\n",
        "# get actual label\n",
        "cnf_matrix = confusion_matrix(y_true, y_pred)\n",
        "plot_confusion_matrix(cnf_matrix, classes = [0,1], normalize = True, title = 'Confusion matrix2 (training)')"
      ],
      "execution_count": null,
      "outputs": [
        {
          "output_type": "stream",
          "text": [
            "Normalized confusion matrix\n",
            "[[0.97137255 0.02862745]\n",
            " [0.97333333 0.02666667]]\n"
          ],
          "name": "stdout"
        },
        {
          "output_type": "display_data",
          "data": {
            "image/png": "[encoded data removed]",
            "text/plain": [
              "<Figure size 432x288 with 2 Axes>"
            ]
          },
          "metadata": {
            "tags": [],
            "needs_background": "light"
          }
        }
      ]
    },
    {
      "cell_type": "code",
      "metadata": {
        "colab": {
          "base_uri": "https://localhost:8080/",
          "height": 362
        },
        "id": "fuGmVY2gHile",
        "outputId": "fa91f607-8413-4540-e12a-77a9e8e5d0db"
      },
      "source": [
        "model.eval() \n",
        "with torch.no_grad():\n",
        "  y_pred = []\n",
        "  y_true = []\n",
        "  for images, labels in valtest_loader:\n",
        "    y_true.extend(labels)\n",
        "    output_val = model(images)\n",
        "    y_pred_softmax = torch.log_softmax(output_val, dim = 1)\n",
        "    _, preds = torch.max(y_pred_softmax, dim=1)\n",
        "    preds = preds.detach().numpy()\n",
        "    y_pred.extend(preds)\n",
        "from sklearn.metrics import confusion_matrix\n",
        "# get actual label\n",
        "cnf_matrix = confusion_matrix(y_true, y_pred)\n",
        "plot_confusion_matrix(cnf_matrix, classes = [0,1], normalize = True, title = 'Confusion matrix2 (Validation)')"
      ],
      "execution_count": null,
      "outputs": [
        {
          "output_type": "stream",
          "text": [
            "Normalized confusion matrix\n",
            "[[0.97555556 0.02444444]\n",
            " [0.97777778 0.02222222]]\n"
          ],
          "name": "stdout"
        },
        {
          "output_type": "display_data",
          "data": {
            "image/png": "[encoded data removed]",
            "text/plain": [
              "<Figure size 432x288 with 2 Axes>"
            ]
          },
          "metadata": {
            "tags": [],
            "needs_background": "light"
          }
        }
      ]
    },
    {
      "cell_type": "markdown",
      "metadata": {
        "id": "MP5JLM_08UJa"
      },
      "source": [
        "### Trail 7 - weighted cross-entropy (1:200) + dynamic training data refreshed every 5 epochs"
      ]
    },
    {
      "cell_type": "code",
      "metadata": {
        "id": "3PZz5rER8UJt"
      },
      "source": [
        "#from torch.optim import Adam\n",
        "# defining the model\n",
        "model = Net()\n",
        "# defining the optimizer\n",
        "optimizer = Adam(model.parameters(), lr=0.0005) # weight_decay = 0.005\n",
        "\n",
        "#weight = torch.tensor([200, 1.])\n",
        "weight = torch.tensor([ 1., 200])\n",
        "criterion = nn.CrossEntropyLoss(weight=weight)"
      ],
      "execution_count": null,
      "outputs": []
    },
    {
      "cell_type": "code",
      "metadata": {
        "colab": {
          "base_uri": "https://localhost:8080/"
        },
        "id": "4kJseU0A8UJu",
        "outputId": "8136e414-e3cc-4819-ea6a-39821ee87a9e"
      },
      "source": [
        "model.apply(weight_reset)"
      ],
      "execution_count": null,
      "outputs": [
        {
          "output_type": "execute_result",
          "data": {
            "text/plain": [
              "Net(\n",
              "  (cnn_layers): Sequential(\n",
              "    (0): Conv3d(1, 8, kernel_size=(3, 3, 3), stride=(1, 1, 1))\n",
              "    (1): BatchNorm3d(8, eps=1e-05, momentum=0.1, affine=True, track_running_stats=True)\n",
              "    (2): ReLU(inplace=True)\n",
              "    (3): MaxPool3d(kernel_size=2, stride=1, padding=0, dilation=1, ceil_mode=False)\n",
              "    (4): Conv3d(8, 16, kernel_size=(3, 3, 3), stride=(1, 1, 1))\n",
              "    (5): BatchNorm3d(16, eps=1e-05, momentum=0.1, affine=True, track_running_stats=True)\n",
              "    (6): ReLU(inplace=True)\n",
              "    (7): MaxPool3d(kernel_size=2, stride=2, padding=0, dilation=1, ceil_mode=False)\n",
              "    (8): Conv3d(16, 32, kernel_size=(3, 3, 3), stride=(1, 1, 1))\n",
              "    (9): BatchNorm3d(32, eps=1e-05, momentum=0.1, affine=True, track_running_stats=True)\n",
              "    (10): ReLU(inplace=True)\n",
              "    (11): MaxPool3d(kernel_size=2, stride=2, padding=0, dilation=1, ceil_mode=False)\n",
              "  )\n",
              "  (linear_layers): Sequential(\n",
              "    (0): Dropout(p=0.1, inplace=False)\n",
              "    (1): Linear(in_features=2048, out_features=32, bias=True)\n",
              "    (2): ReLU()\n",
              "    (3): Linear(in_features=32, out_features=2, bias=True)\n",
              "  )\n",
              ")"
            ]
          },
          "metadata": {
            "tags": []
          },
          "execution_count": 22
        }
      ]
    },
    {
      "cell_type": "code",
      "metadata": {
        "colab": {
          "base_uri": "https://localhost:8080/"
        },
        "id": "LRc-Wsvt8UJv",
        "outputId": "0d989e35-7f1a-40b2-a3be-974b7c394aae"
      },
      "source": [
        "# defining the number of epochs\n",
        "n_epochs = 80\n",
        "# empty list to store training losses\n",
        "train_losses10 = []\n",
        "train_acc10 = []\n",
        "# empty list to store validation losses\n",
        "val_losses10 = []\n",
        "val_acc10 =[]\n",
        "epoch_count10 = []\n",
        "# training the model\n",
        "es = 0\n",
        "best_loss = 1000\n",
        "for epoch in range(n_epochs):\n",
        "    if epoch % 5 != 0:\n",
        "      pass\n",
        "    else:\n",
        "      all_train, all_val = dynamic_train_val_split(val_perc = 0.15, seed = epoch)\n",
        "      trainloader, valloader = dataloader_builder(all_train, all_val, max_side = 24, grid = 2)\n",
        "\n",
        "    train(epoch, trainloader = trainloader, valloader = valloader)\n",
        "    epoch_count10.append(epoch)\n",
        "    train_losses10.append(train.train_loss/len(trainloader))\n",
        "    val_losses10.append(train.val_loss/len(valloader))\n",
        "    train_acc10.append(train.train_acces/len(trainloader))\n",
        "    val_acc10.append(train.val_acces/len(valloader))\n",
        "    # early stopping\n",
        "    if train.val_loss/len(valloader) < best_loss:\n",
        "      best_loss = train.val_loss/len(valloader)\n",
        "      es = 0\n",
        "      torch.save(model.state_dict(), \"model_\" + str(epoch) + 'weight_trial10.pt')\n",
        "      best_epoch = epoch\n",
        "    else:\n",
        "      es += 1\n",
        "      print(\"Counter {} of 15\".format(es))\n",
        "\n",
        "    if es > 14:\n",
        "      print(\"Early stopping! Best epoch: \", str(best_epoch))\n",
        "      model.load_state_dict(torch.load('/content/model_' + str(best_epoch) +'weight_trial10.pt'))\n",
        "      break"
      ],
      "execution_count": null,
      "outputs": [
        {
          "output_type": "stream",
          "text": [
            "Positive cases in training:  2548 Negative cases in training:  2552\n",
            "Positive cases in val:  450 Negative cases in training:  450\n",
            "24 2\n",
            "(5100, 1, 25, 25, 25)\n",
            "25.0\n",
            "(900, 1, 25, 25, 25)\n",
            "Epoch 1 - Training loss: 10.457362024486065, Training Accuracy: 0.4992549419403076\n",
            "Validation loss: 4.446492113173008, Validation Accuracy: 0.4697265625\n",
            "Epoch 2 - Training loss: 4.328126550838351, Training Accuracy: 0.5001012682914734\n",
            "Validation loss: 3.597989071160555, Validation Accuracy: 0.5\n",
            "Epoch 3 - Training loss: 4.059100974909962, Training Accuracy: 0.5006438493728638\n",
            "Validation loss: 3.5044614151120186, Validation Accuracy: 0.5302734375\n",
            "Epoch 4 - Training loss: 3.949259652942419, Training Accuracy: 0.5003544092178345\n",
            "Validation loss: 3.434569103643298, Validation Accuracy: 0.5\n",
            "Epoch 5 - Training loss: 3.6229697465896606, Training Accuracy: 0.5004268288612366\n",
            "Validation loss: 3.026004084851593, Validation Accuracy: 0.5302734375\n",
            "Positive cases in training:  2548 Negative cases in training:  2552\n",
            "Positive cases in val:  448 Negative cases in training:  452\n",
            "24 2\n",
            "(5100, 1, 25, 25, 25)\n",
            "25.0\n",
            "(900, 1, 25, 25, 25)\n",
            "Epoch 6 - Training loss: 2.5918868113309146, Training Accuracy: 0.5004268288612366\n",
            "Validation loss: 1.9965900774113834, Validation Accuracy: 0.501953125\n",
            "Epoch 7 - Training loss: 1.6315157951787114, Training Accuracy: 0.5005353093147278\n",
            "Validation loss: 1.3528166877804324, Validation Accuracy: 0.5322265625\n",
            "Epoch 8 - Training loss: 1.4662946597673, Training Accuracy: 0.5001012682914734\n",
            "Validation loss: 1.1479786820709705, Validation Accuracy: 0.4716796875\n",
            "Epoch 9 - Training loss: 1.3854435821063817, Training Accuracy: 0.5005714893341064\n",
            "Validation loss: 1.0494842139305547, Validation Accuracy: 0.501953125\n",
            "Epoch 10 - Training loss: 1.4028306070715189, Training Accuracy: 0.5006076097488403\n",
            "Validation loss: 3.026731923222542, Validation Accuracy: 0.44140625\n",
            "Counter 1 of 15\n",
            "Positive cases in training:  2549 Negative cases in training:  2551\n",
            "Positive cases in val:  449 Negative cases in training:  451\n",
            "24 2\n",
            "(5100, 1, 25, 25, 25)\n",
            "25.0\n",
            "(900, 1, 25, 25, 25)\n",
            "Epoch 11 - Training loss: 1.4020355015993118, Training Accuracy: 0.5002315044403076\n",
            "Validation loss: 0.9698344115167856, Validation Accuracy: 0.470703125\n",
            "Epoch 12 - Training loss: 1.3262227656319738, Training Accuracy: 0.5001591444015503\n",
            "Validation loss: 1.020666945260018, Validation Accuracy: 0.5009765625\n",
            "Counter 1 of 15\n",
            "Epoch 13 - Training loss: 1.329176760558039, Training Accuracy: 0.500557005405426\n",
            "Validation loss: 0.9373431652784348, Validation Accuracy: 0.5009765625\n",
            "Epoch 14 - Training loss: 1.3253323380835353, Training Accuracy: 0.5002676248550415\n",
            "Validation loss: 0.9486322990851477, Validation Accuracy: 0.5615234375\n",
            "Counter 1 of 15\n",
            "Epoch 15 - Training loss: 1.331321097817272, Training Accuracy: 0.5003038644790649\n",
            "Validation loss: 0.909856321522966, Validation Accuracy: 0.5009765625\n",
            "Positive cases in training:  2546 Negative cases in training:  2554\n",
            "Positive cases in val:  450 Negative cases in training:  450\n",
            "24 2\n",
            "(5100, 1, 25, 25, 25)\n",
            "25.0\n",
            "(900, 1, 25, 25, 25)\n",
            "Epoch 16 - Training loss: 1.2971860077232122, Training Accuracy: 0.5006365776062012\n",
            "Validation loss: 1.0054976847022772, Validation Accuracy: 0.5\n",
            "Counter 1 of 15\n",
            "Epoch 17 - Training loss: 1.2818240303546191, Training Accuracy: 0.5008174180984497\n",
            "Validation loss: 1.0220061223371886, Validation Accuracy: 0.5302734375\n",
            "Counter 2 of 15\n",
            "Epoch 18 - Training loss: 1.2858624486252666, Training Accuracy: 0.5006726980209351\n",
            "Validation loss: 1.117666607198771, Validation Accuracy: 0.560546875\n",
            "Counter 3 of 15\n",
            "Epoch 19 - Training loss: 1.2786755272187293, Training Accuracy: 0.500781238079071\n",
            "Validation loss: 0.9915436776354909, Validation Accuracy: 0.4697265625\n",
            "Counter 4 of 15\n",
            "Epoch 20 - Training loss: 1.2386251455172896, Training Accuracy: 0.5007089376449585\n",
            "Validation loss: 0.9722080264473334, Validation Accuracy: 0.5\n",
            "Counter 5 of 15\n",
            "Positive cases in training:  2549 Negative cases in training:  2551\n",
            "Positive cases in val:  449 Negative cases in training:  451\n",
            "24 2\n",
            "(5100, 1, 25, 25, 25)\n",
            "25.0\n",
            "(900, 1, 25, 25, 25)\n",
            "Epoch 21 - Training loss: 1.3593251035548746, Training Accuracy: 0.5004123449325562\n",
            "Validation loss: 1.0073709767311811, Validation Accuracy: 0.470703125\n",
            "Counter 6 of 15\n",
            "Epoch 22 - Training loss: 1.2882167182862758, Training Accuracy: 0.500195324420929\n",
            "Validation loss: 0.9855575738474727, Validation Accuracy: 0.53125\n",
            "Counter 7 of 15\n",
            "Epoch 23 - Training loss: 1.2988907101564109, Training Accuracy: 0.500195324420929\n",
            "Validation loss: 1.0260415701195598, Validation Accuracy: 0.470703125\n",
            "Counter 8 of 15\n",
            "Epoch 24 - Training loss: 1.2974008271470665, Training Accuracy: 0.49997830390930176\n",
            "Validation loss: 0.9959248196100816, Validation Accuracy: 0.5009765625\n",
            "Counter 9 of 15\n",
            "Epoch 25 - Training loss: 1.2833931924775244, Training Accuracy: 0.500086784362793\n",
            "Validation loss: 1.0010206557344645, Validation Accuracy: 0.5009765625\n",
            "Counter 10 of 15\n",
            "Positive cases in training:  2550 Negative cases in training:  2550\n",
            "Positive cases in val:  450 Negative cases in training:  450\n",
            "24 2\n",
            "(5100, 1, 25, 25, 25)\n",
            "25.0\n",
            "(900, 1, 25, 25, 25)\n",
            "Epoch 26 - Training loss: 1.248705786280334, Training Accuracy: 0.49974679946899414\n",
            "Validation loss: 1.0894294492900372, Validation Accuracy: 0.4697265625\n",
            "Counter 11 of 15\n",
            "Epoch 27 - Training loss: 1.2681128889322282, Training Accuracy: 0.4998553395271301\n",
            "Validation loss: 1.1046179728582501, Validation Accuracy: 0.4697265625\n",
            "Counter 12 of 15\n",
            "Epoch 28 - Training loss: 1.2587357379496098, Training Accuracy: 0.6945818662643433\n",
            "Validation loss: 1.0543254613876343, Validation Accuracy: 0.8505859375\n",
            "Counter 13 of 15\n",
            "Epoch 29 - Training loss: 1.2775306468829513, Training Accuracy: 0.7519097328186035\n",
            "Validation loss: 1.1549832647433504, Validation Accuracy: 0.9013671875\n",
            "Counter 14 of 15\n",
            "Epoch 30 - Training loss: 1.238288829755038, Training Accuracy: 0.7677083611488342\n",
            "Validation loss: 1.1223994246684015, Validation Accuracy: 0.900390625\n",
            "Counter 15 of 15\n",
            "Early stopping! Best epoch:  14\n"
          ],
          "name": "stdout"
        }
      ]
    },
    {
      "cell_type": "code",
      "metadata": {
        "colab": {
          "base_uri": "https://localhost:8080/",
          "height": 296
        },
        "id": "nTU2GTRM8UJv",
        "outputId": "c781e03e-9bc8-4fcf-bbe7-619fb250c9d8"
      },
      "source": [
        "plt.plot(epoch_count10, train_losses10, label = 'train_loss')\n",
        "plt.plot(epoch_count10, val_losses10, label = 'val_loss')\n",
        "plt.xlabel('epoch')\n",
        "plt.legend()\n",
        "plt.ylabel('loss')"
      ],
      "execution_count": null,
      "outputs": [
        {
          "output_type": "execute_result",
          "data": {
            "text/plain": [
              "Text(0, 0.5, 'loss')"
            ]
          },
          "metadata": {
            "tags": []
          },
          "execution_count": 24
        },
        {
          "output_type": "display_data",
          "data": {
            "image/png": "[encoded data removed]",
            "text/plain": [
              "<Figure size 432x288 with 1 Axes>"
            ]
          },
          "metadata": {
            "tags": [],
            "needs_background": "light"
          }
        }
      ]
    },
    {
      "cell_type": "code",
      "metadata": {
        "colab": {
          "base_uri": "https://localhost:8080/",
          "height": 296
        },
        "id": "_Xcf9RG18UJw",
        "outputId": "44e73686-6e1e-413c-ab98-ee44e14f0696"
      },
      "source": [
        "plt.plot(epoch_count10, train_acc10, label = 'train_accuracy')\n",
        "plt.plot(epoch_count10, val_acc10, label = 'val_accuracy')\n",
        "plt.xlabel('epoch')\n",
        "plt.legend()\n",
        "plt.ylabel('accuracy')"
      ],
      "execution_count": null,
      "outputs": [
        {
          "output_type": "execute_result",
          "data": {
            "text/plain": [
              "Text(0, 0.5, 'accuracy')"
            ]
          },
          "metadata": {
            "tags": []
          },
          "execution_count": 25
        },
        {
          "output_type": "display_data",
          "data": {
            "image/png": "[encoded data removed]",
            "text/plain": [
              "<Figure size 432x288 with 1 Axes>"
            ]
          },
          "metadata": {
            "tags": [],
            "needs_background": "light"
          }
        }
      ]
    },
    {
      "cell_type": "code",
      "metadata": {
        "colab": {
          "base_uri": "https://localhost:8080/",
          "height": 362
        },
        "id": "MHnP6Xn08UJx",
        "outputId": "0099ccc7-b584-477e-ebe7-44c320e2d204"
      },
      "source": [
        "# confusion matrix for validation\n",
        "model.eval() \n",
        "with torch.no_grad():\n",
        "  y_pred = []\n",
        "  y_true = []\n",
        "  for images, labels in valloader:\n",
        "    y_true.extend(labels)\n",
        "    output_val = model(images)\n",
        "    y_pred_softmax = torch.log_softmax(output_val, dim = 1)\n",
        "    _, preds = torch.max(y_pred_softmax, dim=1)\n",
        "    preds = preds.detach().numpy()\n",
        "    y_pred.extend(preds)\n",
        "from sklearn.metrics import confusion_matrix\n",
        "# get actual label\n",
        "cnf_matrix = confusion_matrix(y_true, y_pred)\n",
        "plot_confusion_matrix(cnf_matrix, classes = [0,1], normalize = True, title = 'Confusion matrix2 (Validation)')"
      ],
      "execution_count": null,
      "outputs": [
        {
          "output_type": "stream",
          "text": [
            "Normalized confusion matrix\n",
            "[[0. 1.]\n",
            " [0. 1.]]\n"
          ],
          "name": "stdout"
        },
        {
          "output_type": "display_data",
          "data": {
            "image/png": "[encoded data removed]",
            "text/plain": [
              "<Figure size 432x288 with 2 Axes>"
            ]
          },
          "metadata": {
            "tags": [],
            "needs_background": "light"
          }
        }
      ]
    },
    {
      "cell_type": "code",
      "metadata": {
        "colab": {
          "base_uri": "https://localhost:8080/",
          "height": 362
        },
        "id": "lNtrA1H68UJy",
        "outputId": "78908425-cefd-40de-dc0f-99d0607beaf7"
      },
      "source": [
        "# confusion matrix for validation\n",
        "model.eval() \n",
        "with torch.no_grad():\n",
        "  y_pred = []\n",
        "  y_true = []\n",
        "  for images, labels in trainloader:\n",
        "    y_true.extend(labels)\n",
        "    output_val = model(images)\n",
        "    y_pred_softmax = torch.log_softmax(output_val, dim = 1)\n",
        "    _, preds = torch.max(y_pred_softmax, dim=1)\n",
        "    preds = preds.detach().numpy()\n",
        "    y_pred.extend(preds)\n",
        "from sklearn.metrics import confusion_matrix\n",
        "# get actual label\n",
        "cnf_matrix = confusion_matrix(y_true, y_pred)\n",
        "plot_confusion_matrix(cnf_matrix, classes = [0,1], normalize = True, title = 'Confusion matrix2 (training)')"
      ],
      "execution_count": null,
      "outputs": [
        {
          "output_type": "stream",
          "text": [
            "Normalized confusion matrix\n",
            "[[0. 1.]\n",
            " [0. 1.]]\n"
          ],
          "name": "stdout"
        },
        {
          "output_type": "display_data",
          "data": {
            "image/png": "[encoded data removed]",
            "text/plain": [
              "<Figure size 432x288 with 2 Axes>"
            ]
          },
          "metadata": {
            "tags": [],
            "needs_background": "light"
          }
        }
      ]
    },
    {
      "cell_type": "code",
      "metadata": {
        "colab": {
          "base_uri": "https://localhost:8080/",
          "height": 362
        },
        "id": "AmgOcQWK8UJy",
        "outputId": "fa91f607-8413-4540-e12a-77a9e8e5d0db"
      },
      "source": [
        "model.eval() \n",
        "with torch.no_grad():\n",
        "  y_pred = []\n",
        "  y_true = []\n",
        "  for images, labels in valtest_loader:\n",
        "    y_true.extend(labels)\n",
        "    output_val = model(images)\n",
        "    y_pred_softmax = torch.log_softmax(output_val, dim = 1)\n",
        "    _, preds = torch.max(y_pred_softmax, dim=1)\n",
        "    preds = preds.detach().numpy()\n",
        "    y_pred.extend(preds)\n",
        "from sklearn.metrics import confusion_matrix\n",
        "# get actual label\n",
        "cnf_matrix = confusion_matrix(y_true, y_pred)\n",
        "plot_confusion_matrix(cnf_matrix, classes = [0,1], normalize = True, title = 'Confusion matrix2 (Validation)')"
      ],
      "execution_count": null,
      "outputs": [
        {
          "output_type": "stream",
          "text": [
            "Normalized confusion matrix\n",
            "[[0.97555556 0.02444444]\n",
            " [0.97777778 0.02222222]]\n"
          ],
          "name": "stdout"
        },
        {
          "output_type": "display_data",
          "data": {
            "image/png": "[encoded data removed]",
            "text/plain": [
              "<Figure size 432x288 with 2 Axes>"
            ]
          },
          "metadata": {
            "tags": [],
            "needs_background": "light"
          }
        }
      ]
    }
  ]
}