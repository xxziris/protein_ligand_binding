{
  "nbformat": 4,
  "nbformat_minor": 0,
  "metadata": {
    "colab": {
      "name": "BS6207_Project_big matrix.ipynb",
      "provenance": [],
      "collapsed_sections": [],
      "toc_visible": true,
      "mount_file_id": "1DYvhKdwLNWobV_OV8zCFgpavbq11UJf1",
      "authorship_tag": "ABX9TyOi4B5Ehkc4YYqIPPrm33+C",
      "include_colab_link": true
    },
    "kernelspec": {
      "name": "python3",
      "display_name": "Python 3"
    },
    "language_info": {
      "name": "python"
    }
  },
  "cells": [
    {
      "cell_type": "markdown",
      "metadata": {
        "id": "view-in-github",
        "colab_type": "text"
      },
      "source": [
        "<a href=\"https://colab.research.google.com/github/xxziris/protein_ligand_binding/blob/main/BS6207_Project_big_matrix.ipynb\" target=\"_parent\"><img src=\"https://colab.research.google.com/assets/colab-badge.svg\" alt=\"Open In Colab\"/></a>"
      ]
    },
    {
      "cell_type": "code",
      "metadata": {
        "id": "JNiWj0DNi57G",
        "colab": {
          "base_uri": "https://localhost:8080/"
        },
        "outputId": "330d375a-9057-48b8-ced9-e62686edc08d"
      },
      "source": [
        "pip install sparse"
      ],
      "execution_count": null,
      "outputs": [
        {
          "output_type": "stream",
          "text": [
            "Collecting sparse\n",
            "\u001b[?25l  Downloading https://files.pythonhosted.org/packages/46/20/c409a0d0ea7623a936080e0038eb77a02e62629a07944706c26f24ebcbb8/sparse-0.12.0-py2.py3-none-any.whl (76kB)\n",
            "\r\u001b[K     |████▎                           | 10kB 14.2MB/s eta 0:00:01\r\u001b[K     |████████▋                       | 20kB 18.4MB/s eta 0:00:01\r\u001b[K     |████████████▉                   | 30kB 10.0MB/s eta 0:00:01\r\u001b[K     |█████████████████▏              | 40kB 8.8MB/s eta 0:00:01\r\u001b[K     |█████████████████████▌          | 51kB 4.8MB/s eta 0:00:01\r\u001b[K     |█████████████████████████▊      | 61kB 5.4MB/s eta 0:00:01\r\u001b[K     |██████████████████████████████  | 71kB 5.6MB/s eta 0:00:01\r\u001b[K     |████████████████████████████████| 81kB 3.1MB/s \n",
            "\u001b[?25hRequirement already satisfied: numba>=0.49 in /usr/local/lib/python3.7/dist-packages (from sparse) (0.51.2)\n",
            "Requirement already satisfied: numpy>=1.17 in /usr/local/lib/python3.7/dist-packages (from sparse) (1.19.5)\n",
            "Requirement already satisfied: scipy>=0.19 in /usr/local/lib/python3.7/dist-packages (from sparse) (1.4.1)\n",
            "Requirement already satisfied: setuptools in /usr/local/lib/python3.7/dist-packages (from numba>=0.49->sparse) (56.1.0)\n",
            "Requirement already satisfied: llvmlite<0.35,>=0.34.0.dev0 in /usr/local/lib/python3.7/dist-packages (from numba>=0.49->sparse) (0.34.0)\n",
            "Installing collected packages: sparse\n",
            "Successfully installed sparse-0.12.0\n"
          ],
          "name": "stdout"
        }
      ]
    },
    {
      "cell_type": "code",
      "metadata": {
        "id": "9slI3QStu-cP"
      },
      "source": [
        "import numpy as np\n",
        "import pandas as pd\n",
        "import random\n",
        "import torch\n",
        "import torch.nn as nn\n",
        "from sparse import COO\n",
        "import sparse\n",
        "import matplotlib.pyplot as plt"
      ],
      "execution_count": null,
      "outputs": []
    },
    {
      "cell_type": "markdown",
      "metadata": {
        "id": "gHk6XmqQw4jT"
      },
      "source": [
        "## 1. Read Data\n",
        "\n",
        "- import data from pdb file\n",
        "- generate negative cases\n",
        "- train_validation split\n",
        "- voxelize the training/validation data\n",
        "- generate train/test dataloader"
      ]
    },
    {
      "cell_type": "code",
      "metadata": {
        "id": "U1F3SRD5wsjp"
      },
      "source": [
        "# define function to import data from pdb files\n",
        "def read_pdb(filename):\n",
        "\t\n",
        "  with open(filename, 'r') as file:\n",
        "    strline_L = file.readlines()\n",
        "\t\t# print(strline_L)\n",
        "\n",
        "  X_list = list()\n",
        "  Y_list = list()\n",
        "  Z_list = list()\n",
        "  atomtype_list = list()\n",
        "  for strline in strline_L:\n",
        "\t\t# removes all whitespace at the start and end, including spaces, tabs, newlines and carriage returns\n",
        "    stripped_line = strline.strip()\n",
        "\n",
        "    line_length = len(stripped_line)\n",
        "\t\t# print(\"Line length:{}\".format(line_length))\n",
        "    if line_length < 78:\n",
        "      print(\"ERROR: line length is different. Expected>=78, current={}\".format(line_length))\n",
        "\t\t\n",
        "    X_list.append(float(stripped_line[30:38].strip()))\n",
        "    Y_list.append(float(stripped_line[38:46].strip()))\n",
        "    Z_list.append(float(stripped_line[46:54].strip()))\n",
        "\n",
        "    atomtype = stripped_line[76:78].strip()\n",
        "    if atomtype == 'C':\n",
        "      atomtype_list.append(1) # 'h' means hydrophobic\n",
        "    else:\n",
        "      atomtype_list.append(0) # 'p' means polar\n",
        "\n",
        "  pdb = np.array([X_list, Y_list, Z_list, atomtype_list])\n",
        "\t\n",
        "  return pdb\n"
      ],
      "execution_count": null,
      "outputs": []
    },
    {
      "cell_type": "code",
      "metadata": {
        "id": "0NtE72RTz7N_"
      },
      "source": [
        "# read all training filenames\n",
        "import os\n",
        "\n",
        "pro_filename = []\n",
        "lg_filename = []\n",
        "directory = os.fsencode('/content/drive/MyDrive/Colab Notebooks/BS6207/Project/training_data.zip (Unzipped Files)/training_data/')\n",
        "    \n",
        "for file in os.listdir(directory):\n",
        "     filename = os.fsdecode(file)\n",
        "     if '_pro_' in filename: \n",
        "       pro_filename.append(os.path.join('/content/drive/MyDrive/Colab Notebooks/BS6207/Project/training_data.zip (Unzipped Files)/training_data/', filename))\n",
        "       continue\n",
        "     else:\n",
        "       lg_filename.append(os.path.join('/content/drive/MyDrive/Colab Notebooks/BS6207/Project/training_data.zip (Unzipped Files)/training_data/', filename))\n",
        "       continue"
      ],
      "execution_count": null,
      "outputs": []
    },
    {
      "cell_type": "code",
      "metadata": {
        "colab": {
          "base_uri": "https://localhost:8080/"
        },
        "id": "lDCOrujmCFa4",
        "outputId": "0d145af3-9c69-4637-e306-7ca726426798"
      },
      "source": [
        "len(pro_filename)"
      ],
      "execution_count": null,
      "outputs": [
        {
          "output_type": "execute_result",
          "data": {
            "text/plain": [
              "3000"
            ]
          },
          "metadata": {
            "tags": []
          },
          "execution_count": 5
        }
      ]
    },
    {
      "cell_type": "code",
      "metadata": {
        "colab": {
          "base_uri": "https://localhost:8080/"
        },
        "id": "R2hf_JlftXDY",
        "outputId": "d31b154e-8066-4b55-a0b1-2b4e08298b13"
      },
      "source": [
        "len(lg_filename)"
      ],
      "execution_count": null,
      "outputs": [
        {
          "output_type": "execute_result",
          "data": {
            "text/plain": [
              "3000"
            ]
          },
          "metadata": {
            "tags": []
          },
          "execution_count": 6
        }
      ]
    },
    {
      "cell_type": "code",
      "metadata": {
        "id": "b7LpYACB3SMr"
      },
      "source": [
        "# create the label\n",
        "def get_label(pro, lig):\n",
        "  labels = []\n",
        "  num = min(len(pro), len(lig))\n",
        "  for i in range(num):\n",
        "    if pro[i][-15:-11] == lig[i][-15:-11]:\n",
        "      labels.append(1) # bind\n",
        "    else:\n",
        "      labels.append(0) #dont bind\n",
        "  return labels"
      ],
      "execution_count": null,
      "outputs": []
    },
    {
      "cell_type": "code",
      "metadata": {
        "id": "Oqi2b6rBA0nB"
      },
      "source": [
        "# define a function to generate training/validation set with pos/neg ratio\n",
        "# function returns two lists of tuples for training/validation set\n",
        "# each tuple contains the protein filename, ligand filename and the corresponding label\n",
        "def train_val_split(pro_filename = pro_filename, lg_filename = lg_filename, neg_pos_ratio = 1, val_perc = 0.2):\n",
        "  # sort the protein and ligand filename list\n",
        "  lg_filename = sorted(lg_filename)\n",
        "  pro_filename = sorted(pro_filename)\n",
        "\n",
        "  # randomly sort the filename to generate negative cases\n",
        "  random.seed(127)\n",
        "  tot_lig_filename = lg_filename.copy()\n",
        "  tot_pro_filename = pro_filename.copy()\n",
        "  for i in range(neg_pos_ratio):\n",
        "    #print(len(lg_filename))\n",
        "    lg_filename_rand = lg_filename.copy()\n",
        "    random.shuffle(lg_filename_rand)\n",
        "    tot_lig_filename += lg_filename_rand\n",
        "    pro_filename_rand = pro_filename.copy()\n",
        "    random.shuffle(pro_filename_rand)\n",
        "    tot_pro_filename += pro_filename_rand\n",
        "  \n",
        "  # get labels of the list\n",
        "  label = get_label(tot_pro_filename, tot_lig_filename)\n",
        "  print('Total positive cases: ', label.count(0), 'Total negative cases: ', label.count(1))\n",
        "\n",
        "  # train_validation split\n",
        "  val_size = round(len(label) * val_perc)\n",
        "  #print(val_size)\n",
        "  index = random.sample(range(0,len(label)), val_size) \n",
        "  val_lig = [tot_lig_filename[i] for i in index]\n",
        "  val_pro = [tot_pro_filename[i] for i in index]\n",
        "  val_label = [label[i] for i in index]\n",
        "  val_label = np.array(val_label)\n",
        "  print('Positive cases in validation: ', list(val_label).count(0), \n",
        "        'Negative cases in validation: ', list(val_label).count(1))\n",
        "\n",
        "  # the rest will be training set\n",
        "  train_index = list(set(range(len(label))) - set(index))\n",
        "  train_lig = [tot_lig_filename[i] for i in train_index]\n",
        "  train_pro = [tot_pro_filename[i] for i in train_index]\n",
        "  train_label = [label[i] for i in train_index]\n",
        "  train_label = np.array(train_label)\n",
        "  print('Positive cases in training: ', list(train_label).count(0), \n",
        "        'Negatvie cases in training: ', list(train_label).count(1))\n",
        "  \n",
        "  # shuffle the validation set sequence\n",
        "  all_val = []\n",
        "  for i in range(len(val_label)):\n",
        "    all_val.append((val_pro[i], val_lig[i], val_label[i]))\n",
        "  all_val = random.sample(all_val, k = len(all_val))\n",
        "\n",
        "  # shuffle the training  set sequence\n",
        "  all_train = []\n",
        "  for i in range(len(train_label)):\n",
        "    all_train.append((train_pro[i], train_lig[i], train_label[i]))\n",
        "  all_train[:5]\n",
        "  all_train = random.sample(all_train, k = len(all_train))\n",
        "\n",
        "  return all_train, all_val"
      ],
      "execution_count": null,
      "outputs": []
    },
    {
      "cell_type": "code",
      "metadata": {
        "id": "SIn6V4wcrUKD"
      },
      "source": [
        "# define function for voxelization\n",
        "def voxelize(pro_filename, lig_filename, max_side = 30, grid = 4):\n",
        "  # import the pdb file as array\n",
        "  pro = read_pdb(pro_filename).astype(np.float32)\n",
        "  lig = read_pdb(lig_filename).astype(np.float32)\n",
        "\n",
        "  # calculate box_size\n",
        "  box_size = np.ceil(2 * max_side / grid + 1)\n",
        "\n",
        "  # get the centroid of the ligand/protein\n",
        "  lig_cent = np.mean(lig[:3, :], axis = 1, keepdims = True)  \n",
        "  pro_cent = np.mean(pro[:3, :], axis = 1, keepdims = True)\n",
        "\n",
        "  # shift the protein by the centroid of ligand at 0\n",
        "  for i in range(3):\n",
        "    lig[i] = lig[i] - lig_cent[i]\n",
        "    pro[i] = pro[i] - lig_cent[i]\n",
        "  \n",
        "  # combine the coordinate and atom type of protein and ligand\n",
        "  all_coord = np.c_[pro[:3], lig[:3]]\n",
        "  lig[3] = np.where(lig[3] == 0, 100, 200)\n",
        "  all_atom = np.r_[pro[3], lig[3]]\n",
        "\n",
        "  # round coordinate to the nearest grid point\n",
        "  all_coord = (all_coord + max_side) / grid\n",
        "  \n",
        "  # remove atoms outside the box\n",
        "  check = ((all_coord>0) & (all_coord < box_size)).all(axis = 0)\n",
        "  all_coord = all_coord[:,check]\n",
        "  all_atom = all_atom[check]\n",
        "\n",
        "  # round the coordinates to integer\n",
        "  all_coord = (all_coord).astype(int)\n",
        "\n",
        "  # create the sparse matrix\n",
        "  s = sparse.COO(all_coord, all_atom, shape = (int(box_size), int(box_size), int(box_size)))  \n",
        "  return s"
      ],
      "execution_count": null,
      "outputs": []
    },
    {
      "cell_type": "code",
      "metadata": {
        "id": "0dUMCwbzKAoU"
      },
      "source": [
        "# define function to build dataloader for the neural network\n",
        "# function returns the dataloader for both train and validation\n",
        "def dataloader_builder(all_train, all_val, batch_size = 128, max_side = 30, grid = 4):\n",
        "  # load the training sparse 3d matrix\n",
        "  print(max_side, grid)\n",
        "  train_cube = []\n",
        "  for i in range(len(all_train)):\n",
        "    temp = voxelize(all_train[i][0], all_train[i][1], max_side, grid)\n",
        "    train_cube.append(COO.todense(temp))\n",
        "  train_cube = np.array(train_cube)\n",
        "  train_cube = train_cube.reshape(train_cube.shape[0], 1, train_cube.shape[1], train_cube.shape[2], train_cube.shape[3])\n",
        "  print(train_cube.shape)\n",
        "  print(np.ceil(2 * max_side / grid + 1))\n",
        "\n",
        "  # build the train dataloader\n",
        "  train_data = []\n",
        "  for i in range(len(all_train)):\n",
        "    train_data.append([train_cube[i], all_train[i][2]])\n",
        "  trainloader = torch.utils.data.DataLoader(train_data, shuffle = True, batch_size = batch_size) \n",
        "\n",
        "  # load the validation sparse 3d matrix\n",
        "  val_cube = []\n",
        "  for i in range(len(all_val)):\n",
        "    temp = voxelize(all_val[i][0], all_val[i][1], max_side, grid)\n",
        "    val_cube.append(COO.todense(temp))\n",
        "  val_cube = np.array(val_cube)\n",
        "  val_cube = val_cube.reshape(val_cube.shape[0], 1, val_cube.shape[1], val_cube.shape[2], val_cube.shape[3])\n",
        "  print(val_cube.shape)\n",
        "\n",
        "  # build the validation dataloader\n",
        "  val_data = []\n",
        "  for i in range(len(all_val)):\n",
        "    val_data.append([val_cube[i], all_val[i][2]])\n",
        "  valloader = torch.utils.data.DataLoader(val_data, shuffle = True, batch_size = batch_size)\n",
        "\n",
        "  return trainloader, valloader"
      ],
      "execution_count": null,
      "outputs": []
    },
    {
      "cell_type": "code",
      "metadata": {
        "id": "jQNe6vLWMnEH"
      },
      "source": [
        "# define function to plot confusion matrix\n",
        "import itertools\n",
        "def plot_confusion_matrix(cm, classes, normalize=False, title='Confusion matrix', cmap=plt.cm.Blues):\n",
        "  if normalize:\n",
        "    cm = cm.astype('float') / cm.sum(axis=1)[:, np.newaxis]\n",
        "    print(\"Normalized confusion matrix\")\n",
        "  else:\n",
        "    print('Confusion matrix, without normalization')\n",
        "\n",
        "  print(cm)\n",
        "  plt.imshow(cm, interpolation='nearest', cmap=cmap)\n",
        "  plt.title(title)\n",
        "  plt.colorbar()\n",
        "  tick_marks = np.arange(len(classes))\n",
        "  plt.xticks(tick_marks, classes, rotation=45)\n",
        "  plt.yticks(tick_marks, classes)\n",
        "\n",
        "  fmt = '.2f' if normalize else 'd'\n",
        "  thresh = cm.max() / 2.\n",
        "  for i, j in itertools.product(range(cm.shape[0]), range(cm.shape[1])):\n",
        "    plt.text(j, i, format(cm[i, j], fmt), horizontalalignment=\"center\", color=\"white\" if cm[i, j] > thresh else \"black\")\n",
        "\n",
        "  plt.tight_layout()\n",
        "  plt.ylabel('True label')\n",
        "  plt.xlabel('Predicted label')"
      ],
      "execution_count": null,
      "outputs": []
    },
    {
      "cell_type": "code",
      "metadata": {
        "id": "5whBQ_tEtsTV"
      },
      "source": [
        "# define function to reset model weight\n",
        "def weight_reset(m):\n",
        "    reset_parameters = getattr(m, \"reset_parameters\", None)\n",
        "    if callable(reset_parameters):\n",
        "        m.reset_parameters()"
      ],
      "execution_count": null,
      "outputs": []
    },
    {
      "cell_type": "code",
      "metadata": {
        "id": "DdCbY3bas1ju"
      },
      "source": [
        "# define function to calculate accuracy\n",
        "def accuracy(outputs, labels):\n",
        "    #preds = torch.round(outputs)\n",
        "    y_pred_softmax = torch.log_softmax(outputs, dim = 1)\n",
        "    _, preds = torch.max(y_pred_softmax, dim=1)\n",
        "    return torch.tensor(torch.sum(preds == labels).item() / len(preds))"
      ],
      "execution_count": null,
      "outputs": []
    },
    {
      "cell_type": "markdown",
      "metadata": {
        "id": "tyf5sRA6QlpS"
      },
      "source": [
        "## Build the neural network"
      ]
    },
    {
      "cell_type": "markdown",
      "metadata": {
        "id": "NOLASLt_e-rd"
      },
      "source": [
        "### Trial 1 - 1:1 pos/neg"
      ]
    },
    {
      "cell_type": "code",
      "metadata": {
        "colab": {
          "base_uri": "https://localhost:8080/"
        },
        "id": "KBvL-SRKSaNi",
        "outputId": "40a0c00b-bd6e-439a-9bc2-e78067a30357"
      },
      "source": [
        "# trail 1 - 1:1 pos/neg ratio, 15% validation\n",
        "all_train1, all_val1 = train_val_split(val_perc = 0.15)\n",
        "trainloader1, valloader1 = dataloader_builder(all_train1, all_val1, max_side = 24, grid = 2)"
      ],
      "execution_count": null,
      "outputs": [
        {
          "output_type": "stream",
          "text": [
            "Total positive cases:  3000 Total negative cases:  3000\n",
            "Positive cases in validation:  443 Negative cases in validation:  457\n",
            "Positive cases in training:  2557 Negatvie cases in training:  2543\n",
            "24 2\n",
            "(5100, 1, 25, 25, 25)\n",
            "25.0\n",
            "(900, 1, 25, 25, 25)\n"
          ],
          "name": "stdout"
        }
      ]
    },
    {
      "cell_type": "code",
      "metadata": {
        "id": "XXNuH1VRQH5_"
      },
      "source": [
        "# trial 1 - CNN\n",
        "class Net(nn.Module):\n",
        "  def __init__(self):\n",
        "    super(Net, self).__init__()\n",
        "\n",
        "    self.cnn_layers = nn.Sequential(\n",
        "        nn.Conv3d(1, 8, kernel_size=3, stride=1, padding=0),\n",
        "        nn.BatchNorm3d(8),\n",
        "        nn.ReLU(inplace=True),\n",
        "        nn.MaxPool3d(kernel_size=2, stride=1),\n",
        "        # Defining another 2D convolution layer\n",
        "        nn.Conv3d(8, 16, kernel_size=3, stride=1, padding=0),\n",
        "        nn.BatchNorm3d(16),\n",
        "        nn.ReLU(inplace=True),\n",
        "        nn.MaxPool3d(kernel_size=2, stride=2),\n",
        "        # Defining another 2D convolution layer\n",
        "        nn.Conv3d(16, 32, kernel_size=3, stride=1, padding=0),\n",
        "        nn.BatchNorm3d(32),\n",
        "        nn.ReLU(inplace=True),\n",
        "        nn.MaxPool3d(kernel_size=2, stride=2),\n",
        "    )\n",
        "\n",
        "    self.linear_layers = nn.Sequential(\n",
        "            nn.Dropout(p = 0.4),\n",
        "            nn.Linear(32 * 4 * 4 * 4 , 32),\n",
        "            nn.ReLU(),\n",
        "            nn.Linear(32,2)\n",
        "        )\n",
        "\n",
        "  def forward(self, x):\n",
        "    x = self.cnn_layers(x)\n",
        "    x = torch.flatten(x, start_dim = 1)\n",
        "    x = self.linear_layers(x)\n",
        "    return x"
      ],
      "execution_count": null,
      "outputs": []
    },
    {
      "cell_type": "code",
      "metadata": {
        "colab": {
          "base_uri": "https://localhost:8080/"
        },
        "id": "XOC8G9VGHC5Q",
        "outputId": "5fe4687a-0716-4d6c-ada3-506cd6c8c6fc"
      },
      "source": [
        "from torch.optim import Adam\n",
        "# defining the model\n",
        "model = Net()\n",
        "# defining the optimizer\n",
        "optimizer = Adam(model.parameters(), lr=0.0005, weight_decay = 0.005)\n",
        "# defining the loss function\n",
        "criterion = nn.CrossEntropyLoss()\n",
        "\n",
        "print(model)"
      ],
      "execution_count": null,
      "outputs": [
        {
          "output_type": "stream",
          "text": [
            "Net(\n",
            "  (cnn_layers): Sequential(\n",
            "    (0): Conv3d(1, 8, kernel_size=(3, 3, 3), stride=(1, 1, 1))\n",
            "    (1): BatchNorm3d(8, eps=1e-05, momentum=0.1, affine=True, track_running_stats=True)\n",
            "    (2): ReLU(inplace=True)\n",
            "    (3): MaxPool3d(kernel_size=2, stride=1, padding=0, dilation=1, ceil_mode=False)\n",
            "    (4): Conv3d(8, 16, kernel_size=(3, 3, 3), stride=(1, 1, 1))\n",
            "    (5): BatchNorm3d(16, eps=1e-05, momentum=0.1, affine=True, track_running_stats=True)\n",
            "    (6): ReLU(inplace=True)\n",
            "    (7): MaxPool3d(kernel_size=2, stride=2, padding=0, dilation=1, ceil_mode=False)\n",
            "    (8): Conv3d(16, 32, kernel_size=(3, 3, 3), stride=(1, 1, 1))\n",
            "    (9): BatchNorm3d(32, eps=1e-05, momentum=0.1, affine=True, track_running_stats=True)\n",
            "    (10): ReLU(inplace=True)\n",
            "    (11): MaxPool3d(kernel_size=2, stride=2, padding=0, dilation=1, ceil_mode=False)\n",
            "  )\n",
            "  (linear_layers): Sequential(\n",
            "    (0): Dropout(p=0.4, inplace=False)\n",
            "    (1): Linear(in_features=2048, out_features=32, bias=True)\n",
            "    (2): ReLU()\n",
            "    (3): Linear(in_features=32, out_features=2, bias=True)\n",
            "  )\n",
            ")\n"
          ],
          "name": "stdout"
        }
      ]
    },
    {
      "cell_type": "code",
      "metadata": {
        "colab": {
          "base_uri": "https://localhost:8080/"
        },
        "id": "Pl-4svtJ82iB",
        "outputId": "35fe6c87-3a98-4a0a-f994-2e0a525fc509"
      },
      "source": [
        "# number of parameters in the model\n",
        "model_parameters = filter(lambda p: p.requires_grad, model.parameters())\n",
        "params = sum([np.prod(p.size()) for p in model_parameters])\n",
        "params"
      ],
      "execution_count": null,
      "outputs": [
        {
          "output_type": "execute_result",
          "data": {
            "text/plain": [
              "83298"
            ]
          },
          "metadata": {
            "tags": []
          },
          "execution_count": 36
        }
      ]
    },
    {
      "cell_type": "code",
      "metadata": {
        "id": "4DjwfhFytDwI"
      },
      "source": [
        "# define each epoch when training\n",
        "def train(epoch, trainloader, valloader):\n",
        "  train.train_loss = 0\n",
        "  train.train_acces = 0\n",
        "  model.train()\n",
        "  total = 0\n",
        "  correct = 0\n",
        "  for images, labels in trainloader:\n",
        "    #print(images.shape, labels.shape)\n",
        "    optimizer.zero_grad() # clear the gradient\n",
        "    output_train = model(images)   # calculate model output \n",
        "    #loss_train = criterion(output_train.squeeze(), labels) # calculate loss\n",
        "    loss_train = criterion(output_train, labels)\n",
        "        \n",
        "    loss_train.backward()   # back propagation\n",
        "    optimizer.step() # update model weights\n",
        "        \n",
        "    train.train_loss += loss_train.item() * images.size(0)\n",
        "    acc = accuracy(output_train, labels)\n",
        "    train.train_acces += acc\n",
        "    \n",
        "\n",
        "  print(\"Epoch {} - Training loss: {}, Training Accuracy: {}\".format(epoch+1, train.train_loss / len(trainloader), train.train_acces / len(trainloader)))\n",
        "  model.eval() \n",
        "  with torch.no_grad():\n",
        "    train.val_acces = 0\n",
        "    train.val_loss = 0\n",
        "    for images, labels in valloader:\n",
        "      output_val = model(images)\n",
        "      #loss_val = criterion(output_val.squeeze(), labels)\n",
        "      loss_val = criterion(output_val, labels)\n",
        "\n",
        "      train.val_loss += loss_val.item() * images.size(0)\n",
        "      #val_acc = accuracy_quick(output_train, labels)\n",
        "      #val_acces += val_acc.item()     \n",
        "      acc = accuracy(output_val, labels)   \n",
        "      train.val_acces += acc\n",
        "  \n",
        "  print(\"Validation loss: {}, Validation Accuracy: {}\".format(train.val_loss / len(valloader), train.val_acces / len(valloader)))\n"
      ],
      "execution_count": null,
      "outputs": []
    },
    {
      "cell_type": "code",
      "metadata": {
        "colab": {
          "base_uri": "https://localhost:8080/"
        },
        "id": "5q276DBQ9J62",
        "outputId": "cb1d6709-fbff-427d-c73e-1bd8505a5fe9"
      },
      "source": [
        "model.apply(weight_reset)"
      ],
      "execution_count": null,
      "outputs": [
        {
          "output_type": "execute_result",
          "data": {
            "text/plain": [
              "Net(\n",
              "  (cnn_layers): Sequential(\n",
              "    (0): Conv3d(1, 8, kernel_size=(3, 3, 3), stride=(1, 1, 1))\n",
              "    (1): BatchNorm3d(8, eps=1e-05, momentum=0.1, affine=True, track_running_stats=True)\n",
              "    (2): ReLU(inplace=True)\n",
              "    (3): MaxPool3d(kernel_size=2, stride=1, padding=0, dilation=1, ceil_mode=False)\n",
              "    (4): Conv3d(8, 16, kernel_size=(3, 3, 3), stride=(1, 1, 1))\n",
              "    (5): BatchNorm3d(16, eps=1e-05, momentum=0.1, affine=True, track_running_stats=True)\n",
              "    (6): ReLU(inplace=True)\n",
              "    (7): MaxPool3d(kernel_size=2, stride=2, padding=0, dilation=1, ceil_mode=False)\n",
              "    (8): Conv3d(16, 32, kernel_size=(3, 3, 3), stride=(1, 1, 1))\n",
              "    (9): BatchNorm3d(32, eps=1e-05, momentum=0.1, affine=True, track_running_stats=True)\n",
              "    (10): ReLU(inplace=True)\n",
              "    (11): MaxPool3d(kernel_size=2, stride=2, padding=0, dilation=1, ceil_mode=False)\n",
              "  )\n",
              "  (linear_layers): Sequential(\n",
              "    (0): Dropout(p=0.4, inplace=False)\n",
              "    (1): Linear(in_features=2048, out_features=32, bias=True)\n",
              "    (2): ReLU()\n",
              "    (3): Linear(in_features=32, out_features=2, bias=True)\n",
              "  )\n",
              ")"
            ]
          },
          "metadata": {
            "tags": []
          },
          "execution_count": 18
        }
      ]
    },
    {
      "cell_type": "code",
      "metadata": {
        "colab": {
          "base_uri": "https://localhost:8080/"
        },
        "id": "bPwnxF_Q5FaV",
        "outputId": "a3cfa410-59d4-4812-a353-5406ed590b81"
      },
      "source": [
        "# defining the number of epochs\n",
        "n_epochs = 50\n",
        "# empty list to store training losses\n",
        "train_losses1 = []\n",
        "train_acc1 = []\n",
        "# empty list to store validation losses\n",
        "val_losses1 = []\n",
        "val_acc1 =[]\n",
        "epoch_count1 = []\n",
        "# training the model\n",
        "es = 0\n",
        "best_loss = 100\n",
        "for epoch in range(n_epochs):\n",
        "    train(epoch, trainloader = trainloader1, valloader = valloader1)\n",
        "    epoch_count1.append(epoch)\n",
        "    train_losses1.append(train.train_loss/len(trainloader1))\n",
        "    val_losses1.append(train.val_loss/len(valloader1))\n",
        "    train_acc1.append(train.train_acces/len(trainloader1))\n",
        "    val_acc1.append(train.val_acces/len(valloader1))\n",
        "    # early stopping\n",
        "    if train.val_loss/len(valloader1) < best_loss:\n",
        "      best_loss = train.val_loss/len(valloader1)\n",
        "      es = 0\n",
        "      torch.save(model.state_dict(), \"model_\" + str(epoch) + 'weight_trial1.pt')\n",
        "      best_epoch = epoch\n",
        "    else:\n",
        "      es += 1\n",
        "      print(\"Counter {} of 13\".format(es))\n",
        "\n",
        "    if es > 12:\n",
        "      print(\"Early stopping!\")\n",
        "      model.load_state_dict(torch.load('/content/model_' + str(best_epoch) +'weight_trial1.pt'))\n",
        "      break"
      ],
      "execution_count": null,
      "outputs": [
        {
          "output_type": "stream",
          "text": [
            "Epoch 1 - Training loss: 90.3507786333561, Training Accuracy: 0.4966796934604645\n",
            "Validation loss: 78.08993577957153, Validation Accuracy: 0.4697265625\n",
            "Epoch 2 - Training loss: 88.4119248688221, Training Accuracy: 0.507703959941864\n",
            "Validation loss: 78.0156481564045, Validation Accuracy: 0.505859375\n",
            "Epoch 3 - Training loss: 88.09269658327102, Training Accuracy: 0.5277994871139526\n",
            "Validation loss: 77.5916360616684, Validation Accuracy: 0.5439453125\n",
            "Epoch 4 - Training loss: 79.95957681536674, Training Accuracy: 0.6709780097007751\n",
            "Validation loss: 72.43328818678856, Validation Accuracy: 0.5576171875\n",
            "Epoch 5 - Training loss: 33.3654976695776, Training Accuracy: 0.9174841046333313\n",
            "Validation loss: 34.3320527728647, Validation Accuracy: 0.87109375\n",
            "Epoch 6 - Training loss: 28.748764711618424, Training Accuracy: 0.9244429469108582\n",
            "Validation loss: 21.54221085458994, Validation Accuracy: 0.9453125\n",
            "Epoch 7 - Training loss: 27.02260620892048, Training Accuracy: 0.9282624125480652\n",
            "Validation loss: 22.23793226107955, Validation Accuracy: 0.9404296875\n",
            "Counter 1 of 13\n",
            "Epoch 8 - Training loss: 26.69781461060047, Training Accuracy: 0.9286530613899231\n",
            "Validation loss: 22.819030890241265, Validation Accuracy: 0.9404296875\n",
            "Counter 2 of 13\n",
            "Epoch 9 - Training loss: 26.077292256057262, Training Accuracy: 0.9327184557914734\n",
            "Validation loss: 27.985317707061768, Validation Accuracy: 0.8759765625\n",
            "Counter 3 of 13\n",
            "Epoch 10 - Training loss: 26.186120715737342, Training Accuracy: 0.9295210838317871\n",
            "Validation loss: 20.44942919164896, Validation Accuracy: 0.9453125\n",
            "Epoch 11 - Training loss: 26.204806527495386, Training Accuracy: 0.9291304349899292\n",
            "Validation loss: 31.56994239380583, Validation Accuracy: 0.88671875\n",
            "Counter 1 of 13\n",
            "Epoch 12 - Training loss: 26.340116238594057, Training Accuracy: 0.9323639869689941\n",
            "Validation loss: 20.214743971824646, Validation Accuracy: 0.9453125\n",
            "Epoch 13 - Training loss: 24.5356412678957, Training Accuracy: 0.933571994304657\n",
            "Validation loss: 20.651925045996904, Validation Accuracy: 0.947265625\n",
            "Counter 1 of 13\n",
            "Epoch 14 - Training loss: 24.66946218907833, Training Accuracy: 0.935771107673645\n",
            "Validation loss: 19.712407752871513, Validation Accuracy: 0.9150390625\n",
            "Epoch 15 - Training loss: 24.842605620622635, Training Accuracy: 0.9338903427124023\n",
            "Validation loss: 21.79161335900426, Validation Accuracy: 0.9404296875\n",
            "Counter 1 of 13\n",
            "Epoch 16 - Training loss: 25.559531204402447, Training Accuracy: 0.9328992962837219\n",
            "Validation loss: 19.801090702414513, Validation Accuracy: 0.9462890625\n",
            "Counter 2 of 13\n",
            "Epoch 17 - Training loss: 24.07796494960785, Training Accuracy: 0.9341942071914673\n",
            "Validation loss: 19.31831543147564, Validation Accuracy: 0.9169921875\n",
            "Epoch 18 - Training loss: 23.1235163256526, Training Accuracy: 0.9355613589286804\n",
            "Validation loss: 20.81097611784935, Validation Accuracy: 0.9404296875\n",
            "Counter 1 of 13\n",
            "Epoch 19 - Training loss: 23.704476088285446, Training Accuracy: 0.9348307847976685\n",
            "Validation loss: 19.90982350707054, Validation Accuracy: 0.9443359375\n",
            "Counter 2 of 13\n",
            "Epoch 20 - Training loss: 22.96853772997856, Training Accuracy: 0.9373698234558105\n",
            "Validation loss: 42.77069878578186, Validation Accuracy: 0.8544921875\n",
            "Counter 3 of 13\n",
            "Epoch 21 - Training loss: 22.527601267397404, Training Accuracy: 0.9385272264480591\n",
            "Validation loss: 19.083874829113483, Validation Accuracy: 0.9462890625\n",
            "Epoch 22 - Training loss: 22.359943208843468, Training Accuracy: 0.9357566833496094\n",
            "Validation loss: 65.68879473954439, Validation Accuracy: 0.8046875\n",
            "Counter 1 of 13\n",
            "Epoch 23 - Training loss: 23.557719688117505, Training Accuracy: 0.9328269958496094\n",
            "Validation loss: 26.915717877447605, Validation Accuracy: 0.91796875\n",
            "Counter 2 of 13\n",
            "Epoch 24 - Training loss: 23.53865681141615, Training Accuracy: 0.9325593113899231\n",
            "Validation loss: 19.64997750520706, Validation Accuracy: 0.9140625\n",
            "Counter 3 of 13\n",
            "Epoch 25 - Training loss: 22.64802066385746, Training Accuracy: 0.936660885810852\n",
            "Validation loss: 21.699536193162203, Validation Accuracy: 0.939453125\n",
            "Counter 4 of 13\n",
            "Epoch 26 - Training loss: 22.734823068976404, Training Accuracy: 0.9370876550674438\n",
            "Validation loss: 19.21928760409355, Validation Accuracy: 0.947265625\n",
            "Counter 5 of 13\n",
            "Epoch 27 - Training loss: 22.976612145453693, Training Accuracy: 0.9359881281852722\n",
            "Validation loss: 24.87061272189021, Validation Accuracy: 0.921875\n",
            "Counter 6 of 13\n",
            "Epoch 28 - Training loss: 23.08084176927805, Training Accuracy: 0.9361110925674438\n",
            "Validation loss: 19.567476535215974, Validation Accuracy: 0.94921875\n",
            "Counter 7 of 13\n",
            "Epoch 29 - Training loss: 23.011035279929636, Training Accuracy: 0.9367839097976685\n",
            "Validation loss: 20.305603105807677, Validation Accuracy: 0.943359375\n",
            "Counter 8 of 13\n",
            "Epoch 30 - Training loss: 22.301612482219934, Training Accuracy: 0.9361473321914673\n",
            "Validation loss: 25.94554254040122, Validation Accuracy: 0.9228515625\n",
            "Counter 9 of 13\n",
            "Epoch 31 - Training loss: 21.59461908042431, Training Accuracy: 0.9416667222976685\n",
            "Validation loss: 25.708679527044296, Validation Accuracy: 0.900390625\n",
            "Counter 10 of 13\n",
            "Epoch 32 - Training loss: 21.555451767146586, Training Accuracy: 0.9406756162643433\n",
            "Validation loss: 26.738267697393894, Validation Accuracy: 0.919921875\n",
            "Counter 11 of 13\n",
            "Epoch 33 - Training loss: 21.235416416823863, Training Accuracy: 0.942520260810852\n",
            "Validation loss: 21.88149877282558, Validation Accuracy: 0.93359375\n",
            "Counter 12 of 13\n",
            "Epoch 34 - Training loss: 21.43181221485138, Training Accuracy: 0.9383463859558105\n",
            "Validation loss: 22.89803710579872, Validation Accuracy: 0.9345703125\n",
            "Counter 13 of 13\n",
            "Early stopping!\n"
          ],
          "name": "stdout"
        }
      ]
    },
    {
      "cell_type": "code",
      "metadata": {
        "colab": {
          "base_uri": "https://localhost:8080/",
          "height": 296
        },
        "id": "13URazuc8LA9",
        "outputId": "894673b0-1a4e-4006-8c16-2fad54059f1b"
      },
      "source": [
        "import matplotlib.pyplot as plt\n",
        "plt.plot(epoch_count1, train_losses1, label = 'train_loss')\n",
        "plt.plot(epoch_count1, val_losses1, label = 'val_loss')\n",
        "plt.xlabel('epoch')\n",
        "plt.legend()\n",
        "plt.ylabel('loss')"
      ],
      "execution_count": null,
      "outputs": [
        {
          "output_type": "execute_result",
          "data": {
            "text/plain": [
              "Text(0, 0.5, 'loss')"
            ]
          },
          "metadata": {
            "tags": []
          },
          "execution_count": 20
        },
        {
          "output_type": "display_data",
          "data": {
            "image/png": "[encoded data removed]",
            "text/plain": [
              "<Figure size 432x288 with 1 Axes>"
            ]
          },
          "metadata": {
            "tags": [],
            "needs_background": "light"
          }
        }
      ]
    },
    {
      "cell_type": "code",
      "metadata": {
        "colab": {
          "base_uri": "https://localhost:8080/",
          "height": 296
        },
        "id": "1yh9Jbmu8K09",
        "outputId": "3853d0a5-c4b6-4549-8e2b-c730478cd8c0"
      },
      "source": [
        "plt.plot(epoch_count1, train_acc1, label = 'train_accuracy')\n",
        "plt.plot(epoch_count1, val_acc1, label = 'val_accuracy')\n",
        "plt.xlabel('epoch')\n",
        "plt.legend()\n",
        "plt.ylabel('accuracy')"
      ],
      "execution_count": null,
      "outputs": [
        {
          "output_type": "execute_result",
          "data": {
            "text/plain": [
              "Text(0, 0.5, 'accuracy')"
            ]
          },
          "metadata": {
            "tags": []
          },
          "execution_count": 21
        },
        {
          "output_type": "display_data",
          "data": {
            "image/png": "[encoded data removed]",
            "text/plain": [
              "<Figure size 432x288 with 1 Axes>"
            ]
          },
          "metadata": {
            "tags": [],
            "needs_background": "light"
          }
        }
      ]
    },
    {
      "cell_type": "code",
      "metadata": {
        "colab": {
          "base_uri": "https://localhost:8080/"
        },
        "id": "8nHsgxpIZf-E",
        "outputId": "d09ac80e-bc45-4383-e624-322fde7f50b8"
      },
      "source": [
        "# model.load_state_dict(torch.load('/content/drive/MyDrive/Colab Notebooks/BS6207/Project/training_data.zip (Unzipped Files)/model_27weight_trial1_bigmatrix.pt'))"
      ],
      "execution_count": null,
      "outputs": [
        {
          "output_type": "execute_result",
          "data": {
            "text/plain": [
              "<All keys matched successfully>"
            ]
          },
          "metadata": {
            "tags": []
          },
          "execution_count": 20
        }
      ]
    },
    {
      "cell_type": "code",
      "metadata": {
        "colab": {
          "base_uri": "https://localhost:8080/",
          "height": 362
        },
        "id": "0fXpFdu0vyVl",
        "outputId": "519bfceb-38a7-446a-9cad-5f9573cdb615"
      },
      "source": [
        "# confusion matrix for validation\n",
        "model.eval() \n",
        "with torch.no_grad():\n",
        "  y_pred = []\n",
        "  y_true = []\n",
        "  for images, labels in valloader1:\n",
        "    y_true.extend(labels)\n",
        "    output_val = model(images)\n",
        "    y_pred_softmax = torch.log_softmax(output_val, dim = 1)\n",
        "    _, preds = torch.max(y_pred_softmax, dim=1)\n",
        "    preds = preds.detach().numpy()\n",
        "    y_pred.extend(preds)\n",
        "from sklearn.metrics import confusion_matrix\n",
        "# get actual label\n",
        "cnf_matrix = confusion_matrix(y_true, y_pred)\n",
        "plot_confusion_matrix(cnf_matrix, classes = [0,1], normalize = True, title = 'Confusion matrix (Validation)')"
      ],
      "execution_count": null,
      "outputs": [
        {
          "output_type": "stream",
          "text": [
            "Normalized confusion matrix\n",
            "[[0.91422122 0.08577878]\n",
            " [0.03719912 0.96280088]]\n"
          ],
          "name": "stdout"
        },
        {
          "output_type": "display_data",
          "data": {
            "image/png": "[encoded data removed]",
            "text/plain": [
              "<Figure size 432x288 with 2 Axes>"
            ]
          },
          "metadata": {
            "tags": [],
            "needs_background": "light"
          }
        }
      ]
    },
    {
      "cell_type": "code",
      "metadata": {
        "colab": {
          "base_uri": "https://localhost:8080/",
          "height": 362
        },
        "id": "REaP0HZzwVr0",
        "outputId": "888bbc64-e297-4e41-bd74-05d3fc348eca"
      },
      "source": [
        "# confusion matrix for trainloader\n",
        "model.eval() \n",
        "with torch.no_grad():\n",
        "  y_pred = []\n",
        "  y_true = []\n",
        "  for images, labels in trainloader1:\n",
        "    y_true.extend(labels)\n",
        "    output_val = model(images)\n",
        "    y_pred_softmax = torch.log_softmax(output_val, dim = 1)\n",
        "    _, preds = torch.max(y_pred_softmax, dim=1)\n",
        "    preds = preds.detach().numpy()\n",
        "    y_pred.extend(preds)\n",
        "from sklearn.metrics import confusion_matrix\n",
        "# get actual label\n",
        "cnf_matrix = confusion_matrix(y_true, y_pred)\n",
        "plot_confusion_matrix(cnf_matrix, classes = [0,1], normalize = True, title = 'Confusion matrix (training)')"
      ],
      "execution_count": null,
      "outputs": [
        {
          "output_type": "stream",
          "text": [
            "Normalized confusion matrix\n",
            "[[0.90731326 0.09268674]\n",
            " [0.02634683 0.97365317]]\n"
          ],
          "name": "stdout"
        },
        {
          "output_type": "display_data",
          "data": {
            "image/png": "[encoded data removed]",
            "text/plain": [
              "<Figure size 432x288 with 2 Axes>"
            ]
          },
          "metadata": {
            "tags": [],
            "needs_background": "light"
          }
        }
      ]
    },
    {
      "cell_type": "code",
      "metadata": {
        "colab": {
          "base_uri": "https://localhost:8080/"
        },
        "id": "UfsODYhJd3pF",
        "outputId": "a4ad91b2-fd4e-4f47-96b3-dff9867f71a7"
      },
      "source": [
        "# load the validation sparse 3d matrix\n",
        "valtest_cube = []\n",
        "for i in range(len(all_val1)):\n",
        "  temp = voxelize(all_val1[i][0], all_val1[i][1], max_side = 24, grid = 2)\n",
        "  valtest_cube.append(COO.todense(temp))\n",
        "valtest_cube = np.array(valtest_cube)\n",
        "valtest_cube = valtest_cube.reshape(valtest_cube.shape[0], 1, valtest_cube.shape[1], valtest_cube.shape[2], valtest_cube.shape[3])\n",
        "print(valtest_cube.shape)\n",
        "\n",
        "# build the validation dataloader\n",
        "valtest_data = []\n",
        "count = 0\n",
        "for i in range(len(all_val1)):\n",
        "  if all_val1[i][2] == 0:\n",
        "    #print(0)\n",
        "    pass\n",
        "  elif (all_val1[i][2] == 1) & (count < 50):\n",
        "    count += 1\n",
        "    pass\n",
        "  else:\n",
        "    continue\n",
        "  valtest_data.append([valtest_cube[i], all_val1[i][2]])\n",
        "valtest_loader = torch.utils.data.DataLoader(valtest_data, shuffle = True)\n",
        "print(len(valtest_loader))"
      ],
      "execution_count": null,
      "outputs": [
        {
          "output_type": "stream",
          "text": [
            "(900, 1, 25, 25, 25)\n",
            "493\n"
          ],
          "name": "stdout"
        }
      ]
    },
    {
      "cell_type": "code",
      "metadata": {
        "colab": {
          "base_uri": "https://localhost:8080/",
          "height": 362
        },
        "id": "84p0oCthd3pU",
        "outputId": "81d1affa-4648-4aba-a433-2f3e493f4c71"
      },
      "source": [
        "model.eval() \n",
        "with torch.no_grad():\n",
        "  y_pred = []\n",
        "  y_true = []\n",
        "  for images, labels in valtest_loader:\n",
        "    y_true.extend(labels)\n",
        "    output_val = model(images)\n",
        "    y_pred_softmax = torch.log_softmax(output_val, dim = 1)\n",
        "    _, preds = torch.max(y_pred_softmax, dim=1)\n",
        "    preds = preds.detach().numpy()\n",
        "    y_pred.extend(preds)\n",
        "from sklearn.metrics import confusion_matrix\n",
        "# get actual label\n",
        "cnf_matrix = confusion_matrix(y_true, y_pred)\n",
        "plot_confusion_matrix(cnf_matrix, classes = [0,1], normalize = True, title = 'Confusion matrix2 (Validation)')"
      ],
      "execution_count": null,
      "outputs": [
        {
          "output_type": "stream",
          "text": [
            "Normalized confusion matrix\n",
            "[[0.91422122 0.08577878]\n",
            " [0.08       0.92      ]]\n"
          ],
          "name": "stdout"
        },
        {
          "output_type": "display_data",
          "data": {
            "image/png": "[encoded data removed]",
            "text/plain": [
              "<Figure size 432x288 with 2 Axes>"
            ]
          },
          "metadata": {
            "tags": [],
            "needs_background": "light"
          }
        }
      ]
    },
    {
      "cell_type": "markdown",
      "metadata": {
        "id": "bfBXBz-3eWcX"
      },
      "source": [
        "### Trial 2 - 1:2 pos/neg"
      ]
    },
    {
      "cell_type": "code",
      "metadata": {
        "colab": {
          "base_uri": "https://localhost:8080/"
        },
        "id": "RaipQCP0xIzo",
        "outputId": "7596f3a2-848d-4dfc-9bfe-6adafbc1a329"
      },
      "source": [
        "# trail 2 - 1:2 pos/neg ratio, 15% validation\n",
        "all_train2, all_val2 = train_val_split(val_perc = 0.15, neg_pos_ratio = 2)\n",
        "trainloader2, valloader2 = dataloader_builder(all_train2, all_val2, max_side = 24, grid = 2)"
      ],
      "execution_count": null,
      "outputs": [
        {
          "output_type": "stream",
          "text": [
            "Total positive cases:  5997 Total negative cases:  3003\n",
            "Positive cases in validation:  896 Negative cases in validation:  454\n",
            "Positive cases in training:  5101 Negatvie cases in training:  2549\n",
            "24 2\n",
            "(7650, 1, 25, 25, 25)\n",
            "25.0\n",
            "(1350, 1, 25, 25, 25)\n"
          ],
          "name": "stdout"
        }
      ]
    },
    {
      "cell_type": "code",
      "metadata": {
        "colab": {
          "base_uri": "https://localhost:8080/"
        },
        "id": "tGTViks4mtyc",
        "outputId": "1b833253-dffe-495c-892f-c4f1de15db4a"
      },
      "source": [
        "np.array(all_train2).shape"
      ],
      "execution_count": null,
      "outputs": [
        {
          "output_type": "execute_result",
          "data": {
            "text/plain": [
              "(7650, 3)"
            ]
          },
          "metadata": {
            "tags": []
          },
          "execution_count": 158
        }
      ]
    },
    {
      "cell_type": "code",
      "metadata": {
        "id": "0TpE-Lep0JTW",
        "colab": {
          "base_uri": "https://localhost:8080/"
        },
        "outputId": "bf089879-f989-44ba-e6fd-36dab1e9d8d6"
      },
      "source": [
        "model.apply(weight_reset)"
      ],
      "execution_count": null,
      "outputs": [
        {
          "output_type": "execute_result",
          "data": {
            "text/plain": [
              "Net(\n",
              "  (cnn_layers): Sequential(\n",
              "    (0): Conv3d(1, 8, kernel_size=(3, 3, 3), stride=(1, 1, 1))\n",
              "    (1): BatchNorm3d(8, eps=1e-05, momentum=0.1, affine=True, track_running_stats=True)\n",
              "    (2): ReLU(inplace=True)\n",
              "    (3): MaxPool3d(kernel_size=2, stride=1, padding=0, dilation=1, ceil_mode=False)\n",
              "    (4): Conv3d(8, 16, kernel_size=(3, 3, 3), stride=(1, 1, 1))\n",
              "    (5): BatchNorm3d(16, eps=1e-05, momentum=0.1, affine=True, track_running_stats=True)\n",
              "    (6): ReLU(inplace=True)\n",
              "    (7): MaxPool3d(kernel_size=2, stride=2, padding=0, dilation=1, ceil_mode=False)\n",
              "    (8): Conv3d(16, 32, kernel_size=(3, 3, 3), stride=(1, 1, 1))\n",
              "    (9): BatchNorm3d(32, eps=1e-05, momentum=0.1, affine=True, track_running_stats=True)\n",
              "    (10): ReLU(inplace=True)\n",
              "    (11): MaxPool3d(kernel_size=2, stride=2, padding=0, dilation=1, ceil_mode=False)\n",
              "  )\n",
              "  (linear_layers): Sequential(\n",
              "    (0): Dropout(p=0.4, inplace=False)\n",
              "    (1): Linear(in_features=2048, out_features=32, bias=True)\n",
              "    (2): ReLU()\n",
              "    (3): Linear(in_features=32, out_features=2, bias=True)\n",
              "  )\n",
              ")"
            ]
          },
          "metadata": {
            "tags": []
          },
          "execution_count": 27
        }
      ]
    },
    {
      "cell_type": "code",
      "metadata": {
        "colab": {
          "base_uri": "https://localhost:8080/"
        },
        "id": "2jOAZDEqbohm",
        "outputId": "af7abff8-625e-4c68-e1f9-2e9b17199155"
      },
      "source": [
        "# defining the number of epochs\n",
        "n_epochs = 50\n",
        "# empty list to store training losses\n",
        "train_losses2 = []\n",
        "train_acc2 = []\n",
        "# empty list to store validation losses\n",
        "val_losses2 = []\n",
        "val_acc2 =[]\n",
        "epoch_count2 = []\n",
        "# training the model\n",
        "es = 0\n",
        "best_loss = 100\n",
        "for epoch in range(n_epochs):\n",
        "    train(epoch, trainloader = trainloader2, valloader = valloader2)\n",
        "    epoch_count2.append(epoch)\n",
        "    train_losses2.append(train.train_loss/len(trainloader2))\n",
        "    val_losses2.append(train.val_loss/len(valloader2))\n",
        "    train_acc2.append(train.train_acces/len(trainloader2))\n",
        "    val_acc2.append(train.val_acces/len(valloader2))\n",
        "    # early stopping\n",
        "    if train.val_loss/len(valloader2) < best_loss:\n",
        "      best_loss = train.val_loss/len(valloader2)\n",
        "      es = 0\n",
        "      torch.save(model.state_dict(), \"model_\" + str(epoch) + 'weight_trial2.pt')\n",
        "      best_epoch = epoch\n",
        "    else:\n",
        "      es += 1\n",
        "      print(\"Counter {} of 13\".format(es))\n",
        "\n",
        "    if es > 12:\n",
        "      print(\"Early stopping!\")\n",
        "      model.load_state_dict(torch.load('/content/model_' + str(best_epoch) +'weight_trial2.pt'))\n",
        "      break"
      ],
      "execution_count": null,
      "outputs": [
        {
          "output_type": "stream",
          "text": [
            "Epoch 1 - Training loss: 85.00662438074748, Training Accuracy: 0.6587000489234924\n",
            "Validation loss: 80.65485673600978, Validation Accuracy: 0.6687297224998474\n",
            "Epoch 2 - Training loss: 82.29512592951457, Training Accuracy: 0.6667038798332214\n",
            "Validation loss: 78.34186675331809, Validation Accuracy: 0.6628449559211731\n",
            "Epoch 3 - Training loss: 81.21076027750969, Training Accuracy: 0.6667038798332214\n",
            "Validation loss: 78.23039852489124, Validation Accuracy: 0.6616680026054382\n",
            "Epoch 4 - Training loss: 80.99569689234097, Training Accuracy: 0.6667835712432861\n",
            "Validation loss: 78.09251841631803, Validation Accuracy: 0.6646103858947754\n",
            "Epoch 5 - Training loss: 76.78641922275226, Training Accuracy: 0.6669749021530151\n",
            "Validation loss: 66.61917738481002, Validation Accuracy: 0.6581372022628784\n",
            "Epoch 6 - Training loss: 34.26551362176736, Training Accuracy: 0.896675705909729\n",
            "Validation loss: 22.2176990238103, Validation Accuracy: 0.9282873272895813\n",
            "Epoch 7 - Training loss: 27.70250335385402, Training Accuracy: 0.9162574410438538\n",
            "Validation loss: 21.30781636183912, Validation Accuracy: 0.9373985528945923\n",
            "Epoch 8 - Training loss: 26.015586246550082, Training Accuracy: 0.9196029901504517\n",
            "Validation loss: 20.806225687265396, Validation Accuracy: 0.9373985528945923\n",
            "Epoch 9 - Training loss: 24.71460158675909, Training Accuracy: 0.9245801568031311\n",
            "Validation loss: 21.690624437548898, Validation Accuracy: 0.9336038827896118\n",
            "Counter 1 of 13\n",
            "Epoch 10 - Training loss: 24.875641798476376, Training Accuracy: 0.9228076934814453\n",
            "Validation loss: 21.434589640660718, Validation Accuracy: 0.9351460933685303\n",
            "Counter 2 of 13\n",
            "Epoch 11 - Training loss: 24.234362342456976, Training Accuracy: 0.9265944361686707\n",
            "Validation loss: 20.25052812424573, Validation Accuracy: 0.9336242079734802\n",
            "Epoch 12 - Training loss: 24.714442674815654, Training Accuracy: 0.9234188795089722\n",
            "Validation loss: 21.429801870476116, Validation Accuracy: 0.9321834444999695\n",
            "Counter 1 of 13\n",
            "Epoch 13 - Training loss: 24.91936392982801, Training Accuracy: 0.9247422814369202\n",
            "Validation loss: 20.903190740130164, Validation Accuracy: 0.9343141317367554\n",
            "Counter 2 of 13\n",
            "Epoch 14 - Training loss: 24.09208071132501, Training Accuracy: 0.9257733225822449\n",
            "Validation loss: 21.16324717348272, Validation Accuracy: 0.9313717484474182\n",
            "Counter 3 of 13\n",
            "Epoch 15 - Training loss: 23.445865429441135, Training Accuracy: 0.9302694201469421\n",
            "Validation loss: 21.24196030605923, Validation Accuracy: 0.9372767806053162\n",
            "Counter 4 of 13\n",
            "Epoch 16 - Training loss: 23.94686391254266, Training Accuracy: 0.925983190536499\n",
            "Validation loss: 20.93460131504319, Validation Accuracy: 0.9337255954742432\n",
            "Counter 5 of 13\n",
            "Epoch 17 - Training loss: 23.64510801186164, Training Accuracy: 0.9272852540016174\n",
            "Validation loss: 22.319360435009003, Validation Accuracy: 0.9301744699478149\n",
            "Counter 6 of 13\n",
            "Epoch 18 - Training loss: 23.329703272382417, Training Accuracy: 0.929889440536499\n",
            "Validation loss: 20.440055950121447, Validation Accuracy: 0.935856282711029\n",
            "Counter 7 of 13\n",
            "Epoch 19 - Training loss: 23.65570911069711, Training Accuracy: 0.92775559425354\n",
            "Validation loss: 20.757167967883024, Validation Accuracy: 0.9326704144477844\n",
            "Counter 8 of 13\n",
            "Epoch 20 - Training loss: 23.0921288728714, Training Accuracy: 0.9289673566818237\n",
            "Validation loss: 20.001546466892417, Validation Accuracy: 0.9365665316581726\n",
            "Epoch 21 - Training loss: 23.26730823268493, Training Accuracy: 0.9295386672019958\n",
            "Validation loss: 31.303362515839662, Validation Accuracy: 0.90472811460495\n",
            "Counter 1 of 13\n",
            "Epoch 22 - Training loss: 23.389707378546397, Training Accuracy: 0.9292383790016174\n",
            "Validation loss: 20.82160359621048, Validation Accuracy: 0.9306615591049194\n",
            "Counter 2 of 13\n",
            "Epoch 23 - Training loss: 23.31453498850266, Training Accuracy: 0.9301897287368774\n",
            "Validation loss: 20.130018660968002, Validation Accuracy: 0.9377435445785522\n",
            "Counter 3 of 13\n",
            "Epoch 24 - Training loss: 22.770552865664165, Training Accuracy: 0.9321720600128174\n",
            "Validation loss: 22.900692462921143, Validation Accuracy: 0.9267451763153076\n",
            "Counter 4 of 13\n",
            "Epoch 25 - Training loss: 23.392653759320577, Training Accuracy: 0.9293287992477417\n",
            "Validation loss: 20.3034428358078, Validation Accuracy: 0.9332589507102966\n",
            "Counter 5 of 13\n",
            "Epoch 26 - Training loss: 23.010895874599615, Training Accuracy: 0.9312712550163269\n",
            "Validation loss: 20.472205040129747, Validation Accuracy: 0.9343141317367554\n",
            "Counter 6 of 13\n",
            "Epoch 27 - Training loss: 22.959125797450543, Training Accuracy: 0.9315316677093506\n",
            "Validation loss: 27.18633797493848, Validation Accuracy: 0.9143060445785522\n",
            "Counter 7 of 13\n",
            "Epoch 28 - Training loss: 22.204876939952374, Training Accuracy: 0.9346566796302795\n",
            "Validation loss: 22.001283325932242, Validation Accuracy: 0.9280641078948975\n",
            "Counter 8 of 13\n",
            "Epoch 29 - Training loss: 22.623124624788762, Training Accuracy: 0.9322225451469421\n",
            "Validation loss: 20.820409422571007, Validation Accuracy: 0.9373985528945923\n",
            "Counter 9 of 13\n",
            "Epoch 30 - Training loss: 22.35825057178736, Training Accuracy: 0.9324723482131958\n",
            "Validation loss: 20.294742486693643, Validation Accuracy: 0.93715500831604\n",
            "Counter 10 of 13\n",
            "Epoch 31 - Training loss: 22.629184779524802, Training Accuracy: 0.9311915040016174\n",
            "Validation loss: 20.30406249382279, Validation Accuracy: 0.9327922463417053\n",
            "Counter 11 of 13\n",
            "Epoch 32 - Training loss: 22.204564042886098, Training Accuracy: 0.9333545565605164\n",
            "Validation loss: 25.48508243669163, Validation Accuracy: 0.9144480228424072\n",
            "Counter 12 of 13\n",
            "Epoch 33 - Training loss: 21.969785908361278, Training Accuracy: 0.9355176091194153\n",
            "Validation loss: 32.38834944096479, Validation Accuracy: 0.8954951763153076\n",
            "Counter 13 of 13\n",
            "Early stopping!\n"
          ],
          "name": "stdout"
        }
      ]
    },
    {
      "cell_type": "code",
      "metadata": {
        "colab": {
          "base_uri": "https://localhost:8080/",
          "height": 296
        },
        "id": "ACo5eyL5ji8C",
        "outputId": "7f9a74ba-2cb0-45ab-ad52-de43cf4db0f7"
      },
      "source": [
        "plt.plot(epoch_count2, train_losses2, label = 'train_loss')\n",
        "plt.plot(epoch_count2, val_losses2, label = 'val_loss')\n",
        "plt.xlabel('epoch')\n",
        "plt.legend()\n",
        "plt.ylabel('loss')"
      ],
      "execution_count": null,
      "outputs": [
        {
          "output_type": "execute_result",
          "data": {
            "text/plain": [
              "Text(0, 0.5, 'loss')"
            ]
          },
          "metadata": {
            "tags": []
          },
          "execution_count": 29
        },
        {
          "output_type": "display_data",
          "data": {
            "image/png": "[encoded data removed]",
            "text/plain": [
              "<Figure size 432x288 with 1 Axes>"
            ]
          },
          "metadata": {
            "tags": [],
            "needs_background": "light"
          }
        }
      ]
    },
    {
      "cell_type": "code",
      "metadata": {
        "colab": {
          "base_uri": "https://localhost:8080/",
          "height": 299
        },
        "id": "AbOiUqG7ji8I",
        "outputId": "2367152f-3470-47b8-828f-ce446fd4cda7"
      },
      "source": [
        "plt.plot(epoch_count2, train_acc2, label = 'train_accuracy')\n",
        "plt.plot(epoch_count2, val_acc2, label = 'val_accuracy')\n",
        "plt.xlabel('epoch')\n",
        "plt.legend()\n",
        "plt.ylabel('accuracy')"
      ],
      "execution_count": null,
      "outputs": [
        {
          "output_type": "execute_result",
          "data": {
            "text/plain": [
              "Text(0, 0.5, 'accuracy')"
            ]
          },
          "metadata": {
            "tags": []
          },
          "execution_count": 30
        },
        {
          "output_type": "display_data",
          "data": {
            "image/png": "[encoded data removed]",
            "text/plain": [
              "<Figure size 432x288 with 1 Axes>"
            ]
          },
          "metadata": {
            "tags": [],
            "needs_background": "light"
          }
        }
      ]
    },
    {
      "cell_type": "code",
      "metadata": {
        "colab": {
          "base_uri": "https://localhost:8080/"
        },
        "id": "FembbhAceH5h",
        "outputId": "a0901a80-67d2-41d6-e824-59a51b4358dd"
      },
      "source": [
        "# model.load_state_dict(torch.load('/content/drive/MyDrive/Colab Notebooks/BS6207/Project/training_data.zip (Unzipped Files)/model_36weight_trial2_bigmatrix.pt'))"
      ],
      "execution_count": null,
      "outputs": [
        {
          "output_type": "execute_result",
          "data": {
            "text/plain": [
              "<All keys matched successfully>"
            ]
          },
          "metadata": {
            "tags": []
          },
          "execution_count": 26
        }
      ]
    },
    {
      "cell_type": "code",
      "metadata": {
        "colab": {
          "base_uri": "https://localhost:8080/",
          "height": 362
        },
        "id": "MgoYyf4jji8I",
        "outputId": "7100366e-3a4a-4586-c09d-d5bd5f126793"
      },
      "source": [
        "# confusion matrix for validation\n",
        "model.eval() \n",
        "with torch.no_grad():\n",
        "  y_pred = []\n",
        "  y_true = []\n",
        "  for images, labels in valloader2:\n",
        "    y_true.extend(labels)\n",
        "    output_val = model(images)\n",
        "    y_pred_softmax = torch.log_softmax(output_val, dim = 1)\n",
        "    _, preds = torch.max(y_pred_softmax, dim=1)\n",
        "    preds = preds.detach().numpy()\n",
        "    y_pred.extend(preds)\n",
        "from sklearn.metrics import confusion_matrix\n",
        "# get actual label\n",
        "cnf_matrix = confusion_matrix(y_true, y_pred)\n",
        "plot_confusion_matrix(cnf_matrix, classes = [0,1], normalize = True, title = 'Confusion matrix2 (Validation)')"
      ],
      "execution_count": null,
      "outputs": [
        {
          "output_type": "stream",
          "text": [
            "Normalized confusion matrix\n",
            "[[0.93080357 0.06919643]\n",
            " [0.05286344 0.94713656]]\n"
          ],
          "name": "stdout"
        },
        {
          "output_type": "display_data",
          "data": {
            "image/png": "[encoded data removed]",
            "text/plain": [
              "<Figure size 432x288 with 2 Axes>"
            ]
          },
          "metadata": {
            "tags": [],
            "needs_background": "light"
          }
        }
      ]
    },
    {
      "cell_type": "code",
      "metadata": {
        "colab": {
          "base_uri": "https://localhost:8080/",
          "height": 362
        },
        "id": "0Kg49DCoji8J",
        "outputId": "70490599-22ff-49f2-eebe-ddff068e6af0"
      },
      "source": [
        "# confusion matrix for validation\n",
        "model.eval() \n",
        "with torch.no_grad():\n",
        "  y_pred = []\n",
        "  y_true = []\n",
        "  for images, labels in trainloader2:\n",
        "    y_true.extend(labels)\n",
        "    output_val = model(images)\n",
        "    y_pred_softmax = torch.log_softmax(output_val, dim = 1)\n",
        "    _, preds = torch.max(y_pred_softmax, dim=1)\n",
        "    preds = preds.detach().numpy()\n",
        "    y_pred.extend(preds)\n",
        "from sklearn.metrics import confusion_matrix\n",
        "# get actual label\n",
        "cnf_matrix = confusion_matrix(y_true, y_pred)\n",
        "plot_confusion_matrix(cnf_matrix, classes = [0,1], normalize = True, title = 'Confusion matrix2 (training)')"
      ],
      "execution_count": null,
      "outputs": [
        {
          "output_type": "stream",
          "text": [
            "Normalized confusion matrix\n",
            "[[0.92374044 0.07625956]\n",
            " [0.04001569 0.95998431]]\n"
          ],
          "name": "stdout"
        },
        {
          "output_type": "display_data",
          "data": {
            "image/png": "[encoded data removed]",
            "text/plain": [
              "<Figure size 432x288 with 2 Axes>"
            ]
          },
          "metadata": {
            "tags": [],
            "needs_background": "light"
          }
        }
      ]
    },
    {
      "cell_type": "code",
      "metadata": {
        "colab": {
          "base_uri": "https://localhost:8080/"
        },
        "id": "ILmxfvcBebVD",
        "outputId": "3239ad24-3d3d-4e16-e40d-f30dc675dc83"
      },
      "source": [
        "# load the validation sparse 3d matrix\n",
        "valtest_cube = []\n",
        "for i in range(len(all_val2)):\n",
        "  temp = voxelize(all_val2[i][0], all_val2[i][1], max_side = 24, grid = 2)\n",
        "  valtest_cube.append(COO.todense(temp))\n",
        "valtest_cube = np.array(valtest_cube)\n",
        "valtest_cube = valtest_cube.reshape(valtest_cube.shape[0], 1, valtest_cube.shape[1], valtest_cube.shape[2], valtest_cube.shape[3])\n",
        "print(valtest_cube.shape)\n",
        "\n",
        "# build the validation dataloader\n",
        "valtest_data = []\n",
        "count = 0\n",
        "count2 = 0\n",
        "for i in range(len(all_val2)):\n",
        "  if (all_val2[i][2] == 0) & (count2 < 500):\n",
        "    count2 += 1\n",
        "    #print(0)\n",
        "    pass\n",
        "  elif (all_val2[i][2] == 1) & (count < 50):\n",
        "    count += 1\n",
        "    pass\n",
        "  else:\n",
        "    continue\n",
        "  valtest_data.append([valtest_cube[i], all_val2[i][2]])\n",
        "valtest_loader = torch.utils.data.DataLoader(valtest_data, shuffle = True)"
      ],
      "execution_count": null,
      "outputs": [
        {
          "output_type": "stream",
          "text": [
            "(1350, 1, 25, 25, 25)\n"
          ],
          "name": "stdout"
        }
      ]
    },
    {
      "cell_type": "code",
      "metadata": {
        "colab": {
          "base_uri": "https://localhost:8080/",
          "height": 362
        },
        "id": "jAL4h59NebVE",
        "outputId": "de3a28fd-b724-4d4e-90be-f203fe30874b"
      },
      "source": [
        "model.eval() \n",
        "with torch.no_grad():\n",
        "  y_pred = []\n",
        "  y_true = []\n",
        "  for images, labels in valtest_loader:\n",
        "    y_true.extend(labels)\n",
        "    output_val = model(images)\n",
        "    y_pred_softmax = torch.log_softmax(output_val, dim = 1)\n",
        "    _, preds = torch.max(y_pred_softmax, dim=1)\n",
        "    preds = preds.detach().numpy()\n",
        "    y_pred.extend(preds)\n",
        "from sklearn.metrics import confusion_matrix\n",
        "# get actual label\n",
        "cnf_matrix = confusion_matrix(y_true, y_pred)\n",
        "plot_confusion_matrix(cnf_matrix, classes = [0,1], normalize = True, title = 'Confusion matrix2 (Validation)')"
      ],
      "execution_count": null,
      "outputs": [
        {
          "output_type": "stream",
          "text": [
            "Normalized confusion matrix\n",
            "[[0.924 0.076]\n",
            " [0.04  0.96 ]]\n"
          ],
          "name": "stdout"
        },
        {
          "output_type": "display_data",
          "data": {
            "image/png": "[encoded data removed]",
            "text/plain": [
              "<Figure size 432x288 with 2 Axes>"
            ]
          },
          "metadata": {
            "tags": [],
            "needs_background": "light"
          }
        }
      ]
    },
    {
      "cell_type": "markdown",
      "metadata": {
        "id": "Q1Ul1f_6emP0"
      },
      "source": [
        "### Trial 3 - 1:3 pos/neg"
      ]
    },
    {
      "cell_type": "code",
      "metadata": {
        "colab": {
          "base_uri": "https://localhost:8080/"
        },
        "id": "8_T7gwAnboWx",
        "outputId": "27de6eab-9fb6-4802-8387-5d57c2a693d9"
      },
      "source": [
        "# trail 3 - 1:3 pos/neg ratio, 15% validation\n",
        "all_train3, all_val3 = train_val_split(val_perc = 0.15, neg_pos_ratio = 3)\n",
        "trainloader3, valloader3 = dataloader_builder(all_train3, all_val3, max_side = 24, grid = 2)"
      ],
      "execution_count": null,
      "outputs": [
        {
          "output_type": "stream",
          "text": [
            "Total positive cases:  8995 Total negative cases:  3005\n",
            "Positive cases in validation:  1339 Negative cases in validation:  461\n",
            "Positive cases in training:  7656 Negatvie cases in training:  2544\n",
            "24 2\n",
            "(10200, 1, 25, 25, 25)\n",
            "25.0\n",
            "(1800, 1, 25, 25, 25)\n"
          ],
          "name": "stdout"
        }
      ]
    },
    {
      "cell_type": "code",
      "metadata": {
        "colab": {
          "base_uri": "https://localhost:8080/"
        },
        "id": "FfmpOXGhx0ii",
        "outputId": "240b2839-d923-456b-9243-0dad41c37067"
      },
      "source": [
        "model.apply(weight_reset)"
      ],
      "execution_count": null,
      "outputs": [
        {
          "output_type": "execute_result",
          "data": {
            "text/plain": [
              "Net(\n",
              "  (cnn_layers): Sequential(\n",
              "    (0): Conv3d(1, 8, kernel_size=(3, 3, 3), stride=(1, 1, 1))\n",
              "    (1): BatchNorm3d(8, eps=1e-05, momentum=0.1, affine=True, track_running_stats=True)\n",
              "    (2): ReLU(inplace=True)\n",
              "    (3): MaxPool3d(kernel_size=2, stride=1, padding=0, dilation=1, ceil_mode=False)\n",
              "    (4): Conv3d(8, 16, kernel_size=(3, 3, 3), stride=(1, 1, 1))\n",
              "    (5): BatchNorm3d(16, eps=1e-05, momentum=0.1, affine=True, track_running_stats=True)\n",
              "    (6): ReLU(inplace=True)\n",
              "    (7): MaxPool3d(kernel_size=2, stride=2, padding=0, dilation=1, ceil_mode=False)\n",
              "    (8): Conv3d(16, 32, kernel_size=(3, 3, 3), stride=(1, 1, 1))\n",
              "    (9): BatchNorm3d(32, eps=1e-05, momentum=0.1, affine=True, track_running_stats=True)\n",
              "    (10): ReLU(inplace=True)\n",
              "    (11): MaxPool3d(kernel_size=2, stride=2, padding=0, dilation=1, ceil_mode=False)\n",
              "  )\n",
              "  (linear_layers): Sequential(\n",
              "    (0): Dropout(p=0.4, inplace=False)\n",
              "    (1): Linear(in_features=2048, out_features=32, bias=True)\n",
              "    (2): ReLU()\n",
              "    (3): Linear(in_features=32, out_features=2, bias=True)\n",
              "  )\n",
              ")"
            ]
          },
          "metadata": {
            "tags": []
          },
          "execution_count": 40
        }
      ]
    },
    {
      "cell_type": "code",
      "metadata": {
        "colab": {
          "base_uri": "https://localhost:8080/"
        },
        "id": "m5k1T2fkx0iw",
        "outputId": "00293c26-a500-4b84-fbbf-e64ad9938d0e"
      },
      "source": [
        "# defining the number of epochs\n",
        "n_epochs = 50\n",
        "# empty list to store training losses\n",
        "train_losses3 = []\n",
        "train_acc3 = []\n",
        "# empty list to store validation losses\n",
        "val_losses3 = []\n",
        "val_acc3 =[]\n",
        "epoch_count3 = []\n",
        "# training the model\n",
        "es = 0\n",
        "best_loss = 100\n",
        "for epoch in range(n_epochs):\n",
        "    train(epoch, trainloader = trainloader3, valloader = valloader3)\n",
        "    epoch_count3.append(epoch)\n",
        "    train_losses3.append(train.train_loss/len(trainloader3))\n",
        "    val_losses3.append(train.val_loss/len(valloader3))\n",
        "    train_acc3.append(train.train_acces/len(trainloader3))\n",
        "    val_acc3.append(train.val_acces/len(valloader3))\n",
        "    # early stopping\n",
        "    if train.val_loss/len(valloader3) < best_loss:\n",
        "      best_loss = train.val_loss/len(valloader3)\n",
        "      es = 0\n",
        "      torch.save(model.state_dict(), \"model_\" + str(epoch) + 'weight_trial3.pt')\n",
        "      best_epoch = epoch\n",
        "    else:\n",
        "      es += 1\n",
        "      print(\"Counter {} of 13\".format(es))\n",
        "\n",
        "    if es > 12:\n",
        "      print(\"Early stopping!\")\n",
        "      model.load_state_dict(torch.load('/content/model_' + str(best_epoch) +'weight_trial3.pt'))\n",
        "      break"
      ],
      "execution_count": null,
      "outputs": [
        {
          "output_type": "stream",
          "text": [
            "Epoch 1 - Training loss: 72.8957184702158, Training Accuracy: 0.7416282296180725\n",
            "Validation loss: 65.61636479695638, Validation Accuracy: 0.7598958611488342\n",
            "Epoch 2 - Training loss: 47.94521414041519, Training Accuracy: 0.8180575370788574\n",
            "Validation loss: 32.195090754826865, Validation Accuracy: 0.9114583134651184\n",
            "Epoch 3 - Training loss: 31.71533186882734, Training Accuracy: 0.9103692770004272\n",
            "Validation loss: 27.765182367960612, Validation Accuracy: 0.9302083253860474\n",
            "Epoch 4 - Training loss: 28.589565731585026, Training Accuracy: 0.9151722192764282\n",
            "Validation loss: 22.011928008000055, Validation Accuracy: 0.9291666746139526\n",
            "Epoch 5 - Training loss: 25.289569607377054, Training Accuracy: 0.9153941869735718\n",
            "Validation loss: 21.783191208044688, Validation Accuracy: 0.9338541626930237\n",
            "Epoch 6 - Training loss: 24.74051613509655, Training Accuracy: 0.9201882481575012\n",
            "Validation loss: 22.638839425643287, Validation Accuracy: 0.9302083253860474\n",
            "Counter 1 of 13\n",
            "Epoch 7 - Training loss: 24.341837854683398, Training Accuracy: 0.9224343299865723\n",
            "Validation loss: 23.615655303001404, Validation Accuracy: 0.9229166507720947\n",
            "Counter 2 of 13\n",
            "Epoch 8 - Training loss: 24.15975307226181, Training Accuracy: 0.919140636920929\n",
            "Validation loss: 22.176737848917643, Validation Accuracy: 0.9244791865348816\n",
            "Counter 3 of 13\n",
            "Epoch 9 - Training loss: 23.507832589745522, Training Accuracy: 0.9211292266845703\n",
            "Validation loss: 21.582883024215697, Validation Accuracy: 0.9244791865348816\n",
            "Epoch 10 - Training loss: 23.42896348685026, Training Accuracy: 0.9230645895004272\n",
            "Validation loss: 21.46690363883972, Validation Accuracy: 0.925000011920929\n",
            "Epoch 11 - Training loss: 23.81946058124304, Training Accuracy: 0.9193625450134277\n",
            "Validation loss: 24.458128102620442, Validation Accuracy: 0.9067708253860474\n",
            "Counter 1 of 13\n",
            "Epoch 12 - Training loss: 23.554744200408457, Training Accuracy: 0.9228249788284302\n",
            "Validation loss: 21.971218409140906, Validation Accuracy: 0.9312499761581421\n",
            "Counter 2 of 13\n",
            "Epoch 13 - Training loss: 23.411809483170508, Training Accuracy: 0.9227361679077148\n",
            "Validation loss: 21.611326090494792, Validation Accuracy: 0.9135416746139526\n",
            "Counter 3 of 13\n",
            "Epoch 14 - Training loss: 23.48884926661849, Training Accuracy: 0.9211559295654297\n",
            "Validation loss: 22.271790822347004, Validation Accuracy: 0.9286458492279053\n",
            "Counter 4 of 13\n",
            "Epoch 15 - Training loss: 23.2945779889822, Training Accuracy: 0.9244939684867859\n",
            "Validation loss: 22.127239163716634, Validation Accuracy: 0.9260416626930237\n",
            "Counter 5 of 13\n",
            "Epoch 16 - Training loss: 22.661109374463557, Training Accuracy: 0.9253994822502136\n",
            "Validation loss: 21.571170298258462, Validation Accuracy: 0.9244791865348816\n",
            "Counter 6 of 13\n",
            "Epoch 17 - Training loss: 22.976353891193867, Training Accuracy: 0.9250443577766418\n",
            "Validation loss: 22.368782790501914, Validation Accuracy: 0.9208333492279053\n",
            "Counter 7 of 13\n",
            "Epoch 18 - Training loss: 23.292190693318844, Training Accuracy: 0.9232865571975708\n",
            "Validation loss: 21.89931644598643, Validation Accuracy: 0.9291666746139526\n",
            "Counter 8 of 13\n",
            "Epoch 19 - Training loss: 22.569526045024396, Training Accuracy: 0.9273349046707153\n",
            "Validation loss: 21.696328806877137, Validation Accuracy: 0.9208333492279053\n",
            "Counter 9 of 13\n",
            "Epoch 20 - Training loss: 22.5864000543952, Training Accuracy: 0.9263138771057129\n",
            "Validation loss: 23.535049349069595, Validation Accuracy: 0.9234374761581421\n",
            "Counter 10 of 13\n",
            "Epoch 21 - Training loss: 22.844254226982592, Training Accuracy: 0.9246537089347839\n",
            "Validation loss: 21.179861203829446, Validation Accuracy: 0.9333333373069763\n",
            "Epoch 22 - Training loss: 22.19453154206276, Training Accuracy: 0.9267400503158569\n",
            "Validation loss: 21.314218886693318, Validation Accuracy: 0.9276041388511658\n",
            "Counter 1 of 13\n",
            "Epoch 23 - Training loss: 22.45016128271818, Training Accuracy: 0.9261984825134277\n",
            "Validation loss: 21.05386037826538, Validation Accuracy: 0.917187511920929\n",
            "Epoch 24 - Training loss: 22.031224216520787, Training Accuracy: 0.9288973808288574\n",
            "Validation loss: 20.95580635070801, Validation Accuracy: 0.9281250238418579\n",
            "Epoch 25 - Training loss: 22.715590228140353, Training Accuracy: 0.9254794120788574\n",
            "Validation loss: 23.629004565874734, Validation Accuracy: 0.9208333492279053\n",
            "Counter 1 of 13\n",
            "Epoch 26 - Training loss: 22.583680298924445, Training Accuracy: 0.9288796186447144\n",
            "Validation loss: 25.322672709512215, Validation Accuracy: 0.9192708134651184\n",
            "Counter 2 of 13\n",
            "Epoch 27 - Training loss: 22.316381815820932, Training Accuracy: 0.9294034242630005\n",
            "Validation loss: 21.749151873588563, Validation Accuracy: 0.9302083253860474\n",
            "Counter 3 of 13\n",
            "Epoch 28 - Training loss: 22.515589840710163, Training Accuracy: 0.9255148768424988\n",
            "Validation loss: 23.86816114584605, Validation Accuracy: 0.9244791865348816\n",
            "Counter 4 of 13\n",
            "Epoch 29 - Training loss: 22.372769625484942, Training Accuracy: 0.9283469319343567\n",
            "Validation loss: 21.05449021657308, Validation Accuracy: 0.9338541626930237\n",
            "Counter 5 of 13\n",
            "Epoch 30 - Training loss: 21.829671717435122, Training Accuracy: 0.9293590784072876\n",
            "Validation loss: 22.055637196699777, Validation Accuracy: 0.9317708611488342\n",
            "Counter 6 of 13\n",
            "Epoch 31 - Training loss: 21.97914447337389, Training Accuracy: 0.9283913373947144\n",
            "Validation loss: 21.068832584222157, Validation Accuracy: 0.9312499761581421\n",
            "Counter 7 of 13\n",
            "Epoch 32 - Training loss: 22.37677650898695, Training Accuracy: 0.9257102012634277\n",
            "Validation loss: 22.51383916536967, Validation Accuracy: 0.9166666865348816\n",
            "Counter 8 of 13\n",
            "Epoch 33 - Training loss: 22.049428802728652, Training Accuracy: 0.9271218180656433\n",
            "Validation loss: 21.465080881118773, Validation Accuracy: 0.9244791865348816\n",
            "Counter 9 of 13\n",
            "Epoch 34 - Training loss: 22.120873737335206, Training Accuracy: 0.9281427264213562\n",
            "Validation loss: 21.44191312789917, Validation Accuracy: 0.9135416746139526\n",
            "Counter 10 of 13\n",
            "Epoch 35 - Training loss: 21.973644690215586, Training Accuracy: 0.9286398887634277\n",
            "Validation loss: 21.11319263378779, Validation Accuracy: 0.9348958134651184\n",
            "Counter 11 of 13\n",
            "Epoch 36 - Training loss: 21.577954718470572, Training Accuracy: 0.9297585487365723\n",
            "Validation loss: 20.824015122652053, Validation Accuracy: 0.9333333373069763\n",
            "Epoch 37 - Training loss: 21.962916079163552, Training Accuracy: 0.9297140836715698\n",
            "Validation loss: 21.61219129562378, Validation Accuracy: 0.9255208373069763\n",
            "Counter 1 of 13\n",
            "Epoch 38 - Training loss: 21.79266439974308, Training Accuracy: 0.9279208183288574\n",
            "Validation loss: 21.195393371582032, Validation Accuracy: 0.9369791746139526\n",
            "Counter 2 of 13\n",
            "Epoch 39 - Training loss: 21.739363968372345, Training Accuracy: 0.9293323755264282\n",
            "Validation loss: 25.362617286046348, Validation Accuracy: 0.9125000238418579\n",
            "Counter 3 of 13\n",
            "Epoch 40 - Training loss: 21.973546673357486, Training Accuracy: 0.9282492399215698\n",
            "Validation loss: 21.475406567255657, Validation Accuracy: 0.9312499761581421\n",
            "Counter 4 of 13\n",
            "Epoch 41 - Training loss: 22.125681995600463, Training Accuracy: 0.9284801483154297\n",
            "Validation loss: 22.193333454926808, Validation Accuracy: 0.9312499761581421\n",
            "Counter 5 of 13\n",
            "Epoch 42 - Training loss: 21.81293079108, Training Accuracy: 0.9274325370788574\n",
            "Validation loss: 21.724612176418304, Validation Accuracy: 0.9369791746139526\n",
            "Counter 6 of 13\n",
            "Epoch 43 - Training loss: 21.29387284219265, Training Accuracy: 0.9318181872367859\n",
            "Validation loss: 20.70596874554952, Validation Accuracy: 0.9348958134651184\n",
            "Epoch 44 - Training loss: 21.951139828562738, Training Accuracy: 0.9273792505264282\n",
            "Validation loss: 21.757464917500815, Validation Accuracy: 0.9177083373069763\n",
            "Counter 1 of 13\n",
            "Epoch 45 - Training loss: 21.61114312633872, Training Accuracy: 0.9288707971572876\n",
            "Validation loss: 21.870323594411214, Validation Accuracy: 0.9291666746139526\n",
            "Counter 2 of 13\n",
            "Epoch 46 - Training loss: 21.373802104592322, Training Accuracy: 0.9291814565658569\n",
            "Validation loss: 23.396099710464476, Validation Accuracy: 0.9078124761581421\n",
            "Counter 3 of 13\n",
            "Epoch 47 - Training loss: 21.635338336229324, Training Accuracy: 0.9280983805656433\n",
            "Validation loss: 23.816298802693684, Validation Accuracy: 0.917187511920929\n",
            "Counter 4 of 13\n",
            "Epoch 48 - Training loss: 21.488488043099643, Training Accuracy: 0.9295543432235718\n",
            "Validation loss: 21.543047014872233, Validation Accuracy: 0.9239583611488342\n",
            "Counter 5 of 13\n",
            "Epoch 49 - Training loss: 21.022727781534194, Training Accuracy: 0.9312411546707153\n",
            "Validation loss: 21.183599710464478, Validation Accuracy: 0.932812511920929\n",
            "Counter 6 of 13\n",
            "Epoch 50 - Training loss: 21.50203158259392, Training Accuracy: 0.9305397868156433\n",
            "Validation loss: 21.999255975087483, Validation Accuracy: 0.9333333373069763\n",
            "Counter 7 of 13\n"
          ],
          "name": "stdout"
        }
      ]
    },
    {
      "cell_type": "code",
      "metadata": {
        "colab": {
          "base_uri": "https://localhost:8080/",
          "height": 296
        },
        "id": "WdvqApchx0ix",
        "outputId": "b57de0af-53a3-446d-e939-9610b437f381"
      },
      "source": [
        "plt.plot(epoch_count3, train_losses3, label = 'train_loss')\n",
        "plt.plot(epoch_count3, val_losses3, label = 'val_loss')\n",
        "plt.xlabel('epoch')\n",
        "plt.legend()\n",
        "plt.ylabel('loss')"
      ],
      "execution_count": null,
      "outputs": [
        {
          "output_type": "execute_result",
          "data": {
            "text/plain": [
              "Text(0, 0.5, 'loss')"
            ]
          },
          "metadata": {
            "tags": []
          },
          "execution_count": 42
        },
        {
          "output_type": "display_data",
          "data": {
            "image/png": "[encoded data removed]",
            "text/plain": [
              "<Figure size 432x288 with 1 Axes>"
            ]
          },
          "metadata": {
            "tags": [],
            "needs_background": "light"
          }
        }
      ]
    },
    {
      "cell_type": "code",
      "metadata": {
        "colab": {
          "base_uri": "https://localhost:8080/",
          "height": 296
        },
        "id": "MxoRKkaJx0ix",
        "outputId": "b0cccc48-9040-467c-9d7b-4e2d820b5494"
      },
      "source": [
        "plt.plot(epoch_count3, train_acc3, label = 'train_accuracy')\n",
        "plt.plot(epoch_count3, val_acc3, label = 'val_accuracy')\n",
        "plt.xlabel('epoch')\n",
        "plt.legend()\n",
        "plt.ylabel('accuracy')"
      ],
      "execution_count": null,
      "outputs": [
        {
          "output_type": "execute_result",
          "data": {
            "text/plain": [
              "Text(0, 0.5, 'accuracy')"
            ]
          },
          "metadata": {
            "tags": []
          },
          "execution_count": 43
        },
        {
          "output_type": "display_data",
          "data": {
            "image/png": "[encoded data removed]",
            "text/plain": [
              "<Figure size 432x288 with 1 Axes>"
            ]
          },
          "metadata": {
            "tags": [],
            "needs_background": "light"
          }
        }
      ]
    },
    {
      "cell_type": "code",
      "metadata": {
        "colab": {
          "base_uri": "https://localhost:8080/"
        },
        "id": "E4nS7i9xarOm",
        "outputId": "6f910a45-0a46-4c7b-f411-d752b9508d22"
      },
      "source": [
        "# model.load_state_dict(torch.load('/content/drive/MyDrive/Colab Notebooks/BS6207/Project/training_data.zip (Unzipped Files)/model_26weight_trial3_bigmatrix.pt'))"
      ],
      "execution_count": null,
      "outputs": [
        {
          "output_type": "execute_result",
          "data": {
            "text/plain": [
              "<All keys matched successfully>"
            ]
          },
          "metadata": {
            "tags": []
          },
          "execution_count": 31
        }
      ]
    },
    {
      "cell_type": "code",
      "metadata": {
        "colab": {
          "base_uri": "https://localhost:8080/",
          "height": 362
        },
        "id": "DHe52FhHx0iy",
        "outputId": "04aed747-03e2-4b27-e64f-e679e3a66557"
      },
      "source": [
        "# confusion matrix for validation\n",
        "model.eval() \n",
        "with torch.no_grad():\n",
        "  y_pred = []\n",
        "  y_true = []\n",
        "  for images, labels in valloader3:\n",
        "    y_true.extend(labels)\n",
        "    output_val = model(images)\n",
        "    y_pred_softmax = torch.log_softmax(output_val, dim = 1)\n",
        "    _, preds = torch.max(y_pred_softmax, dim=1)\n",
        "    preds = preds.detach().numpy()\n",
        "    y_pred.extend(preds)\n",
        "from sklearn.metrics import confusion_matrix\n",
        "# get actual label\n",
        "cnf_matrix = confusion_matrix(y_true, y_pred)\n",
        "plot_confusion_matrix(cnf_matrix, classes = [0,1], normalize = True, title = 'Confusion matrix2 (Validation)')"
      ],
      "execution_count": null,
      "outputs": [
        {
          "output_type": "stream",
          "text": [
            "Normalized confusion matrix\n",
            "[[0.94100075 0.05899925]\n",
            " [0.10629067 0.89370933]]\n"
          ],
          "name": "stdout"
        },
        {
          "output_type": "display_data",
          "data": {
            "image/png": "[encoded data removed]",
            "text/plain": [
              "<Figure size 432x288 with 2 Axes>"
            ]
          },
          "metadata": {
            "tags": [],
            "needs_background": "light"
          }
        }
      ]
    },
    {
      "cell_type": "code",
      "metadata": {
        "colab": {
          "base_uri": "https://localhost:8080/",
          "height": 362
        },
        "id": "6AoqAvJ0x0iy",
        "outputId": "8729d8fb-0d46-4808-c7e5-d3b678a25717"
      },
      "source": [
        "# confusion matrix for validation\n",
        "model.eval() \n",
        "with torch.no_grad():\n",
        "  y_pred = []\n",
        "  y_true = []\n",
        "  for images, labels in trainloader3:\n",
        "    y_true.extend(labels)\n",
        "    output_val = model(images)\n",
        "    y_pred_softmax = torch.log_softmax(output_val, dim = 1)\n",
        "    _, preds = torch.max(y_pred_softmax, dim=1)\n",
        "    preds = preds.detach().numpy()\n",
        "    y_pred.extend(preds)\n",
        "from sklearn.metrics import confusion_matrix\n",
        "# get actual label\n",
        "cnf_matrix = confusion_matrix(y_true, y_pred)\n",
        "plot_confusion_matrix(cnf_matrix, classes = [0,1], normalize = True, title = 'Confusion matrix2 (training)')"
      ],
      "execution_count": null,
      "outputs": [
        {
          "output_type": "stream",
          "text": [
            "Normalized confusion matrix\n",
            "[[0.94357367 0.05642633]\n",
            " [0.07743711 0.92256289]]\n"
          ],
          "name": "stdout"
        },
        {
          "output_type": "display_data",
          "data": {
            "image/png": "[encoded data removed]",
            "text/plain": [
              "<Figure size 432x288 with 2 Axes>"
            ]
          },
          "metadata": {
            "tags": [],
            "needs_background": "light"
          }
        }
      ]
    },
    {
      "cell_type": "code",
      "metadata": {
        "colab": {
          "base_uri": "https://localhost:8080/"
        },
        "id": "ZvQfm_gxev16",
        "outputId": "6fac594d-4bb0-47f1-93e4-6d220c18a0ec"
      },
      "source": [
        "# load the validation sparse 3d matrix\n",
        "valtest_cube = []\n",
        "for i in range(len(all_val3)):\n",
        "  temp = voxelize(all_val3[i][0], all_val3[i][1], max_side = 24, grid = 2)\n",
        "  valtest_cube.append(COO.todense(temp))\n",
        "valtest_cube = np.array(valtest_cube)\n",
        "valtest_cube = valtest_cube.reshape(valtest_cube.shape[0], 1, valtest_cube.shape[1], valtest_cube.shape[2], valtest_cube.shape[3])\n",
        "print(valtest_cube.shape)\n",
        "\n",
        "# build the validation dataloader\n",
        "valtest_data = []\n",
        "count = 0\n",
        "count2 = 0\n",
        "for i in range(len(all_val3)):\n",
        "  if (all_val3[i][2] == 0) & (count2 < 500):\n",
        "    count2 += 1\n",
        "    #print(0)\n",
        "    pass\n",
        "  elif (all_val3[i][2] == 1) & (count < 50):\n",
        "    count += 1\n",
        "    pass\n",
        "  else:\n",
        "    continue\n",
        "  valtest_data.append([valtest_cube[i], all_val3[i][2]])\n",
        "valtest_loader = torch.utils.data.DataLoader(valtest_data, shuffle = True)"
      ],
      "execution_count": null,
      "outputs": [
        {
          "output_type": "stream",
          "text": [
            "(1800, 1, 25, 25, 25)\n"
          ],
          "name": "stdout"
        }
      ]
    },
    {
      "cell_type": "code",
      "metadata": {
        "colab": {
          "base_uri": "https://localhost:8080/",
          "height": 362
        },
        "id": "KifZQkJcev17",
        "outputId": "e5c525d6-5bb6-47a3-da77-46ff8e933d6d"
      },
      "source": [
        "model.eval() \n",
        "with torch.no_grad():\n",
        "  y_pred = []\n",
        "  y_true = []\n",
        "  for images, labels in valtest_loader:\n",
        "    y_true.extend(labels)\n",
        "    output_val = model(images)\n",
        "    y_pred_softmax = torch.log_softmax(output_val, dim = 1)\n",
        "    _, preds = torch.max(y_pred_softmax, dim=1)\n",
        "    preds = preds.detach().numpy()\n",
        "    y_pred.extend(preds)\n",
        "from sklearn.metrics import confusion_matrix\n",
        "# get actual label\n",
        "cnf_matrix = confusion_matrix(y_true, y_pred)\n",
        "plot_confusion_matrix(cnf_matrix, classes = [0,1], normalize = True, title = 'Confusion matrix2 (Validation)')"
      ],
      "execution_count": null,
      "outputs": [
        {
          "output_type": "stream",
          "text": [
            "Normalized confusion matrix\n",
            "[[0.934 0.066]\n",
            " [0.02  0.98 ]]\n"
          ],
          "name": "stdout"
        },
        {
          "output_type": "display_data",
          "data": {
            "image/png": "[encoded data removed]",
            "text/plain": [
              "<Figure size 432x288 with 2 Axes>"
            ]
          },
          "metadata": {
            "tags": [],
            "needs_background": "light"
          }
        }
      ]
    },
    {
      "cell_type": "code",
      "metadata": {
        "id": "jwj-bOu2L3Rg"
      },
      "source": [
        ""
      ],
      "execution_count": null,
      "outputs": []
    }
  ]
}
